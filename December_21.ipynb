{
  "nbformat": 4,
  "nbformat_minor": 0,
  "metadata": {
    "colab": {
      "name": "December  - 21",
      "provenance": [],
      "authorship_tag": "ABX9TyMHol18LXHB78mCq9iCHuoE"
    },
    "kernelspec": {
      "name": "python3",
      "display_name": "Python 3"
    },
    "language_info": {
      "name": "python"
    }
  },
  "cells": [
    {
      "cell_type": "code",
      "execution_count": 1,
      "metadata": {
        "id": "bdpT-ercqNle",
        "colab": {
          "base_uri": "https://localhost:8080/"
        },
        "outputId": "aff15ddd-52f3-4e1c-9c45-b8c60fa3c370"
      },
      "outputs": [
        {
          "output_type": "stream",
          "name": "stdout",
          "text": [
            "2\n"
          ]
        }
      ],
      "source": [
        "print(5//2)"
      ]
    },
    {
      "cell_type": "code",
      "source": [
        "#  1 atane bile bolme islemi varsa sonuc float olur."
      ],
      "metadata": {
        "id": "oJ4GkJLiNpVK"
      },
      "execution_count": null,
      "outputs": []
    },
    {
      "cell_type": "code",
      "source": [
        "a = 48 / 5\n",
        "print(a)"
      ],
      "metadata": {
        "colab": {
          "base_uri": "https://localhost:8080/"
        },
        "id": "PP9Ckxb3N4dh",
        "outputId": "346c443a-ef1d-4a17-f2ae-02b47f988232"
      },
      "execution_count": 2,
      "outputs": [
        {
          "output_type": "stream",
          "name": "stdout",
          "text": [
            "9.6\n"
          ]
        }
      ]
    },
    {
      "cell_type": "code",
      "source": [
        "b = 90 / 2\n",
        "print(b)"
      ],
      "metadata": {
        "colab": {
          "base_uri": "https://localhost:8080/"
        },
        "id": "TzkcUeYoN8Qs",
        "outputId": "10f3081e-706b-49e0-9ba3-915a13dc9bef"
      },
      "execution_count": 4,
      "outputs": [
        {
          "output_type": "stream",
          "name": "stdout",
          "text": [
            "45.0\n"
          ]
        }
      ]
    },
    {
      "cell_type": "code",
      "source": [
        "c = 80 % 4\n",
        "c"
      ],
      "metadata": {
        "colab": {
          "base_uri": "https://localhost:8080/"
        },
        "id": "rcrg5OCGOBTM",
        "outputId": "aebff5ed-0f6a-4d4c-ffb3-61cb8db5da60"
      },
      "execution_count": 5,
      "outputs": [
        {
          "output_type": "execute_result",
          "data": {
            "text/plain": [
              "0"
            ]
          },
          "metadata": {},
          "execution_count": 5
        }
      ]
    },
    {
      "cell_type": "code",
      "source": [
        "print((8 + 5j) / (5 + 5j))    \n",
        "# complex sayilar normal bolme isleminde bolunur, fakat diger islemler olmaz.\n"
      ],
      "metadata": {
        "colab": {
          "base_uri": "https://localhost:8080/"
        },
        "id": "u6fB92fCOIH4",
        "outputId": "3786bb5e-8371-4859-cec9-1a1cf76b79db"
      },
      "execution_count": 9,
      "outputs": [
        {
          "output_type": "stream",
          "name": "stdout",
          "text": [
            "(1.3-0.3j)\n"
          ]
        }
      ]
    },
    {
      "cell_type": "code",
      "source": [
        "print((8 + 5j) // (5 + 5j))    \n",
        "\n",
        "# goruldugu gibi burada hata verir.\n"
      ],
      "metadata": {
        "colab": {
          "base_uri": "https://localhost:8080/",
          "height": 165
        },
        "id": "Rl9ifkfJOxYp",
        "outputId": "cd6d2243-e848-48d7-97d8-09616bc05429"
      },
      "execution_count": 10,
      "outputs": [
        {
          "output_type": "error",
          "ename": "TypeError",
          "evalue": "ignored",
          "traceback": [
            "\u001b[0;31m---------------------------------------------------------------------------\u001b[0m",
            "\u001b[0;31mTypeError\u001b[0m                                 Traceback (most recent call last)",
            "\u001b[0;32m<ipython-input-10-cf5fb53c4225>\u001b[0m in \u001b[0;36m<module>\u001b[0;34m()\u001b[0m\n\u001b[0;32m----> 1\u001b[0;31m \u001b[0mprint\u001b[0m\u001b[0;34m(\u001b[0m\u001b[0;34m(\u001b[0m\u001b[0;36m8\u001b[0m \u001b[0;34m+\u001b[0m \u001b[0;36m5j\u001b[0m\u001b[0;34m)\u001b[0m \u001b[0;34m//\u001b[0m \u001b[0;34m(\u001b[0m\u001b[0;36m5\u001b[0m \u001b[0;34m+\u001b[0m \u001b[0;36m5j\u001b[0m\u001b[0;34m)\u001b[0m\u001b[0;34m)\u001b[0m\u001b[0;34m\u001b[0m\u001b[0;34m\u001b[0m\u001b[0m\n\u001b[0m",
            "\u001b[0;31mTypeError\u001b[0m: can't take floor of complex number."
          ]
        }
      ]
    },
    {
      "cell_type": "code",
      "source": [
        "print(True // True)"
      ],
      "metadata": {
        "colab": {
          "base_uri": "https://localhost:8080/"
        },
        "id": "JvPRt86gO7Ew",
        "outputId": "33cf3fd2-b013-45ea-90e1-82ca5a5c168b"
      },
      "execution_count": 11,
      "outputs": [
        {
          "output_type": "stream",
          "name": "stdout",
          "text": [
            "1\n"
          ]
        }
      ]
    },
    {
      "cell_type": "code",
      "source": [
        "# 1 verir scunku trueyu 1 aliyor . 1 bolu 1 esittir 1 yapiyor."
      ],
      "metadata": {
        "id": "6EBv19KFPNjo"
      },
      "execution_count": null,
      "outputs": []
    },
    {
      "cell_type": "code",
      "source": [
        " print(False ** True)   # o ussu 1 esittir 0"
      ],
      "metadata": {
        "colab": {
          "base_uri": "https://localhost:8080/"
        },
        "id": "GbYviyXQPXRY",
        "outputId": "29928580-6e13-4cf4-d469-bd710798dc99"
      },
      "execution_count": 12,
      "outputs": [
        {
          "output_type": "stream",
          "name": "stdout",
          "text": [
            "0\n"
          ]
        }
      ]
    },
    {
      "cell_type": "code",
      "source": [
        "#karekok alma\n",
        "\n",
        "a = 2\n",
        "b = 8\n",
        "\n",
        "print((a * b) ** 0.5)"
      ],
      "metadata": {
        "colab": {
          "base_uri": "https://localhost:8080/"
        },
        "id": "9lcdWWv3PyAf",
        "outputId": "9f28bd8a-9b1e-46a7-a3f5-f331c5a95cc5"
      },
      "execution_count": 15,
      "outputs": [
        {
          "output_type": "stream",
          "name": "stdout",
          "text": [
            "4.0\n"
          ]
        }
      ]
    },
    {
      "cell_type": "code",
      "source": [
        "# degisken degerini degistirme\n",
        "\n",
        "degisken = 10\n",
        "degisken = degisken + 5\n",
        "print(degisken)"
      ],
      "metadata": {
        "colab": {
          "base_uri": "https://localhost:8080/"
        },
        "id": "Zb6jSoUUP8gW",
        "outputId": "ca53f5a7-5a21-4a8d-8bb1-61d0af05910f"
      },
      "execution_count": 16,
      "outputs": [
        {
          "output_type": "stream",
          "name": "stdout",
          "text": [
            "15\n"
          ]
        }
      ]
    },
    {
      "cell_type": "code",
      "source": [
        "liste = [0]\n",
        "# liste.insert(1, \"araba\")\n",
        "print(liste)"
      ],
      "metadata": {
        "colab": {
          "base_uri": "https://localhost:8080/"
        },
        "id": "qb04aTe9bDmu",
        "outputId": "d306f8e0-9f54-4a1c-ac24-31a365b22fb5"
      },
      "execution_count": 18,
      "outputs": [
        {
          "output_type": "stream",
          "name": "stdout",
          "text": [
            "[0]\n"
          ]
        }
      ]
    },
    {
      "cell_type": "code",
      "source": [
        "# kisa yontem : \n",
        "\n",
        "x += 3 \n",
        "x -= 5\n"
      ],
      "metadata": {
        "id": "Y6s1E5RAcSUY"
      },
      "execution_count": null,
      "outputs": []
    },
    {
      "cell_type": "code",
      "source": [
        "a = 5\n",
        "\n",
        "a -= 5   # = 0\n",
        "\n",
        "a += 5    # = 5\n",
        "\n",
        "a *= 5   # = 25\n",
        "\n",
        "a //= 5  # = 5\n",
        "\n",
        "a /= 5   # = 1    burdaki bolma islemi nedeni ile sonuc float cikti.\n",
        "\n",
        "print(a)"
      ],
      "metadata": {
        "colab": {
          "base_uri": "https://localhost:8080/"
        },
        "id": "yOcdlLU9cp6u",
        "outputId": "bada1d32-b5e1-47e3-b4e2-be8fbc2c7540"
      },
      "execution_count": 21,
      "outputs": [
        {
          "output_type": "stream",
          "name": "stdout",
          "text": [
            "1.0\n"
          ]
        }
      ]
    },
    {
      "cell_type": "code",
      "source": [
        "a = 10 \n",
        "\n",
        "b = 15\n",
        "\n",
        "a *= b    # a = a + b \n",
        "\n",
        "a += b\n",
        "\n",
        "print(a, b)"
      ],
      "metadata": {
        "colab": {
          "base_uri": "https://localhost:8080/"
        },
        "id": "cba3UYxbc2fO",
        "outputId": "cb5ffe06-c30d-4735-fdd0-ac172f58d36d"
      },
      "execution_count": 23,
      "outputs": [
        {
          "output_type": "stream",
          "name": "stdout",
          "text": [
            "165 15\n"
          ]
        }
      ]
    },
    {
      "cell_type": "code",
      "source": [
        "# pythonda islem onceligi\n",
        "\n",
        "# 1: ()\n",
        "# 2 : **\n",
        "# 3 : -4 (eksi sayilar-unary minus)\n",
        "# 4: * /\n",
        "# 5 : + -  "
      ],
      "metadata": {
        "id": "WEnVJgJteoFX"
      },
      "execution_count": null,
      "outputs": []
    },
    {
      "cell_type": "code",
      "source": [
        "a = (1 + 3) ** (2 ** (1*2 /2) /2)\n",
        "print(a)"
      ],
      "metadata": {
        "colab": {
          "base_uri": "https://localhost:8080/"
        },
        "id": "or2UD-asfG_N",
        "outputId": "c5ab4996-91c5-49fc-81cb-37b0bd276e0b"
      },
      "execution_count": 24,
      "outputs": [
        {
          "output_type": "stream",
          "name": "stdout",
          "text": [
            "4.0\n"
          ]
        }
      ]
    },
    {
      "cell_type": "code",
      "source": [
        "# - ile ilgli olarak\n",
        "# -3 ** 2 yazilirsa - orada kalir cevap -9 olur\n",
        "#(-3)**2 yazilirsa cevap 9 olur\n"
      ],
      "metadata": {
        "id": "14X2uKMffUBt"
      },
      "execution_count": 25,
      "outputs": []
    },
    {
      "cell_type": "code",
      "source": [
        "#### print() func ile operasyonlar\n"
      ],
      "metadata": {
        "id": "tzYUtp4GpfDT"
      },
      "execution_count": null,
      "outputs": []
    },
    {
      "cell_type": "code",
      "source": [
        "## sep = \"\" ve end = \"\" paremetreler\n",
        "\n",
        "# colabte print() yazip beklersek aciklama gelir."
      ],
      "metadata": {
        "id": "xJbyRn_cqSom"
      },
      "execution_count": null,
      "outputs": []
    },
    {
      "cell_type": "code",
      "source": [
        "print( \"manolya\", \"lale\", sep = \"*\")"
      ],
      "metadata": {
        "colab": {
          "base_uri": "https://localhost:8080/"
        },
        "id": "Mal5Oa-Vq8lr",
        "outputId": "ca12976f-1d26-4c1c-b875-ef4f384a801c"
      },
      "execution_count": 26,
      "outputs": [
        {
          "output_type": "stream",
          "name": "stdout",
          "text": [
            "manolya*lale\n"
          ]
        }
      ]
    },
    {
      "cell_type": "code",
      "source": [
        "print( \"manolya\" + \"lale\", sep = \"*\")   # arada virgul olmazsa sep islem yapamiyor"
      ],
      "metadata": {
        "colab": {
          "base_uri": "https://localhost:8080/"
        },
        "id": "ijDkrsZ4rR3A",
        "outputId": "641d6c24-5021-4e5e-8c2a-3813a01352dc"
      },
      "execution_count": 27,
      "outputs": [
        {
          "output_type": "stream",
          "name": "stdout",
          "text": [
            "manolyalale\n"
          ]
        }
      ]
    },
    {
      "cell_type": "code",
      "source": [
        "print(\"manolya\", 3.14, False, 33, None, 3+5j, sep = \"%\" )"
      ],
      "metadata": {
        "colab": {
          "base_uri": "https://localhost:8080/"
        },
        "id": "r94ojaSrrVJ8",
        "outputId": "81522f0a-7266-4e1f-b558-adb53dbd9ab3"
      },
      "execution_count": 29,
      "outputs": [
        {
          "output_type": "stream",
          "name": "stdout",
          "text": [
            "manolya%3.14%False%33%None%(3+5j)\n"
          ]
        }
      ]
    },
    {
      "cell_type": "code",
      "source": [
        "print( \"manolya\" * 3, sep = \"*\")"
      ],
      "metadata": {
        "colab": {
          "base_uri": "https://localhost:8080/"
        },
        "id": "zvWY2X5nsEtN",
        "outputId": "6b3861f0-0f85-46c4-cdcc-842577c3f3bd"
      },
      "execution_count": 30,
      "outputs": [
        {
          "output_type": "stream",
          "name": "stdout",
          "text": [
            "manolyamanolyamanolya\n"
          ]
        }
      ]
    },
    {
      "cell_type": "code",
      "source": [
        "#TASK\n",
        "\n",
        "x = 22\n",
        "y = 9\n",
        "z = 8\n",
        "k =32\n",
        "l = 6\n",
        "m = 19\n",
        "\n",
        "liste = [x, y, z, k, l, m]\n",
        "\n",
        "liste.sort()\n",
        "print(*liste, sep = \" > \")   # listenin basina yildiz konulunca string olarak cagirdigi icin sep func kullanildi."
      ],
      "metadata": {
        "colab": {
          "base_uri": "https://localhost:8080/"
        },
        "id": "cs3FqCtCsntH",
        "outputId": "cd0b36a6-cd6d-4773-8ce8-63a95d4f861e"
      },
      "execution_count": 32,
      "outputs": [
        {
          "output_type": "stream",
          "name": "stdout",
          "text": [
            "6 > 8 > 9 > 19 > 22 > 32\n"
          ]
        }
      ]
    },
    {
      "cell_type": "code",
      "source": [
        "liste = \"manolya\"\n",
        "\n",
        "print(list(liste))"
      ],
      "metadata": {
        "colab": {
          "base_uri": "https://localhost:8080/"
        },
        "id": "OXh-LC4LuFbB",
        "outputId": "e319f795-3812-4c80-c389-93823e102efd"
      },
      "execution_count": 34,
      "outputs": [
        {
          "output_type": "stream",
          "name": "stdout",
          "text": [
            "['m', 'a', 'n', 'o', 'l', 'y', 'a']\n"
          ]
        }
      ]
    },
    {
      "cell_type": "code",
      "source": [
        "# end = \"\" calisma prensibi"
      ],
      "metadata": {
        "id": "391q9qXpu0Yc"
      },
      "execution_count": null,
      "outputs": []
    },
    {
      "cell_type": "code",
      "source": [
        "a = \"ankara\"\n",
        "b = \"izmir\"\n",
        "c = \"antalya\"\n",
        "\n",
        "print(a, b, c)"
      ],
      "metadata": {
        "colab": {
          "base_uri": "https://localhost:8080/"
        },
        "id": "vKFaVZ4gwbga",
        "outputId": "2be7d758-7579-4d03-e793-987ad6fb2628"
      },
      "execution_count": 35,
      "outputs": [
        {
          "output_type": "stream",
          "name": "stdout",
          "text": [
            "ankara izmir antalya\n"
          ]
        }
      ]
    },
    {
      "cell_type": "code",
      "source": [
        "a = \"ankara\"\n",
        "b = \"izmir\"\n",
        "c = \"antalya\"\n",
        "\n",
        "print(a, b, c, sep = \"\\n\")"
      ],
      "metadata": {
        "colab": {
          "base_uri": "https://localhost:8080/"
        },
        "id": "6YAlkAacw9Wn",
        "outputId": "fc8e8257-ad52-4d4c-9d66-99b26efb8f40"
      },
      "execution_count": 37,
      "outputs": [
        {
          "output_type": "stream",
          "name": "stdout",
          "text": [
            "ankara\n",
            "izmir\n",
            "antalya\n"
          ]
        }
      ]
    },
    {
      "cell_type": "code",
      "source": [
        "a = \"ankara\"\n",
        "b = \"izmir\"\n",
        "c = \"antalya\"\n",
        "\n",
        "print(a, end = \" \")   # end func icine * koyarsak araya yildiz koyar.\n",
        "print(b, end = \" \")\n",
        "print(c)"
      ],
      "metadata": {
        "colab": {
          "base_uri": "https://localhost:8080/"
        },
        "id": "unTCpEMgxVRn",
        "outputId": "b6221bb8-a068-416a-ab07-7a28c096a3f6"
      },
      "execution_count": 39,
      "outputs": [
        {
          "output_type": "stream",
          "name": "stdout",
          "text": [
            "ankara izmir antalya\n"
          ]
        }
      ]
    },
    {
      "cell_type": "code",
      "source": [
        "text1 = \"i bought\"\n",
        "text2 = \"kg. of apple this morning\"\n",
        "amount = 6\n",
        "text3 = text1 + \" \" + str(amount) + \" \" + text2\n",
        "\n",
        "print(text1, amount, text2)\n",
        "print(text3)\n",
        "print(\"i bought\" + \" 6 \" + \"kg. of apple this morning\")\n"
      ],
      "metadata": {
        "colab": {
          "base_uri": "https://localhost:8080/"
        },
        "id": "ZVYkBw7Aya8Y",
        "outputId": "4bdd250f-e5c2-49af-85bf-6e634c1a4b6c"
      },
      "execution_count": 41,
      "outputs": [
        {
          "output_type": "stream",
          "name": "stdout",
          "text": [
            "i bought 6 kg. of apple this morning\n",
            "i bought 6 kg. of apple this morning\n",
            "i bought 6 kg. of apple this morning\n"
          ]
        }
      ]
    },
    {
      "cell_type": "code",
      "source": [
        "########### escape sequence #########\n",
        "\n",
        "# PRINT FUNC ICERISINDE DEGER KAZANIR.\n"
      ],
      "metadata": {
        "id": "LnkjiXCh1CzY"
      },
      "execution_count": 42,
      "outputs": []
    },
    {
      "cell_type": "code",
      "source": [
        "# en cok kullnialn 3 tanesi\n",
        "\n",
        "# 1 : \\n\n",
        "\n",
        "# 2 : \\t\n",
        "\n",
        "# 3 : \\b"
      ],
      "metadata": {
        "id": "pP57a5uP1XdW"
      },
      "execution_count": null,
      "outputs": []
    },
    {
      "cell_type": "code",
      "source": [
        "string = \"ali\", \"\\n\", \"ahmet\", \"\\t\", \"mehmet\", \"\\b\"\n",
        "\n",
        "print(string)"
      ],
      "metadata": {
        "colab": {
          "base_uri": "https://localhost:8080/"
        },
        "id": "aCEaIUT42nmX",
        "outputId": "3d3ba9ba-a3b8-4062-c780-a549e018dcbf"
      },
      "execution_count": 43,
      "outputs": [
        {
          "output_type": "stream",
          "name": "stdout",
          "text": [
            "('ali', '\\n', 'ahmet', '\\t', 'mehmet', '\\x08')\n"
          ]
        }
      ]
    },
    {
      "cell_type": "code",
      "source": [
        "print(\"ali\", \"\\n\", \"ahmet\", \"\\t\", \"mehmet\", \"\\b\")    #print icinde yazilirsa calisir.\n"
      ],
      "metadata": {
        "colab": {
          "base_uri": "https://localhost:8080/"
        },
        "id": "pZ0mHHFg29hx",
        "outputId": "7d0fb955-5a6b-4a81-c561-39c42c9d14db"
      },
      "execution_count": 44,
      "outputs": [
        {
          "output_type": "stream",
          "name": "stdout",
          "text": [
            "ali \n",
            " ahmet \t mehmet \b\n"
          ]
        }
      ]
    },
    {
      "cell_type": "code",
      "source": [
        "liste = [\"ali\", \"\\n\", \"veli\"], \"\\n\", [\"can\", \"\\n\", \"kaan\"]\n",
        "\n",
        "print(liste)"
      ],
      "metadata": {
        "colab": {
          "base_uri": "https://localhost:8080/"
        },
        "id": "qT1oOtdj3ITd",
        "outputId": "02878aff-c3a4-4467-d870-9552c956891f"
      },
      "execution_count": 45,
      "outputs": [
        {
          "output_type": "stream",
          "name": "stdout",
          "text": [
            "(['ali', '\\n', 'veli'], '\\n', ['can', '\\n', 'kaan'])\n"
          ]
        }
      ]
    },
    {
      "cell_type": "code",
      "source": [
        "type(liste)"
      ],
      "metadata": {
        "colab": {
          "base_uri": "https://localhost:8080/"
        },
        "id": "ev5LwATQ4un1",
        "outputId": "d1faec04-8952-436f-d5fe-a2d933bb62b4"
      },
      "execution_count": 46,
      "outputs": [
        {
          "output_type": "execute_result",
          "data": {
            "text/plain": [
              "tuple"
            ]
          },
          "metadata": {},
          "execution_count": 46
        }
      ]
    },
    {
      "cell_type": "code",
      "source": [
        "a = 1, 2, 3\n",
        "\n",
        "type(a)"
      ],
      "metadata": {
        "colab": {
          "base_uri": "https://localhost:8080/"
        },
        "id": "kFHz7zr64zCd",
        "outputId": "0ccd07d6-5124-4b95-c39f-a7ec9d9a85eb"
      },
      "execution_count": 47,
      "outputs": [
        {
          "output_type": "execute_result",
          "data": {
            "text/plain": [
              "tuple"
            ]
          },
          "metadata": {},
          "execution_count": 47
        }
      ]
    },
    {
      "cell_type": "code",
      "source": [
        "a = 1\n",
        "\n",
        "type(a)"
      ],
      "metadata": {
        "colab": {
          "base_uri": "https://localhost:8080/"
        },
        "id": "7BGVsEfE43-l",
        "outputId": "d7047ffa-6dbc-4f93-f270-3e4f61c3b525"
      },
      "execution_count": 48,
      "outputs": [
        {
          "output_type": "execute_result",
          "data": {
            "text/plain": [
              "int"
            ]
          },
          "metadata": {},
          "execution_count": 48
        }
      ]
    },
    {
      "cell_type": "code",
      "source": [
        "a = 1,     # virgul kondugu zaman tuple olarak goruyor\n",
        "\n",
        "type(a) "
      ],
      "metadata": {
        "colab": {
          "base_uri": "https://localhost:8080/"
        },
        "id": "3NqXzUJi6Kb2",
        "outputId": "0dd0e595-d0d1-40fe-cc6e-a8d001b38162"
      },
      "execution_count": 49,
      "outputs": [
        {
          "output_type": "execute_result",
          "data": {
            "text/plain": [
              "tuple"
            ]
          },
          "metadata": {},
          "execution_count": 49
        }
      ]
    },
    {
      "cell_type": "code",
      "source": [
        "a = 'Ali'nin arabasi'\n",
        "\n",
        "print(a)"
      ],
      "metadata": {
        "colab": {
          "base_uri": "https://localhost:8080/",
          "height": 130
        },
        "id": "LZcCexW96PPt",
        "outputId": "6f99b35e-4ef1-46b4-ffae-1d9ab777f5cc"
      },
      "execution_count": 50,
      "outputs": [
        {
          "output_type": "error",
          "ename": "SyntaxError",
          "evalue": "ignored",
          "traceback": [
            "\u001b[0;36m  File \u001b[0;32m\"<ipython-input-50-9e016a600acf>\"\u001b[0;36m, line \u001b[0;32m1\u001b[0m\n\u001b[0;31m    a = 'Ali'nin arabasi'\u001b[0m\n\u001b[0m               ^\u001b[0m\n\u001b[0;31mSyntaxError\u001b[0m\u001b[0;31m:\u001b[0m invalid syntax\n"
          ]
        }
      ]
    },
    {
      "cell_type": "code",
      "source": [
        "a = 'Ali\\'nin arabasi'         # tirnagin onune konan \\ , tirnak ozelligini aliyor ve string elemani gibi yazdiriyor. Bu nedenle error vermiyor.\n",
        "\n",
        "print(a)"
      ],
      "metadata": {
        "colab": {
          "base_uri": "https://localhost:8080/"
        },
        "id": "LQpMCLUR7Pv9",
        "outputId": "a72a6f10-083e-40b6-ff38-11c19de791c4"
      },
      "execution_count": 51,
      "outputs": [
        {
          "output_type": "stream",
          "name": "stdout",
          "text": [
            "Ali'nin arabasi\n"
          ]
        }
      ]
    },
    {
      "cell_type": "code",
      "source": [
        "a = 'Ali\"nin arabasi'         \n",
        "\n",
        "print(a)"
      ],
      "metadata": {
        "colab": {
          "base_uri": "https://localhost:8080/"
        },
        "id": "DKtTfP0M7TWd",
        "outputId": "6f76dc9e-19cf-4c63-daa5-d24ceed67ee3"
      },
      "execution_count": 52,
      "outputs": [
        {
          "output_type": "stream",
          "name": "stdout",
          "text": [
            "Ali\"nin arabasi\n"
          ]
        }
      ]
    },
    {
      "cell_type": "code",
      "source": [
        "a = 'Ali\\\\\\\\\\\\\\\\\\'nin arabasi'         \n",
        "\n",
        "print(a)"
      ],
      "metadata": {
        "colab": {
          "base_uri": "https://localhost:8080/"
        },
        "id": "eK7le2NX8D_E",
        "outputId": "5b7928ed-e570-4bce-e7b1-70bc2a44583c"
      },
      "execution_count": 53,
      "outputs": [
        {
          "output_type": "stream",
          "name": "stdout",
          "text": [
            "Ali\\\\\\\\'nin arabasi\n"
          ]
        }
      ]
    },
    {
      "cell_type": "code",
      "source": [
        "#### bool ###3"
      ],
      "metadata": {
        "id": "DVA8PmHN8TYk"
      },
      "execution_count": 54,
      "outputs": []
    },
    {
      "cell_type": "code",
      "source": [
        "my = not True + not False + not True + not False\n",
        "\n",
        "print(my)"
      ],
      "metadata": {
        "colab": {
          "base_uri": "https://localhost:8080/",
          "height": 130
        },
        "id": "u9Z40D06-KGF",
        "outputId": "5caf7e1e-1977-4263-91cb-a0f2075247bc"
      },
      "execution_count": 55,
      "outputs": [
        {
          "output_type": "error",
          "ename": "SyntaxError",
          "evalue": "ignored",
          "traceback": [
            "\u001b[0;36m  File \u001b[0;32m\"<ipython-input-55-a9d56f827c8e>\"\u001b[0;36m, line \u001b[0;32m1\u001b[0m\n\u001b[0;31m    my = not True + not False + not True + not False\u001b[0m\n\u001b[0m                      ^\u001b[0m\n\u001b[0;31mSyntaxError\u001b[0m\u001b[0;31m:\u001b[0m invalid syntax\n"
          ]
        }
      ]
    },
    {
      "cell_type": "code",
      "source": [
        "my = (not True) + (not False)\n",
        "\n",
        "print(my)"
      ],
      "metadata": {
        "colab": {
          "base_uri": "https://localhost:8080/"
        },
        "id": "wB_wM98M-SWg",
        "outputId": "e0e3a614-cce6-4d65-b2ac-7f9d9e0e87aa"
      },
      "execution_count": 56,
      "outputs": [
        {
          "output_type": "stream",
          "name": "stdout",
          "text": [
            "1\n"
          ]
        }
      ]
    },
    {
      "cell_type": "code",
      "source": [
        "a = input(\"Sekeriniz var mi: (Lutfen evet ya da hayir yaziniz) : \")\n",
        "\n",
        "b = input(\"Cay kasiginiz var mi: (Lutfen evet ya da hayir yaziniz) : \")\n",
        "\n",
        "c = input(\"Cayiniz var mi: (Lutfen evet ya da hayir yaziniz) : \")\n",
        "\n",
        "x = \"evet\" \n",
        "y = \"hayir\"\n",
        "\n",
        "if a == x and b == x and c == x :\n",
        "  cay = \"afiyet olsun cay icebilirsiniz\"\n",
        "else :\n",
        "  cay = \"uzgunuz cay icemezsiniz\"\n",
        "\n",
        "print(cay)"
      ],
      "metadata": {
        "colab": {
          "base_uri": "https://localhost:8080/"
        },
        "id": "eXt6e6j4-fQM",
        "outputId": "49468e42-571e-4df8-88a8-3da5b9738ec7"
      },
      "execution_count": 61,
      "outputs": [
        {
          "output_type": "stream",
          "name": "stdout",
          "text": [
            "Sekeriniz var mi: (Lutfen evet ya da hayir yaziniz) : evet\n",
            "Cay kasiginiz var mi: (Lutfen evet ya da hayir yaziniz) : evet\n",
            "Cayiniz var mi: (Lutfen evet ya da hayir yaziniz) : hayir\n",
            "uzgunuz cay icemezsiniz\n"
          ]
        }
      ]
    },
    {
      "cell_type": "code",
      "source": [
        "a = True + False + True\n",
        "a"
      ],
      "metadata": {
        "colab": {
          "base_uri": "https://localhost:8080/"
        },
        "id": "LsBu83x8XMq4",
        "outputId": "523e41ac-f116-4c36-fd26-73f9933c178d"
      },
      "execution_count": 62,
      "outputs": [
        {
          "output_type": "execute_result",
          "data": {
            "text/plain": [
              "2"
            ]
          },
          "metadata": {},
          "execution_count": 62
        }
      ]
    },
    {
      "cell_type": "code",
      "source": [
        "a = not True + False\n",
        "a"
      ],
      "metadata": {
        "colab": {
          "base_uri": "https://localhost:8080/"
        },
        "id": "bvhPLJRXadBv",
        "outputId": "15fd95ab-db06-4497-f24e-58a674b91bd9"
      },
      "execution_count": 63,
      "outputs": [
        {
          "output_type": "execute_result",
          "data": {
            "text/plain": [
              "False"
            ]
          },
          "metadata": {},
          "execution_count": 63
        }
      ]
    },
    {
      "cell_type": "code",
      "source": [
        "a = (not True) + False\n",
        "a"
      ],
      "metadata": {
        "colab": {
          "base_uri": "https://localhost:8080/"
        },
        "id": "WRJyXWUDah3_",
        "outputId": "b5ad8052-c3eb-4f13-d865-82f0e208a680"
      },
      "execution_count": 64,
      "outputs": [
        {
          "output_type": "execute_result",
          "data": {
            "text/plain": [
              "0"
            ]
          },
          "metadata": {},
          "execution_count": 64
        }
      ]
    },
    {
      "cell_type": "code",
      "source": [
        "a = not True + not False\n",
        "a"
      ],
      "metadata": {
        "colab": {
          "base_uri": "https://localhost:8080/",
          "height": 130
        },
        "id": "hMFUaxPhamhv",
        "outputId": "6b4402af-d109-4eb6-af3c-822236e14bb5"
      },
      "execution_count": 65,
      "outputs": [
        {
          "output_type": "error",
          "ename": "SyntaxError",
          "evalue": "ignored",
          "traceback": [
            "\u001b[0;36m  File \u001b[0;32m\"<ipython-input-65-6687cb761f6a>\"\u001b[0;36m, line \u001b[0;32m1\u001b[0m\n\u001b[0;31m    a = not True + not False\u001b[0m\n\u001b[0m                     ^\u001b[0m\n\u001b[0;31mSyntaxError\u001b[0m\u001b[0;31m:\u001b[0m invalid syntax\n"
          ]
        }
      ]
    },
    {
      "cell_type": "code",
      "source": [
        "a = (not True) + (not False)\n",
        "a"
      ],
      "metadata": {
        "colab": {
          "base_uri": "https://localhost:8080/"
        },
        "id": "GC4fmbLgatmX",
        "outputId": "bd08cb45-0146-409a-b998-1cccde264a75"
      },
      "execution_count": 66,
      "outputs": [
        {
          "output_type": "execute_result",
          "data": {
            "text/plain": [
              "1"
            ]
          },
          "metadata": {},
          "execution_count": 66
        }
      ]
    },
    {
      "cell_type": "code",
      "source": [
        "a = not not not not not not not not False\n",
        "\n",
        "a"
      ],
      "metadata": {
        "colab": {
          "base_uri": "https://localhost:8080/"
        },
        "id": "KD1hWyvdazIf",
        "outputId": "dd01568c-374b-45d7-bf22-44a522c526eb"
      },
      "execution_count": 67,
      "outputs": [
        {
          "output_type": "execute_result",
          "data": {
            "text/plain": [
              "False"
            ]
          },
          "metadata": {},
          "execution_count": 67
        }
      ]
    },
    {
      "cell_type": "code",
      "source": [
        ""
      ],
      "metadata": {
        "id": "J60zR9L6e2GW"
      },
      "execution_count": null,
      "outputs": []
    }
  ]
}