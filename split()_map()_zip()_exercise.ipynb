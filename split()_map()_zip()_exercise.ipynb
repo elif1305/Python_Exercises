{
  "nbformat": 4,
  "nbformat_minor": 0,
  "metadata": {
    "colab": {
      "name": "split()-map()-zip() exercise",
      "provenance": [],
      "collapsed_sections": [],
      "authorship_tag": "ABX9TyPz1NJHlRp1VOUWRgEkKvfb"
    },
    "kernelspec": {
      "name": "python3",
      "display_name": "Python 3"
    },
    "language_info": {
      "name": "python"
    }
  },
  "cells": [
    {
      "cell_type": "code",
      "execution_count": 1,
      "metadata": {
        "colab": {
          "base_uri": "https://localhost:8080/"
        },
        "id": "1jpqSjEdSm8A",
        "outputId": "f7c8e526-5413-4a73-f83e-6d252ff1777a"
      },
      "outputs": [
        {
          "output_type": "stream",
          "name": "stdout",
          "text": [
            "['Hello', 'Dear', 'friends']\n"
          ]
        }
      ],
      "source": [
        "text = \"Hello Dear friends\"\n",
        "\n",
        "print(text.split())"
      ]
    },
    {
      "cell_type": "code",
      "source": [
        "text = \"Hello, Dear, friends\"\n",
        "\n",
        "print(text.split(\",\"))                    # neyden yani hangi ifadeden ayirarak bolmek istiyorsak split icine onu yaziyoruz."
      ],
      "metadata": {
        "colab": {
          "base_uri": "https://localhost:8080/"
        },
        "id": "ACgo1HprVanr",
        "outputId": "630550e6-8136-444a-dbab-4c13e945d8ab"
      },
      "execution_count": 2,
      "outputs": [
        {
          "output_type": "stream",
          "name": "stdout",
          "text": [
            "['Hello', ' Dear', ' friends']\n"
          ]
        }
      ]
    },
    {
      "cell_type": "code",
      "source": [
        "text = \" For testing parameter: Londra, Prag, Canada, Beyrut, Isfahan, Phuet, Tokyo\"\n",
        "\n"
      ],
      "metadata": {
        "id": "6_E6WBqlVC7Q"
      },
      "execution_count": null,
      "outputs": []
    },
    {
      "cell_type": "code",
      "source": [
        "countries = \"Turkiye, Singapur, Malezya, Lubnan, Kanada, Portekiz, Japonya\"\n",
        "\n",
        "country = countries.split(\" \", 4)              # buradaki 4 index numarasi oluyor. yani aslinda ilk 4 elemani aliyor sonrasinin hepsini tek eleman olarak alip tamamliyor.Totalde index numarasi 4 olacak sekilde yapiyor.\n",
        "print(country)                                 "
      ],
      "metadata": {
        "colab": {
          "base_uri": "https://localhost:8080/"
        },
        "id": "gO26ujyXWCHQ",
        "outputId": "58f61625-8350-4eb0-ff60-c5bc6a91a6ca"
      },
      "execution_count": 6,
      "outputs": [
        {
          "output_type": "stream",
          "name": "stdout",
          "text": [
            "['Turkiye,', 'Singapur,', 'Malezya,', 'Lubnan,', 'Kanada, Portekiz, Japonya']\n"
          ]
        }
      ]
    },
    {
      "cell_type": "code",
      "source": [
        "countries = \"Turkiye, Singapur, Malezya, Lubnan, Kanada, Portekiz, Japonya\"\n",
        "\n",
        "country = countries.split(\",\", 4)              # buradaki 4 index numarasi oluyor. yani aslinda ilk 3 elemani aliyor sonrasinin hepsini tek eleman olarak alip 4\"e tamamliyor.Totalde index numarasi 4 olacak sekilde yapiyor.\n",
        "print(*country, sep=\"\\n\") "
      ],
      "metadata": {
        "colab": {
          "base_uri": "https://localhost:8080/"
        },
        "id": "gmbn0-S8XiBU",
        "outputId": "8de672d2-a420-4574-dae8-8f22761cad9d"
      },
      "execution_count": 8,
      "outputs": [
        {
          "output_type": "stream",
          "name": "stdout",
          "text": [
            "Turkiye\n",
            " Singapur\n",
            " Malezya\n",
            " Lubnan\n",
            " Kanada, Portekiz, Japonya\n"
          ]
        }
      ]
    },
    {
      "cell_type": "code",
      "source": [
        "# yildizin kullanimi:\n",
        "\n",
        "text = \"adana\"\n",
        "\n",
        "print(*text)\n",
        "print(*text, sep=\"-\")\n",
        "print(*text, sep=\"\\n\")"
      ],
      "metadata": {
        "colab": {
          "base_uri": "https://localhost:8080/"
        },
        "id": "XPxQ3yawuk7-",
        "outputId": "1fb8e287-6b39-4642-82de-38ee637fd64c"
      },
      "execution_count": 11,
      "outputs": [
        {
          "output_type": "stream",
          "name": "stdout",
          "text": [
            "a d a n a\n",
            "a-d-a-n-a\n",
            "a\n",
            "d\n",
            "a\n",
            "n\n",
            "a\n"
          ]
        }
      ]
    },
    {
      "cell_type": "code",
      "source": [
        "# cumledeki en kisa kelime nedir ve kac karakterden olusuyor.\n",
        "\n",
        "text = \" soru cozumuyle kodlama becerim gelisiyor.\" \n",
        "\n",
        "a = text.split()\n",
        "print(min(a, key=len))\n",
        "\n",
        "en_kisa = min(text.split(), key = len)\n",
        "print(\" en kisa kelime {} ve {} karakterden olusmaktadir.\" .format(en_kisa, len(en_kisa)))"
      ],
      "metadata": {
        "colab": {
          "base_uri": "https://localhost:8080/"
        },
        "id": "8nIbqPCbUoXa",
        "outputId": "1e92a058-7af2-4bc5-cf5b-362eb19f30e9"
      },
      "execution_count": 13,
      "outputs": [
        {
          "output_type": "stream",
          "name": "stdout",
          "text": [
            "soru\n",
            " en kisa kelime soru ve 4 karakterden olusmaktadir.\n"
          ]
        }
      ]
    },
    {
      "cell_type": "code",
      "source": [
        "##### map()\n",
        "\n"
      ],
      "metadata": {
        "id": "JPZhdJ7AwGKu"
      },
      "execution_count": null,
      "outputs": []
    },
    {
      "cell_type": "code",
      "source": [
        "# map(func, iterable)   , genelde listelerde kullaniyoruz. listenin butun elemanlarina ayni degisikligi uygulatmak istedigimiz zaman bunu func i kullaniyoruz.\n",
        "\n",
        "list1 = [1,2,3,4,5]\n",
        "list2 = list(map(float,list1))\n",
        "list3 = float(list1[0])                         # burada ise sadece 1 elemana erisebiliyoruz.\n",
        "\n",
        "print(list3)\n",
        "print(list2)"
      ],
      "metadata": {
        "colab": {
          "base_uri": "https://localhost:8080/"
        },
        "id": "5yXp7aEcxUF8",
        "outputId": "609b2ae3-b42a-4b54-d3b2-359fdec8a312"
      },
      "execution_count": 15,
      "outputs": [
        {
          "output_type": "stream",
          "name": "stdout",
          "text": [
            "1.0\n",
            "[1.0, 2.0, 3.0, 4.0, 5.0]\n"
          ]
        }
      ]
    },
    {
      "cell_type": "code",
      "source": [
        "def discount(x):\n",
        "  return x-((x*20)/100)\n",
        "\n",
        "price = [15.3, 17, 10, 22.9, 16.5, 7.7]\n",
        "\n",
        "new_price = list(map(discount, price))               ### burada discount = elemanlara teker teker ne yapmak istiyoruz , price = neredeki elemanlari kullaniyoeuz\n",
        "\n",
        "print(new_price)"
      ],
      "metadata": {
        "colab": {
          "base_uri": "https://localhost:8080/"
        },
        "id": "N-VLBe-hxwCx",
        "outputId": "53f35d2f-0314-4221-8281-f479aae65d00"
      },
      "execution_count": 19,
      "outputs": [
        {
          "output_type": "stream",
          "name": "stdout",
          "text": [
            "[12.24, 13.6, 8.0, 18.32, 13.2, 6.16]\n"
          ]
        }
      ]
    },
    {
      "cell_type": "code",
      "source": [
        "#### zip()"
      ],
      "metadata": {
        "id": "zk5uBjaBzeKm"
      },
      "execution_count": null,
      "outputs": []
    },
    {
      "cell_type": "code",
      "source": [
        "list1 = [1,2,3,4,5]\n",
        "list2 = ['a', 'b', 'c', 'd', 'e']\n",
        "\n",
        "print(dict(zip(list1, list2)))                 # hangi formatta cikti istiyorsak zip in onune onu yaziyoruz.\n",
        "print(list(zip(list1, list2)))\n",
        "print(tuple(zip(list1, list2)))"
      ],
      "metadata": {
        "colab": {
          "base_uri": "https://localhost:8080/"
        },
        "id": "Hy1ccsfe1pGG",
        "outputId": "7612d23a-8065-40fb-84a5-d37f87032e50"
      },
      "execution_count": 22,
      "outputs": [
        {
          "output_type": "stream",
          "name": "stdout",
          "text": [
            "{1: 'a', 2: 'b', 3: 'c', 4: 'd', 5: 'e'}\n",
            "[(1, 'a'), (2, 'b'), (3, 'c'), (4, 'd'), (5, 'e')]\n",
            "((1, 'a'), (2, 'b'), (3, 'c'), (4, 'd'), (5, 'e'))\n"
          ]
        }
      ]
    },
    {
      "cell_type": "code",
      "source": [
        "list1 = [1,2,3]                                 ## eger eleman sayilari esit degilse  az elemanli olana gore hareket edecektir, artik elemnanlari almayacaktir.\n",
        "list2 = ['a', 'b', 'c', 'd', 'e']\n",
        "\n",
        "print(dict(zip(list1, list2)))\n",
        "print(list(zip(list1, list2)))\n",
        "print(tuple(zip(list1, list2)))"
      ],
      "metadata": {
        "colab": {
          "base_uri": "https://localhost:8080/"
        },
        "id": "CEcdbSEM17nR",
        "outputId": "15b5973d-0925-42b9-c217-498c7df00e20"
      },
      "execution_count": 23,
      "outputs": [
        {
          "output_type": "stream",
          "name": "stdout",
          "text": [
            "{1: 'a', 2: 'b', 3: 'c'}\n",
            "[(1, 'a'), (2, 'b'), (3, 'c')]\n",
            "((1, 'a'), (2, 'b'), (3, 'c'))\n"
          ]
        }
      ]
    },
    {
      "cell_type": "code",
      "source": [
        "list1 = [1,2,3]                                 ## eger eleman sayilari esit degilse  az elemanli olana gore hareket edecektir, artik elemnanlari almayacaktir.\n",
        "list2 = ['a', 'b', 'c', 'd', 'e']\n",
        "\n",
        "print(dict(zip(list2, list1)))\n",
        "print(list(zip(list2, list1)))\n",
        "print(tuple(zip(list2, list1)))"
      ],
      "metadata": {
        "colab": {
          "base_uri": "https://localhost:8080/"
        },
        "id": "3EYUBc7H3Gs5",
        "outputId": "15d77000-b80b-409c-c587-1786895ad7ba"
      },
      "execution_count": 28,
      "outputs": [
        {
          "output_type": "stream",
          "name": "stdout",
          "text": [
            "{'a': 1, 'b': 2, 'c': 3}\n",
            "[('a', 1), ('b', 2), ('c', 3)]\n",
            "(('a', 1), ('b', 2), ('c', 3))\n"
          ]
        }
      ]
    },
    {
      "cell_type": "code",
      "source": [
        "list1 = [1,1,1]                                 ## eger eleman sayilari esit degilse  az elemanli olana gore hareket edecektir, artik elemnanlari almayacaktir.\n",
        "list2 = ['a', 'a', 'a', 'a', 'e']\n",
        "\n",
        "print(dict(zip(list1, list2)))\n",
        "print(list(zip(list1, list2)))\n",
        "print(tuple(zip(list1, list2)))\n",
        "print(set(zip(list1, list2)))"
      ],
      "metadata": {
        "colab": {
          "base_uri": "https://localhost:8080/"
        },
        "id": "S4zb_BUb2PqI",
        "outputId": "dd5c94c7-10c8-42e1-a0e4-234bee2466ba"
      },
      "execution_count": 26,
      "outputs": [
        {
          "output_type": "stream",
          "name": "stdout",
          "text": [
            "{1: 'a'}\n",
            "[(1, 'a'), (1, 'a'), (1, 'a')]\n",
            "((1, 'a'), (1, 'a'), (1, 'a'))\n",
            "{(1, 'a')}\n"
          ]
        }
      ]
    },
    {
      "cell_type": "code",
      "source": [
        "list1 = [1,2,3]                                 ## eger eleman sayilari esit degilse  az elemanli olana gore hareket edecektir, artik elemnanlari almayacaktir.\n",
        "list2 = ['a', 'a', 'a', 'a', 'e']\n",
        "\n",
        "print(dict(zip(list1, list2)))\n",
        "print(list(zip(list1, list2)))\n",
        "print(tuple(zip(list1, list2)))\n",
        "print(set(zip(list1, list2)))"
      ],
      "metadata": {
        "colab": {
          "base_uri": "https://localhost:8080/"
        },
        "id": "CVvublPe2ulZ",
        "outputId": "19f82bcb-6dca-49ec-e711-19f31772991e"
      },
      "execution_count": 27,
      "outputs": [
        {
          "output_type": "stream",
          "name": "stdout",
          "text": [
            "{1: 'a', 2: 'a', 3: 'a'}\n",
            "[(1, 'a'), (2, 'a'), (3, 'a')]\n",
            "((1, 'a'), (2, 'a'), (3, 'a'))\n",
            "{(2, 'a'), (1, 'a'), (3, 'a')}\n"
          ]
        }
      ]
    },
    {
      "cell_type": "code",
      "source": [
        "list1 = [1,1,3]                                 ## eger eleman sayilari esit degilse  az elemanli olana gore hareket edecektir, artik elemnanlari almayacaktir.\n",
        "list2 = ['a', 'a', 'a', 'a', 'e']\n",
        "\n",
        "print(dict(zip(list1, list2)))\n",
        "print(list(zip(list1, list2)))\n",
        "print(tuple(zip(list1, list2)))\n",
        "print(set(zip(list1, list2)))"
      ],
      "metadata": {
        "colab": {
          "base_uri": "https://localhost:8080/"
        },
        "id": "wj4S2-CK282h",
        "outputId": "3067913f-dbb1-43c5-f170-5e31dd5a9af1"
      },
      "execution_count": 29,
      "outputs": [
        {
          "output_type": "stream",
          "name": "stdout",
          "text": [
            "{1: 'a', 3: 'a'}\n",
            "[(1, 'a'), (1, 'a'), (3, 'a')]\n",
            "((1, 'a'), (1, 'a'), (3, 'a'))\n",
            "{(1, 'a'), (3, 'a')}\n"
          ]
        }
      ]
    },
    {
      "cell_type": "code",
      "source": [
        "### enumerate ###\n",
        "\n",
        "std = ['ahmet', 'john', 'mateusz']\n",
        "\n",
        "new_std = list(enumerate(std, 9000))\n",
        "\n",
        "print(new_std)"
      ],
      "metadata": {
        "colab": {
          "base_uri": "https://localhost:8080/"
        },
        "id": "JUL-3Ilz3Ste",
        "outputId": "bbd65f5c-d8a7-4f80-fe4a-2478ea73e703"
      },
      "execution_count": 32,
      "outputs": [
        {
          "output_type": "stream",
          "name": "stdout",
          "text": [
            "[(9000, 'ahmet'), (9001, 'john'), (9002, 'mateusz')]\n"
          ]
        }
      ]
    },
    {
      "cell_type": "code",
      "source": [
        "std = ['ahmet', 'john', 'mateusz']\n",
        "\n",
        "new_std = list(enumerate(std, 9000))\n",
        "\n",
        "print(sorted(new_std, reverse=True))                 # tersten siralama yaptirmak icin"
      ],
      "metadata": {
        "colab": {
          "base_uri": "https://localhost:8080/"
        },
        "id": "PAgdItwL4tGR",
        "outputId": "84c3cded-0a40-4cf7-a50f-d88694e821cb"
      },
      "execution_count": 33,
      "outputs": [
        {
          "output_type": "stream",
          "name": "stdout",
          "text": [
            "[(9002, 'mateusz'), (9001, 'john'), (9000, 'ahmet')]\n"
          ]
        }
      ]
    },
    {
      "cell_type": "markdown",
      "source": [
        "Q-1) Verilen listeden {id:name} olacak sekilde dict olusturunuz.\n",
        "\n",
        "- test_list = ['ali', 1, 'veli', 2 , 'osman', 3, 'ahmet', 4]\n",
        "- output : {1:'ali', 2:'veli', 3:'osman', 4:'ahmet'}\n",
        "\n",
        "\n",
        ":\n"
      ],
      "metadata": {
        "id": "eIItdZO53-Gm"
      }
    },
    {
      "cell_type": "code",
      "source": [
        "test_list = ['ali', 1, 'veli', 2 , 'osman', 3, 'ahmet', 4]\n",
        "\n",
        "names = test_list[0::2]\n",
        "numbers = test_list[1::2]\n",
        "new_dict = dict(zip(numbers, names))\n",
        "\n",
        "print(names)\n",
        "print(numbers)\n",
        "print(new_dict)\n"
      ],
      "metadata": {
        "colab": {
          "base_uri": "https://localhost:8080/"
        },
        "id": "rTUw2Z2o5LAY",
        "outputId": "f355dc0a-9a15-495c-bf95-d7d00bb7cc10"
      },
      "execution_count": 38,
      "outputs": [
        {
          "output_type": "stream",
          "name": "stdout",
          "text": [
            "['ali', 'veli', 'osman', 'ahmet']\n",
            "[1, 2, 3, 4]\n",
            "{1: 'ali', 2: 'veli', 3: 'osman', 4: 'ahmet'}\n"
          ]
        }
      ]
    },
    {
      "cell_type": "markdown",
      "source": [
        "Q-2) Kullanicidan alinan 5 sayi icerisinden en buyuk 2. sayiiyi bulan kodu yaziniz.\n",
        "\n",
        "-map() ve split() kullaniniz."
      ],
      "metadata": {
        "id": "et3oZFtH5_hl"
      }
    },
    {
      "cell_type": "code",
      "source": [
        "numbers = list(map(int,input('enter 5 number :').split()))\n",
        "\n",
        "# print(numbers)\n",
        "\n",
        "sec_max = sorted(set(numbers))[-2]                    ## sorted siralama icin kullanildi. set ise kullanicinin ayni rakami 1den fazla yazma ihtimaline karsilik , ayni sayinin tekrar alinmamasi icin yazildi.\n",
        "print(sec_max)"
      ],
      "metadata": {
        "colab": {
          "base_uri": "https://localhost:8080/"
        },
        "id": "Ou_PYpvB5hIm",
        "outputId": "437f750c-5b8d-4f2d-cbad-fbae0a0a9717"
      },
      "execution_count": 43,
      "outputs": [
        {
          "output_type": "stream",
          "name": "stdout",
          "text": [
            "enter 5 number :45 69 1 5\n",
            "45\n"
          ]
        }
      ]
    },
    {
      "cell_type": "markdown",
      "source": [
        "Q-3) Kullanicidan alinan deger kadar numbers listesinin elemanlarini saga kaydiran kodu yazini.\n",
        "\n",
        "- numbers = [2,3,5,7,11,44,34}"
      ],
      "metadata": {
        "id": "WGGeSvSZ8QMR"
      }
    },
    {
      "cell_type": "code",
      "source": [
        ""
      ],
      "metadata": {
        "id": "inbdPkX38gYV"
      },
      "execution_count": null,
      "outputs": []
    },
    {
      "cell_type": "markdown",
      "source": [
        "Q-4)Kullanicidan alinan sayinin negatif veya pozitif oldugunu buan kodu yaziniz."
      ],
      "metadata": {
        "id": "FoiajFwE8hhQ"
      }
    },
    {
      "cell_type": "code",
      "source": [
        "sayi = int(input('bir sayi giriniz :'))\n",
        "\n",
        "if sayi>0:\n",
        "  print(\"pozitif\")\n",
        "elif sayi<0:\n",
        "  print(\"negatif\")\n",
        "elif sayi == 0:\n",
        "  print('number is zero')\n"
      ],
      "metadata": {
        "colab": {
          "base_uri": "https://localhost:8080/"
        },
        "id": "7UcgFdTS8yll",
        "outputId": "ae8e836b-9b32-4f11-b182-2b1e83ab5e07"
      },
      "execution_count": 45,
      "outputs": [
        {
          "output_type": "stream",
          "name": "stdout",
          "text": [
            "bir sayi giriniz :0\n",
            "number is zero\n"
          ]
        }
      ]
    },
    {
      "cell_type": "markdown",
      "source": [
        "Q-5) Kullanican 2 deger ve islemi alip sonucunu donduren basit bir hesap makinasei programi yaziniz.\n",
        "\n",
        "- \"1\" toplama\n",
        "- \"2\" cikarma\n",
        "- \"3\" carpma\n",
        "- \"4\" bolme"
      ],
      "metadata": {
        "id": "P_y9W98-9-3m"
      }
    },
    {
      "cell_type": "code",
      "source": [
        ""
      ],
      "metadata": {
        "id": "NZyFEFwX9zPo"
      },
      "execution_count": null,
      "outputs": []
    },
    {
      "cell_type": "markdown",
      "source": [
        "Q-6) Ee-mail ve parola bilgileri ile giris kontrolu yapan pogrami yaziniz.\n",
        "\n",
        "- email : \"D007@coding.com'\n",
        "- pswrd = \"d007"
      ],
      "metadata": {
        "id": "AQdkP8P7-XOP"
      }
    },
    {
      "cell_type": "code",
      "source": [
        "email = \"D007@coding.com\"\n",
        "pswrd = \"d007\"\n",
        "\n",
        "ent_mail = input('enter mail: ')\n",
        "ent_pswrd = input(\"enter password :\")\n",
        "\n",
        "if (ent_mail != email and ent_pswrd == pswrd):\n",
        "  print('wrong email address')\n",
        "elif (ent_mail == email and ent_pswrd != pswrd):\n",
        "  print('wrong password')\n",
        "elif (ent_mail != email and ent_pswrd != pswrd):\n",
        "  print('wrong password and email')\n",
        "else:\n",
        "  print('login succesfull')"
      ],
      "metadata": {
        "colab": {
          "base_uri": "https://localhost:8080/"
        },
        "id": "X1ROwOaA-sdE",
        "outputId": "a6fe0189-5adb-4514-90c9-72cbd173e0fe"
      },
      "execution_count": 48,
      "outputs": [
        {
          "output_type": "stream",
          "name": "stdout",
          "text": [
            "enter mail: ella\n",
            "enter password :dsfa\n",
            "wrong password and email\n"
          ]
        }
      ]
    },
    {
      "cell_type": "code",
      "source": [
        ""
      ],
      "metadata": {
        "id": "mzvS88jc_2Ui"
      },
      "execution_count": null,
      "outputs": []
    }
  ]
}