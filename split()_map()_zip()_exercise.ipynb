{
  "nbformat": 4,
  "nbformat_minor": 0,
  "metadata": {
    "colab": {
      "name": "split()-map()-zip() exercise",
      "provenance": [],
      "collapsed_sections": [],
      "authorship_tag": "ABX9TyMZmnD6tD5xKxZrrtWL4NHc"
    },
    "kernelspec": {
      "name": "python3",
      "display_name": "Python 3"
    },
    "language_info": {
      "name": "python"
    }
  },
  "cells": [
    {
      "cell_type": "code",
      "execution_count": 1,
      "metadata": {
        "colab": {
          "base_uri": "https://localhost:8080/"
        },
        "id": "1jpqSjEdSm8A",
        "outputId": "f7c8e526-5413-4a73-f83e-6d252ff1777a"
      },
      "outputs": [
        {
          "output_type": "stream",
          "name": "stdout",
          "text": [
            "['Hello', 'Dear', 'friends']\n"
          ]
        }
      ],
      "source": [
        "text = \"Hello Dear friends\"\n",
        "\n",
        "print(text.split())"
      ]
    },
    {
      "cell_type": "code",
      "source": [
        "text = \"Hello, Dear, friends\"\n",
        "\n",
        "print(text.split(\",\"))                    # neyden yani hangi ifadeden ayirarak bolmek istiyorsak split icine onu yaziyoruz."
      ],
      "metadata": {
        "colab": {
          "base_uri": "https://localhost:8080/"
        },
        "id": "ACgo1HprVanr",
        "outputId": "630550e6-8136-444a-dbab-4c13e945d8ab"
      },
      "execution_count": 2,
      "outputs": [
        {
          "output_type": "stream",
          "name": "stdout",
          "text": [
            "['Hello', ' Dear', ' friends']\n"
          ]
        }
      ]
    },
    {
      "cell_type": "code",
      "source": [
        "text = \" For testing parameter: Londra, Prag, Canada, Beyrut, Isfahan, Phuet, Tokyo\"\n",
        "\n"
      ],
      "metadata": {
        "id": "6_E6WBqlVC7Q"
      },
      "execution_count": null,
      "outputs": []
    },
    {
      "cell_type": "code",
      "source": [
        "countries = \"Turkiye, Singapur, Malezya, Lubnan, Kanada, Portekiz, Japonya\"\n",
        "\n",
        "country = countries.split(\" \", 4)              # buradaki 4 index numarasi oluyor. yani aslinda ilk 4 elemani aliyor sonrasinin hepsini tek eleman olarak alip tamamliyor.Totalde index numarasi 4 olacak sekilde yapiyor.\n",
        "print(country)                                 "
      ],
      "metadata": {
        "colab": {
          "base_uri": "https://localhost:8080/"
        },
        "id": "gO26ujyXWCHQ",
        "outputId": "58f61625-8350-4eb0-ff60-c5bc6a91a6ca"
      },
      "execution_count": 6,
      "outputs": [
        {
          "output_type": "stream",
          "name": "stdout",
          "text": [
            "['Turkiye,', 'Singapur,', 'Malezya,', 'Lubnan,', 'Kanada, Portekiz, Japonya']\n"
          ]
        }
      ]
    },
    {
      "cell_type": "code",
      "source": [
        "countries = \"Turkiye, Singapur, Malezya, Lubnan, Kanada, Portekiz, Japonya\"\n",
        "\n",
        "country = countries.split(\",\", 4)              # buradaki 4 index numarasi oluyor. yani aslinda ilk 3 elemani aliyor sonrasinin hepsini tek eleman olarak alip 4\"e tamamliyor.Totalde index numarasi 4 olacak sekilde yapiyor.\n",
        "print(*country, sep=\"\\n\") "
      ],
      "metadata": {
        "colab": {
          "base_uri": "https://localhost:8080/"
        },
        "id": "gmbn0-S8XiBU",
        "outputId": "8de672d2-a420-4574-dae8-8f22761cad9d"
      },
      "execution_count": 8,
      "outputs": [
        {
          "output_type": "stream",
          "name": "stdout",
          "text": [
            "Turkiye\n",
            " Singapur\n",
            " Malezya\n",
            " Lubnan\n",
            " Kanada, Portekiz, Japonya\n"
          ]
        }
      ]
    },
    {
      "cell_type": "code",
      "source": [
        "# yildizin kullanimi:\n",
        "\n",
        "text = \"adana\"\n",
        "\n",
        "print(*text)\n",
        "print(*text, sep=\"-\")\n",
        "print(*text, sep=\"\\n\")"
      ],
      "metadata": {
        "colab": {
          "base_uri": "https://localhost:8080/"
        },
        "id": "XPxQ3yawuk7-",
        "outputId": "1fb8e287-6b39-4642-82de-38ee637fd64c"
      },
      "execution_count": 11,
      "outputs": [
        {
          "output_type": "stream",
          "name": "stdout",
          "text": [
            "a d a n a\n",
            "a-d-a-n-a\n",
            "a\n",
            "d\n",
            "a\n",
            "n\n",
            "a\n"
          ]
        }
      ]
    },
    {
      "cell_type": "code",
      "source": [
        "# cumledeki en kisa kelime nedir ve kac karakterden olusuyor.\n",
        "\n",
        "text = \" soru cozumuyle kodlama becerim gelisiyor.\" \n",
        "\n",
        "a = text.split()\n",
        "print(min(a, key=len))\n",
        "\n",
        "en_kisa = min(text.split(), key = len)\n",
        "print(\" en kisa kelime {} ve {} karakterden olusmaktadir.\" .format(en_kisa, len(en_kisa)))"
      ],
      "metadata": {
        "colab": {
          "base_uri": "https://localhost:8080/"
        },
        "id": "8nIbqPCbUoXa",
        "outputId": "1e92a058-7af2-4bc5-cf5b-362eb19f30e9"
      },
      "execution_count": 13,
      "outputs": [
        {
          "output_type": "stream",
          "name": "stdout",
          "text": [
            "soru\n",
            " en kisa kelime soru ve 4 karakterden olusmaktadir.\n"
          ]
        }
      ]
    },
    {
      "cell_type": "code",
      "source": [
        "##### map()\n",
        "\n"
      ],
      "metadata": {
        "id": "JPZhdJ7AwGKu"
      },
      "execution_count": null,
      "outputs": []
    },
    {
      "cell_type": "code",
      "source": [
        "# map(func, iterable)   , genelde listelerde kullaniyoruz. listenin butun elemanlarina ayni degisikligi uygulatmak istedigimiz zaman bunu func i kullaniyoruz.\n",
        "\n",
        "list1 = [1,2,3,4,5]\n",
        "list2 = list(map(float,list1))\n",
        "list3 = float(list1[0])                         # burada ise sadece 1 elemana erisebiliyoruz.\n",
        "\n",
        "print(list3)\n",
        "print(list2)"
      ],
      "metadata": {
        "colab": {
          "base_uri": "https://localhost:8080/"
        },
        "id": "5yXp7aEcxUF8",
        "outputId": "609b2ae3-b42a-4b54-d3b2-359fdec8a312"
      },
      "execution_count": 15,
      "outputs": [
        {
          "output_type": "stream",
          "name": "stdout",
          "text": [
            "1.0\n",
            "[1.0, 2.0, 3.0, 4.0, 5.0]\n"
          ]
        }
      ]
    },
    {
      "cell_type": "code",
      "source": [
        "def discount(x):\n",
        "  return x-((x*20)/100)\n",
        "\n",
        "price = [15.3, 17, 10, 22.9, 16.5, 7.7]\n",
        "\n",
        "new_price = list(map(discount, price))               ### burada discount = elemanlara teker teker ne yapmak istiyoruz , price = neredeki elemanlari kullaniyoeuz\n",
        "\n",
        "print(new_price)"
      ],
      "metadata": {
        "colab": {
          "base_uri": "https://localhost:8080/"
        },
        "id": "N-VLBe-hxwCx",
        "outputId": "53f35d2f-0314-4221-8281-f479aae65d00"
      },
      "execution_count": 19,
      "outputs": [
        {
          "output_type": "stream",
          "name": "stdout",
          "text": [
            "[12.24, 13.6, 8.0, 18.32, 13.2, 6.16]\n"
          ]
        }
      ]
    },
    {
      "cell_type": "code",
      "source": [
        ""
      ],
      "metadata": {
        "id": "zk5uBjaBzeKm"
      },
      "execution_count": null,
      "outputs": []
    }
  ]
}