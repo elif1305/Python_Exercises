{
  "nbformat": 4,
  "nbformat_minor": 0,
  "metadata": {
    "colab": {
      "name": "December - 22",
      "provenance": [],
      "collapsed_sections": [],
      "authorship_tag": "ABX9TyMbbqXKKd9+4FrW7SwlSnnA"
    },
    "kernelspec": {
      "name": "python3",
      "display_name": "Python 3"
    },
    "language_info": {
      "name": "python"
    }
  },
  "cells": [
    {
      "cell_type": "code",
      "execution_count": null,
      "metadata": {
        "id": "T1pE7Odpf1R_"
      },
      "outputs": [],
      "source": [
        "######## False - Falsy , True - Truthy  #######\n",
        "#False sonuc veren degerlere Falsy\n",
        "#True deger veren degerlere Truthy diyoruz\n",
        "\n",
        "# False sonucu veren degerler\n",
        "#sifirla baslayan degerler, bos string-tuple-liste.., None, False\n",
        "\n",
        "# 1: 0\n",
        "# 2: 0.0\n",
        "# 3: 0.j\n",
        "# 4: []\n",
        "# 5: ()\n",
        "# 6: \"\"\n",
        "# 7: {}\n",
        "# 8 : False\n",
        "# 9 : None"
      ]
    },
    {
      "cell_type": "code",
      "source": [
        "print(bool(()))"
      ],
      "metadata": {
        "colab": {
          "base_uri": "https://localhost:8080/"
        },
        "id": "SjdLBqqltNUi",
        "outputId": "a3203f15-c18c-49e5-81d5-3ca63025a3d4"
      },
      "execution_count": null,
      "outputs": [
        {
          "output_type": "stream",
          "name": "stdout",
          "text": [
            "False\n"
          ]
        }
      ]
    },
    {
      "cell_type": "code",
      "source": [
        "print(bool(  (())  ) )"
      ],
      "metadata": {
        "colab": {
          "base_uri": "https://localhost:8080/"
        },
        "id": "R8zlxh16tSpl",
        "outputId": "7e0b54af-b043-46f8-d7a9-eb7fe508b551"
      },
      "execution_count": null,
      "outputs": [
        {
          "output_type": "stream",
          "name": "stdout",
          "text": [
            "False\n"
          ]
        }
      ]
    },
    {
      "cell_type": "code",
      "source": [
        "print(bool(  (( [] ))  ) )"
      ],
      "metadata": {
        "colab": {
          "base_uri": "https://localhost:8080/"
        },
        "id": "3jE7qXgit7Ky",
        "outputId": "3c12530c-2c38-4c42-8892-15d74c94c99d"
      },
      "execution_count": null,
      "outputs": [
        {
          "output_type": "stream",
          "name": "stdout",
          "text": [
            "False\n"
          ]
        }
      ]
    },
    {
      "cell_type": "code",
      "source": [
        "print(bool(  (( [\"a\"] ))  ) )  # liste icine eleman yazilmis oldugu icin True ya dondu"
      ],
      "metadata": {
        "colab": {
          "base_uri": "https://localhost:8080/"
        },
        "id": "rrxPxcO5t_uA",
        "outputId": "a70ccf06-7ea1-4d3e-f194-4091e02950e6"
      },
      "execution_count": null,
      "outputs": [
        {
          "output_type": "stream",
          "name": "stdout",
          "text": [
            "True\n"
          ]
        }
      ]
    },
    {
      "cell_type": "code",
      "source": [
        "print(bool(  (\" \")  )  )    # bosluk tusu da bir elemandir, bu nedenle True verir."
      ],
      "metadata": {
        "colab": {
          "base_uri": "https://localhost:8080/"
        },
        "id": "4MsJcbOjuCxY",
        "outputId": "2fc6994d-ed06-457c-ec2e-369512c658c5"
      },
      "execution_count": null,
      "outputs": [
        {
          "output_type": "stream",
          "name": "stdout",
          "text": [
            "True\n"
          ]
        }
      ]
    },
    {
      "cell_type": "code",
      "source": [
        "print(\"0\")\n",
        "print(0)"
      ],
      "metadata": {
        "colab": {
          "base_uri": "https://localhost:8080/"
        },
        "id": "lwvxFVnMuK8w",
        "outputId": "10672b7c-bbb5-4568-9bca-83bc77db73d5"
      },
      "execution_count": null,
      "outputs": [
        {
          "output_type": "stream",
          "name": "stdout",
          "text": [
            "0\n",
            "0\n"
          ]
        }
      ]
    },
    {
      "cell_type": "code",
      "source": [
        "print(type(\"0\"))\n",
        "print(type(0))"
      ],
      "metadata": {
        "colab": {
          "base_uri": "https://localhost:8080/"
        },
        "id": "tJR4Xa_-uxb4",
        "outputId": "05b4cadc-c764-4783-bf9f-7cc24e71f902"
      },
      "execution_count": null,
      "outputs": [
        {
          "output_type": "stream",
          "name": "stdout",
          "text": [
            "<class 'str'>\n",
            "<class 'int'>\n"
          ]
        }
      ]
    },
    {
      "cell_type": "code",
      "source": [
        "print(bool(False) + bool(True) + bool(1000) + bool(\"ahmet bey\") + bool(None))             # boolean icinde ya 0 ya 1 olarak bir deger ceviriyor. bu nedenle cevap 3.araya islem girince deger cevriliyor.\n",
        "\n",
        "print(bool(False))\n",
        "\n",
        "print(True + 1000)\n",
        "\n",
        "print(True + bool(\"1000\"))"
      ],
      "metadata": {
        "colab": {
          "base_uri": "https://localhost:8080/"
        },
        "id": "AxCeHNbtu5kw",
        "outputId": "1750b4d2-4b19-4bad-e15c-51579346bfb0"
      },
      "execution_count": null,
      "outputs": [
        {
          "output_type": "stream",
          "name": "stdout",
          "text": [
            "3\n",
            "False\n",
            "1001\n",
            "2\n"
          ]
        }
      ]
    },
    {
      "cell_type": "code",
      "source": [
        "print(\"ahmet\" and \"mehmet\")\n",
        "\n",
        "print(bool(\"ahmet\" and \"mehmet\"))\n",
        "\n",
        "print(\"'True'\")\n",
        "\n",
        "print(bool(\"'True'\"))"
      ],
      "metadata": {
        "colab": {
          "base_uri": "https://localhost:8080/"
        },
        "id": "-kKMBTE7vtds",
        "outputId": "35166571-52d0-46bc-8489-0ac2462866c8"
      },
      "execution_count": null,
      "outputs": [
        {
          "output_type": "stream",
          "name": "stdout",
          "text": [
            "mehmet\n",
            "True\n",
            "'True'\n",
            "True\n"
          ]
        }
      ]
    },
    {
      "cell_type": "code",
      "source": [
        "print(bool (\"fdkghldfkghlsdfkhng fdgn ufdgldfh dfghd hdfh48258-24 t5-86 8 \"))\n",
        "\n",
        "print(bool(                                                                                  ))"
      ],
      "metadata": {
        "colab": {
          "base_uri": "https://localhost:8080/"
        },
        "id": "a5r_tRiTw-7Q",
        "outputId": "b9291425-077b-4610-84e5-6b38d39edf6f"
      },
      "execution_count": null,
      "outputs": [
        {
          "output_type": "stream",
          "name": "stdout",
          "text": [
            "True\n",
            "False\n"
          ]
        }
      ]
    },
    {
      "cell_type": "code",
      "source": [
        "a = bool (\"ali\" and \"''\")        # True\n",
        "\n",
        "b = bool(0 or () or {})  # False\n",
        "\n",
        "print(a and b)"
      ],
      "metadata": {
        "colab": {
          "base_uri": "https://localhost:8080/"
        },
        "id": "YXHe_SV-xihY",
        "outputId": "efd6487d-6271-4624-a04c-c3638a74b31d"
      },
      "execution_count": null,
      "outputs": [
        {
          "output_type": "stream",
          "name": "stdout",
          "text": [
            "False\n"
          ]
        }
      ]
    },
    {
      "cell_type": "code",
      "source": [
        "a = \"ali\" and \"''\"\n",
        "\n",
        "b = 0 or () or {}\n",
        "\n",
        "print(a and b)"
      ],
      "metadata": {
        "colab": {
          "base_uri": "https://localhost:8080/"
        },
        "id": "TZj-R2JFyG2n",
        "outputId": "e7cf130a-df23-4a17-e2f1-a2136671f73b"
      },
      "execution_count": null,
      "outputs": [
        {
          "output_type": "stream",
          "name": "stdout",
          "text": [
            "{}\n"
          ]
        }
      ]
    },
    {
      "cell_type": "code",
      "source": [
        "a = \"ali\" and \"''\" or not \"selma\"\n",
        "\n",
        "b = bool([] or () or {})\n",
        "\n",
        "print(a and bool(b))"
      ],
      "metadata": {
        "colab": {
          "base_uri": "https://localhost:8080/"
        },
        "id": "tfUmkiyIykfn",
        "outputId": "f82642a6-8717-4956-869c-29db7c098301"
      },
      "execution_count": null,
      "outputs": [
        {
          "output_type": "stream",
          "name": "stdout",
          "text": [
            "False\n"
          ]
        }
      ]
    },
    {
      "cell_type": "code",
      "source": [
        "#### Tereyagli yumurta ornegi ####\n",
        "\n",
        "tava = True\n",
        "yumurta = True\n",
        "tereyag = True\n",
        "tuz = True\n",
        "ocak = True\n",
        " \n",
        "# opsiyonel malzemeler\n",
        "\n",
        "sucuk = False\n",
        "sosis = False\n",
        "pastirma = False\n",
        "\n",
        "yumurtayiyormuyuz = tava and yumurta and tereyag and tuz and ocak or sucuk or sosis or pastirma\n",
        "\n",
        "print(yumurtayiyormuyuz) # islem onceligine dikkat et\n",
        "\n",
        "# degiskene deger atandigi icin sonuc True ya da False cikti . Eger deger atama olmasaydi yazilanlardan birinin cikmasi gerekirdi."
      ],
      "metadata": {
        "colab": {
          "base_uri": "https://localhost:8080/"
        },
        "id": "4RXUXBB-zLH_",
        "outputId": "90f0a4ce-c05c-452f-f8f2-77d6171895f3"
      },
      "execution_count": null,
      "outputs": [
        {
          "output_type": "stream",
          "name": "stdout",
          "text": [
            "True\n"
          ]
        }
      ]
    },
    {
      "cell_type": "code",
      "source": [
        "\n",
        "\n",
        "yumurtayiyormuyuz = \"tavaa\" and \"yumurtaa\" and \"tereyagg\" and \"tuzz\" and \"ocakk\" or \"sucukk\" or \"sosiss\" or \"pastirmaa\"\n",
        "\n",
        "print(yumurtayiyormuyuz) # islem onceligine dikkat et\n"
      ],
      "metadata": {
        "colab": {
          "base_uri": "https://localhost:8080/"
        },
        "id": "SQwF_F3F0H5H",
        "outputId": "8d70118a-c937-466d-ec86-5331866dcd5f"
      },
      "execution_count": null,
      "outputs": [
        {
          "output_type": "stream",
          "name": "stdout",
          "text": [
            "ocakk\n"
          ]
        }
      ]
    },
    {
      "cell_type": "code",
      "source": [
        "yumurtayiyormuyuz = \"tava\" and \"yumurta\" and \"tereyag\" and \"tuz\" and \"ocak\" or \"sucuk\" or \"sosis\" or \"pastirma\"\n",
        "\n",
        "print(yumurtayiyormuyuz)"
      ],
      "metadata": {
        "colab": {
          "base_uri": "https://localhost:8080/"
        },
        "id": "-F8kBQxr03MP",
        "outputId": "aecbe122-9df4-418e-d563-745a4b3abf67"
      },
      "execution_count": null,
      "outputs": [
        {
          "output_type": "stream",
          "name": "stdout",
          "text": [
            "ocak\n"
          ]
        }
      ]
    },
    {
      "cell_type": "code",
      "source": [
        ""
      ],
      "metadata": {
        "colab": {
          "base_uri": "https://localhost:8080/"
        },
        "id": "o_oYPbTN1RuX",
        "outputId": "618c88b9-4ac3-40d7-d12a-6bdb9b114d3c"
      },
      "execution_count": null,
      "outputs": [
        {
          "output_type": "stream",
          "name": "stdout",
          "text": [
            "True\n"
          ]
        }
      ]
    },
    {
      "cell_type": "code",
      "source": [
        "############## indexing #############"
      ],
      "metadata": {
        "id": "Dzmy5LFv17p_"
      },
      "execution_count": null,
      "outputs": []
    },
    {
      "cell_type": "code",
      "source": [
        "# stringler iterabledir yani elemanlarina ayrilabilirler.\n",
        "#iterabe demek elemanlari cekeblir ve bbunlar uzerinde islme yapabliriz demektir."
      ],
      "metadata": {
        "id": "XQeDT7Z320I_"
      },
      "execution_count": null,
      "outputs": []
    },
    {
      "cell_type": "code",
      "source": [
        "a = \"str   ing\"\n",
        "\n",
        "print(list(a))  #bosluklara dikkat"
      ],
      "metadata": {
        "colab": {
          "base_uri": "https://localhost:8080/"
        },
        "id": "ZJ4NUMAl3MkZ",
        "outputId": "60339024-18f0-4b0d-8ff7-8bd518463cf9"
      },
      "execution_count": null,
      "outputs": [
        {
          "output_type": "stream",
          "name": "stdout",
          "text": [
            "['s', 't', 'r', ' ', ' ', ' ', 'i', 'n', 'g']\n"
          ]
        }
      ]
    },
    {
      "cell_type": "code",
      "source": [
        "a = 2983472\n",
        "\n",
        "print(list(a))   # a ya atanan deger iterable degildir."
      ],
      "metadata": {
        "colab": {
          "base_uri": "https://localhost:8080/",
          "height": 208
        },
        "id": "Tm7Fpk9h3UB4",
        "outputId": "eb209da2-4541-4682-9b34-c2a9c4b47ec8"
      },
      "execution_count": null,
      "outputs": [
        {
          "output_type": "error",
          "ename": "TypeError",
          "evalue": "ignored",
          "traceback": [
            "\u001b[0;31m---------------------------------------------------------------------------\u001b[0m",
            "\u001b[0;31mTypeError\u001b[0m                                 Traceback (most recent call last)",
            "\u001b[0;32m<ipython-input-35-b67681b7af19>\u001b[0m in \u001b[0;36m<module>\u001b[0;34m()\u001b[0m\n\u001b[1;32m      1\u001b[0m \u001b[0ma\u001b[0m \u001b[0;34m=\u001b[0m \u001b[0;36m2983472\u001b[0m\u001b[0;34m\u001b[0m\u001b[0;34m\u001b[0m\u001b[0m\n\u001b[1;32m      2\u001b[0m \u001b[0;34m\u001b[0m\u001b[0m\n\u001b[0;32m----> 3\u001b[0;31m \u001b[0mprint\u001b[0m\u001b[0;34m(\u001b[0m\u001b[0mlist\u001b[0m\u001b[0;34m(\u001b[0m\u001b[0ma\u001b[0m\u001b[0;34m)\u001b[0m\u001b[0;34m)\u001b[0m\u001b[0;34m\u001b[0m\u001b[0;34m\u001b[0m\u001b[0m\n\u001b[0m",
            "\u001b[0;31mTypeError\u001b[0m: 'int' object is not iterable"
          ]
        }
      ]
    },
    {
      "cell_type": "code",
      "source": [
        "a = \"573458.3845\"\n",
        "\n",
        "print(tuple(a))"
      ],
      "metadata": {
        "colab": {
          "base_uri": "https://localhost:8080/"
        },
        "id": "rzvfg1jw3gAe",
        "outputId": "13e6c661-bbe0-45b2-84ad-f241774e3267"
      },
      "execution_count": null,
      "outputs": [
        {
          "output_type": "stream",
          "name": "stdout",
          "text": [
            "('5', '7', '3', '4', '5', '8', '.', '3', '8', '4', '5')\n"
          ]
        }
      ]
    },
    {
      "cell_type": "code",
      "source": [
        "a = 573458.3845\n",
        "\n",
        "print(tuple(a))       # a ya atanan deger iterable degildir."
      ],
      "metadata": {
        "colab": {
          "base_uri": "https://localhost:8080/",
          "height": 208
        },
        "id": "YbajnwWV3u42",
        "outputId": "9302904b-387c-4684-c217-ebd687d5ff85"
      },
      "execution_count": null,
      "outputs": [
        {
          "output_type": "error",
          "ename": "TypeError",
          "evalue": "ignored",
          "traceback": [
            "\u001b[0;31m---------------------------------------------------------------------------\u001b[0m",
            "\u001b[0;31mTypeError\u001b[0m                                 Traceback (most recent call last)",
            "\u001b[0;32m<ipython-input-37-01ca523bb1fc>\u001b[0m in \u001b[0;36m<module>\u001b[0;34m()\u001b[0m\n\u001b[1;32m      1\u001b[0m \u001b[0ma\u001b[0m \u001b[0;34m=\u001b[0m \u001b[0;36m573458.3845\u001b[0m\u001b[0;34m\u001b[0m\u001b[0;34m\u001b[0m\u001b[0m\n\u001b[1;32m      2\u001b[0m \u001b[0;34m\u001b[0m\u001b[0m\n\u001b[0;32m----> 3\u001b[0;31m \u001b[0mprint\u001b[0m\u001b[0;34m(\u001b[0m\u001b[0mtuple\u001b[0m\u001b[0;34m(\u001b[0m\u001b[0ma\u001b[0m\u001b[0;34m)\u001b[0m\u001b[0;34m)\u001b[0m\u001b[0;34m\u001b[0m\u001b[0;34m\u001b[0m\u001b[0m\n\u001b[0m",
            "\u001b[0;31mTypeError\u001b[0m: 'float' object is not iterable"
          ]
        }
      ]
    },
    {
      "cell_type": "code",
      "source": [
        "kelimem = \"defneyapragi\"\n",
        "\n",
        "print(kelimem)\n",
        "\n",
        "print(kelimem[5])"
      ],
      "metadata": {
        "colab": {
          "base_uri": "https://localhost:8080/"
        },
        "id": "XGzTSb3531Ep",
        "outputId": "7cfd1110-ecf2-4e80-f47c-25e034263ad6"
      },
      "execution_count": null,
      "outputs": [
        {
          "output_type": "stream",
          "name": "stdout",
          "text": [
            "defneyapragi\n",
            "y\n"
          ]
        }
      ]
    },
    {
      "cell_type": "code",
      "source": [
        "#### SLICING #####"
      ],
      "metadata": {
        "id": "upBgIdfM4xVJ"
      },
      "execution_count": null,
      "outputs": []
    },
    {
      "cell_type": "code",
      "source": [
        "# string icerisinden birden cok elemani cekip almak."
      ],
      "metadata": {
        "id": "uDAZ8De441Ju"
      },
      "execution_count": null,
      "outputs": []
    },
    {
      "cell_type": "code",
      "source": [
        "kelimem = \"defneyapragi\"\n",
        "\n",
        "print(kelimem)\n",
        "\n",
        "print(kelimem[5:9])     # aslinda burda da step degeri var gorunmez oalrak. defoult degeri 1 dir."
      ],
      "metadata": {
        "colab": {
          "base_uri": "https://localhost:8080/"
        },
        "id": "Yvjyqy1D5EIs",
        "outputId": "3a74d5c9-97d6-47ad-dfe6-f31eace33134"
      },
      "execution_count": null,
      "outputs": [
        {
          "output_type": "stream",
          "name": "stdout",
          "text": [
            "defneyapragi\n",
            "yapr\n"
          ]
        }
      ]
    },
    {
      "cell_type": "code",
      "source": [
        "# [5:9] demek soldan 5. elemandan itibaren baslar fakat 9. elemani almaz.\n",
        "#[start:stop]"
      ],
      "metadata": {
        "id": "1t09DtTQ5Jwl"
      },
      "execution_count": null,
      "outputs": []
    },
    {
      "cell_type": "code",
      "source": [
        "######## 3S KURALI [start : stop : step]  ##########"
      ],
      "metadata": {
        "id": "7Cp0Fdj75f5p"
      },
      "execution_count": null,
      "outputs": []
    },
    {
      "cell_type": "code",
      "source": [
        "kelimem = \"defneyapragi\"\n",
        "\n",
        "print(kelimem[::])\n",
        "\n",
        "print(kelimem[0:2:])\n",
        "\n",
        "print(kelimem[0:10:2])\n",
        "\n",
        "print(kelimem[0::2])\n",
        "\n",
        "print(kelimem[::3])\n",
        "\n",
        "print(kelimem[:6:])\n",
        "\n",
        "print(kelimem[4::])\n",
        "\n",
        "print(kelimem[:])\n",
        "\n",
        "print(kelimem[::-1])\n",
        "\n",
        "print(kelimem[::-3])"
      ],
      "metadata": {
        "colab": {
          "base_uri": "https://localhost:8080/"
        },
        "id": "4yuKCfqN51v_",
        "outputId": "bf14b4a6-44de-42b6-b526-9af4381e7e8c"
      },
      "execution_count": null,
      "outputs": [
        {
          "output_type": "stream",
          "name": "stdout",
          "text": [
            "defneyapragi\n",
            "de\n",
            "dfear\n",
            "dfearg\n",
            "dnaa\n",
            "defney\n",
            "eyapragi\n",
            "defneyapragi\n",
            "igarpayenfed\n",
            "iryf\n"
          ]
        }
      ]
    },
    {
      "cell_type": "code",
      "source": [
        "########## negatif step number ###########"
      ],
      "metadata": {
        "id": "KK4v55Fp6HmH"
      },
      "execution_count": null,
      "outputs": []
    },
    {
      "cell_type": "code",
      "source": [
        "integer = \"0123456789\"\n",
        "\n",
        "integereksi = \"-9-8-7-6-5-4-3-2-1\"\n",
        "\n",
        "print(integer[5:7])\n",
        "\n",
        "print(integereksi[-8:-6])"
      ],
      "metadata": {
        "colab": {
          "base_uri": "https://localhost:8080/"
        },
        "id": "b5oFRuVw7TSv",
        "outputId": "c6764f8a-cac1-4a42-ee09-d8bac2d1ef51"
      },
      "execution_count": null,
      "outputs": [
        {
          "output_type": "stream",
          "name": "stdout",
          "text": [
            "56\n",
            "-4\n"
          ]
        }
      ]
    },
    {
      "cell_type": "code",
      "source": [
        "# negatif pozitif ayni anda kullanimi "
      ],
      "metadata": {
        "id": "zmPe3oi67pp9"
      },
      "execution_count": null,
      "outputs": []
    },
    {
      "cell_type": "code",
      "source": [
        "a = \"012345678\"\n",
        "\n",
        "b = \"-9-8-7-6-5-4-3-2\"\n",
        "\n",
        "print(a[-8:8])\n",
        "\n",
        "print(b[-8:8])     # bunu yazdirmaz cunku baslangic ve bitis noktalari ters.\n",
        "\n",
        "print(b[-11:8])"
      ],
      "metadata": {
        "colab": {
          "base_uri": "https://localhost:8080/"
        },
        "id": "nkhVpLwh8nmS",
        "outputId": "3c56c8e8-b86b-4b73-f957-fa6546da684f"
      },
      "execution_count": null,
      "outputs": [
        {
          "output_type": "stream",
          "name": "stdout",
          "text": [
            "1234567\n",
            "\n",
            "7-6\n"
          ]
        }
      ]
    },
    {
      "cell_type": "code",
      "source": [
        "# python default olarak soldan saga dogru calisir.\n"
      ],
      "metadata": {
        "id": "GvMONL538sLd"
      },
      "execution_count": null,
      "outputs": []
    },
    {
      "cell_type": "code",
      "source": [
        "#### nagatif step #####"
      ],
      "metadata": {
        "id": "Gfl9vRqg-0JF"
      },
      "execution_count": null,
      "outputs": []
    },
    {
      "cell_type": "code",
      "source": [
        "# stepin defaault un degeri +1 dir."
      ],
      "metadata": {
        "id": "RHiMx9C2-5tS"
      },
      "execution_count": null,
      "outputs": []
    },
    {
      "cell_type": "code",
      "source": [
        "a = \"0123456789\"\n",
        "\n",
        "print(a)\n",
        "\n",
        "print(a[::])\n",
        "\n",
        "print(a[:])"
      ],
      "metadata": {
        "colab": {
          "base_uri": "https://localhost:8080/"
        },
        "id": "QXxuO3US_Pjq",
        "outputId": "475ed1bb-c22b-4de9-adb2-a3f66c290db6"
      },
      "execution_count": null,
      "outputs": [
        {
          "output_type": "stream",
          "name": "stdout",
          "text": [
            "0123456789\n",
            "0123456789\n",
            "0123456789\n"
          ]
        }
      ]
    },
    {
      "cell_type": "code",
      "source": [
        "a = \"0123456789\"\n",
        "\n",
        "print(a)\n",
        "\n",
        "print(a[::2])\n",
        "\n",
        "print(a[::3])"
      ],
      "metadata": {
        "colab": {
          "base_uri": "https://localhost:8080/"
        },
        "id": "S4eD3PzN_U82",
        "outputId": "408d4159-95c8-42a1-f60b-d71045568b3d"
      },
      "execution_count": null,
      "outputs": [
        {
          "output_type": "stream",
          "name": "stdout",
          "text": [
            "0123456789\n",
            "02468\n",
            "0369\n"
          ]
        }
      ]
    },
    {
      "cell_type": "code",
      "source": [
        "a = \"0123456789\"\n",
        "\n",
        "print(a[::2.0])               # step degerini float olarak veremeyiz !"
      ],
      "metadata": {
        "colab": {
          "base_uri": "https://localhost:8080/",
          "height": 208
        },
        "id": "Zl-SFWzg_ih8",
        "outputId": "ed85d7a1-c064-482d-b026-b845f527d28f"
      },
      "execution_count": null,
      "outputs": [
        {
          "output_type": "error",
          "ename": "TypeError",
          "evalue": "ignored",
          "traceback": [
            "\u001b[0;31m---------------------------------------------------------------------------\u001b[0m",
            "\u001b[0;31mTypeError\u001b[0m                                 Traceback (most recent call last)",
            "\u001b[0;32m<ipython-input-56-e044611fd8fc>\u001b[0m in \u001b[0;36m<module>\u001b[0;34m()\u001b[0m\n\u001b[1;32m      1\u001b[0m \u001b[0ma\u001b[0m \u001b[0;34m=\u001b[0m \u001b[0;34m\"0123456789\"\u001b[0m\u001b[0;34m\u001b[0m\u001b[0;34m\u001b[0m\u001b[0m\n\u001b[1;32m      2\u001b[0m \u001b[0;34m\u001b[0m\u001b[0m\n\u001b[0;32m----> 3\u001b[0;31m \u001b[0mprint\u001b[0m\u001b[0;34m(\u001b[0m\u001b[0ma\u001b[0m\u001b[0;34m[\u001b[0m\u001b[0;34m:\u001b[0m\u001b[0;34m:\u001b[0m\u001b[0;36m2.0\u001b[0m\u001b[0;34m]\u001b[0m\u001b[0;34m)\u001b[0m\u001b[0;34m\u001b[0m\u001b[0;34m\u001b[0m\u001b[0m\n\u001b[0m",
            "\u001b[0;31mTypeError\u001b[0m: slice indices must be integers or None or have an __index__ method"
          ]
        }
      ]
    },
    {
      "cell_type": "code",
      "source": [
        "a = \"0123456789\"\n",
        "\n",
        "print(a)\n",
        "\n",
        "print(a[::-2])\n",
        "\n",
        "print(a[::-3])\n",
        "\n",
        "print(a[::-1])\n",
        "\n",
        "print(a[-1:-9:-1])\n",
        "\n",
        "\n",
        "print(a[-9:-1:-1])         # bunu dondurmez. cunku -9 dan basla -1e git demek +1 step yani soldan saga , ama step olarak -1 yazilmis . yani  komutlar cakisiyor. "
      ],
      "metadata": {
        "colab": {
          "base_uri": "https://localhost:8080/"
        },
        "id": "WulsRIYc_nSu",
        "outputId": "b249c84a-c2d1-4739-9ff3-e7999b3a76a9"
      },
      "execution_count": null,
      "outputs": [
        {
          "output_type": "stream",
          "name": "stdout",
          "text": [
            "0123456789\n",
            "97531\n",
            "9630\n",
            "9876543210\n",
            "98765432\n",
            "\n"
          ]
        }
      ]
    },
    {
      "cell_type": "code",
      "source": [
        "a = \"0123456789\"\n",
        "\n",
        "print(a)\n",
        "\n",
        "print(a[-2:-8:-2])\n",
        "print(a[-2:-8:-1])\n",
        "print(a[:-1])"
      ],
      "metadata": {
        "colab": {
          "base_uri": "https://localhost:8080/"
        },
        "id": "zGqCNwc8_3uM",
        "outputId": "27ba7256-e692-432d-e6fd-0087dad92aab"
      },
      "execution_count": null,
      "outputs": [
        {
          "output_type": "stream",
          "name": "stdout",
          "text": [
            "0123456789\n",
            "864\n",
            "876543\n",
            "012345678\n"
          ]
        }
      ]
    },
    {
      "cell_type": "code",
      "source": [
        "## mutable & immutable ##"
      ],
      "metadata": {
        "id": "XlUDZvQ9__1q"
      },
      "execution_count": null,
      "outputs": []
    },
    {
      "cell_type": "code",
      "source": [
        "string = \"computer\"\n",
        "\n",
        "string.upper()                       # bu fonksiyonu kullanmak istiyorsak bir degere atamamiz ya da direk print icinde yazmamiz gerekiyor.\n",
        "\n",
        "print(string)                 "
      ],
      "metadata": {
        "colab": {
          "base_uri": "https://localhost:8080/"
        },
        "id": "OG1CQP27T1EI",
        "outputId": "02967bfe-038f-4d01-9f40-46a1f1dd7db4"
      },
      "execution_count": null,
      "outputs": [
        {
          "output_type": "stream",
          "name": "stdout",
          "text": [
            "computer\n"
          ]
        }
      ]
    },
    {
      "cell_type": "code",
      "source": [
        "print(bool() + bool() + bool())"
      ],
      "metadata": {
        "colab": {
          "base_uri": "https://localhost:8080/"
        },
        "id": "K3xW_n0YUXH9",
        "outputId": "bd070c81-44e6-48d6-f64a-fb737e902e4e"
      },
      "execution_count": null,
      "outputs": [
        {
          "output_type": "stream",
          "name": "stdout",
          "text": [
            "0\n"
          ]
        }
      ]
    },
    {
      "cell_type": "code",
      "source": [
        "\n",
        "#######################################"
      ],
      "metadata": {
        "id": "BLBTi6stVoVY"
      },
      "execution_count": null,
      "outputs": []
    },
    {
      "cell_type": "code",
      "source": [
        "##     SET YONTEMLERI      ##"
      ],
      "metadata": {
        "id": "gaF69uPmcMzF"
      },
      "execution_count": null,
      "outputs": []
    },
    {
      "cell_type": "code",
      "source": [
        "# intersection()   iki kumenin kesisimi\n",
        "\n",
        "# remove() bir ogeyi silmemizi saglar\n",
        "\n",
        "# difference() iki kumenin farkini alir\n",
        " \n",
        "# union()   iki kumenin birlesimini alir\n",
        "\n",
        "# add() kumeye yeni bir oge ekler"
      ],
      "metadata": {
        "id": "KwdDQiATcQbY"
      },
      "execution_count": null,
      "outputs": []
    },
    {
      "cell_type": "code",
      "source": [
        "# Set sirali duzede olmayan elaman koleksiyonu. yani unordered dir.\n",
        "\n",
        "# matematikteki kumeler ile ayni mantikta calisir\n",
        "\n",
        "# her bi eleman unique dir . eleman tekrari olmaz\n",
        "\n",
        "# kendi istedigi sirada print eder\n",
        "\n",
        "# sort diye bir method soz konusu degildir.\n",
        "\n",
        "# sorted vardir liste yapar."
      ],
      "metadata": {
        "id": "A65RA_eIdBmb"
      },
      "execution_count": null,
      "outputs": []
    },
    {
      "cell_type": "code",
      "source": [
        "setim = {1, 100,3,65,5}\n",
        "\n",
        "print(sorted(setim))"
      ],
      "metadata": {
        "colab": {
          "base_uri": "https://localhost:8080/"
        },
        "id": "x8rAU_oFesh1",
        "outputId": "5ab07e1b-e5fe-4d6b-9fd5-03180e23e7b6"
      },
      "execution_count": null,
      "outputs": [
        {
          "output_type": "stream",
          "name": "stdout",
          "text": [
            "[1, 3, 5, 65, 100]\n"
          ]
        }
      ]
    },
    {
      "cell_type": "code",
      "source": [
        "setim = {1, 100,3,65,5}          #unordered\n",
        "\n",
        "setim.sort()              #hata verir\n",
        "print(setim)"
      ],
      "metadata": {
        "colab": {
          "base_uri": "https://localhost:8080/",
          "height": 227
        },
        "id": "NOofgIW0fGsE",
        "outputId": "00a28a2f-7584-435b-b437-239f6b622272"
      },
      "execution_count": null,
      "outputs": [
        {
          "output_type": "error",
          "ename": "AttributeError",
          "evalue": "ignored",
          "traceback": [
            "\u001b[0;31m---------------------------------------------------------------------------\u001b[0m",
            "\u001b[0;31mAttributeError\u001b[0m                            Traceback (most recent call last)",
            "\u001b[0;32m<ipython-input-4-c9c5d4503111>\u001b[0m in \u001b[0;36m<module>\u001b[0;34m()\u001b[0m\n\u001b[1;32m      1\u001b[0m \u001b[0msetim\u001b[0m \u001b[0;34m=\u001b[0m \u001b[0;34m{\u001b[0m\u001b[0;36m1\u001b[0m\u001b[0;34m,\u001b[0m \u001b[0;36m100\u001b[0m\u001b[0;34m,\u001b[0m\u001b[0;36m3\u001b[0m\u001b[0;34m,\u001b[0m\u001b[0;36m65\u001b[0m\u001b[0;34m,\u001b[0m\u001b[0;36m5\u001b[0m\u001b[0;34m}\u001b[0m\u001b[0;34m\u001b[0m\u001b[0;34m\u001b[0m\u001b[0m\n\u001b[1;32m      2\u001b[0m \u001b[0;34m\u001b[0m\u001b[0m\n\u001b[0;32m----> 3\u001b[0;31m \u001b[0msetim\u001b[0m\u001b[0;34m.\u001b[0m\u001b[0msort\u001b[0m\u001b[0;34m(\u001b[0m\u001b[0;34m)\u001b[0m\u001b[0;34m\u001b[0m\u001b[0;34m\u001b[0m\u001b[0m\n\u001b[0m\u001b[1;32m      4\u001b[0m \u001b[0mprint\u001b[0m\u001b[0;34m(\u001b[0m\u001b[0msetim\u001b[0m\u001b[0;34m)\u001b[0m\u001b[0;34m\u001b[0m\u001b[0;34m\u001b[0m\u001b[0m\n",
            "\u001b[0;31mAttributeError\u001b[0m: 'set' object has no attribute 'sort'"
          ]
        }
      ]
    },
    {
      "cell_type": "code",
      "source": [
        "# veri giris tarihlerimizin onemli oldugu ve bu tarih siralmasinin kesinlikle degismemesi gereken gibi durumlarda tuple kullanilmlidir."
      ],
      "metadata": {
        "id": "ZXwbsu4mfY17"
      },
      "execution_count": null,
      "outputs": []
    },
    {
      "cell_type": "code",
      "source": [
        "## hatirlatma\n",
        "\n",
        "# split() func\n"
      ],
      "metadata": {
        "id": "Hs8qyllngg-0"
      },
      "execution_count": null,
      "outputs": []
    },
    {
      "cell_type": "code",
      "source": [
        "string = \"a b c d e f g\".split()\n",
        "\n",
        "print(string)\n",
        "\n",
        "print(type(string))\n",
        "\n",
        "print(type(string[0]))"
      ],
      "metadata": {
        "colab": {
          "base_uri": "https://localhost:8080/"
        },
        "id": "nVD1r9GEgsCo",
        "outputId": "a7f33f02-a2ba-4ba4-ea25-d362ca51380e"
      },
      "execution_count": null,
      "outputs": [
        {
          "output_type": "stream",
          "name": "stdout",
          "text": [
            "['a', 'b', 'c', 'd', 'e', 'f', 'g']\n",
            "<class 'list'>\n",
            "<class 'str'>\n"
          ]
        }
      ]
    },
    {
      "cell_type": "code",
      "source": [
        "string = \"a*b*c*d*e*f*g\".split(\"*\")\n",
        "\n",
        "print(string)\n",
        "\n",
        "print(type(string))\n",
        "\n",
        "print(type(string[0]))"
      ],
      "metadata": {
        "colab": {
          "base_uri": "https://localhost:8080/"
        },
        "id": "XTETRo1kg8Jq",
        "outputId": "d82a23dd-3efe-4217-d0d7-6901e7450c5a"
      },
      "execution_count": null,
      "outputs": [
        {
          "output_type": "stream",
          "name": "stdout",
          "text": [
            "['a', 'b', 'c', 'd', 'e', 'f', 'g']\n",
            "<class 'list'>\n",
            "<class 'str'>\n"
          ]
        }
      ]
    },
    {
      "cell_type": "code",
      "source": [
        "string = \"a*b*c*d*e*f*g\"\n",
        "\n",
        "string.split(\"*\")   ## calismaz . cunku atama yapilmali, stringler immutable dir.\n",
        "\n",
        "print(string)"
      ],
      "metadata": {
        "colab": {
          "base_uri": "https://localhost:8080/"
        },
        "id": "WFBZBHFUhw0y",
        "outputId": "b787ae71-1a28-4427-bf7b-d21382b99d0f"
      },
      "execution_count": null,
      "outputs": [
        {
          "output_type": "stream",
          "name": "stdout",
          "text": [
            "a*b*c*d*e*f*g\n"
          ]
        }
      ]
    },
    {
      "cell_type": "code",
      "source": [
        "eskistring = \"++++++ a b c d +++++++++++\"\n",
        "\n",
        "yenistring = eskistring.strip(\"+\")          # strip default degeri bosluktur\n",
        "\n",
        "print(yenistring)"
      ],
      "metadata": {
        "colab": {
          "base_uri": "https://localhost:8080/"
        },
        "id": "AiwGA4k_opcx",
        "outputId": "3cf2065b-a530-43ce-e70a-e4cbe70dabe7"
      },
      "execution_count": null,
      "outputs": [
        {
          "output_type": "stream",
          "name": "stdout",
          "text": [
            " a b c d \n"
          ]
        }
      ]
    },
    {
      "cell_type": "code",
      "source": [
        "eskistring = \"++++++ a b c d +++++++++++\"\n",
        "\n",
        "yenistring = eskistring.strip(\"+++++++++\")\n",
        "\n",
        "print(yenistring)"
      ],
      "metadata": {
        "colab": {
          "base_uri": "https://localhost:8080/"
        },
        "id": "xxXF0ij2qxMA",
        "outputId": "7c2f9ac4-a61d-4909-fa6d-cd43e60926c5"
      },
      "execution_count": null,
      "outputs": [
        {
          "output_type": "stream",
          "name": "stdout",
          "text": [
            " a b c d \n"
          ]
        }
      ]
    },
    {
      "cell_type": "code",
      "source": [
        "eskistring = \"++++++ a b c d +++++++++++cccc\"\n",
        "\n",
        "yenistring = eskistring.strip(\"c\")\n",
        "\n",
        "print(yenistring)"
      ],
      "metadata": {
        "colab": {
          "base_uri": "https://localhost:8080/"
        },
        "id": "66zC917pq024",
        "outputId": "048df036-6e78-44b9-9d56-eb93f37dffe6"
      },
      "execution_count": null,
      "outputs": [
        {
          "output_type": "stream",
          "name": "stdout",
          "text": [
            "++++++ a b c d +++++++++++\n"
          ]
        }
      ]
    },
    {
      "cell_type": "code",
      "source": [
        "eskistring = \"++++++ a b c d +++++++++++cccc\"\n",
        "\n",
        "yenistring = eskistring.strip(\"c+\")\n",
        "\n",
        "print(yenistring)"
      ],
      "metadata": {
        "colab": {
          "base_uri": "https://localhost:8080/"
        },
        "id": "JaqwmGL6s2BP",
        "outputId": "e1703bfd-6842-41da-8b7d-0e767b83a850"
      },
      "execution_count": null,
      "outputs": [
        {
          "output_type": "stream",
          "name": "stdout",
          "text": [
            " a b c d \n"
          ]
        }
      ]
    },
    {
      "cell_type": "code",
      "source": [
        "eskistring = \"++++++a b c d+++++++++++cccc\"\n",
        "\n",
        "yenistring = eskistring.strip(\"c+ad\")\n",
        "\n",
        "print(yenistring)"
      ],
      "metadata": {
        "colab": {
          "base_uri": "https://localhost:8080/"
        },
        "id": "aQ5sx1OutHCg",
        "outputId": "dcfbdc0d-aeea-4608-91aa-835bdfde66b7"
      },
      "execution_count": null,
      "outputs": [
        {
          "output_type": "stream",
          "name": "stdout",
          "text": [
            " b c \n"
          ]
        }
      ]
    },
    {
      "cell_type": "code",
      "source": [
        "eskistring = \"++++++a b c d+++++++++++cccc\"\n",
        "\n",
        "yenistring = eskistring.strip(\"c+adb\")   # b yi silemez, cunku arada bosluk var\n",
        "\n",
        "print(yenistring)"
      ],
      "metadata": {
        "colab": {
          "base_uri": "https://localhost:8080/"
        },
        "id": "LrGlPbR4tVJY",
        "outputId": "86c73cdd-6470-4a00-a8be-bd6783eb58e3"
      },
      "execution_count": null,
      "outputs": [
        {
          "output_type": "stream",
          "name": "stdout",
          "text": [
            " b c \n"
          ]
        }
      ]
    },
    {
      "cell_type": "code",
      "source": [
        "eskistring = \"++++++a b c d+++++++++++cccc\"\n",
        "\n",
        "yenistring = eskistring.strip(\"c\", \"+\")                           # strip() func icine sadece 1 deger yazilablir.\n",
        "\n",
        "print(yenistring)"
      ],
      "metadata": {
        "colab": {
          "base_uri": "https://localhost:8080/",
          "height": 245
        },
        "id": "O1g1HS4JtX6X",
        "outputId": "f4a8cfe9-19b0-4702-af06-f9d2a2727eec"
      },
      "execution_count": null,
      "outputs": [
        {
          "output_type": "error",
          "ename": "TypeError",
          "evalue": "ignored",
          "traceback": [
            "\u001b[0;31m---------------------------------------------------------------------------\u001b[0m",
            "\u001b[0;31mTypeError\u001b[0m                                 Traceback (most recent call last)",
            "\u001b[0;32m<ipython-input-20-9bc4f37b1b80>\u001b[0m in \u001b[0;36m<module>\u001b[0;34m()\u001b[0m\n\u001b[1;32m      1\u001b[0m \u001b[0meskistring\u001b[0m \u001b[0;34m=\u001b[0m \u001b[0;34m\"++++++a b c d+++++++++++cccc\"\u001b[0m\u001b[0;34m\u001b[0m\u001b[0;34m\u001b[0m\u001b[0m\n\u001b[1;32m      2\u001b[0m \u001b[0;34m\u001b[0m\u001b[0m\n\u001b[0;32m----> 3\u001b[0;31m \u001b[0myenistring\u001b[0m \u001b[0;34m=\u001b[0m \u001b[0meskistring\u001b[0m\u001b[0;34m.\u001b[0m\u001b[0mstrip\u001b[0m\u001b[0;34m(\u001b[0m\u001b[0;34m\"c\"\u001b[0m\u001b[0;34m,\u001b[0m \u001b[0;34m\"+\"\u001b[0m\u001b[0;34m)\u001b[0m\u001b[0;34m\u001b[0m\u001b[0;34m\u001b[0m\u001b[0m\n\u001b[0m\u001b[1;32m      4\u001b[0m \u001b[0;34m\u001b[0m\u001b[0m\n\u001b[1;32m      5\u001b[0m \u001b[0mprint\u001b[0m\u001b[0;34m(\u001b[0m\u001b[0myenistring\u001b[0m\u001b[0;34m)\u001b[0m\u001b[0;34m\u001b[0m\u001b[0;34m\u001b[0m\u001b[0m\n",
            "\u001b[0;31mTypeError\u001b[0m: strip expected at most 1 arguments, got 2"
          ]
        }
      ]
    },
    {
      "cell_type": "code",
      "source": [
        "### yeni bir set olusturma ###\n",
        "\n",
        "# suslu parantes {} veya set() fuunc\n",
        "\n",
        "# ancak bos bir set olusturmanin tek yolu set() func dir."
      ],
      "metadata": {
        "id": "qcDMrzr2vmfX"
      },
      "execution_count": null,
      "outputs": []
    },
    {
      "cell_type": "code",
      "source": [
        "a = \"\"\n",
        "b = ()\n",
        "c = []\n",
        "d = set()\n",
        "e = {}\n",
        "f = 3 + 5j\n",
        "g = False\n",
        "\n",
        "import sys\n",
        "\n",
        "print(sys.getsizeof(a))\n",
        "print(sys.getsizeof(b))\n",
        "print(sys.getsizeof(c))\n",
        "print(sys.getsizeof(d))\n",
        "print(sys.getsizeof(e))\n",
        "print(sys.getsizeof(f))\n",
        "print(sys.getsizeof(g))"
      ],
      "metadata": {
        "colab": {
          "base_uri": "https://localhost:8080/"
        },
        "id": "Ya-RPdFzwwEi",
        "outputId": "df89e0dc-3d74-44d5-9124-1365fe6d1202"
      },
      "execution_count": null,
      "outputs": [
        {
          "output_type": "stream",
          "name": "stdout",
          "text": [
            "53\n",
            "56\n",
            "72\n",
            "232\n",
            "248\n",
            "32\n",
            "24\n"
          ]
        }
      ]
    },
    {
      "cell_type": "code",
      "source": [
        "setim = {1, \"sd\", 1.0}     # 1 = 1.0 bu nedenle sadece 1 ini aldi ve len 2 cikti.              \n",
        "\n",
        "print(setim)\n",
        "\n",
        "print(len(setim))"
      ],
      "metadata": {
        "colab": {
          "base_uri": "https://localhost:8080/"
        },
        "id": "oweWxgq5ydZf",
        "outputId": "bb2a1a3c-7088-4043-890f-017aa6476571"
      },
      "execution_count": null,
      "outputs": [
        {
          "output_type": "stream",
          "name": "stdout",
          "text": [
            "{1, 'sd'}\n",
            "2\n"
          ]
        }
      ]
    },
    {
      "cell_type": "code",
      "source": [
        "## set icerisine manuel olarak liste yapamayiz.\n",
        "\n"
      ],
      "metadata": {
        "id": "J0DZbmTrz4jn"
      },
      "execution_count": null,
      "outputs": []
    },
    {
      "cell_type": "code",
      "source": [
        "listem = [1 ,2, 3, 4, 5]\n",
        "\n",
        "setim1 = {listem}\n",
        "\n",
        "print(setim)"
      ],
      "metadata": {
        "colab": {
          "base_uri": "https://localhost:8080/",
          "height": 245
        },
        "id": "eXolC2zBKtu4",
        "outputId": "553eeb91-9068-4539-b8b9-9d21bd33c710"
      },
      "execution_count": null,
      "outputs": [
        {
          "output_type": "error",
          "ename": "TypeError",
          "evalue": "ignored",
          "traceback": [
            "\u001b[0;31m---------------------------------------------------------------------------\u001b[0m",
            "\u001b[0;31mTypeError\u001b[0m                                 Traceback (most recent call last)",
            "\u001b[0;32m<ipython-input-25-3c6c34136fcc>\u001b[0m in \u001b[0;36m<module>\u001b[0;34m()\u001b[0m\n\u001b[1;32m      1\u001b[0m \u001b[0mlistem\u001b[0m \u001b[0;34m=\u001b[0m \u001b[0;34m[\u001b[0m\u001b[0;36m1\u001b[0m \u001b[0;34m,\u001b[0m\u001b[0;36m2\u001b[0m\u001b[0;34m,\u001b[0m \u001b[0;36m3\u001b[0m\u001b[0;34m,\u001b[0m \u001b[0;36m4\u001b[0m\u001b[0;34m,\u001b[0m \u001b[0;36m5\u001b[0m\u001b[0;34m]\u001b[0m\u001b[0;34m\u001b[0m\u001b[0;34m\u001b[0m\u001b[0m\n\u001b[1;32m      2\u001b[0m \u001b[0;34m\u001b[0m\u001b[0m\n\u001b[0;32m----> 3\u001b[0;31m \u001b[0msetim1\u001b[0m \u001b[0;34m=\u001b[0m \u001b[0;34m{\u001b[0m\u001b[0mlistem\u001b[0m\u001b[0;34m}\u001b[0m\u001b[0;34m\u001b[0m\u001b[0;34m\u001b[0m\u001b[0m\n\u001b[0m\u001b[1;32m      4\u001b[0m \u001b[0;34m\u001b[0m\u001b[0m\n\u001b[1;32m      5\u001b[0m \u001b[0mprint\u001b[0m\u001b[0;34m(\u001b[0m\u001b[0msetim\u001b[0m\u001b[0;34m)\u001b[0m\u001b[0;34m\u001b[0m\u001b[0;34m\u001b[0m\u001b[0m\n",
            "\u001b[0;31mTypeError\u001b[0m: unhashable type: 'list'"
          ]
        }
      ]
    },
    {
      "cell_type": "code",
      "source": [
        "a = []\n",
        "\n",
        "b = set(a)\n",
        "\n",
        "print(b)"
      ],
      "metadata": {
        "colab": {
          "base_uri": "https://localhost:8080/"
        },
        "id": "_fY5_8gPOOmv",
        "outputId": "57e1200d-47a1-450b-a672-db155c014f9d"
      },
      "execution_count": null,
      "outputs": [
        {
          "output_type": "stream",
          "name": "stdout",
          "text": [
            "set()\n"
          ]
        }
      ]
    },
    {
      "cell_type": "code",
      "source": [
        "a = \"defneyapragi\"\n",
        "\n",
        "list(a)"
      ],
      "metadata": {
        "colab": {
          "base_uri": "https://localhost:8080/"
        },
        "id": "H88J4Zh7zu-O",
        "outputId": "8d957809-51de-41e3-ad67-36f9056cc63d"
      },
      "execution_count": null,
      "outputs": [
        {
          "output_type": "execute_result",
          "data": {
            "text/plain": [
              "['d', 'e', 'f', 'n', 'e', 'y', 'a', 'p', 'r', 'a', 'g', 'i']"
            ]
          },
          "metadata": {},
          "execution_count": 26
        }
      ]
    },
    {
      "cell_type": "code",
      "source": [
        "a, b, c = 1, 2, 3\n",
        "\n",
        "print(c)"
      ],
      "metadata": {
        "colab": {
          "base_uri": "https://localhost:8080/"
        },
        "id": "qEH_mwWLLOr8",
        "outputId": "e16ef4ad-9d1a-4ae6-d7ad-a5923056120b"
      },
      "execution_count": null,
      "outputs": [
        {
          "output_type": "stream",
          "name": "stdout",
          "text": [
            "3\n"
          ]
        }
      ]
    },
    {
      "cell_type": "code",
      "source": [
        "a, b, *c, d = 1, 2, 3, 4, 5, 6, 7, 8, 9\n",
        "\n",
        "print(c)\n",
        "print(a)\n",
        "print(d)\n",
        "print(b)"
      ],
      "metadata": {
        "colab": {
          "base_uri": "https://localhost:8080/"
        },
        "id": "HJEEt00tM--f",
        "outputId": "49345631-ddb0-4003-ff8f-c2a56ae92a86"
      },
      "execution_count": null,
      "outputs": [
        {
          "output_type": "stream",
          "name": "stdout",
          "text": [
            "[3, 4, 5, 6, 7, 8]\n",
            "1\n",
            "9\n",
            "2\n"
          ]
        }
      ]
    },
    {
      "cell_type": "code",
      "source": [
        "### ilginc"
      ],
      "metadata": {
        "id": "IGIMg7I4NMHY"
      },
      "execution_count": null,
      "outputs": []
    },
    {
      "cell_type": "code",
      "source": [
        "dictim = {\"computer\" : \"science\"}\n",
        "\n",
        "print(set(dictim))\n",
        "\n",
        "print(type(set(dictim)))"
      ],
      "metadata": {
        "colab": {
          "base_uri": "https://localhost:8080/"
        },
        "id": "dDVM3ieZTZgR",
        "outputId": "315dc2e3-4c4f-4df5-8a7c-2d985cdec0dd"
      },
      "execution_count": null,
      "outputs": [
        {
          "output_type": "stream",
          "name": "stdout",
          "text": [
            "{'computer'}\n",
            "<class 'set'>\n"
          ]
        }
      ]
    },
    {
      "cell_type": "code",
      "source": [
        "setim = {1,2,3 {\"eleman\"}}                    # set icerisinde set kullnamayiz, sadece tuple olur\n",
        "\n",
        "print(setim)"
      ],
      "metadata": {
        "colab": {
          "base_uri": "https://localhost:8080/",
          "height": 135
        },
        "id": "MDSNJHMKTlVG",
        "outputId": "791ae526-0280-4081-c69d-af29133e8dfa"
      },
      "execution_count": null,
      "outputs": [
        {
          "output_type": "error",
          "ename": "SyntaxError",
          "evalue": "ignored",
          "traceback": [
            "\u001b[0;36m  File \u001b[0;32m\"<ipython-input-32-192b466b8c58>\"\u001b[0;36m, line \u001b[0;32m1\u001b[0m\n\u001b[0;31m    setim = {1,2,3 {\"eleman\"}}\u001b[0m\n\u001b[0m                   ^\u001b[0m\n\u001b[0;31mSyntaxError\u001b[0m\u001b[0;31m:\u001b[0m invalid syntax\n"
          ]
        }
      ]
    },
    {
      "cell_type": "code",
      "source": [
        "setim = {1,2,3, (\"eleman\")}                \n",
        "\n",
        "print(setim)"
      ],
      "metadata": {
        "colab": {
          "base_uri": "https://localhost:8080/"
        },
        "id": "4emU4aZLTv39",
        "outputId": "aa9ce132-57dc-484b-9bb6-567b43ab274b"
      },
      "execution_count": null,
      "outputs": [
        {
          "output_type": "stream",
          "name": "stdout",
          "text": [
            "{1, 2, 3, 'eleman'}\n"
          ]
        }
      ]
    },
    {
      "cell_type": "code",
      "source": [
        "# dictklerin key kismina dict ve lest yazamayiz."
      ],
      "metadata": {
        "id": "BJZotd4KUBmO"
      },
      "execution_count": null,
      "outputs": []
    },
    {
      "cell_type": "code",
      "source": [
        "a = {1, 2, 3, 4, {}}"
      ],
      "metadata": {
        "colab": {
          "base_uri": "https://localhost:8080/",
          "height": 172
        },
        "id": "Acmcfc0qVNx4",
        "outputId": "8eb05916-d9a1-4af0-ea30-c6e15dee7de5"
      },
      "execution_count": null,
      "outputs": [
        {
          "output_type": "error",
          "ename": "TypeError",
          "evalue": "ignored",
          "traceback": [
            "\u001b[0;31m---------------------------------------------------------------------------\u001b[0m",
            "\u001b[0;31mTypeError\u001b[0m                                 Traceback (most recent call last)",
            "\u001b[0;32m<ipython-input-34-9cc507ded8d7>\u001b[0m in \u001b[0;36m<module>\u001b[0;34m()\u001b[0m\n\u001b[0;32m----> 1\u001b[0;31m \u001b[0ma\u001b[0m \u001b[0;34m=\u001b[0m \u001b[0;34m{\u001b[0m\u001b[0;36m1\u001b[0m\u001b[0;34m,\u001b[0m \u001b[0;36m2\u001b[0m\u001b[0;34m,\u001b[0m \u001b[0;36m3\u001b[0m\u001b[0;34m,\u001b[0m \u001b[0;36m4\u001b[0m\u001b[0;34m,\u001b[0m \u001b[0;34m{\u001b[0m\u001b[0;34m}\u001b[0m\u001b[0;34m}\u001b[0m\u001b[0;34m\u001b[0m\u001b[0;34m\u001b[0m\u001b[0m\n\u001b[0m",
            "\u001b[0;31mTypeError\u001b[0m: unhashable type: 'dict'"
          ]
        }
      ]
    },
    {
      "cell_type": "code",
      "source": [
        "a = {1, 2, 3, 4, {3, 4}}"
      ],
      "metadata": {
        "colab": {
          "base_uri": "https://localhost:8080/",
          "height": 172
        },
        "id": "QQCRoi66VS7T",
        "outputId": "7903784d-10b6-4050-e1e1-648bcb128235"
      },
      "execution_count": null,
      "outputs": [
        {
          "output_type": "error",
          "ename": "TypeError",
          "evalue": "ignored",
          "traceback": [
            "\u001b[0;31m---------------------------------------------------------------------------\u001b[0m",
            "\u001b[0;31mTypeError\u001b[0m                                 Traceback (most recent call last)",
            "\u001b[0;32m<ipython-input-35-a5d8858087f5>\u001b[0m in \u001b[0;36m<module>\u001b[0;34m()\u001b[0m\n\u001b[0;32m----> 1\u001b[0;31m \u001b[0ma\u001b[0m \u001b[0;34m=\u001b[0m \u001b[0;34m{\u001b[0m\u001b[0;36m1\u001b[0m\u001b[0;34m,\u001b[0m \u001b[0;36m2\u001b[0m\u001b[0;34m,\u001b[0m \u001b[0;36m3\u001b[0m\u001b[0;34m,\u001b[0m \u001b[0;36m4\u001b[0m\u001b[0;34m,\u001b[0m \u001b[0;34m{\u001b[0m\u001b[0;36m3\u001b[0m\u001b[0;34m,\u001b[0m \u001b[0;36m4\u001b[0m\u001b[0;34m}\u001b[0m\u001b[0;34m}\u001b[0m\u001b[0;34m\u001b[0m\u001b[0;34m\u001b[0m\u001b[0m\n\u001b[0m",
            "\u001b[0;31mTypeError\u001b[0m: unhashable type: 'set'"
          ]
        }
      ]
    },
    {
      "cell_type": "code",
      "source": [
        "set1 = {1, 2, 3, (1, 2, 3)}\n",
        "\n",
        "set2 = {1, 2, 3, 1, 2 ,3}\n",
        "\n",
        "print(set1)\n",
        "print(set2)"
      ],
      "metadata": {
        "colab": {
          "base_uri": "https://localhost:8080/"
        },
        "id": "Sd4bepH7VVmb",
        "outputId": "3a51bf8e-de86-418b-8e3d-e1f9bc35affa"
      },
      "execution_count": null,
      "outputs": [
        {
          "output_type": "stream",
          "name": "stdout",
          "text": [
            "{1, 2, 3, (1, 2, 3)}\n",
            "{1, 2, 3}\n"
          ]
        }
      ]
    },
    {
      "cell_type": "code",
      "source": [
        "set1 = {1, 2, 3, (1, 2, 3), (1, 2, 3)}\n",
        "\n",
        "set2 = {1, 2, 3, 1, 2 ,3}\n",
        "\n",
        "print(set1)\n",
        "print(set2)"
      ],
      "metadata": {
        "colab": {
          "base_uri": "https://localhost:8080/"
        },
        "id": "X-33LUlFVuxU",
        "outputId": "cbc2a8b9-4e75-4fda-e09f-a42fb08ab560"
      },
      "execution_count": null,
      "outputs": [
        {
          "output_type": "stream",
          "name": "stdout",
          "text": [
            "{1, 2, 3, (1, 2, 3)}\n",
            "{1, 2, 3}\n"
          ]
        }
      ]
    },
    {
      "cell_type": "code",
      "source": [
        "sayilarim1 = {1, 2, 3, 3, 2, 2, 1, 3, 3, 2, 2, 1, 3, 3, 2, 2, 1, 3, 3, 2, 2, 1, 3, 3, 2, 2, 1, }\n",
        "\n",
        "sayilarim2 = {1, 2, 3}\n",
        "\n",
        "print(sayilarim1 == sayilarim2)"
      ],
      "metadata": {
        "colab": {
          "base_uri": "https://localhost:8080/"
        },
        "id": "hw8UukloV4R1",
        "outputId": "5b5c28c3-71fe-4d81-9a0f-fdefbdffc946"
      },
      "execution_count": null,
      "outputs": [
        {
          "output_type": "stream",
          "name": "stdout",
          "text": [
            "True\n"
          ]
        }
      ]
    },
    {
      "cell_type": "code",
      "source": [
        "# set verileri her calistirildiginda farkli cikti verir."
      ],
      "metadata": {
        "id": "LPaphRW4WYp2"
      },
      "execution_count": null,
      "outputs": []
    },
    {
      "cell_type": "code",
      "source": [
        "set1 = {\"i\", \"z\", \"m\", \"r\"}\n",
        "\n",
        "print(set1)"
      ],
      "metadata": {
        "colab": {
          "base_uri": "https://localhost:8080/"
        },
        "id": "Tgkhr4P0Wod5",
        "outputId": "f9710e8a-d4ed-4612-9f43-fc3ea2d616df"
      },
      "execution_count": null,
      "outputs": [
        {
          "output_type": "stream",
          "name": "stdout",
          "text": [
            "{'z', 'r', 'i', 'm'}\n"
          ]
        }
      ]
    },
    {
      "cell_type": "code",
      "source": [
        "a = [\"rose\", \"violet\", \"rose\", \"orchid\"]\n",
        "\n",
        "b = set(a)\n",
        "\n",
        "c = list(b)\n",
        "\n",
        "print(b)\n",
        "print(c)"
      ],
      "metadata": {
        "colab": {
          "base_uri": "https://localhost:8080/"
        },
        "id": "eTImqrt4XGIE",
        "outputId": "eba8cebc-bd66-4856-8395-1a21eedc82d6"
      },
      "execution_count": null,
      "outputs": [
        {
          "output_type": "stream",
          "name": "stdout",
          "text": [
            "{'violet', 'rose', 'orchid'}\n",
            "['violet', 'rose', 'orchid']\n"
          ]
        }
      ]
    },
    {
      "cell_type": "code",
      "source": [
        "a = 1305                      # integer lar iterable degildir elemanlarina ayrilmaz.\n",
        "\n",
        "setim =  set(a)\n",
        "\n",
        "print(setim, type(setim))"
      ],
      "metadata": {
        "colab": {
          "base_uri": "https://localhost:8080/",
          "height": 245
        },
        "id": "xYl3mWTOXr7q",
        "outputId": "86f88ceb-31e4-4385-a5cf-33d197302dbb"
      },
      "execution_count": null,
      "outputs": [
        {
          "output_type": "error",
          "ename": "TypeError",
          "evalue": "ignored",
          "traceback": [
            "\u001b[0;31m---------------------------------------------------------------------------\u001b[0m",
            "\u001b[0;31mTypeError\u001b[0m                                 Traceback (most recent call last)",
            "\u001b[0;32m<ipython-input-45-28f6ec398063>\u001b[0m in \u001b[0;36m<module>\u001b[0;34m()\u001b[0m\n\u001b[1;32m      1\u001b[0m \u001b[0ma\u001b[0m \u001b[0;34m=\u001b[0m \u001b[0;36m1305\u001b[0m\u001b[0;34m\u001b[0m\u001b[0;34m\u001b[0m\u001b[0m\n\u001b[1;32m      2\u001b[0m \u001b[0;34m\u001b[0m\u001b[0m\n\u001b[0;32m----> 3\u001b[0;31m \u001b[0msetim\u001b[0m \u001b[0;34m=\u001b[0m  \u001b[0mset\u001b[0m\u001b[0;34m(\u001b[0m\u001b[0ma\u001b[0m\u001b[0;34m)\u001b[0m\u001b[0;34m\u001b[0m\u001b[0;34m\u001b[0m\u001b[0m\n\u001b[0m\u001b[1;32m      4\u001b[0m \u001b[0;34m\u001b[0m\u001b[0m\n\u001b[1;32m      5\u001b[0m \u001b[0mprint\u001b[0m\u001b[0;34m(\u001b[0m\u001b[0msetim\u001b[0m\u001b[0;34m,\u001b[0m \u001b[0mtype\u001b[0m\u001b[0;34m(\u001b[0m\u001b[0msetim\u001b[0m\u001b[0;34m)\u001b[0m\u001b[0;34m)\u001b[0m\u001b[0;34m\u001b[0m\u001b[0;34m\u001b[0m\u001b[0m\n",
            "\u001b[0;31mTypeError\u001b[0m: 'int' object is not iterable"
          ]
        }
      ]
    },
    {
      "cell_type": "code",
      "source": [
        "################### BUTUN COLLECTION TYPE LAR ICERISINE ITERABLE ALIR !! #########################"
      ],
      "metadata": {
        "id": "W3wKSl1XYYeM"
      },
      "execution_count": null,
      "outputs": []
    },
    {
      "cell_type": "code",
      "source": [
        "a = True and False   # boollenlar iterable degildir\n",
        "\n",
        "setim = set(a)\n",
        "\n",
        "print(setim, type(setim))"
      ],
      "metadata": {
        "colab": {
          "base_uri": "https://localhost:8080/",
          "height": 245
        },
        "id": "q0duwfzTYu2Q",
        "outputId": "70cd08e6-4077-4de5-97d0-61575cd02d88"
      },
      "execution_count": null,
      "outputs": [
        {
          "output_type": "error",
          "ename": "TypeError",
          "evalue": "ignored",
          "traceback": [
            "\u001b[0;31m---------------------------------------------------------------------------\u001b[0m",
            "\u001b[0;31mTypeError\u001b[0m                                 Traceback (most recent call last)",
            "\u001b[0;32m<ipython-input-46-2fb59eeef2a2>\u001b[0m in \u001b[0;36m<module>\u001b[0;34m()\u001b[0m\n\u001b[1;32m      1\u001b[0m \u001b[0ma\u001b[0m \u001b[0;34m=\u001b[0m \u001b[0;32mTrue\u001b[0m \u001b[0;32mand\u001b[0m \u001b[0;32mFalse\u001b[0m\u001b[0;34m\u001b[0m\u001b[0;34m\u001b[0m\u001b[0m\n\u001b[1;32m      2\u001b[0m \u001b[0;34m\u001b[0m\u001b[0m\n\u001b[0;32m----> 3\u001b[0;31m \u001b[0msetim\u001b[0m \u001b[0;34m=\u001b[0m \u001b[0mset\u001b[0m\u001b[0;34m(\u001b[0m\u001b[0ma\u001b[0m\u001b[0;34m)\u001b[0m\u001b[0;34m\u001b[0m\u001b[0;34m\u001b[0m\u001b[0m\n\u001b[0m\u001b[1;32m      4\u001b[0m \u001b[0;34m\u001b[0m\u001b[0m\n\u001b[1;32m      5\u001b[0m \u001b[0mprint\u001b[0m\u001b[0;34m(\u001b[0m\u001b[0msetim\u001b[0m\u001b[0;34m,\u001b[0m \u001b[0mtype\u001b[0m\u001b[0;34m(\u001b[0m\u001b[0msetim\u001b[0m\u001b[0;34m)\u001b[0m\u001b[0;34m)\u001b[0m\u001b[0;34m\u001b[0m\u001b[0;34m\u001b[0m\u001b[0m\n",
            "\u001b[0;31mTypeError\u001b[0m: 'bool' object is not iterable"
          ]
        }
      ]
    },
    {
      "cell_type": "code",
      "source": [
        "a = (True and False)   # boollenlar iterable degildir\n",
        "\n",
        "setim = set(a)\n",
        "\n",
        "print(setim, type(setim))"
      ],
      "metadata": {
        "colab": {
          "base_uri": "https://localhost:8080/",
          "height": 245
        },
        "id": "6Qv1jehOY7RD",
        "outputId": "6543c759-2209-4922-ce4c-007f30d4a5a2"
      },
      "execution_count": null,
      "outputs": [
        {
          "output_type": "error",
          "ename": "TypeError",
          "evalue": "ignored",
          "traceback": [
            "\u001b[0;31m---------------------------------------------------------------------------\u001b[0m",
            "\u001b[0;31mTypeError\u001b[0m                                 Traceback (most recent call last)",
            "\u001b[0;32m<ipython-input-47-b93138a53e65>\u001b[0m in \u001b[0;36m<module>\u001b[0;34m()\u001b[0m\n\u001b[1;32m      1\u001b[0m \u001b[0ma\u001b[0m \u001b[0;34m=\u001b[0m \u001b[0;34m(\u001b[0m\u001b[0;32mTrue\u001b[0m \u001b[0;32mand\u001b[0m \u001b[0;32mFalse\u001b[0m\u001b[0;34m)\u001b[0m   \u001b[0;31m# boollenlar iterable degildir\u001b[0m\u001b[0;34m\u001b[0m\u001b[0;34m\u001b[0m\u001b[0m\n\u001b[1;32m      2\u001b[0m \u001b[0;34m\u001b[0m\u001b[0m\n\u001b[0;32m----> 3\u001b[0;31m \u001b[0msetim\u001b[0m \u001b[0;34m=\u001b[0m \u001b[0mset\u001b[0m\u001b[0;34m(\u001b[0m\u001b[0ma\u001b[0m\u001b[0;34m)\u001b[0m\u001b[0;34m\u001b[0m\u001b[0;34m\u001b[0m\u001b[0m\n\u001b[0m\u001b[1;32m      4\u001b[0m \u001b[0;34m\u001b[0m\u001b[0m\n\u001b[1;32m      5\u001b[0m \u001b[0mprint\u001b[0m\u001b[0;34m(\u001b[0m\u001b[0msetim\u001b[0m\u001b[0;34m,\u001b[0m \u001b[0mtype\u001b[0m\u001b[0;34m(\u001b[0m\u001b[0msetim\u001b[0m\u001b[0;34m)\u001b[0m\u001b[0;34m)\u001b[0m\u001b[0;34m\u001b[0m\u001b[0;34m\u001b[0m\u001b[0m\n",
            "\u001b[0;31mTypeError\u001b[0m: 'bool' object is not iterable"
          ]
        }
      ]
    },
    {
      "cell_type": "code",
      "source": [
        "a = 'True and False'  \n",
        "\n",
        "setim = set(a)\n",
        "\n",
        "print(setim, type(setim))"
      ],
      "metadata": {
        "colab": {
          "base_uri": "https://localhost:8080/"
        },
        "id": "6yRPFMemZEzm",
        "outputId": "00faae89-666a-48e0-8906-d3789456bb2a"
      },
      "execution_count": null,
      "outputs": [
        {
          "output_type": "stream",
          "name": "stdout",
          "text": [
            "{' ', 'r', 'a', 'd', 'l', 'F', 'u', 'T', 'n', 's', 'e'} <class 'set'>\n"
          ]
        }
      ]
    },
    {
      "cell_type": "code",
      "source": [
        "a = True and False,\n",
        "\n",
        "setim = set(a)\n",
        "\n",
        "print(setim, type(setim))"
      ],
      "metadata": {
        "colab": {
          "base_uri": "https://localhost:8080/"
        },
        "id": "B_nBwlqLZJve",
        "outputId": "876f4416-7395-455d-9097-90f4b8edb8a8"
      },
      "execution_count": null,
      "outputs": [
        {
          "output_type": "stream",
          "name": "stdout",
          "text": [
            "{False} <class 'set'>\n"
          ]
        }
      ]
    },
    {
      "cell_type": "code",
      "source": [
        "a = \" \" and [] and () and {} and None and 0 and 0.0          # ilk false u cevirir , yani a = []\n",
        "\n",
        "setim = set(a)\n",
        "\n",
        "print(setim, type(setim))"
      ],
      "metadata": {
        "colab": {
          "base_uri": "https://localhost:8080/"
        },
        "id": "m8FVVJrAZVaU",
        "outputId": "184d4781-8bf8-4104-faf2-0b496630e7a7"
      },
      "execution_count": null,
      "outputs": [
        {
          "output_type": "stream",
          "name": "stdout",
          "text": [
            "set() <class 'set'>\n"
          ]
        }
      ]
    },
    {
      "cell_type": "code",
      "source": [
        "a = 3.14\n",
        "\n",
        "setim = set(a)\n",
        "\n",
        "print(setim, type(setim))"
      ],
      "metadata": {
        "colab": {
          "base_uri": "https://localhost:8080/",
          "height": 245
        },
        "id": "7p0q3sX7ZrUh",
        "outputId": "60da1314-91c6-4607-c070-6be10ccee477"
      },
      "execution_count": null,
      "outputs": [
        {
          "output_type": "error",
          "ename": "TypeError",
          "evalue": "ignored",
          "traceback": [
            "\u001b[0;31m---------------------------------------------------------------------------\u001b[0m",
            "\u001b[0;31mTypeError\u001b[0m                                 Traceback (most recent call last)",
            "\u001b[0;32m<ipython-input-51-09aa86864091>\u001b[0m in \u001b[0;36m<module>\u001b[0;34m()\u001b[0m\n\u001b[1;32m      1\u001b[0m \u001b[0ma\u001b[0m \u001b[0;34m=\u001b[0m \u001b[0;36m3.14\u001b[0m\u001b[0;34m\u001b[0m\u001b[0;34m\u001b[0m\u001b[0m\n\u001b[1;32m      2\u001b[0m \u001b[0;34m\u001b[0m\u001b[0m\n\u001b[0;32m----> 3\u001b[0;31m \u001b[0msetim\u001b[0m \u001b[0;34m=\u001b[0m \u001b[0mset\u001b[0m\u001b[0;34m(\u001b[0m\u001b[0ma\u001b[0m\u001b[0;34m)\u001b[0m\u001b[0;34m\u001b[0m\u001b[0;34m\u001b[0m\u001b[0m\n\u001b[0m\u001b[1;32m      4\u001b[0m \u001b[0;34m\u001b[0m\u001b[0m\n\u001b[1;32m      5\u001b[0m \u001b[0mprint\u001b[0m\u001b[0;34m(\u001b[0m\u001b[0msetim\u001b[0m\u001b[0;34m,\u001b[0m \u001b[0mtype\u001b[0m\u001b[0;34m(\u001b[0m\u001b[0msetim\u001b[0m\u001b[0;34m)\u001b[0m\u001b[0;34m)\u001b[0m\u001b[0;34m\u001b[0m\u001b[0;34m\u001b[0m\u001b[0m\n",
            "\u001b[0;31mTypeError\u001b[0m: 'float' object is not iterable"
          ]
        }
      ]
    },
    {
      "cell_type": "code",
      "source": [
        "a = 3,14\n",
        "\n",
        "setim = set(a)\n",
        "\n",
        "print(setim, type(setim))"
      ],
      "metadata": {
        "colab": {
          "base_uri": "https://localhost:8080/"
        },
        "id": "f_ICUM-kaEbc",
        "outputId": "35ac9f9a-9ff4-4df7-ea97-616026d688d0"
      },
      "execution_count": null,
      "outputs": [
        {
          "output_type": "stream",
          "name": "stdout",
          "text": [
            "{3, 14} <class 'set'>\n"
          ]
        }
      ]
    },
    {
      "cell_type": "code",
      "source": [
        "#### interwiew question ###"
      ],
      "metadata": {
        "id": "SborqdwZaHUE"
      },
      "execution_count": null,
      "outputs": []
    },
    {
      "cell_type": "code",
      "source": [
        "# which one of the following is not the correct syntax for creating a set in Python?\n",
        "\n",
        "# print(set([[1,2], [3,4], [4,5]]))   # setler icerisinde liste olusturamayiz. ERROR\n",
        " \n",
        "print(set([1, 2, 2, 3, 4, 5]))\n",
        "\n",
        "print({1, 2, 3, 4})\n",
        "\n",
        "print(set((1,2,3,4)))"
      ],
      "metadata": {
        "colab": {
          "base_uri": "https://localhost:8080/"
        },
        "id": "WBXW2RPLoGhS",
        "outputId": "10a3f469-1c81-4ac2-bb5d-97123ab1fd73"
      },
      "execution_count": null,
      "outputs": [
        {
          "output_type": "stream",
          "name": "stdout",
          "text": [
            "{1, 2, 3, 4, 5}\n",
            "{1, 2, 3, 4}\n",
            "{1, 2, 3, 4}\n"
          ]
        }
      ]
    },
    {
      "cell_type": "code",
      "source": [
        "liste = [ 1, 2, 3]     # set icine liste yazilmaz\n",
        "\n",
        "new = set(liste)\n",
        "\n",
        "print(new)"
      ],
      "metadata": {
        "colab": {
          "base_uri": "https://localhost:8080/"
        },
        "id": "zvIr2_pcosXg",
        "outputId": "1b8c4f69-456e-45ab-ac20-7602852a8c4b"
      },
      "execution_count": null,
      "outputs": [
        {
          "output_type": "stream",
          "name": "stdout",
          "text": [
            "{1, 2, 3}\n"
          ]
        }
      ]
    },
    {
      "cell_type": "code",
      "source": [
        "liste = [ 1, 2, 3, [1]]     # set icine atama liste yazilmaz\n",
        "\n",
        "new = set(liste)\n",
        "\n",
        "print(new)"
      ],
      "metadata": {
        "colab": {
          "base_uri": "https://localhost:8080/",
          "height": 245
        },
        "id": "4gh5NAN9qQBk",
        "outputId": "f84be1d7-955b-48eb-e1b7-eccd41f8d859"
      },
      "execution_count": null,
      "outputs": [
        {
          "output_type": "error",
          "ename": "TypeError",
          "evalue": "ignored",
          "traceback": [
            "\u001b[0;31m---------------------------------------------------------------------------\u001b[0m",
            "\u001b[0;31mTypeError\u001b[0m                                 Traceback (most recent call last)",
            "\u001b[0;32m<ipython-input-59-b2d205d67d95>\u001b[0m in \u001b[0;36m<module>\u001b[0;34m()\u001b[0m\n\u001b[1;32m      1\u001b[0m \u001b[0mliste\u001b[0m \u001b[0;34m=\u001b[0m \u001b[0;34m[\u001b[0m \u001b[0;36m1\u001b[0m\u001b[0;34m,\u001b[0m \u001b[0;36m2\u001b[0m\u001b[0;34m,\u001b[0m \u001b[0;36m3\u001b[0m\u001b[0;34m,\u001b[0m \u001b[0;34m[\u001b[0m\u001b[0;36m1\u001b[0m\u001b[0;34m]\u001b[0m\u001b[0;34m]\u001b[0m\u001b[0;34m\u001b[0m\u001b[0;34m\u001b[0m\u001b[0m\n\u001b[1;32m      2\u001b[0m \u001b[0;34m\u001b[0m\u001b[0m\n\u001b[0;32m----> 3\u001b[0;31m \u001b[0mnew\u001b[0m \u001b[0;34m=\u001b[0m \u001b[0mset\u001b[0m\u001b[0;34m(\u001b[0m\u001b[0mliste\u001b[0m\u001b[0;34m)\u001b[0m\u001b[0;34m\u001b[0m\u001b[0;34m\u001b[0m\u001b[0m\n\u001b[0m\u001b[1;32m      4\u001b[0m \u001b[0;34m\u001b[0m\u001b[0m\n\u001b[1;32m      5\u001b[0m \u001b[0mprint\u001b[0m\u001b[0;34m(\u001b[0m\u001b[0mnew\u001b[0m\u001b[0;34m)\u001b[0m\u001b[0;34m\u001b[0m\u001b[0;34m\u001b[0m\u001b[0m\n",
            "\u001b[0;31mTypeError\u001b[0m: unhashable type: 'list'"
          ]
        }
      ]
    },
    {
      "cell_type": "code",
      "source": [
        "a = set ('dffd', 'sdfds')                   # set func icine 1 arguman alir\n",
        "\n",
        "print(a)"
      ],
      "metadata": {
        "colab": {
          "base_uri": "https://localhost:8080/",
          "height": 208
        },
        "id": "6rTlDvjNqUIV",
        "outputId": "089431cf-598f-475d-cdb8-1767bebcd5d9"
      },
      "execution_count": null,
      "outputs": [
        {
          "output_type": "error",
          "ename": "TypeError",
          "evalue": "ignored",
          "traceback": [
            "\u001b[0;31m---------------------------------------------------------------------------\u001b[0m",
            "\u001b[0;31mTypeError\u001b[0m                                 Traceback (most recent call last)",
            "\u001b[0;32m<ipython-input-60-42f3bc74085c>\u001b[0m in \u001b[0;36m<module>\u001b[0;34m()\u001b[0m\n\u001b[0;32m----> 1\u001b[0;31m \u001b[0ma\u001b[0m \u001b[0;34m=\u001b[0m \u001b[0mset\u001b[0m \u001b[0;34m(\u001b[0m\u001b[0;34m'dffd'\u001b[0m\u001b[0;34m,\u001b[0m \u001b[0;34m'sdfds'\u001b[0m\u001b[0;34m)\u001b[0m\u001b[0;34m\u001b[0m\u001b[0;34m\u001b[0m\u001b[0m\n\u001b[0m\u001b[1;32m      2\u001b[0m \u001b[0;34m\u001b[0m\u001b[0m\n\u001b[1;32m      3\u001b[0m \u001b[0mprint\u001b[0m\u001b[0;34m(\u001b[0m\u001b[0ma\u001b[0m\u001b[0;34m)\u001b[0m\u001b[0;34m\u001b[0m\u001b[0;34m\u001b[0m\u001b[0m\n",
            "\u001b[0;31mTypeError\u001b[0m: set expected at most 1 arguments, got 2"
          ]
        }
      ]
    },
    {
      "cell_type": "code",
      "source": [
        "a = list('dffd', 'sdfds')                   # list func icine 1 arguman alir\n",
        "\n",
        "print(a)"
      ],
      "metadata": {
        "colab": {
          "base_uri": "https://localhost:8080/",
          "height": 208
        },
        "id": "FcdtB7z9tPH8",
        "outputId": "552eb2ee-7c8b-4c3a-b3bb-559d09224a9e"
      },
      "execution_count": null,
      "outputs": [
        {
          "output_type": "error",
          "ename": "TypeError",
          "evalue": "ignored",
          "traceback": [
            "\u001b[0;31m---------------------------------------------------------------------------\u001b[0m",
            "\u001b[0;31mTypeError\u001b[0m                                 Traceback (most recent call last)",
            "\u001b[0;32m<ipython-input-61-b1e42be11581>\u001b[0m in \u001b[0;36m<module>\u001b[0;34m()\u001b[0m\n\u001b[0;32m----> 1\u001b[0;31m \u001b[0ma\u001b[0m \u001b[0;34m=\u001b[0m \u001b[0mlist\u001b[0m\u001b[0;34m(\u001b[0m\u001b[0;34m'dffd'\u001b[0m\u001b[0;34m,\u001b[0m \u001b[0;34m'sdfds'\u001b[0m\u001b[0;34m)\u001b[0m                   \u001b[0;31m# list func icine 1 arguman alir\u001b[0m\u001b[0;34m\u001b[0m\u001b[0;34m\u001b[0m\u001b[0m\n\u001b[0m\u001b[1;32m      2\u001b[0m \u001b[0;34m\u001b[0m\u001b[0m\n\u001b[1;32m      3\u001b[0m \u001b[0mprint\u001b[0m\u001b[0;34m(\u001b[0m\u001b[0ma\u001b[0m\u001b[0;34m)\u001b[0m\u001b[0;34m\u001b[0m\u001b[0;34m\u001b[0m\u001b[0m\n",
            "\u001b[0;31mTypeError\u001b[0m: list expected at most 1 arguments, got 2"
          ]
        }
      ]
    },
    {
      "cell_type": "code",
      "source": [
        "a = tuple('dffd', 'sdfds')                   # tuple func icine 1 arguman alir\n",
        "\n",
        "print(a)"
      ],
      "metadata": {
        "colab": {
          "base_uri": "https://localhost:8080/",
          "height": 208
        },
        "id": "abKZOyxitf9C",
        "outputId": "ccf718f0-76fe-400f-997e-dfca5db4b2d8"
      },
      "execution_count": null,
      "outputs": [
        {
          "output_type": "error",
          "ename": "TypeError",
          "evalue": "ignored",
          "traceback": [
            "\u001b[0;31m---------------------------------------------------------------------------\u001b[0m",
            "\u001b[0;31mTypeError\u001b[0m                                 Traceback (most recent call last)",
            "\u001b[0;32m<ipython-input-62-25948f4ef8a5>\u001b[0m in \u001b[0;36m<module>\u001b[0;34m()\u001b[0m\n\u001b[0;32m----> 1\u001b[0;31m \u001b[0ma\u001b[0m \u001b[0;34m=\u001b[0m \u001b[0mtuple\u001b[0m\u001b[0;34m(\u001b[0m\u001b[0;34m'dffd'\u001b[0m\u001b[0;34m,\u001b[0m \u001b[0;34m'sdfds'\u001b[0m\u001b[0;34m)\u001b[0m                   \u001b[0;31m# tuple func icine 1 arguman alir\u001b[0m\u001b[0;34m\u001b[0m\u001b[0;34m\u001b[0m\u001b[0m\n\u001b[0m\u001b[1;32m      2\u001b[0m \u001b[0;34m\u001b[0m\u001b[0m\n\u001b[1;32m      3\u001b[0m \u001b[0mprint\u001b[0m\u001b[0;34m(\u001b[0m\u001b[0ma\u001b[0m\u001b[0;34m)\u001b[0m\u001b[0;34m\u001b[0m\u001b[0;34m\u001b[0m\u001b[0m\n",
            "\u001b[0;31mTypeError\u001b[0m: tuple expected at most 1 arguments, got 2"
          ]
        }
      ]
    },
    {
      "cell_type": "code",
      "source": [
        "#################  MAIN OPERATIONS WITH SETS ######################"
      ],
      "metadata": {
        "id": "Uk40vAc4tjP6"
      },
      "execution_count": null,
      "outputs": []
    },
    {
      "cell_type": "code",
      "source": [
        "# intersection()   iki kumenin kesisimi\n",
        "\n",
        "# remove() bir ogeyi silmemizi saglar\n",
        "\n",
        "# difference() iki kumenin farkini alir\n",
        " \n",
        "# union()   iki kumenin birlesimini alir\n",
        "\n",
        "# add() kumeye yeni bir oge ekler\n",
        "\n",
        "# pop() "
      ],
      "metadata": {
        "id": "xNLN41PhuAh5"
      },
      "execution_count": null,
      "outputs": []
    },
    {
      "cell_type": "code",
      "source": [
        "#### add()"
      ],
      "metadata": {
        "id": "hahUVTFywBQM"
      },
      "execution_count": null,
      "outputs": []
    },
    {
      "cell_type": "code",
      "source": [
        "a = set('mmanolya')\n",
        "\n",
        "a.add(\"m\")               # buradan setlerin mutable oldugunu goreblriiz.\n",
        "\n",
        "print(a)"
      ],
      "metadata": {
        "colab": {
          "base_uri": "https://localhost:8080/"
        },
        "id": "CO0iDfUAwMY7",
        "outputId": "e5674d98-d6d1-4897-db3e-c69dbf2416ac"
      },
      "execution_count": null,
      "outputs": [
        {
          "output_type": "stream",
          "name": "stdout",
          "text": [
            "{'n', 'y', 'm', 'a', 'o', 'l'}\n"
          ]
        }
      ]
    },
    {
      "cell_type": "code",
      "source": [
        "a = set('mmanolya')\n",
        "\n",
        "\n",
        "print(a.add(\"m\"))         # bu sekilde calismiyor. atama ile calistirmamiz gerekiyor."
      ],
      "metadata": {
        "colab": {
          "base_uri": "https://localhost:8080/"
        },
        "id": "aWt-uVDlxTpv",
        "outputId": "9a74c905-e02e-4163-d760-6eb25d1a9153"
      },
      "execution_count": null,
      "outputs": [
        {
          "output_type": "stream",
          "name": "stdout",
          "text": [
            "None\n"
          ]
        }
      ]
    },
    {
      "cell_type": "code",
      "source": [
        "a = set('mmanolya')\n",
        "\n",
        "b = a.add(\"m\")              \n",
        "\n",
        "print(b)"
      ],
      "metadata": {
        "colab": {
          "base_uri": "https://localhost:8080/"
        },
        "id": "M_YpgBShxu7H",
        "outputId": "50b6e0eb-d3dc-4bde-b05f-448529358994"
      },
      "execution_count": null,
      "outputs": [
        {
          "output_type": "stream",
          "name": "stdout",
          "text": [
            "None\n"
          ]
        }
      ]
    },
    {
      "cell_type": "code",
      "source": [
        "##### append()\n"
      ],
      "metadata": {
        "id": "dnBH43W1x7Fm"
      },
      "execution_count": null,
      "outputs": []
    },
    {
      "cell_type": "code",
      "source": [
        "liste = ['a', 'b', 'c']\n",
        "\n",
        "liste.append('d')\n",
        "\n",
        "print(liste)             # ayni setler gibi listlerde mutable dir."
      ],
      "metadata": {
        "colab": {
          "base_uri": "https://localhost:8080/"
        },
        "id": "xPIgoFniyMhg",
        "outputId": "20df8014-c5f5-49c2-cfbf-09d3e9e1316b"
      },
      "execution_count": null,
      "outputs": [
        {
          "output_type": "stream",
          "name": "stdout",
          "text": [
            "['a', 'b', 'c', 'd']\n"
          ]
        }
      ]
    },
    {
      "cell_type": "code",
      "source": [
        "liste = ['a', 'b', 'c']\n",
        "\n",
        "liste.append('c')\n",
        "liste.append('c')\n",
        "liste.append('c')\n",
        "\n",
        "print(liste) "
      ],
      "metadata": {
        "colab": {
          "base_uri": "https://localhost:8080/"
        },
        "id": "OeY749XB0Cnq",
        "outputId": "0f07f319-8e0d-4242-b33a-b7d98b2a766f"
      },
      "execution_count": null,
      "outputs": [
        {
          "output_type": "stream",
          "name": "stdout",
          "text": [
            "['a', 'b', 'c', 'c', 'c', 'c']\n"
          ]
        }
      ]
    },
    {
      "cell_type": "code",
      "source": [
        "#### tarik hocaya sor\n",
        "sayi = set('123456')\n",
        "\n",
        "sayi.append('5')       # 'tuple' object has no attribute 'append'    bunun yerine add () func setlerde kullanilir\n",
        "\n",
        "print(sayi)   "
      ],
      "metadata": {
        "colab": {
          "base_uri": "https://localhost:8080/",
          "height": 245
        },
        "id": "8Vm4GzneyVQ0",
        "outputId": "2e7da60c-2130-4ab2-8ae7-cc597fd20d23"
      },
      "execution_count": 20,
      "outputs": [
        {
          "output_type": "error",
          "ename": "TypeError",
          "evalue": "ignored",
          "traceback": [
            "\u001b[0;31m---------------------------------------------------------------------------\u001b[0m",
            "\u001b[0;31mTypeError\u001b[0m                                 Traceback (most recent call last)",
            "\u001b[0;32m<ipython-input-20-59cf324f573b>\u001b[0m in \u001b[0;36m<module>\u001b[0;34m()\u001b[0m\n\u001b[0;32m----> 1\u001b[0;31m \u001b[0msayi\u001b[0m \u001b[0;34m=\u001b[0m \u001b[0mset\u001b[0m\u001b[0;34m(\u001b[0m\u001b[0;34m'123456'\u001b[0m\u001b[0;34m)\u001b[0m\u001b[0;34m\u001b[0m\u001b[0;34m\u001b[0m\u001b[0m\n\u001b[0m\u001b[1;32m      2\u001b[0m \u001b[0;34m\u001b[0m\u001b[0m\n\u001b[1;32m      3\u001b[0m \u001b[0msayi\u001b[0m\u001b[0;34m.\u001b[0m\u001b[0mappend\u001b[0m\u001b[0;34m(\u001b[0m\u001b[0;34m'5'\u001b[0m\u001b[0;34m)\u001b[0m       \u001b[0;31m# 'tuple' object has no attribute 'append'    bunun yerine add () func setlerde kullanilir\u001b[0m\u001b[0;34m\u001b[0m\u001b[0;34m\u001b[0m\u001b[0m\n\u001b[1;32m      4\u001b[0m \u001b[0;34m\u001b[0m\u001b[0m\n\u001b[1;32m      5\u001b[0m \u001b[0mprint\u001b[0m\u001b[0;34m(\u001b[0m\u001b[0msayi\u001b[0m\u001b[0;34m)\u001b[0m\u001b[0;34m\u001b[0m\u001b[0;34m\u001b[0m\u001b[0m\n",
            "\u001b[0;31mTypeError\u001b[0m: 'tuple' object is not callable"
          ]
        }
      ]
    },
    {
      "cell_type": "code",
      "source": [
        "#### tarik hocaya sor\n",
        "sayi = set('a') \n",
        "\n",
        "sayi.add('d')       # 'tuple' object has no attribute 'append'    bunun yerine add () func setlerde kullanilir\n",
        "\n",
        "print(sayi) "
      ],
      "metadata": {
        "colab": {
          "base_uri": "https://localhost:8080/",
          "height": 245
        },
        "id": "q86CQ6ZByirs",
        "outputId": "a55ea244-d7fe-4f54-85b4-6e90ce11e424"
      },
      "execution_count": null,
      "outputs": [
        {
          "output_type": "error",
          "ename": "TypeError",
          "evalue": "ignored",
          "traceback": [
            "\u001b[0;31m---------------------------------------------------------------------------\u001b[0m",
            "\u001b[0;31mTypeError\u001b[0m                                 Traceback (most recent call last)",
            "\u001b[0;32m<ipython-input-12-ec028ebd772d>\u001b[0m in \u001b[0;36m<module>\u001b[0;34m()\u001b[0m\n\u001b[0;32m----> 1\u001b[0;31m \u001b[0msayi\u001b[0m \u001b[0;34m=\u001b[0m \u001b[0mset\u001b[0m\u001b[0;34m(\u001b[0m\u001b[0;34m'a'\u001b[0m\u001b[0;34m)\u001b[0m\u001b[0;34m\u001b[0m\u001b[0;34m\u001b[0m\u001b[0m\n\u001b[0m\u001b[1;32m      2\u001b[0m \u001b[0;34m\u001b[0m\u001b[0m\n\u001b[1;32m      3\u001b[0m \u001b[0msayi\u001b[0m\u001b[0;34m.\u001b[0m\u001b[0madd\u001b[0m\u001b[0;34m(\u001b[0m\u001b[0;34m'd'\u001b[0m\u001b[0;34m)\u001b[0m       \u001b[0;31m# 'tuple' object has no attribute 'append'    bunun yerine add () func setlerde kullanilir\u001b[0m\u001b[0;34m\u001b[0m\u001b[0;34m\u001b[0m\u001b[0m\n\u001b[1;32m      4\u001b[0m \u001b[0;34m\u001b[0m\u001b[0m\n\u001b[1;32m      5\u001b[0m \u001b[0mprint\u001b[0m\u001b[0;34m(\u001b[0m\u001b[0msayi\u001b[0m\u001b[0;34m)\u001b[0m\u001b[0;34m\u001b[0m\u001b[0;34m\u001b[0m\u001b[0m\n",
            "\u001b[0;31mTypeError\u001b[0m: 'tuple' object is not callable"
          ]
        }
      ]
    },
    {
      "cell_type": "code",
      "source": [
        "# listedeki indexleme setlerde calisir mi\n",
        "\n",
        "liste = ['a', 'b', 'c']\n",
        "\n",
        "liste[2] = 55\n",
        "\n",
        "print(liste)"
      ],
      "metadata": {
        "id": "lgtuJsXby6a1",
        "colab": {
          "base_uri": "https://localhost:8080/"
        },
        "outputId": "2ed8090f-7e8e-48b7-b7d6-e8da56229433"
      },
      "execution_count": 21,
      "outputs": [
        {
          "output_type": "stream",
          "name": "stdout",
          "text": [
            "['a', 'b', 55]\n"
          ]
        }
      ]
    },
    {
      "cell_type": "code",
      "source": [
        "sayi = set('1234')\n",
        "\n",
        "sayi[3] = 5\n",
        "\n",
        "print(sayi)"
      ],
      "metadata": {
        "colab": {
          "base_uri": "https://localhost:8080/",
          "height": 245
        },
        "id": "xYype5zH2Bfu",
        "outputId": "b25b2e09-8126-4ece-8db3-7549ea1cdcb9"
      },
      "execution_count": 22,
      "outputs": [
        {
          "output_type": "error",
          "ename": "TypeError",
          "evalue": "ignored",
          "traceback": [
            "\u001b[0;31m---------------------------------------------------------------------------\u001b[0m",
            "\u001b[0;31mTypeError\u001b[0m                                 Traceback (most recent call last)",
            "\u001b[0;32m<ipython-input-22-dfce960d9d35>\u001b[0m in \u001b[0;36m<module>\u001b[0;34m()\u001b[0m\n\u001b[0;32m----> 1\u001b[0;31m \u001b[0msayi\u001b[0m \u001b[0;34m=\u001b[0m \u001b[0mset\u001b[0m\u001b[0;34m(\u001b[0m\u001b[0;34m'1234'\u001b[0m\u001b[0;34m)\u001b[0m\u001b[0;34m\u001b[0m\u001b[0;34m\u001b[0m\u001b[0m\n\u001b[0m\u001b[1;32m      2\u001b[0m \u001b[0;34m\u001b[0m\u001b[0m\n\u001b[1;32m      3\u001b[0m \u001b[0msayi\u001b[0m\u001b[0;34m[\u001b[0m\u001b[0;36m3\u001b[0m\u001b[0;34m]\u001b[0m \u001b[0;34m=\u001b[0m \u001b[0;36m5\u001b[0m\u001b[0;34m\u001b[0m\u001b[0;34m\u001b[0m\u001b[0m\n\u001b[1;32m      4\u001b[0m \u001b[0;34m\u001b[0m\u001b[0m\n\u001b[1;32m      5\u001b[0m \u001b[0mprint\u001b[0m\u001b[0;34m(\u001b[0m\u001b[0msayi\u001b[0m\u001b[0;34m)\u001b[0m\u001b[0;34m\u001b[0m\u001b[0;34m\u001b[0m\u001b[0m\n",
            "\u001b[0;31mTypeError\u001b[0m: 'tuple' object is not callable"
          ]
        }
      ]
    },
    {
      "cell_type": "code",
      "source": [
        "# listedeki insert() setlerde calisir mi\n",
        "\n",
        "liste = ['a', 'b', 'c']\n",
        "\n",
        "liste.insert(3, 'helloworld')\n",
        "\n",
        "print(liste)"
      ],
      "metadata": {
        "colab": {
          "base_uri": "https://localhost:8080/"
        },
        "id": "7M5K0miA2Jxt",
        "outputId": "36cb0d22-bb99-496e-a686-5751ff9bd038"
      },
      "execution_count": 23,
      "outputs": [
        {
          "output_type": "stream",
          "name": "stdout",
          "text": [
            "['a', 'b', 'c', 'helloworld']\n"
          ]
        }
      ]
    },
    {
      "cell_type": "code",
      "source": [
        "# listedeki insert() setlerde calisir mi\n",
        "\n",
        "liste = ['a', 'b', 'c']\n",
        "\n",
        "liste.insert(2, 'helloworld')\n",
        "\n",
        "print(liste)"
      ],
      "metadata": {
        "colab": {
          "base_uri": "https://localhost:8080/"
        },
        "id": "HiMEW26A2oLE",
        "outputId": "e2589233-de85-480e-cc1b-2c72a244073b"
      },
      "execution_count": 24,
      "outputs": [
        {
          "output_type": "stream",
          "name": "stdout",
          "text": [
            "['a', 'b', 'helloworld', 'c']\n"
          ]
        }
      ]
    },
    {
      "cell_type": "code",
      "source": [
        "# listedeki insert() setlerde calisir mi\n",
        "\n",
        "liste = ['a', 'b', 'c']\n",
        "\n",
        "liste.insert(56, 'helloworld')\n",
        "\n",
        "print(liste)"
      ],
      "metadata": {
        "colab": {
          "base_uri": "https://localhost:8080/"
        },
        "id": "xxzL8jMsb1nO",
        "outputId": "0a2149ad-bbc5-4e77-aedf-35812d43988b"
      },
      "execution_count": 1,
      "outputs": [
        {
          "output_type": "stream",
          "name": "stdout",
          "text": [
            "['a', 'b', 'c', 'helloworld']\n"
          ]
        }
      ]
    },
    {
      "cell_type": "code",
      "source": [
        "a = set('abc')\n",
        "\n",
        "a.insert(2, 'helloworld')                   v# listedeki insert() setlerde calisirmaz\n",
        "\n",
        "\n",
        "print(a)"
      ],
      "metadata": {
        "colab": {
          "base_uri": "https://localhost:8080/",
          "height": 245
        },
        "id": "qjgyscdp2sMc",
        "outputId": "3da2dfb2-fbc7-4233-d2bb-ddd03f1f2704"
      },
      "execution_count": 26,
      "outputs": [
        {
          "output_type": "error",
          "ename": "TypeError",
          "evalue": "ignored",
          "traceback": [
            "\u001b[0;31m---------------------------------------------------------------------------\u001b[0m",
            "\u001b[0;31mTypeError\u001b[0m                                 Traceback (most recent call last)",
            "\u001b[0;32m<ipython-input-26-869403b56197>\u001b[0m in \u001b[0;36m<module>\u001b[0;34m()\u001b[0m\n\u001b[0;32m----> 1\u001b[0;31m \u001b[0ma\u001b[0m \u001b[0;34m=\u001b[0m \u001b[0mset\u001b[0m\u001b[0;34m(\u001b[0m\u001b[0;34m'abc'\u001b[0m\u001b[0;34m)\u001b[0m\u001b[0;34m\u001b[0m\u001b[0;34m\u001b[0m\u001b[0m\n\u001b[0m\u001b[1;32m      2\u001b[0m \u001b[0;34m\u001b[0m\u001b[0m\n\u001b[1;32m      3\u001b[0m \u001b[0ma\u001b[0m\u001b[0;34m.\u001b[0m\u001b[0minsert\u001b[0m\u001b[0;34m(\u001b[0m\u001b[0;36m2\u001b[0m\u001b[0;34m,\u001b[0m \u001b[0;34m'helloworld'\u001b[0m\u001b[0;34m)\u001b[0m\u001b[0;34m\u001b[0m\u001b[0;34m\u001b[0m\u001b[0m\n\u001b[1;32m      4\u001b[0m \u001b[0;34m\u001b[0m\u001b[0m\n\u001b[1;32m      5\u001b[0m \u001b[0mprint\u001b[0m\u001b[0;34m(\u001b[0m\u001b[0ma\u001b[0m\u001b[0;34m)\u001b[0m\u001b[0;34m\u001b[0m\u001b[0;34m\u001b[0m\u001b[0m\n",
            "\u001b[0;31mTypeError\u001b[0m: 'tuple' object is not callable"
          ]
        }
      ]
    },
    {
      "cell_type": "code",
      "source": [
        "liste = ['apple', 'banana', 'cherry']\n",
        "\n",
        "liste[1:3] = ['pear']\n",
        "\n",
        "print(liste)"
      ],
      "metadata": {
        "colab": {
          "base_uri": "https://localhost:8080/"
        },
        "id": "8gS11TCz3SUC",
        "outputId": "4b422b0d-4fcb-4f55-86e5-2ca990f5cd3c"
      },
      "execution_count": 2,
      "outputs": [
        {
          "output_type": "stream",
          "name": "stdout",
          "text": [
            "['apple', 'pear']\n"
          ]
        }
      ]
    },
    {
      "cell_type": "code",
      "source": [
        "liste = ['apple', 'banana', 'cherry', 'a', 'b', 'c']\n",
        "\n",
        "liste[1:3] = ['pear']\n",
        "\n",
        "print(liste)"
      ],
      "metadata": {
        "colab": {
          "base_uri": "https://localhost:8080/"
        },
        "id": "45nG5wtEcVjU",
        "outputId": "5b483e63-e324-4a00-9dba-9a6c30a7e27b"
      },
      "execution_count": 3,
      "outputs": [
        {
          "output_type": "stream",
          "name": "stdout",
          "text": [
            "['apple', 'pear', 'a', 'b', 'c']\n"
          ]
        }
      ]
    },
    {
      "cell_type": "code",
      "source": [
        "a = set('sdf')\n",
        "\n",
        "a.add('d')\n",
        "a.add(\"f\")\n",
        "a.add(\"y\")\n",
        "\n",
        "print(a)        # setlerin mutable ozelligi."
      ],
      "metadata": {
        "colab": {
          "base_uri": "https://localhost:8080/"
        },
        "id": "GiQQZi0rcipE",
        "outputId": "5ebfaf6a-429c-48ed-b24c-a24ea67fd7f4"
      },
      "execution_count": 5,
      "outputs": [
        {
          "output_type": "stream",
          "name": "stdout",
          "text": [
            "{'y', 's', 'd', 'f'}\n"
          ]
        }
      ]
    },
    {
      "cell_type": "code",
      "source": [
        "########### .remove()   #############\n"
      ],
      "metadata": {
        "id": "C5fW_NdfdDKL"
      },
      "execution_count": null,
      "outputs": []
    },
    {
      "cell_type": "code",
      "source": [
        "a = set('6548     86768    dfgfdg')\n",
        "\n",
        "print(a)"
      ],
      "metadata": {
        "colab": {
          "base_uri": "https://localhost:8080/"
        },
        "id": "uU9xIl9TeTm9",
        "outputId": "811d022c-fafc-496b-aee3-a8c8884114f2"
      },
      "execution_count": 6,
      "outputs": [
        {
          "output_type": "stream",
          "name": "stdout",
          "text": [
            "{'6', '8', 'g', '4', ' ', '7', 'f', 'd', '5'}\n"
          ]
        }
      ]
    },
    {
      "cell_type": "code",
      "source": [
        "a = set('6548     86768    dfgfdg')\n",
        "\n",
        "a.remove('5')\n",
        "\n",
        "print(a)"
      ],
      "metadata": {
        "colab": {
          "base_uri": "https://localhost:8080/"
        },
        "id": "DhCtvjPHehhs",
        "outputId": "a8475aa8-67f2-4462-c6dc-d37663b06ad7"
      },
      "execution_count": 7,
      "outputs": [
        {
          "output_type": "stream",
          "name": "stdout",
          "text": [
            "{'6', '8', 'g', '4', ' ', '7', 'f', 'd'}\n"
          ]
        }
      ]
    },
    {
      "cell_type": "code",
      "source": [
        "a = set(6548)         # hata verir cunku integerlar iterable degildir\n",
        "\n",
        "a.remove('5')\n",
        "\n",
        "print(a)"
      ],
      "metadata": {
        "colab": {
          "base_uri": "https://localhost:8080/",
          "height": 245
        },
        "id": "YkLru1bifjKX",
        "outputId": "4125cf88-87cc-41c9-a793-e764a997044f"
      },
      "execution_count": 8,
      "outputs": [
        {
          "output_type": "error",
          "ename": "TypeError",
          "evalue": "ignored",
          "traceback": [
            "\u001b[0;31m---------------------------------------------------------------------------\u001b[0m",
            "\u001b[0;31mTypeError\u001b[0m                                 Traceback (most recent call last)",
            "\u001b[0;32m<ipython-input-8-f79131a607c8>\u001b[0m in \u001b[0;36m<module>\u001b[0;34m()\u001b[0m\n\u001b[0;32m----> 1\u001b[0;31m \u001b[0ma\u001b[0m \u001b[0;34m=\u001b[0m \u001b[0mset\u001b[0m\u001b[0;34m(\u001b[0m\u001b[0;36m6548\u001b[0m\u001b[0;34m)\u001b[0m         \u001b[0;31m# hata verir cunku integerlar iterable degildir\u001b[0m\u001b[0;34m\u001b[0m\u001b[0;34m\u001b[0m\u001b[0m\n\u001b[0m\u001b[1;32m      2\u001b[0m \u001b[0;34m\u001b[0m\u001b[0m\n\u001b[1;32m      3\u001b[0m \u001b[0ma\u001b[0m\u001b[0;34m.\u001b[0m\u001b[0mremove\u001b[0m\u001b[0;34m(\u001b[0m\u001b[0;34m'5'\u001b[0m\u001b[0;34m)\u001b[0m\u001b[0;34m\u001b[0m\u001b[0;34m\u001b[0m\u001b[0m\n\u001b[1;32m      4\u001b[0m \u001b[0;34m\u001b[0m\u001b[0m\n\u001b[1;32m      5\u001b[0m \u001b[0mprint\u001b[0m\u001b[0;34m(\u001b[0m\u001b[0ma\u001b[0m\u001b[0;34m)\u001b[0m\u001b[0;34m\u001b[0m\u001b[0;34m\u001b[0m\u001b[0m\n",
            "\u001b[0;31mTypeError\u001b[0m: 'int' object is not iterable"
          ]
        }
      ]
    },
    {
      "cell_type": "code",
      "source": [
        "a = set('6548')\n",
        "\n",
        "a.remove('54')\n",
        "\n",
        "print(a)"
      ],
      "metadata": {
        "colab": {
          "base_uri": "https://localhost:8080/",
          "height": 245
        },
        "id": "PaxdxqKBfyzr",
        "outputId": "abba3093-3905-4b33-cd4b-b9ae44fddcb1"
      },
      "execution_count": 9,
      "outputs": [
        {
          "output_type": "error",
          "ename": "KeyError",
          "evalue": "ignored",
          "traceback": [
            "\u001b[0;31m---------------------------------------------------------------------------\u001b[0m",
            "\u001b[0;31mKeyError\u001b[0m                                  Traceback (most recent call last)",
            "\u001b[0;32m<ipython-input-9-18a9dfdb0f80>\u001b[0m in \u001b[0;36m<module>\u001b[0;34m()\u001b[0m\n\u001b[1;32m      1\u001b[0m \u001b[0ma\u001b[0m \u001b[0;34m=\u001b[0m \u001b[0mset\u001b[0m\u001b[0;34m(\u001b[0m\u001b[0;34m'6548'\u001b[0m\u001b[0;34m)\u001b[0m\u001b[0;34m\u001b[0m\u001b[0;34m\u001b[0m\u001b[0m\n\u001b[1;32m      2\u001b[0m \u001b[0;34m\u001b[0m\u001b[0m\n\u001b[0;32m----> 3\u001b[0;31m \u001b[0ma\u001b[0m\u001b[0;34m.\u001b[0m\u001b[0mremove\u001b[0m\u001b[0;34m(\u001b[0m\u001b[0;34m'54'\u001b[0m\u001b[0;34m)\u001b[0m\u001b[0;34m\u001b[0m\u001b[0;34m\u001b[0m\u001b[0m\n\u001b[0m\u001b[1;32m      4\u001b[0m \u001b[0;34m\u001b[0m\u001b[0m\n\u001b[1;32m      5\u001b[0m \u001b[0mprint\u001b[0m\u001b[0;34m(\u001b[0m\u001b[0ma\u001b[0m\u001b[0;34m)\u001b[0m\u001b[0;34m\u001b[0m\u001b[0;34m\u001b[0m\u001b[0m\n",
            "\u001b[0;31mKeyError\u001b[0m: '54'"
          ]
        }
      ]
    },
    {
      "cell_type": "code",
      "source": [
        "a = set('6548')\n",
        "\n",
        "a.remove('5', '4')             # remove() takes exactly one argument (2 given)\n",
        "\n",
        "print(a)"
      ],
      "metadata": {
        "colab": {
          "base_uri": "https://localhost:8080/",
          "height": 245
        },
        "id": "SAobOYNlgMWj",
        "outputId": "0a2d7bf9-7ba6-4886-c9cc-ca4930d43f96"
      },
      "execution_count": 10,
      "outputs": [
        {
          "output_type": "error",
          "ename": "TypeError",
          "evalue": "ignored",
          "traceback": [
            "\u001b[0;31m---------------------------------------------------------------------------\u001b[0m",
            "\u001b[0;31mTypeError\u001b[0m                                 Traceback (most recent call last)",
            "\u001b[0;32m<ipython-input-10-f36ab126cf8f>\u001b[0m in \u001b[0;36m<module>\u001b[0;34m()\u001b[0m\n\u001b[1;32m      1\u001b[0m \u001b[0ma\u001b[0m \u001b[0;34m=\u001b[0m \u001b[0mset\u001b[0m\u001b[0;34m(\u001b[0m\u001b[0;34m'6548'\u001b[0m\u001b[0;34m)\u001b[0m\u001b[0;34m\u001b[0m\u001b[0;34m\u001b[0m\u001b[0m\n\u001b[1;32m      2\u001b[0m \u001b[0;34m\u001b[0m\u001b[0m\n\u001b[0;32m----> 3\u001b[0;31m \u001b[0ma\u001b[0m\u001b[0;34m.\u001b[0m\u001b[0mremove\u001b[0m\u001b[0;34m(\u001b[0m\u001b[0;34m'5'\u001b[0m\u001b[0;34m,\u001b[0m \u001b[0;34m'4'\u001b[0m\u001b[0;34m)\u001b[0m\u001b[0;34m\u001b[0m\u001b[0;34m\u001b[0m\u001b[0m\n\u001b[0m\u001b[1;32m      4\u001b[0m \u001b[0;34m\u001b[0m\u001b[0m\n\u001b[1;32m      5\u001b[0m \u001b[0mprint\u001b[0m\u001b[0;34m(\u001b[0m\u001b[0ma\u001b[0m\u001b[0;34m)\u001b[0m\u001b[0;34m\u001b[0m\u001b[0;34m\u001b[0m\u001b[0m\n",
            "\u001b[0;31mTypeError\u001b[0m: remove() takes exactly one argument (2 given)"
          ]
        }
      ]
    },
    {
      "cell_type": "code",
      "source": [
        "a = {98}\n",
        "\n",
        "a.remove(98)\n",
        "\n",
        "print(a)"
      ],
      "metadata": {
        "colab": {
          "base_uri": "https://localhost:8080/"
        },
        "id": "93ypy63kgQZD",
        "outputId": "454a6025-89ec-4018-a6e6-cc1bf3ab47a4"
      },
      "execution_count": 12,
      "outputs": [
        {
          "output_type": "stream",
          "name": "stdout",
          "text": [
            "set()\n"
          ]
        }
      ]
    },
    {
      "cell_type": "code",
      "source": [
        "a = {98999999999999}\n",
        "\n",
        "a.remove(\"9\")\n",
        "\n",
        "print(a)"
      ],
      "metadata": {
        "colab": {
          "base_uri": "https://localhost:8080/",
          "height": 245
        },
        "id": "ptruuSb6hItd",
        "outputId": "2e268446-3a55-4144-ab51-771333320027"
      },
      "execution_count": 14,
      "outputs": [
        {
          "output_type": "error",
          "ename": "KeyError",
          "evalue": "ignored",
          "traceback": [
            "\u001b[0;31m---------------------------------------------------------------------------\u001b[0m",
            "\u001b[0;31mKeyError\u001b[0m                                  Traceback (most recent call last)",
            "\u001b[0;32m<ipython-input-14-8aa237dac117>\u001b[0m in \u001b[0;36m<module>\u001b[0;34m()\u001b[0m\n\u001b[1;32m      1\u001b[0m \u001b[0ma\u001b[0m \u001b[0;34m=\u001b[0m \u001b[0;34m{\u001b[0m\u001b[0;36m98999999999999\u001b[0m\u001b[0;34m}\u001b[0m\u001b[0;34m\u001b[0m\u001b[0;34m\u001b[0m\u001b[0m\n\u001b[1;32m      2\u001b[0m \u001b[0;34m\u001b[0m\u001b[0m\n\u001b[0;32m----> 3\u001b[0;31m \u001b[0ma\u001b[0m\u001b[0;34m.\u001b[0m\u001b[0mremove\u001b[0m\u001b[0;34m(\u001b[0m\u001b[0;34m\"9\"\u001b[0m\u001b[0;34m)\u001b[0m\u001b[0;34m\u001b[0m\u001b[0;34m\u001b[0m\u001b[0m\n\u001b[0m\u001b[1;32m      4\u001b[0m \u001b[0;34m\u001b[0m\u001b[0m\n\u001b[1;32m      5\u001b[0m \u001b[0mprint\u001b[0m\u001b[0;34m(\u001b[0m\u001b[0ma\u001b[0m\u001b[0;34m)\u001b[0m\u001b[0;34m\u001b[0m\u001b[0;34m\u001b[0m\u001b[0m\n",
            "\u001b[0;31mKeyError\u001b[0m: '9'"
          ]
        }
      ]
    },
    {
      "cell_type": "code",
      "source": [
        "a = {98, 99, 10, 1002}\n",
        "\n",
        "a.remove(99)\n",
        "\n",
        "print(a)"
      ],
      "metadata": {
        "colab": {
          "base_uri": "https://localhost:8080/"
        },
        "id": "yxmwvXO1haXa",
        "outputId": "e73934c1-81de-4632-f88a-5ff70d369257"
      },
      "execution_count": 15,
      "outputs": [
        {
          "output_type": "stream",
          "name": "stdout",
          "text": [
            "{10, 1002, 98}\n"
          ]
        }
      ]
    },
    {
      "cell_type": "code",
      "source": [
        " a = set('a', 'b')         #  set expected at most 1 arguments, got 2\n",
        "\n",
        " print(a)"
      ],
      "metadata": {
        "colab": {
          "base_uri": "https://localhost:8080/",
          "height": 208
        },
        "id": "mB_ttusshsYi",
        "outputId": "2d783fa2-4e63-4eff-b594-1335f3691e1f"
      },
      "execution_count": 16,
      "outputs": [
        {
          "output_type": "error",
          "ename": "TypeError",
          "evalue": "ignored",
          "traceback": [
            "\u001b[0;31m---------------------------------------------------------------------------\u001b[0m",
            "\u001b[0;31mTypeError\u001b[0m                                 Traceback (most recent call last)",
            "\u001b[0;32m<ipython-input-16-546069416f0c>\u001b[0m in \u001b[0;36m<module>\u001b[0;34m()\u001b[0m\n\u001b[0;32m----> 1\u001b[0;31m \u001b[0ma\u001b[0m \u001b[0;34m=\u001b[0m \u001b[0mset\u001b[0m\u001b[0;34m(\u001b[0m\u001b[0;34m'a'\u001b[0m\u001b[0;34m,\u001b[0m \u001b[0;34m'b'\u001b[0m\u001b[0;34m)\u001b[0m\u001b[0;34m\u001b[0m\u001b[0;34m\u001b[0m\u001b[0m\n\u001b[0m\u001b[1;32m      2\u001b[0m \u001b[0;34m\u001b[0m\u001b[0m\n\u001b[1;32m      3\u001b[0m \u001b[0mprint\u001b[0m\u001b[0;34m(\u001b[0m\u001b[0ma\u001b[0m\u001b[0;34m)\u001b[0m\u001b[0;34m\u001b[0m\u001b[0;34m\u001b[0m\u001b[0m\n",
            "\u001b[0;31mTypeError\u001b[0m: set expected at most 1 arguments, got 2"
          ]
        }
      ]
    },
    {
      "cell_type": "code",
      "source": [
        " a = {'a', 'b'}         #  set expected at most 1 arguments, got 2, bu nedenle manuel olarak yapilmasi gerekir\n",
        "\n",
        " print(a)"
      ],
      "metadata": {
        "colab": {
          "base_uri": "https://localhost:8080/"
        },
        "id": "82FvAvy2jBzz",
        "outputId": "8aabd6f1-9f0e-48b1-e995-ec1d3f268928"
      },
      "execution_count": 17,
      "outputs": [
        {
          "output_type": "stream",
          "name": "stdout",
          "text": [
            "{'a', 'b'}\n"
          ]
        }
      ]
    },
    {
      "cell_type": "code",
      "source": [
        "# listelerde remove pop clear nasildi\n",
        "\n",
        "liste = [1, 2, 3]\n",
        "\n",
        "liste.clear()        # clear in default degerini degistiremiyoruz\n",
        "\n",
        "print(liste)         # clear ile tum listeyi sileriz"
      ],
      "metadata": {
        "colab": {
          "base_uri": "https://localhost:8080/"
        },
        "id": "VTMcM8C1jMK6",
        "outputId": "2dff7a99-fc71-47de-b485-b3a8025b388a"
      },
      "execution_count": 18,
      "outputs": [
        {
          "output_type": "stream",
          "name": "stdout",
          "text": [
            "[]\n"
          ]
        }
      ]
    },
    {
      "cell_type": "code",
      "source": [
        "tuplem = (1, 2, 3)\n",
        "\n",
        "tuplem.clear()\n",
        "\n",
        "print(tuplem)  "
      ],
      "metadata": {
        "colab": {
          "base_uri": "https://localhost:8080/",
          "height": 245
        },
        "id": "UvAoofqQmxZq",
        "outputId": "4b3625ef-fa3b-4cf3-d12c-b21ce42268c8"
      },
      "execution_count": 19,
      "outputs": [
        {
          "output_type": "error",
          "ename": "AttributeError",
          "evalue": "ignored",
          "traceback": [
            "\u001b[0;31m---------------------------------------------------------------------------\u001b[0m",
            "\u001b[0;31mAttributeError\u001b[0m                            Traceback (most recent call last)",
            "\u001b[0;32m<ipython-input-19-67a4ccef0dd2>\u001b[0m in \u001b[0;36m<module>\u001b[0;34m()\u001b[0m\n\u001b[1;32m      1\u001b[0m \u001b[0mtuplem\u001b[0m \u001b[0;34m=\u001b[0m \u001b[0;34m(\u001b[0m\u001b[0;36m1\u001b[0m\u001b[0;34m,\u001b[0m \u001b[0;36m2\u001b[0m\u001b[0;34m,\u001b[0m \u001b[0;36m3\u001b[0m\u001b[0;34m)\u001b[0m\u001b[0;34m\u001b[0m\u001b[0;34m\u001b[0m\u001b[0m\n\u001b[1;32m      2\u001b[0m \u001b[0;34m\u001b[0m\u001b[0m\n\u001b[0;32m----> 3\u001b[0;31m \u001b[0mtuplem\u001b[0m\u001b[0;34m.\u001b[0m\u001b[0mclear\u001b[0m\u001b[0;34m(\u001b[0m\u001b[0;34m)\u001b[0m\u001b[0;34m\u001b[0m\u001b[0;34m\u001b[0m\u001b[0m\n\u001b[0m\u001b[1;32m      4\u001b[0m \u001b[0;34m\u001b[0m\u001b[0m\n\u001b[1;32m      5\u001b[0m \u001b[0mprint\u001b[0m\u001b[0;34m(\u001b[0m\u001b[0mtuplem\u001b[0m\u001b[0;34m)\u001b[0m\u001b[0;34m\u001b[0m\u001b[0;34m\u001b[0m\u001b[0m\n",
            "\u001b[0;31mAttributeError\u001b[0m: 'tuple' object has no attribute 'clear'"
          ]
        }
      ]
    },
    {
      "cell_type": "code",
      "source": [
        "liste = [1, 2, 3]\n",
        "\n",
        "liste.pop()\n",
        "\n",
        "print(liste)  "
      ],
      "metadata": {
        "colab": {
          "base_uri": "https://localhost:8080/"
        },
        "id": "guPdtHW6m9v5",
        "outputId": "476a8070-c594-43b6-c93b-32a3c3f0e6d4"
      },
      "execution_count": 20,
      "outputs": [
        {
          "output_type": "stream",
          "name": "stdout",
          "text": [
            "[1, 2]\n"
          ]
        }
      ]
    },
    {
      "cell_type": "code",
      "source": [
        "liste = [1, 2, 3]\n",
        "\n",
        "liste.pop(0)             # index numarasini yazip o degeri de silebliirz\n",
        "\n",
        "print(liste)  "
      ],
      "metadata": {
        "colab": {
          "base_uri": "https://localhost:8080/"
        },
        "id": "aBbZJ1o0nYgh",
        "outputId": "405d810d-dd97-4d63-84ea-c6e8d330c7ff"
      },
      "execution_count": 21,
      "outputs": [
        {
          "output_type": "stream",
          "name": "stdout",
          "text": [
            "[2, 3]\n"
          ]
        }
      ]
    },
    {
      "cell_type": "code",
      "source": [
        "liste = [1, 2, 3, ['sd']]\n",
        "\n",
        "liste.clear()        # clear in default degerini degistiremiyoruz\n",
        "\n",
        "print(liste)  "
      ],
      "metadata": {
        "colab": {
          "base_uri": "https://localhost:8080/"
        },
        "id": "MjAeLSVqndmy",
        "outputId": "01be3b39-5415-406a-977c-99a4e33238c2"
      },
      "execution_count": 24,
      "outputs": [
        {
          "output_type": "stream",
          "name": "stdout",
          "text": [
            "[]\n"
          ]
        }
      ]
    },
    {
      "cell_type": "code",
      "source": [
        "## del metodu tum degisken dahil toptan siler\n",
        "\n",
        "myset = {'defne', 'toprak'}\n",
        "\n",
        "del myset\n",
        "\n",
        "print(myset)"
      ],
      "metadata": {
        "colab": {
          "base_uri": "https://localhost:8080/",
          "height": 208
        },
        "id": "DbljMMQHpb_y",
        "outputId": "bc0b65ce-5056-4ed3-ea61-1f0212e8b26c"
      },
      "execution_count": 25,
      "outputs": [
        {
          "output_type": "error",
          "ename": "NameError",
          "evalue": "ignored",
          "traceback": [
            "\u001b[0;31m---------------------------------------------------------------------------\u001b[0m",
            "\u001b[0;31mNameError\u001b[0m                                 Traceback (most recent call last)",
            "\u001b[0;32m<ipython-input-25-1e84a8f4659e>\u001b[0m in \u001b[0;36m<module>\u001b[0;34m()\u001b[0m\n\u001b[1;32m      5\u001b[0m \u001b[0;32mdel\u001b[0m \u001b[0mmyset\u001b[0m\u001b[0;34m\u001b[0m\u001b[0;34m\u001b[0m\u001b[0m\n\u001b[1;32m      6\u001b[0m \u001b[0;34m\u001b[0m\u001b[0m\n\u001b[0;32m----> 7\u001b[0;31m \u001b[0mprint\u001b[0m\u001b[0;34m(\u001b[0m\u001b[0mmyset\u001b[0m\u001b[0;34m)\u001b[0m\u001b[0;34m\u001b[0m\u001b[0;34m\u001b[0m\u001b[0m\n\u001b[0m",
            "\u001b[0;31mNameError\u001b[0m: name 'myset' is not defined"
          ]
        }
      ]
    },
    {
      "cell_type": "code",
      "source": [
        "myset = {'defne', 'toprak', 'arya', 'nehir'}\n",
        "\n",
        "del(myset[0:2])                     # setlerde slicelama olmadigi icin \n",
        "\n",
        "print(myset)"
      ],
      "metadata": {
        "colab": {
          "base_uri": "https://localhost:8080/",
          "height": 245
        },
        "id": "s4AgGE2cqfph",
        "outputId": "72bbd84a-f714-4659-cc60-f40f90be7ec6"
      },
      "execution_count": 26,
      "outputs": [
        {
          "output_type": "error",
          "ename": "TypeError",
          "evalue": "ignored",
          "traceback": [
            "\u001b[0;31m---------------------------------------------------------------------------\u001b[0m",
            "\u001b[0;31mTypeError\u001b[0m                                 Traceback (most recent call last)",
            "\u001b[0;32m<ipython-input-26-9246032be10e>\u001b[0m in \u001b[0;36m<module>\u001b[0;34m()\u001b[0m\n\u001b[1;32m      1\u001b[0m \u001b[0mmyset\u001b[0m \u001b[0;34m=\u001b[0m \u001b[0;34m{\u001b[0m\u001b[0;34m'defne'\u001b[0m\u001b[0;34m,\u001b[0m \u001b[0;34m'toprak'\u001b[0m\u001b[0;34m,\u001b[0m \u001b[0;34m'arya'\u001b[0m\u001b[0;34m,\u001b[0m \u001b[0;34m'nehir'\u001b[0m\u001b[0;34m}\u001b[0m\u001b[0;34m\u001b[0m\u001b[0;34m\u001b[0m\u001b[0m\n\u001b[1;32m      2\u001b[0m \u001b[0;34m\u001b[0m\u001b[0m\n\u001b[0;32m----> 3\u001b[0;31m \u001b[0;32mdel\u001b[0m\u001b[0;34m(\u001b[0m\u001b[0mmyset\u001b[0m\u001b[0;34m[\u001b[0m\u001b[0;36m0\u001b[0m\u001b[0;34m:\u001b[0m\u001b[0;36m2\u001b[0m\u001b[0;34m]\u001b[0m\u001b[0;34m)\u001b[0m\u001b[0;34m\u001b[0m\u001b[0;34m\u001b[0m\u001b[0m\n\u001b[0m\u001b[1;32m      4\u001b[0m \u001b[0;34m\u001b[0m\u001b[0m\n\u001b[1;32m      5\u001b[0m \u001b[0mprint\u001b[0m\u001b[0;34m(\u001b[0m\u001b[0mmyset\u001b[0m\u001b[0;34m)\u001b[0m\u001b[0;34m\u001b[0m\u001b[0;34m\u001b[0m\u001b[0m\n",
            "\u001b[0;31mTypeError\u001b[0m: 'set' object does not support item deletion"
          ]
        }
      ]
    },
    {
      "cell_type": "code",
      "source": [
        "myset = ['defne', 'toprak', 'arya', 'nehir']\n",
        "\n",
        "del(myset[0:2])         \n",
        "\n",
        "print(myset)"
      ],
      "metadata": {
        "colab": {
          "base_uri": "https://localhost:8080/"
        },
        "id": "esoR3cKErAS5",
        "outputId": "0a6bb6f4-554d-4b8c-9f83-dda2b2dfd893"
      },
      "execution_count": 27,
      "outputs": [
        {
          "output_type": "stream",
          "name": "stdout",
          "text": [
            "['arya', 'nehir']\n"
          ]
        }
      ]
    },
    {
      "cell_type": "code",
      "source": [
        "#setlerde eleman silmenin bir diger methodu discard dir.\n",
        "\n",
        "setim = {'a', 'b', 'c'}\n",
        "\n",
        "setim.discard('b')             # discard fonk icine index numarasi yazilmaz. hata vermez ama bir sonucta dondurmez. discard icine sadwece silinmek istenen eleman yazilir.\n",
        "\n",
        "print(setim)"
      ],
      "metadata": {
        "colab": {
          "base_uri": "https://localhost:8080/"
        },
        "id": "z8N_Tq_rrGMZ",
        "outputId": "b904d3dd-c272-4429-dbd6-2e964e7b2788"
      },
      "execution_count": 29,
      "outputs": [
        {
          "output_type": "stream",
          "name": "stdout",
          "text": [
            "{'a', 'c'}\n"
          ]
        }
      ]
    },
    {
      "cell_type": "code",
      "source": [
        "##########   intersection()   ##########\n"
      ],
      "metadata": {
        "id": "_w9Yqq3VsRbR"
      },
      "execution_count": null,
      "outputs": []
    },
    {
      "cell_type": "code",
      "source": [
        "# iki kumenin kesisimini almak icin iki farkli yontemimiz vardir\n",
        "\n",
        "#1. yontem :    a & b \n",
        "\n",
        "#2. yontem :    .intersection()"
      ],
      "metadata": {
        "id": "VK3Q_92vs5MT"
      },
      "execution_count": null,
      "outputs": []
    },
    {
      "cell_type": "code",
      "source": [
        "#  1. yontem\n",
        "\n",
        "a = set('izmir')\n",
        "b = set('ankara')\n",
        "\n",
        "print(a&b)"
      ],
      "metadata": {
        "colab": {
          "base_uri": "https://localhost:8080/"
        },
        "id": "CDVm13dztJQu",
        "outputId": "6a1f11c6-eabd-46d9-c038-a491804a440e"
      },
      "execution_count": 30,
      "outputs": [
        {
          "output_type": "stream",
          "name": "stdout",
          "text": [
            "{'r'}\n"
          ]
        }
      ]
    },
    {
      "cell_type": "code",
      "source": [
        "a = set('izmir')\n",
        "b = set('ankara')\n",
        "\n",
        "kesisim = a & b \n",
        "\n",
        "print(kesisim)"
      ],
      "metadata": {
        "colab": {
          "base_uri": "https://localhost:8080/"
        },
        "id": "18awlD9JtVkh",
        "outputId": "abac6d91-084f-423b-a9b1-540e975a9f03"
      },
      "execution_count": 31,
      "outputs": [
        {
          "output_type": "stream",
          "name": "stdout",
          "text": [
            "{'r'}\n"
          ]
        }
      ]
    },
    {
      "cell_type": "code",
      "source": [
        "#  2. yontem\n",
        "\n",
        "a = set('izmir')\n",
        "b = set('ankara')\n",
        "\n",
        "print(a.intersection(b))"
      ],
      "metadata": {
        "colab": {
          "base_uri": "https://localhost:8080/"
        },
        "id": "llb4Rmg-tk9x",
        "outputId": "6034bb60-6231-4b41-c1cf-d3d1c2fbdd9b"
      },
      "execution_count": 32,
      "outputs": [
        {
          "output_type": "stream",
          "name": "stdout",
          "text": [
            "{'r'}\n"
          ]
        }
      ]
    },
    {
      "cell_type": "code",
      "source": [
        "a = set('izmir')\n",
        "b = set('ankara')\n",
        "\n",
        "kesisim = a.intersection(b)\n",
        "\n",
        "print(kesisim)"
      ],
      "metadata": {
        "colab": {
          "base_uri": "https://localhost:8080/"
        },
        "id": "nArWDyFstwVC",
        "outputId": "cd07575b-f60d-4486-fdb7-73d2d520b753"
      },
      "execution_count": 33,
      "outputs": [
        {
          "output_type": "stream",
          "name": "stdout",
          "text": [
            "{'r'}\n"
          ]
        }
      ]
    },
    {
      "cell_type": "code",
      "source": [
        "a = set('izmir')\n",
        "b = set('ankara')\n",
        "\n",
        "kesisim = b.intersection(a)\n",
        "\n",
        "print(kesisim)"
      ],
      "metadata": {
        "colab": {
          "base_uri": "https://localhost:8080/"
        },
        "id": "UnJb-YmIuAhg",
        "outputId": "8e8d55ec-908e-45b6-f60d-602068391d18"
      },
      "execution_count": 34,
      "outputs": [
        {
          "output_type": "stream",
          "name": "stdout",
          "text": [
            "{'r'}\n"
          ]
        }
      ]
    },
    {
      "cell_type": "code",
      "source": [
        "a = set('izmir')\n",
        "b = set('ankara')\n",
        "\n",
        "kesisim = b & a \n",
        "\n",
        "print(kesisim)"
      ],
      "metadata": {
        "colab": {
          "base_uri": "https://localhost:8080/"
        },
        "id": "bzqgNiuuuGYA",
        "outputId": "9f5876b0-b5af-4e22-f139-443e953a0cec"
      },
      "execution_count": 35,
      "outputs": [
        {
          "output_type": "stream",
          "name": "stdout",
          "text": [
            "{'r'}\n"
          ]
        }
      ]
    },
    {
      "cell_type": "code",
      "source": [
        "a = {'12345'}\n",
        "b = {'1234'}\n",
        "\n",
        "kesisim = b.intersection(a)           # kesisimleri olmadigi icin bos kume cevirir\n",
        "\n",
        "print(kesisim)"
      ],
      "metadata": {
        "colab": {
          "base_uri": "https://localhost:8080/"
        },
        "id": "IiB-pAiYuKtA",
        "outputId": "6bc85209-b00e-4ce2-cffd-13babd6aea64"
      },
      "execution_count": 36,
      "outputs": [
        {
          "output_type": "stream",
          "name": "stdout",
          "text": [
            "set()\n"
          ]
        }
      ]
    },
    {
      "cell_type": "code",
      "source": [
        "a = set('12345')\n",
        "b = set('1234')\n",
        "\n",
        "kesisim = b.intersection(a)         \n",
        "\n",
        "print(kesisim)"
      ],
      "metadata": {
        "colab": {
          "base_uri": "https://localhost:8080/"
        },
        "id": "r5oX18xougvQ",
        "outputId": "219bddb2-42bb-432e-c716-c3c263fab6fc"
      },
      "execution_count": 37,
      "outputs": [
        {
          "output_type": "stream",
          "name": "stdout",
          "text": [
            "{'3', '2', '1', '4'}\n"
          ]
        }
      ]
    },
    {
      "cell_type": "code",
      "source": [
        "##  union()\n",
        "\n",
        "a = {'1', '2', '3'}\n",
        "\n",
        "b = a.union('6')\n",
        "\n",
        "print(b)"
      ],
      "metadata": {
        "colab": {
          "base_uri": "https://localhost:8080/"
        },
        "id": "i19FhhxIuwzo",
        "outputId": "fc38c642-132b-4a63-eedc-b8dad9823465"
      },
      "execution_count": 38,
      "outputs": [
        {
          "output_type": "stream",
          "name": "stdout",
          "text": [
            "{'3', '2', '6', '1'}\n"
          ]
        }
      ]
    },
    {
      "cell_type": "code",
      "source": [
        "a = {'1', '2', '3'}\n",
        "\n",
        "b = a.union('6', '7', '8')\n",
        "\n",
        "print(b)"
      ],
      "metadata": {
        "colab": {
          "base_uri": "https://localhost:8080/"
        },
        "id": "zMGUlwCbvfsb",
        "outputId": "0edec2e2-6243-49c3-ab01-d3989b03909f"
      },
      "execution_count": 39,
      "outputs": [
        {
          "output_type": "stream",
          "name": "stdout",
          "text": [
            "{'3', '6', '2', '8', '7', '1'}\n"
          ]
        }
      ]
    },
    {
      "cell_type": "code",
      "source": [
        "a = {'1', '2', '3'}\n",
        "\n",
        "\n",
        "print(a.union('6', '7', '8'))"
      ],
      "metadata": {
        "colab": {
          "base_uri": "https://localhost:8080/"
        },
        "id": "5D8RGE4pvu1Y",
        "outputId": "5be9c027-31b8-4308-f100-018b3985acc6"
      },
      "execution_count": 40,
      "outputs": [
        {
          "output_type": "stream",
          "name": "stdout",
          "text": [
            "{'3', '6', '2', '8', '7', '1'}\n"
          ]
        }
      ]
    },
    {
      "cell_type": "code",
      "source": [
        "a = {'1', '2', '3'}\n",
        "\n",
        "a.union('6')\n",
        "\n",
        "print(a)"
      ],
      "metadata": {
        "colab": {
          "base_uri": "https://localhost:8080/"
        },
        "id": "-WrcSA5ov18-",
        "outputId": "7882e33d-c0b1-4f49-94df-5ddc6be2e519"
      },
      "execution_count": 43,
      "outputs": [
        {
          "output_type": "stream",
          "name": "stdout",
          "text": [
            "{'3', '2', '1'}\n"
          ]
        }
      ]
    },
    {
      "cell_type": "code",
      "source": [
        "a = {1.0, 2.0, 3.0}\n",
        "\n",
        "b = {1,2,3}\n",
        "\n",
        "kesisim = b.intersection(a)\n",
        "\n",
        "print(kesisim)"
      ],
      "metadata": {
        "colab": {
          "base_uri": "https://localhost:8080/"
        },
        "id": "G_9AZv06wHon",
        "outputId": "0510b850-334a-4e1d-b0f5-ceedaebf3de2"
      },
      "execution_count": 3,
      "outputs": [
        {
          "output_type": "stream",
          "name": "stdout",
          "text": [
            "{1.0, 2.0, 3.0}\n"
          ]
        }
      ]
    },
    {
      "cell_type": "code",
      "source": [
        "a = {1.0, 2.0, 3.0}\n",
        "\n",
        "b = {1,2}                                              #hangi eleman azsa ciktiyi onun cinsinde yaziyor\n",
        "\n",
        "kesisim = b.intersection(a)\n",
        "\n",
        "print(kesisim)"
      ],
      "metadata": {
        "colab": {
          "base_uri": "https://localhost:8080/"
        },
        "id": "Vi6PceEdf3iZ",
        "outputId": "0f355d3f-1241-4a4f-d3f4-a59d29740c12"
      },
      "execution_count": 9,
      "outputs": [
        {
          "output_type": "stream",
          "name": "stdout",
          "text": [
            "{1, 2}\n"
          ]
        }
      ]
    },
    {
      "cell_type": "code",
      "source": [
        "# set icerisinde bool() func calisir mi?\n",
        "\n",
        "a = {bool(1), bool(2), bool(None), bool('defne')}\n",
        "b = {True, False, None}\n",
        "\n",
        "kesisim = b.intersection(a)\n",
        "\n",
        "print(kesisim)"
      ],
      "metadata": {
        "colab": {
          "base_uri": "https://localhost:8080/"
        },
        "id": "cTaHX-D-cy7z",
        "outputId": "9791a39b-9d6d-4422-e65d-714a86e0fa33"
      },
      "execution_count": 7,
      "outputs": [
        {
          "output_type": "stream",
          "name": "stdout",
          "text": [
            "{False, True}\n"
          ]
        }
      ]
    },
    {
      "cell_type": "code",
      "source": [
        "## set icerisinde and or ve not calisir mi?\n",
        "\n",
        "a = {bool(1), bool(2), bool(None), bool('defne')}\n",
        "b = {True and False and not None}\n",
        "\n",
        "kesisim = b.intersection(a)\n",
        "\n",
        "print(kesisim)"
      ],
      "metadata": {
        "colab": {
          "base_uri": "https://localhost:8080/"
        },
        "id": "tpgJHXaBdSn1",
        "outputId": "3c48862a-cddf-404e-847a-0b0bfb73a420"
      },
      "execution_count": 10,
      "outputs": [
        {
          "output_type": "stream",
          "name": "stdout",
          "text": [
            "{False}\n"
          ]
        }
      ]
    },
    {
      "cell_type": "code",
      "source": [
        "b = {True and False and not None}\n",
        "\n",
        "print(len(b))"
      ],
      "metadata": {
        "colab": {
          "base_uri": "https://localhost:8080/"
        },
        "id": "Jx4J5P1rk_3g",
        "outputId": "7e6b5642-34c8-4d22-c6a0-72a9a2b7fc25"
      },
      "execution_count": 11,
      "outputs": [
        {
          "output_type": "stream",
          "name": "stdout",
          "text": [
            "1\n"
          ]
        }
      ]
    },
    {
      "cell_type": "code",
      "source": [
        "# python da ikiden daha cok kumenin kesisimini bulablir miyiz?\n",
        "\n",
        "a = {1, 2}\n",
        "b = {1, 3}\n",
        "c = {1,4}\n",
        "\n",
        "print(a & b & c)"
      ],
      "metadata": {
        "colab": {
          "base_uri": "https://localhost:8080/"
        },
        "id": "3NtnXBVDlF1E",
        "outputId": "573eded9-f81d-4730-9ee2-4763f88bf62c"
      },
      "execution_count": 12,
      "outputs": [
        {
          "output_type": "stream",
          "name": "stdout",
          "text": [
            "{1}\n"
          ]
        }
      ]
    },
    {
      "cell_type": "code",
      "source": [
        "a = {1, 2}\n",
        "b = {1, 3}\n",
        "c = {1,4}\n",
        "\n",
        "print(a.intersection(b,c))\n",
        "\n",
        "print(a.intersection(b & c))\n",
        "\n",
        "print(a.intersection(b).intersection(c))\n",
        "\n",
        "print(type(a.intersection(b,c)))\n",
        "\n",
        "print(type(a.intersection(b & c)))\n",
        "\n",
        "print(type(a.intersection(b).intersection(c)))"
      ],
      "metadata": {
        "colab": {
          "base_uri": "https://localhost:8080/"
        },
        "id": "L8PWERW0ncXf",
        "outputId": "7b2f944e-ac70-4a8c-dd94-78fb5afae112"
      },
      "execution_count": 19,
      "outputs": [
        {
          "output_type": "stream",
          "name": "stdout",
          "text": [
            "{1}\n",
            "{1}\n",
            "{1}\n",
            "<class 'set'>\n",
            "<class 'set'>\n",
            "<class 'set'>\n"
          ]
        }
      ]
    },
    {
      "cell_type": "code",
      "source": [
        "a = set('ankara')\n",
        "b = set('atlanta')\n",
        "c = set('atlantik')\n",
        "\n",
        "print( a & b & c)"
      ],
      "metadata": {
        "colab": {
          "base_uri": "https://localhost:8080/"
        },
        "id": "qp0cYuT8pyID",
        "outputId": "82098e02-ef2d-40fc-d725-97933ec5a3df"
      },
      "execution_count": 16,
      "outputs": [
        {
          "output_type": "stream",
          "name": "stdout",
          "text": [
            "{'n', 'a'}\n"
          ]
        }
      ]
    },
    {
      "cell_type": "code",
      "source": [
        "a = set('ankara')\n",
        "b = set('atlanta')\n",
        "\n",
        "new = a and b        # sadece b yi yazdiriyor\n",
        "\n",
        "print(new)"
      ],
      "metadata": {
        "colab": {
          "base_uri": "https://localhost:8080/"
        },
        "id": "gum5VDoEvdYY",
        "outputId": "8407b304-14a8-47b6-818c-5d390319db62"
      },
      "execution_count": 17,
      "outputs": [
        {
          "output_type": "stream",
          "name": "stdout",
          "text": [
            "{'l', 'n', 'a', 't'}\n"
          ]
        }
      ]
    },
    {
      "cell_type": "code",
      "source": [
        "## complex syilarda kesisim\n",
        "\n",
        "a = {3+3j}\n",
        "b = {3+5j}\n",
        "\n",
        "c = {2+8j}\n",
        "d = {2+8j}\n",
        "\n",
        "print(a &b)\n",
        "\n",
        "print(c&d)              #kesisim olabilmesi icin komple ayni olmasi gerekiyor"
      ],
      "metadata": {
        "colab": {
          "base_uri": "https://localhost:8080/"
        },
        "id": "2y8Pun_1w_N1",
        "outputId": "44ffaca5-d8e8-4285-acaf-c42cf885d086"
      },
      "execution_count": 21,
      "outputs": [
        {
          "output_type": "stream",
          "name": "stdout",
          "text": [
            "set()\n",
            "{(2+8j)}\n"
          ]
        }
      ]
    },
    {
      "cell_type": "code",
      "source": [
        "set1 = {True and False and True}                 # False gelir\n",
        "set2 = {True or False or True}               #True gelir\n",
        "\n",
        "print(set1 & set2)"
      ],
      "metadata": {
        "colab": {
          "base_uri": "https://localhost:8080/"
        },
        "id": "gFv5-_53yP-K",
        "outputId": "f9623775-4359-4c5c-90d1-33ac635ccc00"
      },
      "execution_count": 22,
      "outputs": [
        {
          "output_type": "stream",
          "name": "stdout",
          "text": [
            "set()\n"
          ]
        }
      ]
    },
    {
      "cell_type": "code",
      "source": [
        "################# difference #################"
      ],
      "metadata": {
        "id": "HIiMFhB4zmUx"
      },
      "execution_count": 23,
      "outputs": []
    },
    {
      "cell_type": "code",
      "source": [
        "# 2 farkli kullanimi vardir\n",
        "\n",
        "# 1:\n",
        "\n",
        "set1 = {'ben', 'sen', 'o', 'biz'}\n",
        "set2 = {'ben', 'biz', 'siz', 'onlar'}\n",
        "\n",
        "fark = set1 - set2\n",
        "fark2 = set2 - set1\n",
        "\n",
        "print(fark)\n",
        "print(fark2)"
      ],
      "metadata": {
        "colab": {
          "base_uri": "https://localhost:8080/"
        },
        "id": "wtILlCXlzxYX",
        "outputId": "01b12372-8877-4482-c774-4140d513b153"
      },
      "execution_count": 24,
      "outputs": [
        {
          "output_type": "stream",
          "name": "stdout",
          "text": [
            "{'sen', 'o'}\n",
            "{'siz', 'onlar'}\n"
          ]
        }
      ]
    },
    {
      "cell_type": "code",
      "source": [
        "# 2 :\n",
        "\n",
        "set1 = {'ben', 'sen', 'o', 'biz'}\n",
        "set2 = {'ben', 'biz', 'siz', 'onlar'}\n",
        "\n",
        "fark = set1.difference(set2)\n",
        "fark2 = set2.difference(set1)\n",
        "\n",
        "print(fark)\n",
        "print(fark2)\n",
        "\n",
        "print(set1.difference(set2))\n",
        "print(set2.difference(set1))\n"
      ],
      "metadata": {
        "colab": {
          "base_uri": "https://localhost:8080/"
        },
        "id": "WxyErtsx0YA8",
        "outputId": "881dc9a8-3aa0-4a01-a233-eb50df11617f"
      },
      "execution_count": 26,
      "outputs": [
        {
          "output_type": "stream",
          "name": "stdout",
          "text": [
            "{'sen', 'o'}\n",
            "{'siz', 'onlar'}\n",
            "{'sen', 'o'}\n",
            "{'siz', 'onlar'}\n"
          ]
        }
      ]
    },
    {
      "cell_type": "code",
      "source": [
        "set1 = {'ben', 'sen', 'o', 'biz'}\n",
        "set2 = {'ben', 'biz', 'siz', 'onlar'}\n",
        "\n",
        "print(set1 and set2)    # set2 yi dondurur\n"
      ],
      "metadata": {
        "colab": {
          "base_uri": "https://localhost:8080/"
        },
        "id": "uj_m_TyN1Yo0",
        "outputId": "1878d232-c175-48a2-e983-824b613a9bd9"
      },
      "execution_count": 27,
      "outputs": [
        {
          "output_type": "stream",
          "name": "stdout",
          "text": [
            "{'biz', 'siz', 'onlar', 'ben'}\n"
          ]
        }
      ]
    },
    {
      "cell_type": "code",
      "source": [
        "set1 = {'ben', 'sen', 'o', 'biz'}\n",
        "set2 = {'ben', 'biz', 'siz', 'onlar'}\n",
        "set3 = {'ben', 1, 2, 3}\n",
        "set4 = {'ben', 'ekim', 'kasim'}\n",
        "\n",
        "print(set4 - (set1 | set2 | set3))"
      ],
      "metadata": {
        "colab": {
          "base_uri": "https://localhost:8080/"
        },
        "id": "p38iVzry2p9Z",
        "outputId": "9580badd-30bc-404d-9448-bf4a48b3b578"
      },
      "execution_count": 28,
      "outputs": [
        {
          "output_type": "stream",
          "name": "stdout",
          "text": [
            "{'ekim', 'kasim'}\n"
          ]
        }
      ]
    },
    {
      "cell_type": "code",
      "source": [
        "set1 = {'ben', 'sen', 'o', 'biz'}\n",
        "set2 = {'ben', 'biz', 'siz', 'onlar'}\n",
        "set3 = {'ben', 1, 2, 3}\n",
        "set4 = {'ben', 'ekim', 'kasim'}\n",
        "\n",
        "print((set1 & set2) - (set3 &set4))"
      ],
      "metadata": {
        "colab": {
          "base_uri": "https://localhost:8080/"
        },
        "id": "z_05_P0Z3EFc",
        "outputId": "a3e4f27e-68b8-4bae-bbfe-0716e3be2735"
      },
      "execution_count": 29,
      "outputs": [
        {
          "output_type": "stream",
          "name": "stdout",
          "text": [
            "{'biz'}\n"
          ]
        }
      ]
    },
    {
      "cell_type": "code",
      "source": [
        "#########  union ###########\n",
        "\n",
        "# 2 farkli yontem vardir\n",
        "\n",
        "# 1 :\n",
        "\n",
        "set1 = {'ben', 'sen', 'o', 'biz'}\n",
        "set2 = {'ben', 'biz', 'siz', 'onlar'}\n",
        "\n",
        "print(set1 | set2)\n"
      ],
      "metadata": {
        "colab": {
          "base_uri": "https://localhost:8080/"
        },
        "id": "WuZT6t7m328D",
        "outputId": "4a84206d-1c77-47b7-d811-0a6796a4dec7"
      },
      "execution_count": 30,
      "outputs": [
        {
          "output_type": "stream",
          "name": "stdout",
          "text": [
            "{'sen', 'o', 'ben', 'onlar', 'biz', 'siz'}\n"
          ]
        }
      ]
    },
    {
      "cell_type": "code",
      "source": [
        "# 2. yontem\n",
        "\n",
        "set1 = {'ben', 'sen', 'o', 'biz'}\n",
        "set2 = {'ben', 'biz', 'siz', 'onlar'}\n",
        "\n",
        "\n",
        "print(set1.union(set2))\n",
        "print(set2.union(set1))\n",
        "\n"
      ],
      "metadata": {
        "colab": {
          "base_uri": "https://localhost:8080/"
        },
        "id": "nOEHsd9y50hS",
        "outputId": "ddeeafb3-22db-427f-9f84-3a1544a4f707"
      },
      "execution_count": 31,
      "outputs": [
        {
          "output_type": "stream",
          "name": "stdout",
          "text": [
            "{'sen', 'o', 'ben', 'onlar', 'biz', 'siz'}\n",
            "{'sen', 'o', 'onlar', 'ben', 'biz', 'siz'}\n"
          ]
        }
      ]
    },
    {
      "cell_type": "code",
      "source": [
        "\n",
        "set1 = {'ben', 'sen', 'o', 'biz'}\n",
        "set2 = {'ben', 'biz', 'siz', 'onlar'}\n",
        "set3 = {'ben', 'ankara', ' izmir', 'malatya'}\n",
        "\n",
        "print((set1 | set2 | set3) - ((set1 & set2) | (set3 & set1) | (set2 & set3)))"
      ],
      "metadata": {
        "colab": {
          "base_uri": "https://localhost:8080/"
        },
        "id": "nrr5Q13v6Bpu",
        "outputId": "fc30e2b5-9669-4b10-b4bc-cf6e46cefce0"
      },
      "execution_count": 35,
      "outputs": [
        {
          "output_type": "stream",
          "name": "stdout",
          "text": [
            "{'sen', 'o', 'onlar', 'malatya', ' izmir', 'ankara', 'siz'}\n"
          ]
        }
      ]
    },
    {
      "cell_type": "code",
      "source": [
        "### NOT\n",
        "\n",
        "#IKI KUMENIN BIRLESIMI ICIN UPDATE() METODUNU DA KULLANABLIRIZ\n",
        "\n",
        "kume1 = {'ben', 'sen', 'o'}\n",
        "kume2 = {'ben', 'biz', 'siz', 'onlar'}\n",
        "\n",
        "kume1.update(kume2)        # liste ve tuple da calismiyor. dict lerde calisiyor.\n",
        "\n",
        "print(kume1)"
      ],
      "metadata": {
        "colab": {
          "base_uri": "https://localhost:8080/"
        },
        "id": "GYHWBwnT6ckb",
        "outputId": "5c8eabc0-f545-4ca1-da80-3ed69d5a849e"
      },
      "execution_count": 36,
      "outputs": [
        {
          "output_type": "stream",
          "name": "stdout",
          "text": [
            "{'sen', 'o', 'ben', 'onlar', 'biz', 'siz'}\n"
          ]
        }
      ]
    },
    {
      "cell_type": "code",
      "source": [
        "# DICT I SETE CEVIRME\n",
        "\n",
        "mydict = {'cicek' : 'manolya'}\n",
        "\n",
        "print(set(mydict))\n",
        "\n",
        "print(set(mydict.items()))\n",
        "\n",
        "print(set(mydict.values()))"
      ],
      "metadata": {
        "colab": {
          "base_uri": "https://localhost:8080/"
        },
        "id": "0X-pBiiQ8DZ3",
        "outputId": "e2ac8447-af9f-4c8d-d7bc-caca38316cba"
      },
      "execution_count": 4,
      "outputs": [
        {
          "output_type": "stream",
          "name": "stdout",
          "text": [
            "{'cicek'}\n",
            "{('cicek', 'manolya')}\n",
            "{'manolya'}\n"
          ]
        }
      ]
    },
    {
      "cell_type": "code",
      "source": [
        "##### ONEMLI \n",
        "\n",
        "a = dict(can = \"kan\")   # yazim sekilllerine dikkat et    \n",
        "\n",
        "print(a)"
      ],
      "metadata": {
        "colab": {
          "base_uri": "https://localhost:8080/"
        },
        "id": "0T9XPNFoVX6l",
        "outputId": "bec62dde-e003-454b-efd0-a3cb1c6c158b"
      },
      "execution_count": 5,
      "outputs": [
        {
          "output_type": "stream",
          "name": "stdout",
          "text": [
            "{'can': 'kan'}\n"
          ]
        }
      ]
    },
    {
      "cell_type": "code",
      "source": [
        "a = {'can' : 'kan'}              # yazim sekilllerine dikkat et\n",
        "\n",
        "print(a)"
      ],
      "metadata": {
        "colab": {
          "base_uri": "https://localhost:8080/"
        },
        "id": "wPBz-YvfWS4d",
        "outputId": "74a86ec9-d452-4d8b-a89a-c8a36148b6f4"
      },
      "execution_count": 6,
      "outputs": [
        {
          "output_type": "stream",
          "name": "stdout",
          "text": [
            "{'can': 'kan'}\n"
          ]
        }
      ]
    },
    {
      "cell_type": "code",
      "source": [
        "# dictlerde list ve dict key olmaz!"
      ],
      "metadata": {
        "id": "O-a7WNO4WZmm"
      },
      "execution_count": null,
      "outputs": []
    },
    {
      "cell_type": "code",
      "source": [
        "#### extend methodu\n",
        "\n",
        "meyve1 = ['elma', 'armut']\n",
        "meyve2 = ['portakal', 'armut', 'kiraz']\n",
        "\n",
        "meyve1.extend(meyve2)\n",
        "\n",
        "print(meyve1)"
      ],
      "metadata": {
        "colab": {
          "base_uri": "https://localhost:8080/"
        },
        "id": "5_akSbf2aAb3",
        "outputId": "b4da416b-d86c-4436-f5c2-c7e2252bde66"
      },
      "execution_count": 7,
      "outputs": [
        {
          "output_type": "stream",
          "name": "stdout",
          "text": [
            "['elma', 'armut', 'portakal', 'armut', 'kiraz']\n"
          ]
        }
      ]
    },
    {
      "cell_type": "code",
      "source": [
        "meyve1 = ['elma', 'armut']\n",
        "\n",
        "meyve1.extend('ananas')\n",
        "\n",
        "print(meyve1)"
      ],
      "metadata": {
        "colab": {
          "base_uri": "https://localhost:8080/"
        },
        "id": "9H615tfEbmju",
        "outputId": "949b9f9f-6a0a-4d42-ddde-89044f6b59c4"
      },
      "execution_count": 10,
      "outputs": [
        {
          "output_type": "stream",
          "name": "stdout",
          "text": [
            "['elma', 'armut', 'a', 'n', 'a', 'n', 'a', 's']\n"
          ]
        }
      ]
    },
    {
      "cell_type": "code",
      "source": [
        "meyve1 = ['elma', 'armut']\n",
        "\n",
        "meyve1.extend(['ananas'])\n",
        "\n",
        "print(meyve1)"
      ],
      "metadata": {
        "colab": {
          "base_uri": "https://localhost:8080/"
        },
        "id": "Um_qsVlVb0WG",
        "outputId": "e29ac402-e6e8-45bb-85b0-ce64bd3ab235"
      },
      "execution_count": 13,
      "outputs": [
        {
          "output_type": "stream",
          "name": "stdout",
          "text": [
            "['elma', 'armut', 'ananas']\n"
          ]
        }
      ]
    },
    {
      "cell_type": "code",
      "source": [
        "meyve1 = ['elma', 'armut']\n",
        "\n",
        "meyve1.extend(('ananas',))      ## tuple olarak yazildiginda da tek eleman olarak ekler\n",
        "\n",
        "print(meyve1)"
      ],
      "metadata": {
        "colab": {
          "base_uri": "https://localhost:8080/"
        },
        "id": "5NvPZeqpcFt-",
        "outputId": "b92ebb9b-7967-4b8f-ae44-87e5d1d87c16"
      },
      "execution_count": 15,
      "outputs": [
        {
          "output_type": "stream",
          "name": "stdout",
          "text": [
            "['elma', 'armut', 'ananas']\n"
          ]
        }
      ]
    },
    {
      "cell_type": "code",
      "source": [
        "meyve1 = {'elma', 'armut'}\n",
        "meyve2 = {'portakal', 'armut', 'kiraz'}\n",
        "\n",
        "meyve1.extend(meyve2)          ##  'set' object has no attribute 'extend',    dictlerde de kullanilamaz\n",
        "\n",
        "print(meyve1)"
      ],
      "metadata": {
        "colab": {
          "base_uri": "https://localhost:8080/",
          "height": 245
        },
        "id": "cHRviMG9bPMd",
        "outputId": "277ee877-50a6-41bb-ad03-ce7cab30c63a"
      },
      "execution_count": 8,
      "outputs": [
        {
          "output_type": "error",
          "ename": "AttributeError",
          "evalue": "ignored",
          "traceback": [
            "\u001b[0;31m---------------------------------------------------------------------------\u001b[0m",
            "\u001b[0;31mAttributeError\u001b[0m                            Traceback (most recent call last)",
            "\u001b[0;32m<ipython-input-8-83f95c8f0326>\u001b[0m in \u001b[0;36m<module>\u001b[0;34m()\u001b[0m\n\u001b[1;32m      2\u001b[0m \u001b[0mmeyve2\u001b[0m \u001b[0;34m=\u001b[0m \u001b[0;34m{\u001b[0m\u001b[0;34m'portakal'\u001b[0m\u001b[0;34m,\u001b[0m \u001b[0;34m'armut'\u001b[0m\u001b[0;34m,\u001b[0m \u001b[0;34m'kiraz'\u001b[0m\u001b[0;34m}\u001b[0m\u001b[0;34m\u001b[0m\u001b[0;34m\u001b[0m\u001b[0m\n\u001b[1;32m      3\u001b[0m \u001b[0;34m\u001b[0m\u001b[0m\n\u001b[0;32m----> 4\u001b[0;31m \u001b[0mmeyve1\u001b[0m\u001b[0;34m.\u001b[0m\u001b[0mextend\u001b[0m\u001b[0;34m(\u001b[0m\u001b[0mmeyve2\u001b[0m\u001b[0;34m)\u001b[0m\u001b[0;34m\u001b[0m\u001b[0;34m\u001b[0m\u001b[0m\n\u001b[0m\u001b[1;32m      5\u001b[0m \u001b[0;34m\u001b[0m\u001b[0m\n\u001b[1;32m      6\u001b[0m \u001b[0mprint\u001b[0m\u001b[0;34m(\u001b[0m\u001b[0mmeyve1\u001b[0m\u001b[0;34m)\u001b[0m\u001b[0;34m\u001b[0m\u001b[0;34m\u001b[0m\u001b[0m\n",
            "\u001b[0;31mAttributeError\u001b[0m: 'set' object has no attribute 'extend'"
          ]
        }
      ]
    },
    {
      "cell_type": "code",
      "source": [
        "### collection typleri tersten nasil yazdiririz"
      ],
      "metadata": {
        "id": "_T4LICLDbzf1"
      },
      "execution_count": 16,
      "outputs": []
    },
    {
      "cell_type": "code",
      "source": [
        "\n",
        "\n",
        "liste = [1,2,3,4,5]\n",
        "\n",
        "liste.reverse()\n",
        "\n",
        "print(liste)"
      ],
      "metadata": {
        "colab": {
          "base_uri": "https://localhost:8080/"
        },
        "id": "GCENv4FAfEgW",
        "outputId": "d5da5e92-c065-4683-8925-f3435988afce"
      },
      "execution_count": 17,
      "outputs": [
        {
          "output_type": "stream",
          "name": "stdout",
          "text": [
            "[5, 4, 3, 2, 1]\n"
          ]
        }
      ]
    },
    {
      "cell_type": "code",
      "source": [
        "liste = (1,2,3,4,5)\n",
        "\n",
        "liste.reverse()          ## 'tuple' object has no attribute 'reverse'\n",
        "\n",
        "print(liste)"
      ],
      "metadata": {
        "colab": {
          "base_uri": "https://localhost:8080/",
          "height": 245
        },
        "id": "AA91Vt22fWV0",
        "outputId": "b15779d6-77bd-4e8f-c156-73d86a118cc8"
      },
      "execution_count": 18,
      "outputs": [
        {
          "output_type": "error",
          "ename": "AttributeError",
          "evalue": "ignored",
          "traceback": [
            "\u001b[0;31m---------------------------------------------------------------------------\u001b[0m",
            "\u001b[0;31mAttributeError\u001b[0m                            Traceback (most recent call last)",
            "\u001b[0;32m<ipython-input-18-c5515488d7b2>\u001b[0m in \u001b[0;36m<module>\u001b[0;34m()\u001b[0m\n\u001b[1;32m      1\u001b[0m \u001b[0mliste\u001b[0m \u001b[0;34m=\u001b[0m \u001b[0;34m(\u001b[0m\u001b[0;36m1\u001b[0m\u001b[0;34m,\u001b[0m\u001b[0;36m2\u001b[0m\u001b[0;34m,\u001b[0m\u001b[0;36m3\u001b[0m\u001b[0;34m,\u001b[0m\u001b[0;36m4\u001b[0m\u001b[0;34m,\u001b[0m\u001b[0;36m5\u001b[0m\u001b[0;34m)\u001b[0m\u001b[0;34m\u001b[0m\u001b[0;34m\u001b[0m\u001b[0m\n\u001b[1;32m      2\u001b[0m \u001b[0;34m\u001b[0m\u001b[0m\n\u001b[0;32m----> 3\u001b[0;31m \u001b[0mliste\u001b[0m\u001b[0;34m.\u001b[0m\u001b[0mreverse\u001b[0m\u001b[0;34m(\u001b[0m\u001b[0;34m)\u001b[0m\u001b[0;34m\u001b[0m\u001b[0;34m\u001b[0m\u001b[0m\n\u001b[0m\u001b[1;32m      4\u001b[0m \u001b[0;34m\u001b[0m\u001b[0m\n\u001b[1;32m      5\u001b[0m \u001b[0mprint\u001b[0m\u001b[0;34m(\u001b[0m\u001b[0mliste\u001b[0m\u001b[0;34m)\u001b[0m\u001b[0;34m\u001b[0m\u001b[0;34m\u001b[0m\u001b[0m\n",
            "\u001b[0;31mAttributeError\u001b[0m: 'tuple' object has no attribute 'reverse'"
          ]
        }
      ]
    },
    {
      "cell_type": "code",
      "source": [
        "setim = {1,2,3,4,5}\n",
        "\n",
        "setim1.reverse()            ##  set' object has no attribute 'reverse'\n",
        "\n",
        "print(setim)"
      ],
      "metadata": {
        "colab": {
          "base_uri": "https://localhost:8080/",
          "height": 245
        },
        "id": "Nidbqo2Rfct7",
        "outputId": "28651454-71ea-4cd0-a9d8-8d7340ae70de"
      },
      "execution_count": 20,
      "outputs": [
        {
          "output_type": "error",
          "ename": "NameError",
          "evalue": "ignored",
          "traceback": [
            "\u001b[0;31m---------------------------------------------------------------------------\u001b[0m",
            "\u001b[0;31mNameError\u001b[0m                                 Traceback (most recent call last)",
            "\u001b[0;32m<ipython-input-20-bcd09c8956a3>\u001b[0m in \u001b[0;36m<module>\u001b[0;34m()\u001b[0m\n\u001b[1;32m      1\u001b[0m \u001b[0msetim\u001b[0m \u001b[0;34m=\u001b[0m \u001b[0;34m{\u001b[0m\u001b[0;36m1\u001b[0m\u001b[0;34m,\u001b[0m\u001b[0;36m2\u001b[0m\u001b[0;34m,\u001b[0m\u001b[0;36m3\u001b[0m\u001b[0;34m,\u001b[0m\u001b[0;36m4\u001b[0m\u001b[0;34m,\u001b[0m\u001b[0;36m5\u001b[0m\u001b[0;34m}\u001b[0m\u001b[0;34m\u001b[0m\u001b[0;34m\u001b[0m\u001b[0m\n\u001b[1;32m      2\u001b[0m \u001b[0;34m\u001b[0m\u001b[0m\n\u001b[0;32m----> 3\u001b[0;31m \u001b[0msetim1\u001b[0m\u001b[0;34m.\u001b[0m\u001b[0mreverse\u001b[0m\u001b[0;34m(\u001b[0m\u001b[0;34m)\u001b[0m            \u001b[0;31m##  set' object has no attribute 'reverse'\u001b[0m\u001b[0;34m\u001b[0m\u001b[0;34m\u001b[0m\u001b[0m\n\u001b[0m\u001b[1;32m      4\u001b[0m \u001b[0;34m\u001b[0m\u001b[0m\n\u001b[1;32m      5\u001b[0m \u001b[0mprint\u001b[0m\u001b[0;34m(\u001b[0m\u001b[0msetim\u001b[0m\u001b[0;34m)\u001b[0m\u001b[0;34m\u001b[0m\u001b[0;34m\u001b[0m\u001b[0m\n",
            "\u001b[0;31mNameError\u001b[0m: name 'setim1' is not defined"
          ]
        }
      ]
    },
    {
      "cell_type": "code",
      "source": [
        "mydict = {'1' : 'kan' , 3.14 : \"gul\"}\n",
        "\n",
        "mydict.reverse()            ##  'dict' object has no attribute 'reverse'\n",
        "\n",
        "print(mydict)"
      ],
      "metadata": {
        "colab": {
          "base_uri": "https://localhost:8080/",
          "height": 245
        },
        "id": "g24mx_s_gU4L",
        "outputId": "03e464f4-6b4e-481a-bab4-8dd541cb8387"
      },
      "execution_count": 23,
      "outputs": [
        {
          "output_type": "error",
          "ename": "AttributeError",
          "evalue": "ignored",
          "traceback": [
            "\u001b[0;31m---------------------------------------------------------------------------\u001b[0m",
            "\u001b[0;31mAttributeError\u001b[0m                            Traceback (most recent call last)",
            "\u001b[0;32m<ipython-input-23-fbe31b0ae547>\u001b[0m in \u001b[0;36m<module>\u001b[0;34m()\u001b[0m\n\u001b[1;32m      1\u001b[0m \u001b[0mmydict\u001b[0m \u001b[0;34m=\u001b[0m \u001b[0;34m{\u001b[0m\u001b[0;34m'1'\u001b[0m \u001b[0;34m:\u001b[0m \u001b[0;34m'kan'\u001b[0m \u001b[0;34m,\u001b[0m \u001b[0;36m3.14\u001b[0m \u001b[0;34m:\u001b[0m \u001b[0;34m\"gul\"\u001b[0m\u001b[0;34m}\u001b[0m\u001b[0;34m\u001b[0m\u001b[0;34m\u001b[0m\u001b[0m\n\u001b[1;32m      2\u001b[0m \u001b[0;34m\u001b[0m\u001b[0m\n\u001b[0;32m----> 3\u001b[0;31m \u001b[0mmydict\u001b[0m\u001b[0;34m.\u001b[0m\u001b[0mreverse\u001b[0m\u001b[0;34m(\u001b[0m\u001b[0;34m)\u001b[0m            \u001b[0;31m##\u001b[0m\u001b[0;34m\u001b[0m\u001b[0;34m\u001b[0m\u001b[0m\n\u001b[0m\u001b[1;32m      4\u001b[0m \u001b[0;34m\u001b[0m\u001b[0m\n\u001b[1;32m      5\u001b[0m \u001b[0mprint\u001b[0m\u001b[0;34m(\u001b[0m\u001b[0mmydict\u001b[0m\u001b[0;34m)\u001b[0m\u001b[0;34m\u001b[0m\u001b[0;34m\u001b[0m\u001b[0m\n",
            "\u001b[0;31mAttributeError\u001b[0m: 'dict' object has no attribute 'reverse'"
          ]
        }
      ]
    },
    {
      "cell_type": "code",
      "source": [
        ""
      ],
      "metadata": {
        "id": "j-prDHW6guhU"
      },
      "execution_count": null,
      "outputs": []
    }
  ]
}