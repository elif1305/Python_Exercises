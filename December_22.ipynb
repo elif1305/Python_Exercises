{
  "nbformat": 4,
  "nbformat_minor": 0,
  "metadata": {
    "colab": {
      "name": "December - 22",
      "provenance": [],
      "authorship_tag": "ABX9TyMUdtqxMCcVUy+e1VBgaUlm"
    },
    "kernelspec": {
      "name": "python3",
      "display_name": "Python 3"
    },
    "language_info": {
      "name": "python"
    }
  },
  "cells": [
    {
      "cell_type": "code",
      "execution_count": null,
      "metadata": {
        "id": "T1pE7Odpf1R_"
      },
      "outputs": [],
      "source": [
        "######## False - Falsy , True - Truthy  #######\n",
        "#False sonuc veren degerlere Falsy\n",
        "#True deger veren degerlere Truthy diyoruz\n",
        "\n",
        "# False sonucu veren degerler\n",
        "#sifirla baslayan degerler, bos string-tuple-liste.., None, False\n",
        "\n",
        "# 1: 0\n",
        "# 2: 0.0\n",
        "# 3: 0.j\n",
        "# 4: []\n",
        "# 5: ()\n",
        "# 6: \"\"\n",
        "# 7: {}\n",
        "# 8 : False\n",
        "# 9 : None"
      ]
    },
    {
      "cell_type": "code",
      "source": [
        "print(bool(()))"
      ],
      "metadata": {
        "colab": {
          "base_uri": "https://localhost:8080/"
        },
        "id": "SjdLBqqltNUi",
        "outputId": "a3203f15-c18c-49e5-81d5-3ca63025a3d4"
      },
      "execution_count": 1,
      "outputs": [
        {
          "output_type": "stream",
          "name": "stdout",
          "text": [
            "False\n"
          ]
        }
      ]
    },
    {
      "cell_type": "code",
      "source": [
        "print(bool(  (())  ) )"
      ],
      "metadata": {
        "colab": {
          "base_uri": "https://localhost:8080/"
        },
        "id": "R8zlxh16tSpl",
        "outputId": "7e0b54af-b043-46f8-d7a9-eb7fe508b551"
      },
      "execution_count": 2,
      "outputs": [
        {
          "output_type": "stream",
          "name": "stdout",
          "text": [
            "False\n"
          ]
        }
      ]
    },
    {
      "cell_type": "code",
      "source": [
        "print(bool(  (( [] ))  ) )"
      ],
      "metadata": {
        "colab": {
          "base_uri": "https://localhost:8080/"
        },
        "id": "3jE7qXgit7Ky",
        "outputId": "3c12530c-2c38-4c42-8892-15d74c94c99d"
      },
      "execution_count": 3,
      "outputs": [
        {
          "output_type": "stream",
          "name": "stdout",
          "text": [
            "False\n"
          ]
        }
      ]
    },
    {
      "cell_type": "code",
      "source": [
        "print(bool(  (( [\"a\"] ))  ) )  # liste icine eleman yazilmis oldugu icin True ya dondu"
      ],
      "metadata": {
        "colab": {
          "base_uri": "https://localhost:8080/"
        },
        "id": "rrxPxcO5t_uA",
        "outputId": "a70ccf06-7ea1-4d3e-f194-4091e02950e6"
      },
      "execution_count": 5,
      "outputs": [
        {
          "output_type": "stream",
          "name": "stdout",
          "text": [
            "True\n"
          ]
        }
      ]
    },
    {
      "cell_type": "code",
      "source": [
        "print(bool(  (\" \")  )  )    # bosluk tusu da bir elemandir, bu nedenle True verir."
      ],
      "metadata": {
        "colab": {
          "base_uri": "https://localhost:8080/"
        },
        "id": "4MsJcbOjuCxY",
        "outputId": "2fc6994d-ed06-457c-ec2e-369512c658c5"
      },
      "execution_count": 6,
      "outputs": [
        {
          "output_type": "stream",
          "name": "stdout",
          "text": [
            "True\n"
          ]
        }
      ]
    },
    {
      "cell_type": "code",
      "source": [
        "print(\"0\")\n",
        "print(0)"
      ],
      "metadata": {
        "colab": {
          "base_uri": "https://localhost:8080/"
        },
        "id": "lwvxFVnMuK8w",
        "outputId": "10672b7c-bbb5-4568-9bca-83bc77db73d5"
      },
      "execution_count": 7,
      "outputs": [
        {
          "output_type": "stream",
          "name": "stdout",
          "text": [
            "0\n",
            "0\n"
          ]
        }
      ]
    },
    {
      "cell_type": "code",
      "source": [
        "print(type(\"0\"))\n",
        "print(type(0))"
      ],
      "metadata": {
        "colab": {
          "base_uri": "https://localhost:8080/"
        },
        "id": "tJR4Xa_-uxb4",
        "outputId": "05b4cadc-c764-4783-bf9f-7cc24e71f902"
      },
      "execution_count": 8,
      "outputs": [
        {
          "output_type": "stream",
          "name": "stdout",
          "text": [
            "<class 'str'>\n",
            "<class 'int'>\n"
          ]
        }
      ]
    },
    {
      "cell_type": "code",
      "source": [
        "print(bool(False) + bool(True) + bool(1000) + bool(\"ahmet bey\") + bool(None))             # boolean icinde ya 0 ya 1 olarak bir deger ceviriyor. bu nedenle cevap 3.araya islem girince deger cevriliyor.\n",
        "\n",
        "print(bool(False))\n",
        "\n",
        "print(True + 1000)\n",
        "\n",
        "print(True + bool(\"1000\"))"
      ],
      "metadata": {
        "colab": {
          "base_uri": "https://localhost:8080/"
        },
        "id": "AxCeHNbtu5kw",
        "outputId": "1750b4d2-4b19-4bad-e15c-51579346bfb0"
      },
      "execution_count": 13,
      "outputs": [
        {
          "output_type": "stream",
          "name": "stdout",
          "text": [
            "3\n",
            "False\n",
            "1001\n",
            "2\n"
          ]
        }
      ]
    },
    {
      "cell_type": "code",
      "source": [
        "print(\"ahmet\" and \"mehmet\")\n",
        "\n",
        "print(bool(\"ahmet\" and \"mehmet\"))\n",
        "\n",
        "print(\"'True'\")\n",
        "\n",
        "print(bool(\"'True'\"))"
      ],
      "metadata": {
        "colab": {
          "base_uri": "https://localhost:8080/"
        },
        "id": "-kKMBTE7vtds",
        "outputId": "35166571-52d0-46bc-8489-0ac2462866c8"
      },
      "execution_count": 18,
      "outputs": [
        {
          "output_type": "stream",
          "name": "stdout",
          "text": [
            "mehmet\n",
            "True\n",
            "'True'\n",
            "True\n"
          ]
        }
      ]
    },
    {
      "cell_type": "code",
      "source": [
        "print(bool (\"fdkghldfkghlsdfkhng fdgn ufdgldfh dfghd hdfh48258-24 t5-86 8 \"))\n",
        "\n",
        "print(bool(                                                                                  ))"
      ],
      "metadata": {
        "colab": {
          "base_uri": "https://localhost:8080/"
        },
        "id": "a5r_tRiTw-7Q",
        "outputId": "b9291425-077b-4610-84e5-6b38d39edf6f"
      },
      "execution_count": 19,
      "outputs": [
        {
          "output_type": "stream",
          "name": "stdout",
          "text": [
            "True\n",
            "False\n"
          ]
        }
      ]
    },
    {
      "cell_type": "code",
      "source": [
        "a = bool (\"ali\" and \"''\")        # True\n",
        "\n",
        "b = bool(0 or () or {})  # False\n",
        "\n",
        "print(a and b)"
      ],
      "metadata": {
        "colab": {
          "base_uri": "https://localhost:8080/"
        },
        "id": "YXHe_SV-xihY",
        "outputId": "efd6487d-6271-4624-a04c-c3638a74b31d"
      },
      "execution_count": 21,
      "outputs": [
        {
          "output_type": "stream",
          "name": "stdout",
          "text": [
            "False\n"
          ]
        }
      ]
    },
    {
      "cell_type": "code",
      "source": [
        "a = \"ali\" and \"''\"\n",
        "\n",
        "b = 0 or () or {}\n",
        "\n",
        "print(a and b)"
      ],
      "metadata": {
        "colab": {
          "base_uri": "https://localhost:8080/"
        },
        "id": "TZj-R2JFyG2n",
        "outputId": "e7cf130a-df23-4a17-e2f1-a2136671f73b"
      },
      "execution_count": 22,
      "outputs": [
        {
          "output_type": "stream",
          "name": "stdout",
          "text": [
            "{}\n"
          ]
        }
      ]
    },
    {
      "cell_type": "code",
      "source": [
        "a = \"ali\" and \"''\" or not \"selma\"\n",
        "\n",
        "b = bool([] or () or {})\n",
        "\n",
        "print(a and bool(b))"
      ],
      "metadata": {
        "colab": {
          "base_uri": "https://localhost:8080/"
        },
        "id": "tfUmkiyIykfn",
        "outputId": "f82642a6-8717-4956-869c-29db7c098301"
      },
      "execution_count": 23,
      "outputs": [
        {
          "output_type": "stream",
          "name": "stdout",
          "text": [
            "False\n"
          ]
        }
      ]
    },
    {
      "cell_type": "code",
      "source": [
        "#### Tereyagli yumurta ornegi ####\n",
        "\n",
        "tava = True\n",
        "yumurta = True\n",
        "tereyag = True\n",
        "tuz = True\n",
        "ocak = True\n",
        " \n",
        "# opsiyonel malzemeler\n",
        "\n",
        "sucuk = False\n",
        "sosis = False\n",
        "pastirma = False\n",
        "\n",
        "yumurtayiyormuyuz = tava and yumurta and tereyag and tuz and ocak or sucuk or sosis or pastirma\n",
        "\n",
        "print(yumurtayiyormuyuz) # islem onceligine dikkat et\n",
        "\n",
        "# degiskene deger atandigi icin sonuc True ya da False cikti . Eger deger atama olmasaydi yazilanlardan birinin cikmasi gerekirdi."
      ],
      "metadata": {
        "colab": {
          "base_uri": "https://localhost:8080/"
        },
        "id": "4RXUXBB-zLH_",
        "outputId": "90f0a4ce-c05c-452f-f8f2-77d6171895f3"
      },
      "execution_count": 24,
      "outputs": [
        {
          "output_type": "stream",
          "name": "stdout",
          "text": [
            "True\n"
          ]
        }
      ]
    },
    {
      "cell_type": "code",
      "source": [
        "\n",
        "\n",
        "yumurtayiyormuyuz = \"tavaa\" and \"yumurtaa\" and \"tereyagg\" and \"tuzz\" and \"ocakk\" or \"sucukk\" or \"sosiss\" or \"pastirmaa\"\n",
        "\n",
        "print(yumurtayiyormuyuz) # islem onceligine dikkat et\n"
      ],
      "metadata": {
        "colab": {
          "base_uri": "https://localhost:8080/"
        },
        "id": "SQwF_F3F0H5H",
        "outputId": "8d70118a-c937-466d-ec86-5331866dcd5f"
      },
      "execution_count": 27,
      "outputs": [
        {
          "output_type": "stream",
          "name": "stdout",
          "text": [
            "ocakk\n"
          ]
        }
      ]
    },
    {
      "cell_type": "code",
      "source": [
        "yumurtayiyormuyuz = \"tava\" and \"yumurta\" and \"tereyag\" and \"tuz\" and \"ocak\" or \"sucuk\" or \"sosis\" or \"pastirma\"\n",
        "\n",
        "print(yumurtayiyormuyuz)"
      ],
      "metadata": {
        "colab": {
          "base_uri": "https://localhost:8080/"
        },
        "id": "-F8kBQxr03MP",
        "outputId": "aecbe122-9df4-418e-d563-745a4b3abf67"
      },
      "execution_count": 30,
      "outputs": [
        {
          "output_type": "stream",
          "name": "stdout",
          "text": [
            "ocak\n"
          ]
        }
      ]
    },
    {
      "cell_type": "code",
      "source": [
        ""
      ],
      "metadata": {
        "colab": {
          "base_uri": "https://localhost:8080/"
        },
        "id": "o_oYPbTN1RuX",
        "outputId": "618c88b9-4ac3-40d7-d12a-6bdb9b114d3c"
      },
      "execution_count": 31,
      "outputs": [
        {
          "output_type": "stream",
          "name": "stdout",
          "text": [
            "True\n"
          ]
        }
      ]
    },
    {
      "cell_type": "code",
      "source": [
        "############## indexing #############"
      ],
      "metadata": {
        "id": "Dzmy5LFv17p_"
      },
      "execution_count": 33,
      "outputs": []
    },
    {
      "cell_type": "code",
      "source": [
        "# stringler iterabledir yani elemanlarina ayrilabilirler.\n",
        "#iterabe demek elemanlari cekeblir ve bbunlar uzerinde islme yapabliriz demektir."
      ],
      "metadata": {
        "id": "XQeDT7Z320I_"
      },
      "execution_count": null,
      "outputs": []
    },
    {
      "cell_type": "code",
      "source": [
        "a = \"str   ing\"\n",
        "\n",
        "print(list(a))  #bosluklara dikkat"
      ],
      "metadata": {
        "colab": {
          "base_uri": "https://localhost:8080/"
        },
        "id": "ZJ4NUMAl3MkZ",
        "outputId": "60339024-18f0-4b0d-8ff7-8bd518463cf9"
      },
      "execution_count": 34,
      "outputs": [
        {
          "output_type": "stream",
          "name": "stdout",
          "text": [
            "['s', 't', 'r', ' ', ' ', ' ', 'i', 'n', 'g']\n"
          ]
        }
      ]
    },
    {
      "cell_type": "code",
      "source": [
        "a = 2983472\n",
        "\n",
        "print(list(a))   # a ya atanan deger iterable degildir."
      ],
      "metadata": {
        "colab": {
          "base_uri": "https://localhost:8080/",
          "height": 200
        },
        "id": "Tm7Fpk9h3UB4",
        "outputId": "eb209da2-4541-4682-9b34-c2a9c4b47ec8"
      },
      "execution_count": 35,
      "outputs": [
        {
          "output_type": "error",
          "ename": "TypeError",
          "evalue": "ignored",
          "traceback": [
            "\u001b[0;31m---------------------------------------------------------------------------\u001b[0m",
            "\u001b[0;31mTypeError\u001b[0m                                 Traceback (most recent call last)",
            "\u001b[0;32m<ipython-input-35-b67681b7af19>\u001b[0m in \u001b[0;36m<module>\u001b[0;34m()\u001b[0m\n\u001b[1;32m      1\u001b[0m \u001b[0ma\u001b[0m \u001b[0;34m=\u001b[0m \u001b[0;36m2983472\u001b[0m\u001b[0;34m\u001b[0m\u001b[0;34m\u001b[0m\u001b[0m\n\u001b[1;32m      2\u001b[0m \u001b[0;34m\u001b[0m\u001b[0m\n\u001b[0;32m----> 3\u001b[0;31m \u001b[0mprint\u001b[0m\u001b[0;34m(\u001b[0m\u001b[0mlist\u001b[0m\u001b[0;34m(\u001b[0m\u001b[0ma\u001b[0m\u001b[0;34m)\u001b[0m\u001b[0;34m)\u001b[0m\u001b[0;34m\u001b[0m\u001b[0;34m\u001b[0m\u001b[0m\n\u001b[0m",
            "\u001b[0;31mTypeError\u001b[0m: 'int' object is not iterable"
          ]
        }
      ]
    },
    {
      "cell_type": "code",
      "source": [
        "a = \"573458.3845\"\n",
        "\n",
        "print(tuple(a))"
      ],
      "metadata": {
        "colab": {
          "base_uri": "https://localhost:8080/"
        },
        "id": "rzvfg1jw3gAe",
        "outputId": "13e6c661-bbe0-45b2-84ad-f241774e3267"
      },
      "execution_count": 36,
      "outputs": [
        {
          "output_type": "stream",
          "name": "stdout",
          "text": [
            "('5', '7', '3', '4', '5', '8', '.', '3', '8', '4', '5')\n"
          ]
        }
      ]
    },
    {
      "cell_type": "code",
      "source": [
        "a = 573458.3845\n",
        "\n",
        "print(tuple(a))       # a ya atanan deger iterable degildir."
      ],
      "metadata": {
        "colab": {
          "base_uri": "https://localhost:8080/",
          "height": 200
        },
        "id": "YbajnwWV3u42",
        "outputId": "9302904b-387c-4684-c217-ebd687d5ff85"
      },
      "execution_count": 37,
      "outputs": [
        {
          "output_type": "error",
          "ename": "TypeError",
          "evalue": "ignored",
          "traceback": [
            "\u001b[0;31m---------------------------------------------------------------------------\u001b[0m",
            "\u001b[0;31mTypeError\u001b[0m                                 Traceback (most recent call last)",
            "\u001b[0;32m<ipython-input-37-01ca523bb1fc>\u001b[0m in \u001b[0;36m<module>\u001b[0;34m()\u001b[0m\n\u001b[1;32m      1\u001b[0m \u001b[0ma\u001b[0m \u001b[0;34m=\u001b[0m \u001b[0;36m573458.3845\u001b[0m\u001b[0;34m\u001b[0m\u001b[0;34m\u001b[0m\u001b[0m\n\u001b[1;32m      2\u001b[0m \u001b[0;34m\u001b[0m\u001b[0m\n\u001b[0;32m----> 3\u001b[0;31m \u001b[0mprint\u001b[0m\u001b[0;34m(\u001b[0m\u001b[0mtuple\u001b[0m\u001b[0;34m(\u001b[0m\u001b[0ma\u001b[0m\u001b[0;34m)\u001b[0m\u001b[0;34m)\u001b[0m\u001b[0;34m\u001b[0m\u001b[0;34m\u001b[0m\u001b[0m\n\u001b[0m",
            "\u001b[0;31mTypeError\u001b[0m: 'float' object is not iterable"
          ]
        }
      ]
    },
    {
      "cell_type": "code",
      "source": [
        "kelimem = \"defneyapragi\"\n",
        "\n",
        "print(kelimem)\n",
        "\n",
        "print(kelimem[5])"
      ],
      "metadata": {
        "colab": {
          "base_uri": "https://localhost:8080/"
        },
        "id": "XGzTSb3531Ep",
        "outputId": "7cfd1110-ecf2-4e80-f47c-25e034263ad6"
      },
      "execution_count": 38,
      "outputs": [
        {
          "output_type": "stream",
          "name": "stdout",
          "text": [
            "defneyapragi\n",
            "y\n"
          ]
        }
      ]
    },
    {
      "cell_type": "code",
      "source": [
        "#### SLICING #####"
      ],
      "metadata": {
        "id": "upBgIdfM4xVJ"
      },
      "execution_count": null,
      "outputs": []
    },
    {
      "cell_type": "code",
      "source": [
        "# string icerisinden birden cok elemani cekip almak."
      ],
      "metadata": {
        "id": "uDAZ8De441Ju"
      },
      "execution_count": null,
      "outputs": []
    },
    {
      "cell_type": "code",
      "source": [
        "kelimem = \"defneyapragi\"\n",
        "\n",
        "print(kelimem)\n",
        "\n",
        "print(kelimem[5:9])     # aslinda burda da step degeri var gorunmez oalrak. defoult degeri 1 dir."
      ],
      "metadata": {
        "colab": {
          "base_uri": "https://localhost:8080/"
        },
        "id": "Yvjyqy1D5EIs",
        "outputId": "3a74d5c9-97d6-47ad-dfe6-f31eace33134"
      },
      "execution_count": 39,
      "outputs": [
        {
          "output_type": "stream",
          "name": "stdout",
          "text": [
            "defneyapragi\n",
            "yapr\n"
          ]
        }
      ]
    },
    {
      "cell_type": "code",
      "source": [
        "# [5:9] demek soldan 5. elemandan itibaren baslar fakat 9. elemani almaz.\n",
        "#[start:stop]"
      ],
      "metadata": {
        "id": "1t09DtTQ5Jwl"
      },
      "execution_count": null,
      "outputs": []
    },
    {
      "cell_type": "code",
      "source": [
        "######## 3S KURALI [start : stop : step]  ##########"
      ],
      "metadata": {
        "id": "7Cp0Fdj75f5p"
      },
      "execution_count": null,
      "outputs": []
    },
    {
      "cell_type": "code",
      "source": [
        "kelimem = \"defneyapragi\"\n",
        "\n",
        "print(kelimem[::])\n",
        "\n",
        "print(kelimem[0:2:])\n",
        "\n",
        "print(kelimem[0:10:2])\n",
        "\n",
        "print(kelimem[0::2])\n",
        "\n",
        "print(kelimem[::3])\n",
        "\n",
        "print(kelimem[:6:])\n",
        "\n",
        "print(kelimem[4::])\n",
        "\n",
        "print(kelimem[:])\n",
        "\n",
        "print(kelimem[::-1])\n",
        "\n",
        "print(kelimem[::-3])"
      ],
      "metadata": {
        "colab": {
          "base_uri": "https://localhost:8080/"
        },
        "id": "4yuKCfqN51v_",
        "outputId": "bf14b4a6-44de-42b6-b526-9af4381e7e8c"
      },
      "execution_count": 46,
      "outputs": [
        {
          "output_type": "stream",
          "name": "stdout",
          "text": [
            "defneyapragi\n",
            "de\n",
            "dfear\n",
            "dfearg\n",
            "dnaa\n",
            "defney\n",
            "eyapragi\n",
            "defneyapragi\n",
            "igarpayenfed\n",
            "iryf\n"
          ]
        }
      ]
    },
    {
      "cell_type": "code",
      "source": [
        "########## negatif step number ###########"
      ],
      "metadata": {
        "id": "KK4v55Fp6HmH"
      },
      "execution_count": null,
      "outputs": []
    },
    {
      "cell_type": "code",
      "source": [
        "integer = \"0123456789\"\n",
        "\n",
        "integereksi = \"-9-8-7-6-5-4-3-2-1\"\n",
        "\n",
        "print(integer[5:7])\n",
        "\n",
        "print(integereksi[-8:-6])"
      ],
      "metadata": {
        "colab": {
          "base_uri": "https://localhost:8080/"
        },
        "id": "b5oFRuVw7TSv",
        "outputId": "c6764f8a-cac1-4a42-ee09-d8bac2d1ef51"
      },
      "execution_count": 47,
      "outputs": [
        {
          "output_type": "stream",
          "name": "stdout",
          "text": [
            "56\n",
            "-4\n"
          ]
        }
      ]
    },
    {
      "cell_type": "code",
      "source": [
        "# negatif pozitif ayni anda kullanimi "
      ],
      "metadata": {
        "id": "zmPe3oi67pp9"
      },
      "execution_count": null,
      "outputs": []
    },
    {
      "cell_type": "code",
      "source": [
        "a = \"012345678\"\n",
        "\n",
        "b = \"-9-8-7-6-5-4-3-2\"\n",
        "\n",
        "print(a[-8:8])\n",
        "\n",
        "print(b[-8:8])     # bunu yazdirmaz cunku baslangic ve bitis noktalari ters.\n",
        "\n",
        "print(b[-11:8])"
      ],
      "metadata": {
        "colab": {
          "base_uri": "https://localhost:8080/"
        },
        "id": "nkhVpLwh8nmS",
        "outputId": "3c56c8e8-b86b-4b73-f957-fa6546da684f"
      },
      "execution_count": 51,
      "outputs": [
        {
          "output_type": "stream",
          "name": "stdout",
          "text": [
            "1234567\n",
            "\n",
            "7-6\n"
          ]
        }
      ]
    },
    {
      "cell_type": "code",
      "source": [
        "# python default olarak soldan saga dogru calisir.\n"
      ],
      "metadata": {
        "id": "GvMONL538sLd"
      },
      "execution_count": null,
      "outputs": []
    },
    {
      "cell_type": "code",
      "source": [
        "#### nagatif step #####"
      ],
      "metadata": {
        "id": "Gfl9vRqg-0JF"
      },
      "execution_count": null,
      "outputs": []
    },
    {
      "cell_type": "code",
      "source": [
        "# stepin defaault un degeri +1 dir."
      ],
      "metadata": {
        "id": "RHiMx9C2-5tS"
      },
      "execution_count": null,
      "outputs": []
    },
    {
      "cell_type": "code",
      "source": [
        "a = \"0123456789\"\n",
        "\n",
        "print(a)\n",
        "\n",
        "print(a[::])\n",
        "\n",
        "print(a[:])"
      ],
      "metadata": {
        "colab": {
          "base_uri": "https://localhost:8080/"
        },
        "id": "QXxuO3US_Pjq",
        "outputId": "475ed1bb-c22b-4de9-adb2-a3f66c290db6"
      },
      "execution_count": 54,
      "outputs": [
        {
          "output_type": "stream",
          "name": "stdout",
          "text": [
            "0123456789\n",
            "0123456789\n",
            "0123456789\n"
          ]
        }
      ]
    },
    {
      "cell_type": "code",
      "source": [
        "a = \"0123456789\"\n",
        "\n",
        "print(a)\n",
        "\n",
        "print(a[::2])\n",
        "\n",
        "print(a[::3])"
      ],
      "metadata": {
        "colab": {
          "base_uri": "https://localhost:8080/"
        },
        "id": "S4eD3PzN_U82",
        "outputId": "408d4159-95c8-42a1-f60b-d71045568b3d"
      },
      "execution_count": 55,
      "outputs": [
        {
          "output_type": "stream",
          "name": "stdout",
          "text": [
            "0123456789\n",
            "02468\n",
            "0369\n"
          ]
        }
      ]
    },
    {
      "cell_type": "code",
      "source": [
        "a = \"0123456789\"\n",
        "\n",
        "print(a[::2.0])               # step degerini float olarak veremeyiz !"
      ],
      "metadata": {
        "colab": {
          "base_uri": "https://localhost:8080/",
          "height": 200
        },
        "id": "Zl-SFWzg_ih8",
        "outputId": "ed85d7a1-c064-482d-b026-b845f527d28f"
      },
      "execution_count": 56,
      "outputs": [
        {
          "output_type": "error",
          "ename": "TypeError",
          "evalue": "ignored",
          "traceback": [
            "\u001b[0;31m---------------------------------------------------------------------------\u001b[0m",
            "\u001b[0;31mTypeError\u001b[0m                                 Traceback (most recent call last)",
            "\u001b[0;32m<ipython-input-56-e044611fd8fc>\u001b[0m in \u001b[0;36m<module>\u001b[0;34m()\u001b[0m\n\u001b[1;32m      1\u001b[0m \u001b[0ma\u001b[0m \u001b[0;34m=\u001b[0m \u001b[0;34m\"0123456789\"\u001b[0m\u001b[0;34m\u001b[0m\u001b[0;34m\u001b[0m\u001b[0m\n\u001b[1;32m      2\u001b[0m \u001b[0;34m\u001b[0m\u001b[0m\n\u001b[0;32m----> 3\u001b[0;31m \u001b[0mprint\u001b[0m\u001b[0;34m(\u001b[0m\u001b[0ma\u001b[0m\u001b[0;34m[\u001b[0m\u001b[0;34m:\u001b[0m\u001b[0;34m:\u001b[0m\u001b[0;36m2.0\u001b[0m\u001b[0;34m]\u001b[0m\u001b[0;34m)\u001b[0m\u001b[0;34m\u001b[0m\u001b[0;34m\u001b[0m\u001b[0m\n\u001b[0m",
            "\u001b[0;31mTypeError\u001b[0m: slice indices must be integers or None or have an __index__ method"
          ]
        }
      ]
    },
    {
      "cell_type": "code",
      "source": [
        "a = \"0123456789\"\n",
        "\n",
        "print(a)\n",
        "\n",
        "print(a[::-2])\n",
        "\n",
        "print(a[::-3])\n",
        "\n",
        "print(a[::-1])\n",
        "\n",
        "print(a[-1:-9:-1])\n",
        "\n",
        "\n",
        "print(a[-9:-1:-1])         # bunu dondurmez. cunku -9 dan basla -1e git demek +1 step yani soldan saga , ama step olarak -1 yazilmis . yani  komutlar cakisiyor. "
      ],
      "metadata": {
        "colab": {
          "base_uri": "https://localhost:8080/"
        },
        "id": "WulsRIYc_nSu",
        "outputId": "b249c84a-c2d1-4739-9ff3-e7999b3a76a9"
      },
      "execution_count": 65,
      "outputs": [
        {
          "output_type": "stream",
          "name": "stdout",
          "text": [
            "0123456789\n",
            "97531\n",
            "9630\n",
            "9876543210\n",
            "98765432\n",
            "\n"
          ]
        }
      ]
    },
    {
      "cell_type": "code",
      "source": [
        "a = \"0123456789\"\n",
        "\n",
        "print(a)\n",
        "\n",
        "print(a[-2:-8:-2])\n",
        "print(a[-2:-8:-1])\n",
        "print(a[:-1])"
      ],
      "metadata": {
        "colab": {
          "base_uri": "https://localhost:8080/"
        },
        "id": "zGqCNwc8_3uM",
        "outputId": "27ba7256-e692-432d-e6fd-0087dad92aab"
      },
      "execution_count": 61,
      "outputs": [
        {
          "output_type": "stream",
          "name": "stdout",
          "text": [
            "0123456789\n",
            "864\n",
            "876543\n",
            "012345678\n"
          ]
        }
      ]
    },
    {
      "cell_type": "code",
      "source": [
        ""
      ],
      "metadata": {
        "id": "XlUDZvQ9__1q"
      },
      "execution_count": null,
      "outputs": []
    }
  ]
}