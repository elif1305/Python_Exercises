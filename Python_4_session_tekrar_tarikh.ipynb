{
  "nbformat": 4,
  "nbformat_minor": 0,
  "metadata": {
    "colab": {
      "name": "Python 4. session tekrar.ipynb",
      "provenance": [],
      "collapsed_sections": []
    },
    "kernelspec": {
      "name": "python3",
      "display_name": "Python 3"
    },
    "language_info": {
      "name": "python"
    }
  },
  "cells": [
    {
      "cell_type": "code",
      "metadata": {
        "id": "clSN-FhNXSmF"
      },
      "source": [
        "##########        Truth Values of Logic statements       ###################"
      ],
      "execution_count": null,
      "outputs": []
    },
    {
      "cell_type": "code",
      "metadata": {
        "id": "vOR61KzAvCTC"
      },
      "source": [
        "#  Yalan söz vardir bir de bu sözü söyleyen yalanci vardir\n",
        "\n",
        "#  Dogru söz vardir ve Dogru söz söyleyen Dogrucu vardir\n",
        "\n",
        "#  Bunlar farkli seylerdir. \n",
        "\n",
        "#  False vardir ve bir de Falsy vardir\n",
        "\n",
        "#  True vardir bir de Truthy vardir\n",
        "\n",
        "#  Bunlarda farkli seylerdir\n",
        "\n",
        "#  Yani False sonucu veren Degerlere Falsy(Türkce düsünürseniz False cu denebilir)\n",
        "\n",
        "#  True sonucu veren degerlere Truthy diyoruz (Türkce düsünürseniz True cu denebilir)"
      ],
      "execution_count": null,
      "outputs": []
    },
    {
      "cell_type": "code",
      "metadata": {
        "id": "XlHP_fDFvCV8"
      },
      "source": [
        "# Peki python da False söyleyen ile True söyleyeni anlamak icin öncelikle \n",
        "\n",
        "# False un ve True nun ne oldugunu cok iyi anlamamiz gerekir.\n",
        "\n",
        "# Python da False tabirini bos True tabirini dolu olarak anlayabiliriz\n",
        "\n",
        "# Bir de False tabirini 0  True tabirini ise 1 olarak anlayabiliriz\n",
        "\n",
        "# Ilk Pc nedir dersini islerken ne görmüstük Pc icin 1 vardi bir de 0 vardi \n",
        "\n",
        "# Acik yada kapali elektrik anahtari gibiydi "
      ],
      "execution_count": null,
      "outputs": []
    },
    {
      "cell_type": "code",
      "metadata": {
        "id": "yo7vRxLZvCce"
      },
      "source": [
        "#  False sonucu veren degerler(yani Falsy ler, False cular)\n",
        "\n",
        "# 1 )  0   \n",
        "# 2 )  0.0\n",
        "# 3 )  0.j\n",
        "# 4 )  []   \n",
        "# 5 )  ()\n",
        "# 6 )  \"\"\n",
        "# 7 )  {}\n",
        "# 8 )  False\n",
        "# 9 )  None\n",
        "\n",
        "# yani aslinda bunlara baktigimizda ne görüyoruz\n",
        "\n",
        "# 2 tane kategori var.  0  lar  ve bos parantezler tirnaklar\n",
        "\n",
        "# Python da bize sadece bunlar False söyler bunlarin haricin de tüm hersey True cudur"
      ],
      "execution_count": null,
      "outputs": []
    },
    {
      "cell_type": "code",
      "metadata": {
        "id": "2sbm9YdbvCfT",
        "colab": {
          "base_uri": "https://localhost:8080/"
        },
        "outputId": "d33b0782-55b2-4c08-ba09-f63fd29592b1"
      },
      "source": [
        "#####  Example:\n",
        "\n",
        "print(bool(0.0))\n",
        "\n",
        "print(bool( (((({}))))   )    )\n",
        "\n",
        "print(bool(\"\"))\n",
        "\n"
      ],
      "execution_count": null,
      "outputs": [
        {
          "output_type": "stream",
          "name": "stdout",
          "text": [
            "False\n",
            "False\n",
            "False\n"
          ]
        }
      ]
    },
    {
      "cell_type": "code",
      "metadata": {
        "colab": {
          "base_uri": "https://localhost:8080/"
        },
        "id": "eh0Iw7yLvChR",
        "outputId": "e99e4ae7-a02f-4ff3-c733-f122369147cb"
      },
      "source": [
        "# Attention: space tusu ile verecegimiz tek bir bosluk bile Python da bir elemandir\n",
        "\n",
        "# Bu nedenle tek bosluk bile bize False söylemez True söyler\n",
        "\n",
        "print(bool(\" \"))"
      ],
      "execution_count": null,
      "outputs": [
        {
          "output_type": "stream",
          "name": "stdout",
          "text": [
            "True\n"
          ]
        }
      ]
    },
    {
      "cell_type": "code",
      "metadata": {
        "id": "TYq2fGo2vCjO",
        "colab": {
          "base_uri": "https://localhost:8080/"
        },
        "outputId": "d6fdbeca-8bdc-4793-9166-7f9f7463de81"
      },
      "source": [
        "## Attention: Tüm function lar kendisinden sonra parantez alir.\n",
        "\n",
        "# bu parantez ile bu func i cagirmis oluruz.\n",
        "\n",
        "# bu parantez icerisinde verecegimiz bosluklar bir deger olarak sayilmaz\n",
        "\n",
        "print(bool() )    ## ??? output nedir ??"
      ],
      "execution_count": null,
      "outputs": [
        {
          "output_type": "stream",
          "name": "stdout",
          "text": [
            "False\n"
          ]
        }
      ]
    },
    {
      "cell_type": "code",
      "metadata": {
        "id": "DKeZxuR3u_pC",
        "colab": {
          "base_uri": "https://localhost:8080/"
        },
        "outputId": "11f72d87-99fb-4b9a-95c2-ffb0d00851f5"
      },
      "source": [
        "print(bool({\"\"}))        #  output nedir?"
      ],
      "execution_count": null,
      "outputs": [
        {
          "output_type": "stream",
          "name": "stdout",
          "text": [
            "True\n"
          ]
        }
      ]
    },
    {
      "cell_type": "code",
      "metadata": {
        "id": "Md4695nYu_ry",
        "colab": {
          "base_uri": "https://localhost:8080/"
        },
        "outputId": "0917a885-d3d0-4678-940d-b2a75574080f"
      },
      "source": [
        "print(bool(\"({})\"))     # output ???\n"
      ],
      "execution_count": null,
      "outputs": [
        {
          "output_type": "stream",
          "name": "stdout",
          "text": [
            "True\n"
          ]
        }
      ]
    },
    {
      "cell_type": "code",
      "metadata": {
        "id": "XEHDnmq9u_tU",
        "colab": {
          "base_uri": "https://localhost:8080/"
        },
        "outputId": "edbff3ef-5b84-4049-ba10-7674d87fbcdf"
      },
      "source": [
        "print('0')     # ??\n",
        "\n",
        "print(bool(0))"
      ],
      "execution_count": null,
      "outputs": [
        {
          "output_type": "stream",
          "name": "stdout",
          "text": [
            "0\n",
            "False\n"
          ]
        }
      ]
    },
    {
      "cell_type": "code",
      "metadata": {
        "id": "zn9xl0Mc0iK1"
      },
      "source": [
        ""
      ],
      "execution_count": null,
      "outputs": []
    },
    {
      "cell_type": "code",
      "metadata": {
        "id": "MQr1QkyQ0iM7",
        "colab": {
          "base_uri": "https://localhost:8080/"
        },
        "outputId": "0b1c9718-70d9-480a-93d2-4e8f49598df6"
      },
      "source": [
        "# ## output ??\n",
        "\n",
        "# print(bool(True) + bool(False) + bool(True) - bool(True) )\n",
        "\n",
        "#  #+  + bool(1000) + bool(\"Ahmet Bey\") + bool(None)\n",
        "\n",
        "print(bool(\"mehmet\"))"
      ],
      "execution_count": null,
      "outputs": [
        {
          "output_type": "stream",
          "name": "stdout",
          "text": [
            "True\n"
          ]
        }
      ]
    },
    {
      "cell_type": "code",
      "metadata": {
        "id": "8qjOzed90iOe"
      },
      "source": [
        "  ############   --------------------------------------------------"
      ],
      "execution_count": null,
      "outputs": []
    },
    {
      "cell_type": "code",
      "metadata": {
        "id": "JT81N8sz0iRK"
      },
      "source": [
        "###  and,  or  ve  not  ile Truthy lerin Kullanimi "
      ],
      "execution_count": null,
      "outputs": []
    },
    {
      "cell_type": "code",
      "metadata": {
        "id": "_eVh4Yq67OOV",
        "colab": {
          "base_uri": "https://localhost:8080/"
        },
        "outputId": "080d2ab1-7d50-45a7-f4d3-cf7f260480a8"
      },
      "source": [
        "################################      True ve Truthy mantigi      ######### \n",
        "\n",
        "\n",
        "# print() function der ki beni hem senin kim oldugun ilgilendirir hem de ne söyledigin ilgilendirir\n",
        "\n",
        "# Ben seni hem Ahmet Mehmet olarak bilirim hem de dogru mu yalan mi söyledigine bakarim\n",
        "\n",
        "# ve en sonunda da cikti olarak senin ismini ifsa ederim \n",
        "\n",
        "##  bool function ise der ki beni senin kim oldugun ilgilendirmez. Ahmet misin Mehmet misin ben bilmem \n",
        "\n",
        "#  benim icin sadece senin söyledigin söz önemlidir. Ya dogru söylüyorsundur ya da yalan ben ona bakarim\n",
        "\n",
        "#  yani sen string misin integer misin float misin bu beni ilgilendirmez ben seni bool() icerisine atarim\n",
        "\n",
        "# ve yalan mi dogru mu söyledigini  aninda tespit ederim\n",
        "\n",
        "# cikti olarak ise ismini ifsa etmem seni insanlara rezil etmem sadece söyledigin sözü print ederim\n",
        "\n",
        "print(\"ahmet\" and \"mehmet\")        ###  Attention burada True döndürmedi son Truthy i döndürdü                              \n",
        "\n",
        "print(bool(\"ahmet\" and \"mehmet\"))\n",
        "\n",
        "print(\"'True'\")           #  ===>> burada ismi basildi \n",
        "\n",
        "print(bool(\"'True'\"))     #  ===>> burada ise söyledigi sözün niteligi"
      ],
      "execution_count": null,
      "outputs": [
        {
          "output_type": "stream",
          "name": "stdout",
          "text": [
            "mehmet\n",
            "True\n",
            "'True'\n",
            "True\n"
          ]
        }
      ]
    },
    {
      "cell_type": "code",
      "metadata": {
        "id": "v34ryZZlf80C",
        "colab": {
          "base_uri": "https://localhost:8080/"
        },
        "outputId": "b8abc518-19ed-40cb-8a4b-fdca4f0e70e3"
      },
      "source": [
        "# Python da bir value ne kadar kisa yada ne kadar uzun,  ne kadar basit yada ne kadar karmasik olursa olsun \n",
        "\n",
        "# her value nun muhakkak True yada False olarak bir karsiligi vardir \n",
        "\n",
        "print(bool(\"ejfeöjglkrjtronivntvorevtohreoithreoihgriohhhdjkfh uhsufhsdfhsdh sd\"))   # ??\n",
        "\n",
        "print(bool(                                                                      ))   #  ??\n",
        "\n",
        "# bool() func tüm verileri True cu yada False cu diye kategorize eder. \n",
        "\n",
        "# bool() un gözünde baska bir seceneginiz yoktur"
      ],
      "execution_count": null,
      "outputs": [
        {
          "output_type": "stream",
          "name": "stdout",
          "text": [
            "True\n",
            "False\n"
          ]
        }
      ]
    },
    {
      "cell_type": "code",
      "metadata": {
        "id": "8RO_pZUoeQyu"
      },
      "source": [
        "#  and, or ve not mantigini anlamayan arkadasimiz var mi?\n",
        "\n",
        "#  tekrar edelim mi??"
      ],
      "execution_count": null,
      "outputs": []
    },
    {
      "cell_type": "code",
      "metadata": {
        "id": "Sr5gaWBf7OSN",
        "colab": {
          "base_uri": "https://localhost:8080/"
        },
        "outputId": "1656e2ba-dfd2-423b-bf12-d5761dd034f9"
      },
      "source": [
        "#   and ve or         ## Attention\n",
        "\n",
        "a = \"ali\" and \"-\"\n",
        "\n",
        "b = 0 or () or {} \n",
        "\n",
        "print(a and b) "
      ],
      "execution_count": null,
      "outputs": [
        {
          "output_type": "stream",
          "name": "stdout",
          "text": [
            "{}\n"
          ]
        }
      ]
    },
    {
      "cell_type": "code",
      "metadata": {
        "id": "PzG3vJZ3CVSw",
        "colab": {
          "base_uri": "https://localhost:8080/"
        },
        "outputId": "a2edc813-b657-4c5a-d00a-9ef7bc4fc2ad"
      },
      "source": [
        "### sizce calisir mi ?\n",
        "\n",
        "a = \"ali\" and \"''\" or False \n",
        "\n",
        "b = bool([] or () or {}\n",
        "\n",
        "print(a and b)            "
      ],
      "execution_count": null,
      "outputs": [
        {
          "output_type": "stream",
          "name": "stdout",
          "text": [
            "{}\n"
          ]
        }
      ]
    },
    {
      "cell_type": "code",
      "metadata": {
        "id": "8D939wNRCVU3",
        "colab": {
          "base_uri": "https://localhost:8080/"
        },
        "outputId": "efb1e0db-f973-4219-f63b-29b7385aafda"
      },
      "source": [
        "####   tereyagda yumurta örnegi:\n",
        "\n",
        "\n",
        "#  olmazsa olmazlarimiz  ## Dikkat; bunlardan ve ve diye bahsedilir \n",
        "tava = \"string\"\n",
        "yumurta= 1 \n",
        "tereyag = 1                   #### Attention: buradaki True ve False yerine 1, 0 , () gibi\n",
        "tuz = 1                      #   karakterler yazarsak ne olur ???\n",
        " \n",
        "\n",
        "#  opsiyonel malzemeler \n",
        "\n",
        "# sucuk = False\n",
        "# sosis = False\n",
        "# pastirma = False\n",
        "\n",
        "           \n",
        "yumurtayiyormuyuz = tava and yumurta \n",
        "\n",
        "print(yumurtayiyormuyuz)                  ### Attention: islem öncelik sirasina dikkat\n",
        "\n",
        "\n",
        "### Attention: Output olarak ne alacagiz?\n",
        "\n",
        "# True False mu yoksa baska degerler mi ?"
      ],
      "execution_count": null,
      "outputs": [
        {
          "output_type": "stream",
          "name": "stdout",
          "text": [
            "1\n"
          ]
        }
      ]
    },
    {
      "cell_type": "code",
      "metadata": {
        "id": "Cwb7erIvCVXr",
        "colab": {
          "base_uri": "https://localhost:8080/"
        },
        "outputId": "5b966115-8801-48d9-d5c1-5e32c0d78b28"
      },
      "source": [
        ""
      ],
      "execution_count": null,
      "outputs": [
        {
          "output_type": "stream",
          "name": "stdout",
          "text": [
            "0\n"
          ]
        }
      ]
    },
    {
      "cell_type": "code",
      "metadata": {
        "id": "mVOEYzWs7OU-"
      },
      "source": [
        "####################################################################"
      ],
      "execution_count": null,
      "outputs": []
    },
    {
      "cell_type": "code",
      "metadata": {
        "id": "NxUUS_Kv7OWT"
      },
      "source": [
        "#######    The strength of string   ##########     "
      ],
      "execution_count": null,
      "outputs": []
    },
    {
      "cell_type": "code",
      "metadata": {
        "id": "la0NmuDSu_vI"
      },
      "source": [
        "###  indexing #######"
      ],
      "execution_count": null,
      "outputs": []
    },
    {
      "cell_type": "code",
      "metadata": {
        "id": "gdCEr5KPu_xi",
        "colab": {
          "base_uri": "https://localhost:8080/"
        },
        "outputId": "787c81a8-3972-409e-d25c-428dc2d58540"
      },
      "source": [
        "##  stringler iterable veri tipidir. Yani elemanlarina ayrilabilirler\n",
        "\n",
        "## peki bu ne demektir ?????\n",
        "\n",
        "# iterable demek her bir elemani tek tek cimbizlama methodu ile cekip cikarabiliriz ve\n",
        "\n",
        "# onlari cikardiktan sonra onlarla islem yapabilirsiniz demektir\n",
        "\n",
        "# tabi ki elemanlardan bir bölümünü de cekip cikarabilirsiniz(slicing denir birazdan bahsedecegiz)\n",
        "\n",
        "string = \"32\"\n",
        "\n",
        "print(string[1])  ##  bosluklara dikkat\n",
        "\n",
        "\n",
        "\n"
      ],
      "execution_count": null,
      "outputs": [
        {
          "output_type": "stream",
          "name": "stdout",
          "text": [
            "2\n"
          ]
        }
      ]
    },
    {
      "cell_type": "code",
      "metadata": {
        "colab": {
          "base_uri": "https://localhost:8080/"
        },
        "id": "0Msn9cfnq5Yw",
        "outputId": "cdfdf446-95a8-4ff7-cd2e-523a0676bc7a"
      },
      "source": [
        "# peki iterable olmayan ne demektir ??  \n",
        "\n",
        "integer = \"1234567\" \n",
        "\n",
        "print(list(integer))   ## output u okuyalim *****  "
      ],
      "execution_count": null,
      "outputs": [
        {
          "output_type": "stream",
          "name": "stdout",
          "text": [
            "['1', '2', '3', '4', '5', '6', '7']\n"
          ]
        }
      ]
    },
    {
      "cell_type": "code",
      "metadata": {
        "colab": {
          "base_uri": "https://localhost:8080/"
        },
        "id": "ORk221VfuFeA",
        "outputId": "673c5a81-ae8f-4114-af57-63b81e98834b"
      },
      "source": [
        "floatim = '54321.12345'     \n",
        "\n",
        "print(tuple(floatim))"
      ],
      "execution_count": null,
      "outputs": [
        {
          "output_type": "stream",
          "name": "stdout",
          "text": [
            "('5', '4', '3', '2', '1', '.', '1', '2', '3', '4', '5')\n"
          ]
        }
      ]
    },
    {
      "cell_type": "code",
      "metadata": {
        "id": "XYOcezowuZTz"
      },
      "source": [
        "# yani ayni zamanda ortaya su cikiyor\n",
        "\n",
        "# list ve tuple func lari iclerine iterable veri alirlar\n",
        "\n",
        "# eger elemanlarina teker teker ayiramayacagina kanaat getirirse error verir"
      ],
      "execution_count": null,
      "outputs": []
    },
    {
      "cell_type": "code",
      "metadata": {
        "id": "Htd0QNT3u3hw"
      },
      "source": [
        "# Elemanlarina ayrilabilen dedik\n",
        "\n",
        "# Peki bir string i elemanlarina nasil ayirabiliriz??"
      ],
      "execution_count": null,
      "outputs": []
    },
    {
      "cell_type": "code",
      "metadata": {
        "colab": {
          "base_uri": "https://localhost:8080/"
        },
        "id": "Iku0nvcku3mB",
        "outputId": "d1a33415-e7e4-4dac-fa42-bb8f67f95b7a"
      },
      "source": [
        "# Elemanlarina index numaralari ile ayirabiliriz. \n",
        "\n",
        "# her elemanin bir index numarasi vardir. ASCII kod gibi düsünebilirsiniz \n",
        "\n",
        "# ve bir string de index numaralari 1 den degil 0 dan baslar\n",
        "\n",
        "# [] ile yaptigimiz bu isleme indexing yani indexleme denir\n",
        "\n",
        "string = \"tarik\"\n",
        "\n",
        "# string2 = string[3]\n",
        "#                             # Dikkat!!!!\n",
        "# print(string2)              ##  iki output umuz nedir ??\n",
        "\n",
        "print(string[3])"
      ],
      "execution_count": null,
      "outputs": [
        {
          "output_type": "stream",
          "name": "stdout",
          "text": [
            "i\n"
          ]
        }
      ]
    },
    {
      "cell_type": "code",
      "metadata": {
        "id": "xeJTG6Gmu3oU"
      },
      "source": [
        ""
      ],
      "execution_count": null,
      "outputs": []
    },
    {
      "cell_type": "code",
      "metadata": {
        "id": "8L4Kwe6Ku3qH"
      },
      "source": [
        "######################################"
      ],
      "execution_count": null,
      "outputs": []
    },
    {
      "cell_type": "code",
      "metadata": {
        "id": "SnF2kNLtu3vm"
      },
      "source": [
        "###############   slicing (dilimleme)  ###################"
      ],
      "execution_count": null,
      "outputs": []
    },
    {
      "cell_type": "code",
      "metadata": {
        "id": "GwQ2eYYsu3xi"
      },
      "source": [
        "# bunun indexleme den tek farki :\n",
        "\n",
        "# bir string icerisinden BIRDEN COK elemani cekip cikarmak ve onlar üzerinde islem yapmaktir\n",
        "\n",
        "# yani indexleme pastanin elemanlarindan biri olan bir adet damla cikolatayi cekip yemektir\n",
        "\n",
        "# slicing ise pastadan bir dilim kesip yemektir \n",
        "\n",
        "# yine bu islemi de [] ile yapariz "
      ],
      "execution_count": null,
      "outputs": []
    },
    {
      "cell_type": "code",
      "metadata": {
        "id": "0WGW7u0Fw0Kq"
      },
      "source": [
        "# slicing de yine index numaralarini kullaniriz. \n",
        "\n",
        "# dolayisi ile soldan saga 0 dan baslayarak sayariz"
      ],
      "execution_count": null,
      "outputs": []
    },
    {
      "cell_type": "code",
      "metadata": {
        "colab": {
          "base_uri": "https://localhost:8080/"
        },
        "id": "PIHH1YLMw0Mu",
        "outputId": "3cd25206-ed66-4d22-a4e1-74aa2d8ea7dc"
      },
      "source": [
        "##### output nedir ??\n",
        "\n",
        "slicing = \"computer\"\n",
        "\n",
        "# slicing2 = slicing[2:4]   \n",
        "\n",
        "# print(slicing2)\n",
        "\n",
        "print(slicing[2:4])             #### Attention: slicing de [2:4] seklinde iki deger yazariz\n",
        "\n",
        "                                #### solda yazdigimiz 2. index no'dan baslar ama 4. karakteri almaz  \n",
        "\n",
        "                                ### yani [start: stop] stop index herzaman -1 i olarak calisir           "
      ],
      "execution_count": null,
      "outputs": [
        {
          "output_type": "stream",
          "name": "stdout",
          "text": [
            "mp\n"
          ]
        }
      ]
    },
    {
      "cell_type": "code",
      "metadata": {
        "colab": {
          "base_uri": "https://localhost:8080/"
        },
        "id": "dF-UD3sQw0Oo",
        "outputId": "c1da039b-59e8-4b5d-9f75-b813091f8a48"
      },
      "source": [
        "### Task:  biz bu slicing degiskeninden \"ng\" ciktisini nasil alabiliriz?????\n",
        "\n",
        "slicing = \"slicing\"\n",
        "\n",
        "# slicing2 = slicing\n",
        "\n",
        "# print(slicing2)\n",
        "\n",
        "print(slicing[5:7])"
      ],
      "execution_count": null,
      "outputs": [
        {
          "output_type": "stream",
          "name": "stdout",
          "text": [
            "ng\n"
          ]
        }
      ]
    },
    {
      "cell_type": "code",
      "metadata": {
        "id": "s8609lETw0SP"
      },
      "source": [
        "#######  3S kurali   [start : stop : step]    ##########"
      ],
      "execution_count": null,
      "outputs": []
    },
    {
      "cell_type": "code",
      "metadata": {
        "colab": {
          "base_uri": "https://localhost:8080/"
        },
        "id": "wMEoJWaVw0US",
        "outputId": "d4443d3b-b9b2-4407-c12e-532788e7cbbc"
      },
      "source": [
        "# peki biz bunu Python a nasil anlatiriz \n",
        "\n",
        "string = \"string\"           ###  outputlar nedir ??\n",
        "\n",
        "print(string[::])\n",
        "\n",
        "print(string[0:2:])\n",
        "\n",
        "print(string[0:6:2])\n",
        "\n",
        "print(string[0::2])\n",
        "\n",
        "print(string[::3])\n",
        "\n",
        "print(string[0::2])\n",
        "\n",
        "print(string[:6:])\n",
        "\n",
        "print(string[4::])\n",
        "\n",
        "print(string[:])\n",
        "\n",
        "print(string[:5])"
      ],
      "execution_count": null,
      "outputs": [
        {
          "output_type": "stream",
          "name": "stdout",
          "text": [
            "string\n",
            "st\n",
            "srn\n",
            "srn\n",
            "si\n",
            "srn\n",
            "string\n",
            "ng\n",
            "string\n",
            "strin\n"
          ]
        }
      ]
    },
    {
      "cell_type": "code",
      "metadata": {
        "id": "yImK8qMuw0WJ"
      },
      "source": [
        ""
      ],
      "execution_count": null,
      "outputs": []
    },
    {
      "cell_type": "code",
      "metadata": {
        "id": "WNLl5Jk2AtHO"
      },
      "source": [
        "#############        negativ index numbers   ############"
      ],
      "execution_count": null,
      "outputs": []
    },
    {
      "cell_type": "code",
      "metadata": {
        "colab": {
          "base_uri": "https://localhost:8080/"
        },
        "id": "OO830QS-AtJV",
        "outputId": "37d4b60d-e8b3-4869-fbe4-aa828cb3a6fa"
      },
      "source": [
        "## potitif index no lar 0 dan baslar\n",
        "\n",
        "# negativ ler ise -1 den baslar.\n",
        "\n",
        "integer = \"0123456789\"\n",
        "\n",
        "print(integer[-6:])"
      ],
      "execution_count": null,
      "outputs": [
        {
          "output_type": "stream",
          "name": "stdout",
          "text": [
            "456789\n"
          ]
        }
      ]
    },
    {
      "cell_type": "code",
      "metadata": {
        "colab": {
          "base_uri": "https://localhost:8080/"
        },
        "id": "HSL9PUwxHTx6",
        "outputId": "95e9e01c-c04d-4dcf-e508-20265499b3a6"
      },
      "source": [
        "#integer = \"0123456789\"\n",
        "\n",
        "integereksi = \"-9-8-7-6-5-4-3-2-1\"\n",
        "\n",
        "#print(integer[5:7])\n",
        "\n",
        "print(integereksi[-8:-6])  ### ??? sizce bu kod calisir mi ??"
      ],
      "execution_count": null,
      "outputs": [
        {
          "output_type": "stream",
          "name": "stdout",
          "text": [
            "-4\n"
          ]
        }
      ]
    },
    {
      "cell_type": "code",
      "metadata": {
        "colab": {
          "base_uri": "https://localhost:8080/"
        },
        "id": "GjHDUo82A0Wn",
        "outputId": "f701bc48-4c69-4a0d-da82-d11831e5ee4a"
      },
      "source": [
        "### negativ ve pozitif index numaralari ayni anda kullanilabilir \n",
        "\n",
        "# integer = \"0123456789\"\n",
        "\n",
        "# print(integer[-8:8])\n",
        "\n",
        "integereksi = \"-9-8-7-6-5-4-3-2-1\"  \n",
        "\n",
        "print(integereksi[-11:8])##   ???? Attention Output ??\n"
      ],
      "execution_count": null,
      "outputs": [
        {
          "output_type": "stream",
          "name": "stdout",
          "text": [
            "6\n"
          ]
        }
      ]
    },
    {
      "cell_type": "code",
      "metadata": {
        "colab": {
          "base_uri": "https://localhost:8080/"
        },
        "id": "RXEH64TYA0Yt",
        "outputId": "39e85591-f025-45e2-c6b3-3e2c0d01db2c"
      },
      "source": [
        "### negativ leri kullanirken dikkat \n",
        "\n",
        "# Python soldan saga calisir!!!! kafa karisikligi olabilir \n",
        "\n",
        "# 9. index no 2. index noya göre daha sagdadir \n",
        "\n",
        "# ancak -9. index no -2 ye göre daha soldadir\n",
        "\n",
        "integer = \"0123456789\"\n",
        "\n",
        "integereksi = \"-9-8-7-6-5-4-3-2-1\"\n",
        "\n",
        "print(integer[-2:-9])            ##  output nedir ??"
      ],
      "execution_count": null,
      "outputs": [
        {
          "output_type": "stream",
          "name": "stdout",
          "text": [
            "\n"
          ]
        }
      ]
    },
    {
      "cell_type": "code",
      "metadata": {
        "id": "ypEvTPEFA0ag"
      },
      "source": [
        "##############           step           #############  "
      ],
      "execution_count": null,
      "outputs": []
    },
    {
      "cell_type": "code",
      "metadata": {
        "colab": {
          "base_uri": "https://localhost:8080/"
        },
        "id": "oDBqZVM6AtLQ",
        "outputId": "e631ca88-0c26-4b5c-f253-387efda5c916"
      },
      "source": [
        "# steplerde negativ ve pozitif olarak ikiye ayrilir                             \n",
        "\n",
        "# [start: stop: step]  burada eger herhangi bir islem yapmazsak default su sekildedir\n",
        "\n",
        "# 0. elemandan basla son eleman dahil yazdir \n",
        "\n",
        "# step'in defaultu ise +1 dir. Yani arada hic eleman atlamadan soldan saga birer birer gider\n",
        "\n",
        "integer = \"0123456789\"               \n",
        "\n",
        "print(integer)\n",
        "\n",
        "print(integer[:]) "
      ],
      "execution_count": null,
      "outputs": [
        {
          "output_type": "stream",
          "name": "stdout",
          "text": [
            "0123456789\n",
            "0123456789\n"
          ]
        }
      ]
    },
    {
      "cell_type": "code",
      "metadata": {
        "colab": {
          "base_uri": "https://localhost:8080/",
          "height": 235
        },
        "id": "H6tjPmmKAtNK",
        "outputId": "bb21ca9a-c935-4c60-9f39-8da96bd21d95"
      },
      "source": [
        "integer = \"0123456789\"\n",
        "\n",
        "print(integer[::2])\n",
        "\n",
        "print(integer[::3])\n",
        "\n",
        "print(integer[::2.0])  ### ?? float step olur mu?"
      ],
      "execution_count": null,
      "outputs": [
        {
          "output_type": "stream",
          "name": "stdout",
          "text": [
            "02468\n",
            "0369\n"
          ]
        },
        {
          "output_type": "error",
          "ename": "TypeError",
          "evalue": "ignored",
          "traceback": [
            "\u001b[0;31m---------------------------------------------------------------------------\u001b[0m",
            "\u001b[0;31mTypeError\u001b[0m                                 Traceback (most recent call last)",
            "\u001b[0;32m<ipython-input-213-2864d0f23d28>\u001b[0m in \u001b[0;36m<module>\u001b[0;34m()\u001b[0m\n\u001b[1;32m      5\u001b[0m \u001b[0mprint\u001b[0m\u001b[0;34m(\u001b[0m\u001b[0minteger\u001b[0m\u001b[0;34m[\u001b[0m\u001b[0;34m:\u001b[0m\u001b[0;34m:\u001b[0m\u001b[0;36m3\u001b[0m\u001b[0;34m]\u001b[0m\u001b[0;34m)\u001b[0m\u001b[0;34m\u001b[0m\u001b[0;34m\u001b[0m\u001b[0m\n\u001b[1;32m      6\u001b[0m \u001b[0;34m\u001b[0m\u001b[0m\n\u001b[0;32m----> 7\u001b[0;31m \u001b[0mprint\u001b[0m\u001b[0;34m(\u001b[0m\u001b[0minteger\u001b[0m\u001b[0;34m[\u001b[0m\u001b[0;34m:\u001b[0m\u001b[0;34m:\u001b[0m\u001b[0;36m2.0\u001b[0m\u001b[0;34m]\u001b[0m\u001b[0;34m)\u001b[0m  \u001b[0;31m### ?? float step olur mu?\u001b[0m\u001b[0;34m\u001b[0m\u001b[0;34m\u001b[0m\u001b[0m\n\u001b[0m",
            "\u001b[0;31mTypeError\u001b[0m: slice indices must be integers or None or have an __index__ method"
          ]
        }
      ]
    },
    {
      "cell_type": "code",
      "metadata": {
        "colab": {
          "base_uri": "https://localhost:8080/"
        },
        "id": "GN7zHAkkEiHg",
        "outputId": "3b61f7ae-3af3-402f-9ee6-d6ec5d1544e0"
      },
      "source": [
        "### negativ step \n",
        "\n",
        "integer = \"0123456789\"\n",
        "\n",
        "# print(integer[]) \n",
        "\n",
        "#print(integer[])\n",
        "\n",
        "print(integer[::2]) "
      ],
      "execution_count": null,
      "outputs": [
        {
          "output_type": "stream",
          "name": "stdout",
          "text": [
            "02468\n"
          ]
        }
      ]
    },
    {
      "cell_type": "code",
      "metadata": {
        "colab": {
          "base_uri": "https://localhost:8080/"
        },
        "id": "D0198x4vEiJV",
        "outputId": "51600a07-1031-418b-b915-5cf2b0e120ea"
      },
      "source": [
        "## negativ index ve negativ step ayni anda kullanirken dikkat\n",
        "\n",
        "integereksi = \"987654321\"       ## outputlarimiz ??\n",
        "\n",
        "#print(integereksi[-9:-1:1])\n",
        "\n",
        "print(integereksi[-1:-9:-1])\n"
      ],
      "execution_count": null,
      "outputs": [
        {
          "output_type": "stream",
          "name": "stdout",
          "text": [
            "12345678\n"
          ]
        }
      ]
    },
    {
      "cell_type": "code",
      "metadata": {
        "colab": {
          "base_uri": "https://localhost:8080/"
        },
        "id": "7VbtWtM1EiLI",
        "outputId": "6737dd34-76b2-42d7-e672-7fbbe609e629"
      },
      "source": [
        "## pozitif index negativ step \n",
        "\n",
        "integereksi = \"987654321\"      # output ??  \n",
        "\n",
        "print(integereksi[1: 9: -1])   "
      ],
      "execution_count": null,
      "outputs": [
        {
          "output_type": "stream",
          "name": "stdout",
          "text": [
            "\n"
          ]
        }
      ]
    },
    {
      "cell_type": "code",
      "metadata": {
        "colab": {
          "base_uri": "https://localhost:8080/"
        },
        "id": "bztVG675EiNJ",
        "outputId": "886fbc3e-bac9-48d9-baef-b4b028a11f2c"
      },
      "source": [
        "# stop her zaman -1 olarak calisir demistik. yani son elemani almaz\n",
        "\n",
        "# peki bu negativ slicing de nasildir \n",
        "\n",
        "string = \"987654321\"                    ###  ?? output nedir ??\n",
        "\n",
        "print(string[-8:-2])"
      ],
      "execution_count": null,
      "outputs": [
        {
          "output_type": "stream",
          "name": "stdout",
          "text": [
            "876543\n"
          ]
        }
      ]
    },
    {
      "cell_type": "code",
      "metadata": {
        "colab": {
          "base_uri": "https://localhost:8080/"
        },
        "id": "FkK_SQ1zGS2X",
        "outputId": "b698ab7f-810a-4faf-a28e-92339dc37f89"
      },
      "source": [
        "### DIKKATTTT\n",
        "\n",
        "# negativ index numarasi ile negativ step cok farkli seylerdir\n",
        "\n",
        "# Sakin karistirmayalim\n",
        "\n",
        "# negativ index numaralari ile slicing yapsak da python yine soldan saga calisir\n",
        "\n",
        "\n",
        "string = \"hellodünya\"                       \n",
        "\n",
        "print(string[-1:-9])                "
      ],
      "execution_count": null,
      "outputs": [
        {
          "output_type": "stream",
          "name": "stdout",
          "text": [
            "\n"
          ]
        }
      ]
    },
    {
      "cell_type": "code",
      "metadata": {
        "id": "h_Y3d9IOGS6s"
      },
      "source": [
        ""
      ],
      "execution_count": null,
      "outputs": []
    },
    {
      "cell_type": "code",
      "metadata": {
        "colab": {
          "base_uri": "https://localhost:8080/"
        },
        "id": "SNXE3_BBEiPB",
        "outputId": "847089b4-d6d4-4d73-b892-99a650e7af27"
      },
      "source": [
        "##  tabir olarak bir iterable vardir  bir de immutable ve mutable vardir.\n",
        "\n",
        "# bunlari karistirmayalim.\n",
        "\n",
        "# mutable ve immutable nedir ??\n",
        "\n",
        "string = \"computer\"\n",
        "\n",
        "string = string.upper()\n",
        "\n",
        "print(string)        "
      ],
      "execution_count": null,
      "outputs": [
        {
          "output_type": "stream",
          "name": "stdout",
          "text": [
            "COMPUTER\n"
          ]
        }
      ]
    },
    {
      "cell_type": "code",
      "metadata": {
        "id": "vmRfiLmDEiRD"
      },
      "source": [
        ""
      ],
      "execution_count": null,
      "outputs": []
    },
    {
      "cell_type": "code",
      "metadata": {
        "id": "ot-ix5-Lw0Y0"
      },
      "source": [
        ""
      ],
      "execution_count": null,
      "outputs": []
    },
    {
      "cell_type": "code",
      "metadata": {
        "id": "4fll1xFYu3zo"
      },
      "source": [
        ""
      ],
      "execution_count": null,
      "outputs": []
    },
    {
      "cell_type": "code",
      "metadata": {
        "id": "hkLxTEiGq5a6"
      },
      "source": [
        ""
      ],
      "execution_count": null,
      "outputs": []
    },
    {
      "cell_type": "code",
      "metadata": {
        "id": "rABpCgPDq5gd"
      },
      "source": [
        ""
      ],
      "execution_count": null,
      "outputs": []
    },
    {
      "cell_type": "code",
      "metadata": {
        "id": "JbH2Ta_Gq5kI"
      },
      "source": [
        ""
      ],
      "execution_count": null,
      "outputs": []
    },
    {
      "cell_type": "code",
      "metadata": {
        "id": "ZmegCy4Eq5mT"
      },
      "source": [
        ""
      ],
      "execution_count": null,
      "outputs": []
    },
    {
      "cell_type": "code",
      "metadata": {
        "id": "6kEfinauq5oE"
      },
      "source": [
        ""
      ],
      "execution_count": null,
      "outputs": []
    },
    {
      "cell_type": "code",
      "metadata": {
        "id": "lz3HDBk2q5qE"
      },
      "source": [
        ""
      ],
      "execution_count": null,
      "outputs": []
    },
    {
      "cell_type": "code",
      "metadata": {
        "id": "jMckbNAtWM95"
      },
      "source": [
        ""
      ],
      "execution_count": null,
      "outputs": []
    },
    {
      "cell_type": "code",
      "metadata": {
        "id": "9pp4vUM3WNBl"
      },
      "source": [
        ""
      ],
      "execution_count": null,
      "outputs": []
    },
    {
      "cell_type": "code",
      "metadata": {
        "id": "Yoez2D1zWNFU"
      },
      "source": [
        ""
      ],
      "execution_count": null,
      "outputs": []
    },
    {
      "cell_type": "code",
      "metadata": {
        "id": "y5CRlrGJWNLG"
      },
      "source": [
        ""
      ],
      "execution_count": null,
      "outputs": []
    },
    {
      "cell_type": "code",
      "metadata": {
        "id": "wd33Amf-WNM5"
      },
      "source": [
        ""
      ],
      "execution_count": null,
      "outputs": []
    },
    {
      "cell_type": "code",
      "metadata": {
        "id": "SC5NDDo4WNOm"
      },
      "source": [
        ""
      ],
      "execution_count": null,
      "outputs": []
    },
    {
      "cell_type": "code",
      "metadata": {
        "id": "bL2ySEfMu_22"
      },
      "source": [
        ""
      ],
      "execution_count": null,
      "outputs": []
    },
    {
      "cell_type": "code",
      "metadata": {
        "colab": {
          "base_uri": "https://localhost:8080/"
        },
        "id": "pCs5nyuGXY1I",
        "outputId": "bde1c476-8838-44bd-97a2-d944b075edf3"
      },
      "source": [
        "fruit = \"orange\"\n",
        "print(fruit[2:5])   # ***************   Attention:  burada 2 dahil 5 dahil degil. 2 dahil 5 e kadar yani 5 haric"
      ],
      "execution_count": null,
      "outputs": [
        {
          "output_type": "stream",
          "name": "stdout",
          "text": [
            "ang\n"
          ]
        }
      ]
    },
    {
      "cell_type": "code",
      "metadata": {
        "colab": {
          "base_uri": "https://localhost:8080/"
        },
        "id": "zNfeHaDrXY3n",
        "outputId": "5caa59a4-4dcb-4cc9-e6e6-e7d000380762"
      },
      "source": [
        "print(fruit[0])"
      ],
      "execution_count": null,
      "outputs": [
        {
          "output_type": "stream",
          "name": "stdout",
          "text": [
            "o\n"
          ]
        }
      ]
    },
    {
      "cell_type": "code",
      "metadata": {
        "colab": {
          "base_uri": "https://localhost:8080/"
        },
        "id": "7Jw4RBO_XY5p",
        "outputId": "134d21ef-6aca-459b-ce63-0ebcc974d406"
      },
      "source": [
        "print(fruit[5])"
      ],
      "execution_count": null,
      "outputs": [
        {
          "output_type": "stream",
          "name": "stdout",
          "text": [
            "e\n"
          ]
        }
      ]
    },
    {
      "cell_type": "code",
      "metadata": {
        "colab": {
          "base_uri": "https://localhost:8080/"
        },
        "id": "GNDSyhDZXY7x",
        "outputId": "a3fbbc95-328f-469e-97e7-d65b223e382e"
      },
      "source": [
        "print(fruit[2:])       # ***********      Burada 2 dahil sonuna kadar"
      ],
      "execution_count": null,
      "outputs": [
        {
          "output_type": "stream",
          "name": "stdout",
          "text": [
            "ange\n"
          ]
        }
      ]
    },
    {
      "cell_type": "code",
      "metadata": {
        "colab": {
          "base_uri": "https://localhost:8080/"
        },
        "id": "gleWYaA0XY9r",
        "outputId": "ba32a97d-927b-4d36-87bd-c3dfcd2b6295"
      },
      "source": [
        "obst = \"abcdefghijklmnoöprs\"\n",
        "print(obst[0:21:2])         # *******   Attention: string[ start: stop: step ]  Formül bu sekilde"
      ],
      "execution_count": null,
      "outputs": [
        {
          "output_type": "stream",
          "name": "stdout",
          "text": [
            "acegikmops\n"
          ]
        }
      ]
    },
    {
      "cell_type": "code",
      "metadata": {
        "colab": {
          "base_uri": "https://localhost:8080/"
        },
        "id": "ekNQwXF7XY_p",
        "outputId": "ccc0a910-51ab-4a79-c937-90e3eacafcef"
      },
      "source": [
        "print(obst[0:21])"
      ],
      "execution_count": null,
      "outputs": [
        {
          "output_type": "stream",
          "name": "stdout",
          "text": [
            "abcdefghijklmnoöprs\n"
          ]
        }
      ]
    },
    {
      "cell_type": "code",
      "metadata": {
        "colab": {
          "base_uri": "https://localhost:8080/"
        },
        "id": "lkWi7eiNaXqJ",
        "outputId": "5f68c0e9-08bd-4d80-c47b-8d2b3a4440ce"
      },
      "source": [
        "city = \"Hamburg\"\n",
        "print(city[1:])"
      ],
      "execution_count": null,
      "outputs": [
        {
          "output_type": "stream",
          "name": "stdout",
          "text": [
            "amburg\n"
          ]
        }
      ]
    },
    {
      "cell_type": "code",
      "metadata": {
        "colab": {
          "base_uri": "https://localhost:8080/"
        },
        "id": "GPb4bCWkaXv_",
        "outputId": "c296dc16-6107-401c-864a-92040856e138"
      },
      "source": [
        "print(city[:6])"
      ],
      "execution_count": null,
      "outputs": [
        {
          "output_type": "stream",
          "name": "stdout",
          "text": [
            "Hambur\n"
          ]
        }
      ]
    },
    {
      "cell_type": "code",
      "metadata": {
        "colab": {
          "base_uri": "https://localhost:8080/"
        },
        "id": "PrCcrdeaaXyN",
        "outputId": "025d8830-48ce-4ddd-ffe4-a7fc0c70b229"
      },
      "source": [
        "print(city[::2])     #*************   Attention:   iki iki atlayarak yazdir dedigimizde ikinci harften baslamaz bastan baslar"
      ],
      "execution_count": null,
      "outputs": [
        {
          "output_type": "stream",
          "name": "stdout",
          "text": [
            "Hmug\n"
          ]
        }
      ]
    },
    {
      "cell_type": "code",
      "metadata": {
        "colab": {
          "base_uri": "https://localhost:8080/"
        },
        "id": "CkinvuPgaX0B",
        "outputId": "d4de9a42-2d98-43cc-af0a-516f2f8bbed4"
      },
      "source": [
        "print(city[1::2])"
      ],
      "execution_count": null,
      "outputs": [
        {
          "output_type": "stream",
          "name": "stdout",
          "text": [
            "abr\n"
          ]
        }
      ]
    },
    {
      "cell_type": "code",
      "metadata": {
        "colab": {
          "base_uri": "https://localhost:8080/"
        },
        "id": "NAoW1s9EaX2G",
        "outputId": "508594d7-e988-486a-8b36-37e5abdf0a59"
      },
      "source": [
        "print(city[-3:])"
      ],
      "execution_count": null,
      "outputs": [
        {
          "output_type": "stream",
          "name": "stdout",
          "text": [
            "urg\n"
          ]
        }
      ]
    },
    {
      "cell_type": "code",
      "metadata": {
        "colab": {
          "base_uri": "https://localhost:8080/"
        },
        "id": "ak7e1zfPaX3x",
        "outputId": "5bb2d4e1-02de-4e36-9ef3-ff6af675336f"
      },
      "source": [
        "print(city[::-1])   # ******* negative step starts from the end to zero"
      ],
      "execution_count": null,
      "outputs": [
        {
          "output_type": "stream",
          "name": "stdout",
          "text": [
            "grubmaH\n"
          ]
        }
      ]
    },
    {
      "cell_type": "code",
      "metadata": {
        "colab": {
          "base_uri": "https://localhost:8080/"
        },
        "id": "0O9_fg3aaX5x",
        "outputId": "22e67b5b-dca4-4f22-ebc4-d29c980e6d24"
      },
      "source": [
        "vegetable = \"tomaten\"\n",
        "print(\"lengt of the word\", vegetable, \"is:\", len(vegetable))"
      ],
      "execution_count": null,
      "outputs": [
        {
          "output_type": "stream",
          "name": "stdout",
          "text": [
            "lengt of the word tomaten is: 7\n"
          ]
        }
      ]
    },
    {
      "cell_type": "code",
      "metadata": {
        "colab": {
          "base_uri": "https://localhost:8080/"
        },
        "id": "QDkKEOiDaX72",
        "outputId": "d085861f-673f-4ee4-8f94-039a98c32a4a"
      },
      "source": [
        "gemüse = \"Knoblauch\"\n",
        "print(\"länge vom Wort\", gemüse, \"ist:\", len(gemüse))"
      ],
      "execution_count": null,
      "outputs": [
        {
          "output_type": "stream",
          "name": "stdout",
          "text": [
            "länge vom Wort Knoblauch ist: 9\n"
          ]
        }
      ]
    },
    {
      "cell_type": "code",
      "metadata": {
        "colab": {
          "base_uri": "https://localhost:8080/"
        },
        "id": "_5wV5cx0aX9n",
        "outputId": "60ae71f8-5bea-4f08-e98e-088389baa90e"
      },
      "source": [
        "a = \"Python Language\"\n",
        "print(a[4:])"
      ],
      "execution_count": null,
      "outputs": [
        {
          "output_type": "stream",
          "name": "stdout",
          "text": [
            "on Language\n"
          ]
        }
      ]
    },
    {
      "cell_type": "code",
      "metadata": {
        "colab": {
          "base_uri": "https://localhost:8080/"
        },
        "id": "89uhmxWvs0bD",
        "outputId": "90a49980-4ecb-4da5-caa4-a20f3517fb7b"
      },
      "source": [
        "print(\"clarus\" + \"way\")    # *** Bu ve asagidaki birkac islem Arithmetic Syntax"
      ],
      "execution_count": null,
      "outputs": [
        {
          "output_type": "stream",
          "name": "stdout",
          "text": [
            "clarusway\n"
          ]
        }
      ]
    },
    {
      "cell_type": "code",
      "metadata": {
        "colab": {
          "base_uri": "https://localhost:8080/"
        },
        "id": "-yYNGuJxs1DL",
        "outputId": "b64c9b3b-bae3-41d2-9f66-743318beee58"
      },
      "source": [
        "print(3 * \" no way!\")"
      ],
      "execution_count": null,
      "outputs": [
        {
          "output_type": "stream",
          "name": "stdout",
          "text": [
            " no way! no way! no way!\n"
          ]
        }
      ]
    },
    {
      "cell_type": "code",
      "metadata": {
        "colab": {
          "base_uri": "https://localhost:8080/"
        },
        "id": "Zmni-4R4s1FS",
        "outputId": "d67fd527-1816-4797-a2d5-b62334e11474"
      },
      "source": [
        "fruit = \"orange\"                         # ****** Attention: \"using +:\" dan sonra virgül kullanirsak arada bosluk birakir. + kullanirsak bosluksuz olur\n",
        "vegetable = \"tomato\"\n",
        "print(\"using +:\" , fruit + vegetable)"
      ],
      "execution_count": null,
      "outputs": [
        {
          "output_type": "stream",
          "name": "stdout",
          "text": [
            "using +: orangetomato\n"
          ]
        }
      ]
    },
    {
      "cell_type": "code",
      "metadata": {
        "colab": {
          "base_uri": "https://localhost:8080/"
        },
        "id": "vyedJHtes1HA",
        "outputId": "9af7f5fa-afd4-4e5d-a273-5609e9958b9e"
      },
      "source": [
        "print(\"using *:\", 3 * fruit)"
      ],
      "execution_count": null,
      "outputs": [
        {
          "output_type": "stream",
          "name": "stdout",
          "text": [
            "using *: orangeorangeorange\n"
          ]
        }
      ]
    },
    {
      "cell_type": "code",
      "metadata": {
        "colab": {
          "base_uri": "https://localhost:8080/"
        },
        "id": "u3lYlBJFs1JE",
        "outputId": "32c7fa5b-d26e-4279-d113-e24d6349f318"
      },
      "source": [
        "fruit = \"orange\"\n",
        "fruit += \"apple\"\n",
        "print(fruit)"
      ],
      "execution_count": null,
      "outputs": [
        {
          "output_type": "stream",
          "name": "stdout",
          "text": [
            "orangeapple\n"
          ]
        }
      ]
    },
    {
      "cell_type": "code",
      "metadata": {
        "colab": {
          "base_uri": "https://localhost:8080/"
        },
        "id": "A9qxuKsps1K_",
        "outputId": "b4ab827c-8d06-45ad-d9c7-726fe1fd49fc"
      },
      "source": [
        "fruit = \"orange\"\n",
        "fruit += \"apple\"\n",
        "fruit += \"banana\"\n",
        "fruit += \"apricot\"\n",
        "print(fruit)"
      ],
      "execution_count": null,
      "outputs": [
        {
          "output_type": "stream",
          "name": "stdout",
          "text": [
            "orangeapplebananaapricot\n"
          ]
        }
      ]
    },
    {
      "cell_type": "code",
      "metadata": {
        "colab": {
          "base_uri": "https://localhost:8080/"
        },
        "id": "2jfzd3jvuiND",
        "outputId": "4c92e72a-f9e7-47d0-9114-ef68eda1fdbc"
      },
      "source": [
        "## output AppleApple OrangeOrangeOrange          Bu ciktiyi formüle ediniz\n",
        "fruit1 = \"Apple\"\n",
        "fruit2 = \"Orange\"\n",
        "print(2 * fruit1 + \" \" + 3 * fruit2)"
      ],
      "execution_count": null,
      "outputs": [
        {
          "output_type": "stream",
          "name": "stdout",
          "text": [
            "AppleApple OrangeOrangeOrange\n"
          ]
        }
      ]
    },
    {
      "cell_type": "code",
      "metadata": {
        "colab": {
          "base_uri": "https://localhost:8080/"
        },
        "id": "GjDe2UyauiPP",
        "outputId": "b20acab3-199f-4957-915a-75541f384df3"
      },
      "source": [
        "phrase = \"I have %d %s and %.2f brothers\" % (4, \"children\", 5)\n",
        "print(phrase)      # Burada \"d\" sayisal ifadeyi, \"s\" stringi, \"f\" ise float i ifade eder. Ancak \"f\" nin yanindaki .2 ifadesi floatin 2 sifirli olacagini belirtir."
      ],
      "execution_count": null,
      "outputs": [
        {
          "output_type": "stream",
          "name": "stdout",
          "text": [
            "I have 4 children and 5.00 brothers\n"
          ]
        }
      ]
    },
    {
      "cell_type": "code",
      "metadata": {
        "colab": {
          "base_uri": "https://localhost:8080/"
        },
        "id": "Y1hMXFGouiR6",
        "outputId": "d52102a7-4fef-45eb-f3dd-4719d7d300a3"
      },
      "source": [
        "sentence = \"apologizing is a virtue\"\n",
        "print(\"%.11s\" % sentence)    # ***** Bu formül ile cümlenin sadece 11 karakterini yazdiriyoruz"
      ],
      "execution_count": null,
      "outputs": [
        {
          "output_type": "stream",
          "name": "stdout",
          "text": [
            "apologizing\n"
          ]
        }
      ]
    },
    {
      "cell_type": "code",
      "metadata": {
        "colab": {
          "base_uri": "https://localhost:8080/"
        },
        "id": "OjaNtVgCuiTg",
        "outputId": "fb155dc8-c1e7-49f3-9c9e-9ae5b85a74dd"
      },
      "source": [
        "print(\"%(amount)d pounds of %(fruit)s left\" % {\"amount\" : 33, \"fruit\": \"bananas\"})"
      ],
      "execution_count": null,
      "outputs": [
        {
          "output_type": "stream",
          "name": "stdout",
          "text": [
            "33 pounds of bananas left\n"
          ]
        }
      ]
    },
    {
      "cell_type": "code",
      "metadata": {
        "colab": {
          "base_uri": "https://localhost:8080/"
        },
        "id": "CkWSPa8iuiVW",
        "outputId": "7146ee67-928d-4238-ae64-ffe1411e77a9"
      },
      "source": [
        "x = \"HelloWorld\"   # yukaridaki formülün aynisi. Cümlenin 5 harfini aliyoruz\n",
        "print(\"%.5s\" % x)"
      ],
      "execution_count": null,
      "outputs": [
        {
          "output_type": "stream",
          "name": "stdout",
          "text": [
            "Hello\n"
          ]
        }
      ]
    },
    {
      "cell_type": "code",
      "metadata": {
        "colab": {
          "base_uri": "https://localhost:8080/"
        },
        "id": "WD4MpKV0uiXX",
        "outputId": "e6c9fa8f-fafe-43c9-ba8f-f1d88e49de9a"
      },
      "source": [
        "# ****************   string.format()\n",
        "\n",
        "fruit = \"Orange\"\n",
        "vegetable = \"Tomato\"\n",
        "amount = 4\n",
        "print(\"The amount of {} we bought is {} pounds\" .format(fruit, amount))"
      ],
      "execution_count": null,
      "outputs": [
        {
          "output_type": "stream",
          "name": "stdout",
          "text": [
            "The amount of Orange we bought is 4 pounds\n"
          ]
        }
      ]
    },
    {
      "cell_type": "code",
      "metadata": {
        "colab": {
          "base_uri": "https://localhost:8080/",
          "height": 130
        },
        "id": "UOnw5L1juiaO",
        "outputId": "77b55999-e8ba-4721-ed6f-4965695a0651"
      },
      "source": [
        "fruit = \"Bananas\"\n",
        "vegetable = \"Knoblauch\"\n",
        "amount = 4\n",
        "\n",
        "print(\"the amount of {} we bought is {} Pound\", .format(fruit, 4))    # ***** \" \" icerisinde yazilan string bittikten sonra virgül koyarsak hata verir"
      ],
      "execution_count": null,
      "outputs": [
        {
          "output_type": "error",
          "ename": "SyntaxError",
          "evalue": "ignored",
          "traceback": [
            "\u001b[0;36m  File \u001b[0;32m\"<ipython-input-27-698c35da703e>\"\u001b[0;36m, line \u001b[0;32m5\u001b[0m\n\u001b[0;31m    print(\"the amount of {} we bought is {} Pound\", .format(fruit, 4))\u001b[0m\n\u001b[0m                                                    ^\u001b[0m\n\u001b[0;31mSyntaxError\u001b[0m\u001b[0;31m:\u001b[0m invalid syntax\n"
          ]
        }
      ]
    },
    {
      "cell_type": "code",
      "metadata": {
        "colab": {
          "base_uri": "https://localhost:8080/"
        },
        "id": "JuMQxuVts1Mr",
        "outputId": "5b8927b5-bfda-4df2-910f-0eb558bdb8f7"
      },
      "source": [
        "print(\"{state} is the most {adjective} state of the {country}\" .format(state = \"California\", country = \"USA\", adjective = \"crowded\"))\n",
        "\n",
        "# ************* Attention: sag tarafta parantez icerisinde yazdigimiz .format degerlerini sirasi ile yazmak zorunda degiliz "
      ],
      "execution_count": null,
      "outputs": [
        {
          "output_type": "stream",
          "name": "stdout",
          "text": [
            "California is the most crowded state of the USA\n"
          ]
        }
      ]
    },
    {
      "cell_type": "code",
      "metadata": {
        "id": "bvvlLert-9yY"
      },
      "source": [
        "#***************** Pyhton dilinde sinir yok. \n",
        "# Iki adet argüman var. 1: Positional Arguments 2: keyword Argument\n",
        "# Keyword isme göre cagrilir\n",
        "# Positional konumuna göre cagrilir. Ikisi ayni dize icerisinde kullanilabilir\n"
      ],
      "execution_count": null,
      "outputs": []
    },
    {
      "cell_type": "code",
      "metadata": {
        "colab": {
          "base_uri": "https://localhost:8080/"
        },
        "id": "EpmPi7NK_rAF",
        "outputId": "8c7e0039-4fc5-40c8-dad6-e5004bc490cf"
      },
      "source": [
        "print(\"{0} is the most {adjective} state of the {country}\" .format(\"California\", country = \"USA\", adjective = \"crowded\"))"
      ],
      "execution_count": null,
      "outputs": [
        {
          "output_type": "stream",
          "name": "stdout",
          "text": [
            "California is the most crowded state of the USA\n"
          ]
        }
      ]
    },
    {
      "cell_type": "code",
      "metadata": {
        "colab": {
          "base_uri": "https://localhost:8080/"
        },
        "id": "Rtm39J6Y_rDa",
        "outputId": "123027ca-068c-460a-af45-b91904e5be81"
      },
      "source": [
        "# Bu örnekte sadece konumlarina göre\n",
        "print(\"{6} {0} {5} {3} {4} {1} {2}\" .format(\"have\", 6, \"months\", \"a job\", \"In\", \"found\", \"I will\"))"
      ],
      "execution_count": null,
      "outputs": [
        {
          "output_type": "stream",
          "name": "stdout",
          "text": [
            "I will have found a job In 6 months\n"
          ]
        }
      ]
    },
    {
      "cell_type": "code",
      "metadata": {
        "colab": {
          "base_uri": "https://localhost:8080/"
        },
        "id": "OCOW3VG4_rHU",
        "outputId": "e8093c32-0681-4271-d34b-0e1d608157b7"
      },
      "source": [
        "result = \"{3 * 10}\"   # string de icerideki matematiksel islemi yapmaz aynen yazildigi gibi cikar\n",
        "print(result)"
      ],
      "execution_count": null,
      "outputs": [
        {
          "output_type": "stream",
          "name": "stdout",
          "text": [
            "{3 * 10}\n"
          ]
        }
      ]
    },
    {
      "cell_type": "code",
      "metadata": {
        "id": "bm8C3l59_rJs"
      },
      "source": [
        "# ***************************** f string"
      ],
      "execution_count": null,
      "outputs": []
    },
    {
      "cell_type": "code",
      "metadata": {
        "colab": {
          "base_uri": "https://localhost:8080/"
        },
        "id": "VEnDyp62-90w",
        "outputId": "4e9ddd7e-fb05-44cf-a4db-9741964ed1bb"
      },
      "source": [
        "fruit = \"Orange\"\n",
        "vegetable = \"Tomato\"\n",
        "amount = 6\n",
        "output = f\"The amount of {fruit} and {vegetable} we bought are totally {amount} pounds\"\n",
        "print(output)"
      ],
      "execution_count": null,
      "outputs": [
        {
          "output_type": "stream",
          "name": "stdout",
          "text": [
            "The amount of Orange and Tomato we bought are totally 6 pounds\n"
          ]
        }
      ]
    },
    {
      "cell_type": "code",
      "metadata": {
        "colab": {
          "base_uri": "https://localhost:8080/"
        },
        "id": "Yydj75fd-93C",
        "outputId": "720bd543-7e00-4a63-8671-e8005eedf382"
      },
      "source": [
        "fruit = \"Orange\"      # ***** selbst schreiben\n",
        "vegetable = \"Tomato\"\n",
        "amount = 6\n",
        "output = f\"The amount of {fruit} and {vegetable} we bought are totally {amount} pound\" # ** eger bu parantezin basina f koymazsak parantez icerisine yazdigimizi aynen getirir\n",
        "print(output)"
      ],
      "execution_count": null,
      "outputs": [
        {
          "output_type": "stream",
          "name": "stdout",
          "text": [
            "The amount of Orange and Tomato we bought are totally 6 pound\n"
          ]
        }
      ]
    },
    {
      "cell_type": "code",
      "metadata": {
        "colab": {
          "base_uri": "https://localhost:8080/"
        },
        "id": "IQl2JguW-95H",
        "outputId": "97c172f8-1ecf-4d26-da5c-d2fc0adcebda"
      },
      "source": [
        "result = f\"{4 * 5}\"\n",
        "print(result)"
      ],
      "execution_count": null,
      "outputs": [
        {
          "output_type": "stream",
          "name": "stdout",
          "text": [
            "20\n"
          ]
        }
      ]
    },
    {
      "cell_type": "code",
      "metadata": {
        "colab": {
          "base_uri": "https://localhost:8080/"
        },
        "id": "9tZLw0sU-97-",
        "outputId": "b36113e3-c5e9-4718-92b7-2f3158384bdf"
      },
      "source": [
        "my_name = \"TARIK\"\n",
        "output = f\"my name is {my_name .capitalize()}\"\n",
        "print(output)"
      ],
      "execution_count": null,
      "outputs": [
        {
          "output_type": "stream",
          "name": "stdout",
          "text": [
            "my name is Tarik\n"
          ]
        }
      ]
    },
    {
      "cell_type": "code",
      "metadata": {
        "id": "Yv34QhujZu9o"
      },
      "source": [
        "# ************  Attention:\n",
        "# stringe baslamadan önce f koymayi unutmuyoruz\n",
        "# birde capitalized degil capitalize\n",
        "# capitalize sonunda () var"
      ],
      "execution_count": null,
      "outputs": []
    },
    {
      "cell_type": "code",
      "metadata": {
        "colab": {
          "base_uri": "https://localhost:8080/"
        },
        "id": "gM21UddcZvAe",
        "outputId": "058622ca-7339-46f4-b889-3afe50c8dba6"
      },
      "source": [
        "my_name = \"THOMAS\"\n",
        "output = f\"My name is {my_name.capitalize()}\"\n",
        "print(output)"
      ],
      "execution_count": null,
      "outputs": [
        {
          "output_type": "stream",
          "name": "stdout",
          "text": [
            "My name is Thomas\n"
          ]
        }
      ]
    },
    {
      "cell_type": "code",
      "metadata": {
        "colab": {
          "base_uri": "https://localhost:8080/"
        },
        "id": "tcIHEvbVZvDj",
        "outputId": "a9f1c2ef-0a97-405a-97a0-30a035a3802d"
      },
      "source": [
        "# ****** f string ile multiline formatting style da mümkündür\n",
        "\n",
        "name = \"Tarik\"\n",
        "job = \"webdesigner\"\n",
        "domain = \"fullstack\"\n",
        "message = (\n",
        "    \n",
        "    f\"Hi {name}.\"              # **** ilk satirdan sonra \\n yaparak asagi inebiliriz\n",
        "    f\"Du bist ein {job} \"\n",
        "    f\"von {domain} Webdeveloper\"\n",
        "\n",
        ")\n",
        "print(message)\n",
        "\n",
        "# *********** Attention: Burada mesela name den sonra nokta koymak istedik. eger bu noktayi parantez icerisine koyarsak hata verir cünkü name variable i bozmus oluruz"
      ],
      "execution_count": null,
      "outputs": [
        {
          "output_type": "stream",
          "name": "stdout",
          "text": [
            "Hi Tarik.Du bist ein webdesigner von fullstack Webdeveloper\n"
          ]
        }
      ]
    },
    {
      "cell_type": "code",
      "metadata": {
        "colab": {
          "base_uri": "https://localhost:8080/"
        },
        "id": "aRIwdcRBZvGS",
        "outputId": "399e53d2-7d76-4f73-dcea-785e8176881c"
      },
      "source": [
        "# Ikinci versiyon aralarda ters slas var\n",
        "\n",
        "name = \"Tarik\"\n",
        "job = \"Webdesigner\"\n",
        "domain = \"Fullstack\"\n",
        "message = f\"Hallo {name}!!!\"      # ****** Attention:  aralara \\ koymazsak sadece ilk message yi alir\n",
        "f\"Du bist ein {job} \"\\\n",
        "f\"von {domain} Webdeveloper\"\n",
        "print(message)\n"
      ],
      "execution_count": null,
      "outputs": [
        {
          "output_type": "stream",
          "name": "stdout",
          "text": [
            "Hallo Tarik!!!\n"
          ]
        }
      ]
    },
    {
      "cell_type": "code",
      "metadata": {
        "colab": {
          "base_uri": "https://localhost:8080/"
        },
        "id": "rlg6ikgAZvJB",
        "outputId": "59be6242-e56e-4104-9956-d94d4f6c60a2"
      },
      "source": [
        "# *** Harword dan hoca youtube( Stringleri Formating ile kolaylastirma) 4 Methode\n",
        "\n",
        "first_name = \"Tarik\"\n",
        "last_name = \"Kaya\"\n",
        "\n",
        "output = \"Hello, \" + first_name + \" \" + last_name\n",
        "outputt = \"Hello,  {} {} \" .format(first_name, last_name)\n",
        "outputtt = \"Hello, {0} {1}\" .format(first_name, last_name)\n",
        "outputttt = f\"Hello, {first_name} {last_name}\"\n",
        "\n",
        "print(output)\n",
        "print(outputt)\n",
        "print(outputt)\n",
        "print(outputttt)          #  Attention:  f formating de süslü parantezler tirnak icerisinde yukaridakiler de ise tirnaklar kapaniyor ondan sonra .format diye basliyor"
      ],
      "execution_count": null,
      "outputs": [
        {
          "output_type": "stream",
          "name": "stdout",
          "text": [
            "Hello, Tarik Kaya\n",
            "Hello,  Tarik Kaya \n",
            "Hello,  Tarik Kaya \n",
            "Hello, Tarik Kaya\n"
          ]
        }
      ]
    },
    {
      "cell_type": "code",
      "metadata": {
        "colab": {
          "base_uri": "https://localhost:8080/"
        },
        "id": "tnvphgZNZvLW",
        "outputId": "fb42d957-83d8-4b72-db60-904412a42075"
      },
      "source": [
        "last_name = \"Harrison\"\n",
        "print(last_name[::-1])"
      ],
      "execution_count": null,
      "outputs": [
        {
          "output_type": "stream",
          "name": "stdout",
          "text": [
            "nosirraH\n"
          ]
        }
      ]
    },
    {
      "cell_type": "code",
      "metadata": {
        "colab": {
          "base_uri": "https://localhost:8080/"
        },
        "id": "6249bA5mZvRm",
        "outputId": "4f7b333e-4923-42f5-c1ab-5b8ff5a1b808"
      },
      "source": [
        "print(last_name[2:5])"
      ],
      "execution_count": null,
      "outputs": [
        {
          "output_type": "stream",
          "name": "stdout",
          "text": [
            "rri\n"
          ]
        }
      ]
    },
    {
      "cell_type": "code",
      "metadata": {
        "colab": {
          "base_uri": "https://localhost:8080/"
        },
        "id": "yLACW5Zy-99W",
        "outputId": "d0a12ce7-9e37-49bd-b547-149d45df1a20"
      },
      "source": [
        "print(last_name[-4:])"
      ],
      "execution_count": null,
      "outputs": [
        {
          "output_type": "stream",
          "name": "stdout",
          "text": [
            "ison\n"
          ]
        }
      ]
    },
    {
      "cell_type": "code",
      "metadata": {
        "id": "tx_6tAa0-9_A"
      },
      "source": [
        ""
      ],
      "execution_count": null,
      "outputs": []
    },
    {
      "cell_type": "code",
      "metadata": {
        "id": "OsiDJGBdrEcC"
      },
      "source": [
        ""
      ],
      "execution_count": null,
      "outputs": []
    },
    {
      "cell_type": "code",
      "metadata": {
        "id": "HbuP1h9grEea"
      },
      "source": [
        ""
      ],
      "execution_count": null,
      "outputs": []
    },
    {
      "cell_type": "code",
      "metadata": {
        "id": "17K9y6jQrEhS"
      },
      "source": [
        ""
      ],
      "execution_count": null,
      "outputs": []
    },
    {
      "cell_type": "code",
      "metadata": {
        "id": "Xf5Y3moUrEjp"
      },
      "source": [
        ""
      ],
      "execution_count": null,
      "outputs": []
    },
    {
      "cell_type": "code",
      "metadata": {
        "id": "ncUlSgdyrEl-"
      },
      "source": [
        ""
      ],
      "execution_count": null,
      "outputs": []
    },
    {
      "cell_type": "code",
      "metadata": {
        "id": "YRTB1QQ-rEob"
      },
      "source": [
        ""
      ],
      "execution_count": null,
      "outputs": []
    }
  ]
}