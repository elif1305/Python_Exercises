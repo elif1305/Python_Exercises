{
  "nbformat": 4,
  "nbformat_minor": 0,
  "metadata": {
    "colab": {
      "name": "December - 23",
      "provenance": [],
      "collapsed_sections": [],
      "authorship_tag": "ABX9TyOsVgQ8aCwJf+T/LsRfL0c3"
    },
    "kernelspec": {
      "name": "python3",
      "display_name": "Python 3"
    },
    "language_info": {
      "name": "python"
    }
  },
  "cells": [
    {
      "cell_type": "code",
      "execution_count": null,
      "metadata": {
        "id": "w8LRjmkqoBto"
      },
      "outputs": [],
      "source": [
        "#### notlar \n",
        "\n",
        "# birden cok satiri comment yapma\n",
        "\n",
        "# yazili tum satiralri sec \"CTRL /\" ye bas\n",
        "\n",
        "\n",
        "# dfdsf\n",
        "# sfds\n",
        "# sdfs\n",
        "# sdfsdf "
      ]
    },
    {
      "cell_type": "code",
      "source": [
        "# google colabten cikti alabilme\n",
        "\n",
        "\n",
        "file --> yazdir"
      ],
      "metadata": {
        "id": "FZwa4KgGpPtC"
      },
      "execution_count": null,
      "outputs": []
    },
    {
      "cell_type": "code",
      "source": [
        "## kod icinde ayni yazili olan kelimeyi degistirme \n",
        "\n",
        "# CTRL D\n",
        "\n",
        "can\n",
        "\n",
        "can\n",
        "\n",
        "can\n",
        "\n"
      ],
      "metadata": {
        "id": "9wCp5P7Kpwip"
      },
      "execution_count": null,
      "outputs": []
    },
    {
      "cell_type": "code",
      "source": [
        "# Dunyanin 5 super gucu olan Amerika , Ingiltere, Almanya , Cin ve Japonya. Cesitli muhedislikleri var. Eloktronik muhendisligi hepsinde var.Anlasma imzaliyorlar ve hangisi hangi muhendsilikte iyi ise digerlerine bu konuda egitim verecek.\n",
        "\n",
        "#Elektrnik haric, cunku zaten hepsinde var. Egitim verecek olan muhendislerin tamamindan bi takim olusturulacak. 1tane ogretim gorevlisi muhandis bulunacaktir.Egitim gorevlisi muhendisin hangi ulkeden oldugunun bi onemi yok.\n",
        "\n",
        "# Sadece 1 tane olmasi onemli. meseal almanya bir tane otomotiv muhendisi gonderiyse bask agondermeyecek sadece 1 tane olacak.\n",
        "\n",
        "# ulkelrin sahip oldugu muhendislikler su sekildedir\n",
        "\n",
        "alman = \"otomotiv\", 'elekrik', 'makine', 'insaat'\n",
        "\n",
        "abd = 'software', 'elektrik', ' bilgisayar', ' system'\n",
        "\n",
        "ing = 'ucak', 'elektrik', 'endustri', 'gida'\n",
        "\n",
        "cin = 'insaat', 'elektrik', 'endustri', 'software'\n",
        "\n",
        "japonya = 'elektrik', 'insaat', 'teknoloji', 'maden'\n",
        "\n",
        "# egitim verecek olan muhendislerden olusacak takimi python kodu ile yazar misiniz??\n"
      ],
      "metadata": {
        "id": "W_-AqTdzquUm"
      },
      "execution_count": null,
      "outputs": []
    },
    {
      "cell_type": "code",
      "source": [
        "alman = {\"otomotiv\", 'elekrik', 'makine', 'insaat'}\n",
        "\n",
        "abd = {'software', 'elektrik', ' bilgisayar', ' system'}\n",
        "\n",
        "ing = {'ucak', 'elektrik', 'endustri', 'gida'}\n",
        "\n",
        "cin = {'insaat', 'elektrik', 'endustri', 'software'}\n",
        "\n",
        "japonya = {'elektrik', 'insaat', 'teknoloji', 'maden'}\n",
        "\n",
        "takim = (alman | abd | ing | cin |japonya) - (alman & abd & ing & cin & japonya)\n",
        "\n",
        "print(takim)"
      ],
      "metadata": {
        "colab": {
          "base_uri": "https://localhost:8080/"
        },
        "id": "gjbezaYwsSLi",
        "outputId": "24e0b946-5ff6-46a5-dc5d-06f7a04ecabf"
      },
      "execution_count": 1,
      "outputs": [
        {
          "output_type": "stream",
          "name": "stdout",
          "text": [
            "{'elektrik', 'endustri', 'elekrik', 'otomotiv', 'teknoloji', 'software', ' system', 'gida', 'insaat', 'makine', ' bilgisayar', 'ucak', 'maden'}\n"
          ]
        }
      ]
    },
    {
      "cell_type": "markdown",
      "source": [
        "_____________________________________________________"
      ],
      "metadata": {
        "id": "ZmlVb6VbtrIM"
      }
    },
    {
      "cell_type": "code",
      "source": [
        "para1 = float(input('lutfen para atiniz: '))\n",
        "\n",
        "print('Merhaba hosgeldiniz. Guncel bakiyeniz : ', para1)"
      ],
      "metadata": {
        "colab": {
          "base_uri": "https://localhost:8080/"
        },
        "id": "RS9h7T_utsnF",
        "outputId": "faeddd43-6041-4c61-c5e9-cb774156e18c"
      },
      "execution_count": 2,
      "outputs": [
        {
          "output_type": "stream",
          "name": "stdout",
          "text": [
            "lutfen para atiniz: 5\n",
            "Merhaba hosgeldiniz. Guncel bakiyeniz :  5.0\n"
          ]
        }
      ]
    },
    {
      "cell_type": "code",
      "source": [
        "para1 = float(input('lutfen para atiniz: '))\n",
        "\n",
        "print('Merhaba hosgeldiniz. Guncel bakiyeniz : ', para1)\n",
        "\n",
        "if para1 >= 1.50:\n",
        "  soru = input('cay mi isterseniz kahve mi').lower().strip()\n",
        "\n",
        "  if soru == \"cay\":\n",
        "    print('cayiniz hazirlaniyor. buyun para ustunuz:', para1 -1, \"euro\")\n",
        "\n",
        "  elif soru == \"kahve\":\n",
        "    print('kahveniz hazirlaniyor. buyrun para ustunuz:', para1 - 1.5, \"euro\" )\n",
        "\n",
        "  else :\n",
        "    print(\" uzgunuz buyrun para ustunuz\", para1, \"euro\")\n",
        "\n",
        "\n",
        "\n",
        "\n",
        "\n",
        "elif 1 <= para1 < 1.50 :\n",
        "  soru = input('bakiyeniz ile sadece cay alablirsiniz. cay ister misiniz:').lower().strip()\n",
        "\n",
        "  if soru == \"evet\":\n",
        "    print('cayiniz hazirlaniyor. buyun para ustunuz:', para1 -1, \"euro\")\n",
        "\n",
        "  elif soru == \"hayir\":\n",
        "    print(\"tesekkur ederiz buyrun para ustunuz\", para1, \"euro\")\n",
        "\n",
        "  else:\n",
        "    print(\" uzgunuz buyrun para ustunuz\", para1, \"euro\")\n",
        "\n",
        "\n",
        "\n",
        "\n",
        "\n",
        "elif para1 < 1:\n",
        "  soru = input(\"para eklemek ister misini bakiyeniz yetersiz?\").lower()\n",
        "\n",
        "  if soru == \"hayir\":\n",
        "     print(\"tesekkur ederiz buyrun para ustunuz\", para1, \"euro\")\n",
        "\n",
        "  elif soru == \"evet\" :\n",
        "    para2 = float(input(\"lutfen para ilave ediniz: \"))\n",
        "\n",
        "    if para1 + para2 >= 1.50 :\n",
        "      soru = input('cay mi isterseniz kahve mi').lower().strip()\n",
        "\n",
        "      if  soru == \"kahve\":\n",
        "         print('kahveniz hazirlaniyor. buyrun para ustunuz:', para1 + para2 - 1.5, \"euro\" )\n",
        "\n",
        "      elif soru == \"cay\":\n",
        "        print('cayiniz hazirlaniyor. buyun para ustunuz:', para1 + para2 -1, \"euro\")\n",
        "\n",
        "      else :\n",
        "        print(\" uzgunuz buyrun para ustunuz\", para1 + para2 , \"euro\")\n",
        "\n",
        "    elif para1 + para2 < 1 :\n",
        "      print(\" uzgunuz buyrun para ustunuz\", para1 + para2 , \"euro\")\n",
        "\n",
        "    elif 1 <= para1 + para2 < 1.50:\n",
        "      soru = input(\"paraniz ile sadece cay alablirsiniz cay ister misniz\").lower()\n",
        "\n",
        "      if soru == \"hayir\" :\n",
        "        print(\" tesekkurler buyrun para ustunuz\", para1 + para2 , \"euro\")\n",
        "\n",
        "      elif soru == \"evet\":\n",
        "        print('cayiniz hazirlaniyor. buyun para ustunuz:', para1 + para2 -1, \"euro\")\n",
        "\n",
        "      else : \n",
        "         print(\" uzgunuz buyrun para ustunuz\", para1 + para2 , \"euro\")\n",
        "\n",
        "\n",
        "  else : \n",
        "         print(\" uzgunuz buyrun para ustunuz\", para1 , \"euro\") \n",
        "\n",
        "else : \n",
        "         print(\" uzgunuz buyrun para ustunuz\", para1, \"euro\")\n",
        "\n",
        "\n",
        "\n",
        "\n"
      ],
      "metadata": {
        "colab": {
          "base_uri": "https://localhost:8080/"
        },
        "id": "0yULTWWRt_dw",
        "outputId": "d0b7baf4-2634-4d34-991c-2bd9b2699168"
      },
      "execution_count": 23,
      "outputs": [
        {
          "output_type": "stream",
          "name": "stdout",
          "text": [
            "lutfen para atiniz: 0.5\n",
            "Merhaba hosgeldiniz. Guncel bakiyeniz :  0.5\n",
            "para eklemek ister misini bakiyeniz yetersiz?a\n",
            " uzgunuz buyrun para ustunuz 0.5 euro\n"
          ]
        }
      ]
    },
    {
      "cell_type": "code",
      "source": [
        "## ornek \n",
        "\n",
        "yas = 55                           ## if tek basina yazilirsa bos dondurur. error vermez.\n",
        "\n",
        "if 55 > yas > 33:\n",
        "  print('ben orta yasliyim')"
      ],
      "metadata": {
        "id": "bskcvEYAwerR"
      },
      "execution_count": 24,
      "outputs": []
    },
    {
      "cell_type": "code",
      "source": [
        ""
      ],
      "metadata": {
        "id": "roFanOc37M92"
      },
      "execution_count": null,
      "outputs": []
    }
  ]
}