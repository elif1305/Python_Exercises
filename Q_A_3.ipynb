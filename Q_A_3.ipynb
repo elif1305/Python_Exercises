{
  "nbformat": 4,
  "nbformat_minor": 0,
  "metadata": {
    "colab": {
      "name": "Q-A-3",
      "provenance": [],
      "collapsed_sections": [],
      "authorship_tag": "ABX9TyOBN7GQW4yWpQaGRp8tXPlY"
    },
    "kernelspec": {
      "name": "python3",
      "display_name": "Python 3"
    },
    "language_info": {
      "name": "python"
    }
  },
  "cells": [
    {
      "cell_type": "code",
      "execution_count": 8,
      "metadata": {
        "id": "EnicD3A-dwTJ",
        "colab": {
          "base_uri": "https://localhost:8080/"
        },
        "outputId": "75485d4a-1183-43ee-d5b4-d6923cadd571"
      },
      "outputs": [
        {
          "output_type": "stream",
          "name": "stdout",
          "text": [
            "you have 3 right.\n",
            " pick an index number.55\n",
            "index error. You have 2 roght left. Try again!\n",
            "our fruits are always fresh!\n",
            "you have 2 right.\n",
            " pick an index number.15\n",
            "index error. You have 1 roght left. Try again!\n",
            "our fruits are always fresh!\n",
            "you have 1 right.\n",
            " pick an index number.1\n",
            "your favorite fruit is, strawberry\n",
            "congrats! You've entered valid input.\n",
            "our fruits are always fresh!\n"
          ]
        }
      ],
      "source": [
        "# kullaniciya soru sor. 3 hak ver. \n",
        "\n",
        "\n",
        "fruits = ['banana', 'strawberry', 'grape', 'lemon']\n",
        "counter = 3\n",
        "\n",
        "while counter > 0 :\n",
        "\n",
        "  try : \n",
        "    print(f\"you have {counter} right.\")\n",
        "    index = int(input(' pick an index number.'))\n",
        "    print('your favorite fruit is,', fruits[index])\n",
        "\n",
        "  except IndexError :\n",
        "    counter -= 1\n",
        "    print(f\"index error. You have {counter} roght left. Try again!\")\n",
        "\n",
        "  except ValueError :\n",
        "    counter -= 1\n",
        "    print(f\"value error. You have {counter} roght left. Try again!\")\n",
        "\n",
        "  else :\n",
        "    print(\"congrats! You've entered valid input.\")\n",
        "    break\n",
        "\n",
        "  finally :\n",
        "    print('our fruits are always fresh!')"
      ]
    },
    {
      "cell_type": "code",
      "source": [
        "# ayni ozellikle olan elemanlari saydirip, dict icine yazdirma.\n",
        "\n",
        "#  or:    inputs : hippo runs to us!   outputs:{'s': 2, \"r\" : 1 ........}"
      ],
      "metadata": {
        "id": "Qpt1xsrwe77e"
      },
      "execution_count": null,
      "outputs": []
    },
    {
      "cell_type": "code",
      "source": [
        "string = \"bugun gunlerden pAzar!\"\n",
        "\n",
        "word_dict = {}\n",
        "\n",
        "for n in string :\n",
        "  if n in word_dict :\n",
        "    word_dict[n] += 1\n",
        "\n",
        "  else :\n",
        "    word_dict[n] = 1\n",
        "\n",
        "print(word_dict)\n"
      ],
      "metadata": {
        "colab": {
          "base_uri": "https://localhost:8080/"
        },
        "id": "EFbIy7SFgpo4",
        "outputId": "81696c4d-89c3-4e6e-f4c9-caef79af2ede"
      },
      "execution_count": 10,
      "outputs": [
        {
          "output_type": "stream",
          "name": "stdout",
          "text": [
            "{'b': 1, 'u': 3, 'g': 2, 'n': 3, ' ': 2, 'l': 1, 'e': 2, 'r': 2, 'd': 1, 'p': 1, 'A': 1, 'z': 1, 'a': 1, '!': 1}\n"
          ]
        }
      ]
    },
    {
      "cell_type": "code",
      "source": [
        "veri = ['a', 'b', True, (False,1 ), {'1' : 2 }, [1,2], {'2' : \"two\"}, {2, \"3\"}, \"c\", 23, 0]\n",
        "tipler = ['int', 'str', 'bool', 'list', 'tuple', 'dict', 'set']\n",
        "output : {'bool' : 1, \"list\" : 1, \"tuple\" : 1}\n",
        "\n",
        "{}.fromkeys(tipler, 0)"
      ],
      "metadata": {
        "colab": {
          "base_uri": "https://localhost:8080/"
        },
        "id": "BgKAT2Hii4ib",
        "outputId": "a3a071d6-9e08-4899-c4aa-885ca930a6c6"
      },
      "execution_count": 12,
      "outputs": [
        {
          "output_type": "execute_result",
          "data": {
            "text/plain": [
              "{'bool': 0, 'dict': 0, 'int': 0, 'list': 0, 'set': 0, 'str': 0, 'tuple': 0}"
            ]
          },
          "metadata": {},
          "execution_count": 12
        }
      ]
    },
    {
      "cell_type": "code",
      "source": [
        ""
      ],
      "metadata": {
        "id": "8JPc5Tbrm5tp"
      },
      "execution_count": null,
      "outputs": []
    },
    {
      "cell_type": "code",
      "source": [
        "toplam = {}.fromkeys(tipler, 0)\n",
        "\n",
        "for i in range(len(veri)) :\n",
        "  if type(veri[i]) == int : toplam[\"int\"] += 1\n",
        "  elif type(veri[i]) == str : toplam[\"str\"] += 1\n",
        "  elif type(veri[i]) == bool : toplam[\"bool\"] += 1\n",
        "  elif type(veri[i]) == list : toplam[\"list\"] += 1\n",
        "  elif type(veri[i]) == tuple : toplam[\"tuple\"] += 1\n",
        "  elif type(veri[i]) == dict : toplam[\"dict\"] += 1\n",
        "  elif type(veri[i]) == set : toplam[\"set\"] += 1\n",
        "\n",
        "toplam"
      ],
      "metadata": {
        "colab": {
          "base_uri": "https://localhost:8080/"
        },
        "id": "CrDdComJlj9Q",
        "outputId": "3b0de6df-0f7c-4811-e9f5-41fcb958e218"
      },
      "execution_count": 15,
      "outputs": [
        {
          "output_type": "execute_result",
          "data": {
            "text/plain": [
              "{'bool': 1, 'dict': 2, 'int': 2, 'list': 1, 'set': 1, 'str': 3, 'tuple': 1}"
            ]
          },
          "metadata": {},
          "execution_count": 15
        }
      ]
    },
    {
      "cell_type": "code",
      "source": [
        ""
      ],
      "metadata": {
        "id": "m6XggDvrmbng"
      },
      "execution_count": null,
      "outputs": []
    }
  ]
}