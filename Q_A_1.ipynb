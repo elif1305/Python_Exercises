{
  "nbformat": 4,
  "nbformat_minor": 0,
  "metadata": {
    "colab": {
      "name": "Q-A - 1",
      "provenance": [],
      "authorship_tag": "ABX9TyNIY5PsgNwMjroerbCS4XeL"
    },
    "kernelspec": {
      "name": "python3",
      "display_name": "Python 3"
    },
    "language_info": {
      "name": "python"
    }
  },
  "cells": [
    {
      "cell_type": "code",
      "execution_count": null,
      "metadata": {
        "id": "b5vi-7OYboMt"
      },
      "outputs": [],
      "source": [
        "# Question 1 \n",
        "\n",
        "# It takes 21 seconds to wash your hands and help prevent the spread of COVID-19.\n",
        "\n",
        "# Create a function that takes the number of times a person washes their hands per day N and the number of months they follow this routine nM and calculates the duration in minutes and seconds that person spends washing their hands.\n",
        "\n",
        "# Examples\n",
        "\n",
        "# (8, 7) ➞ \"588 minutes and 0 seconds\"\n",
        "\n",
        "\n",
        "# (0, 0) ➞ \"0 minutes and 0 seconds\"\n",
        "\n",
        "\n",
        "# (7, 9) ➞ \"661 minutes and 30 seconds\"\n",
        "\n",
        "# Notes\n",
        "\n",
        "# Consider a month has 30 days.\n",
        "\n",
        "# Wash your hands."
      ]
    },
    {
      "cell_type": "code",
      "source": [
        "# 1.ADIM\n",
        "\n",
        "per_day, months = list(map(int,input(\"\").split()))\n",
        "\n",
        "print(per_day)\n",
        "print(months)"
      ],
      "metadata": {
        "colab": {
          "base_uri": "https://localhost:8080/"
        },
        "id": "oKAx5o8Uehxu",
        "outputId": "c32e4fcb-3dc4-40a8-cf74-c94b94f838e4"
      },
      "execution_count": 7,
      "outputs": [
        {
          "output_type": "stream",
          "name": "stdout",
          "text": [
            "4 54\n",
            "4\n",
            "54\n"
          ]
        }
      ]
    },
    {
      "cell_type": "code",
      "source": [
        "per_day, months, yas = list(map(int,input(\"\").split()))           ## burada ayri ayri 3 kez girdi almamak icin bu sekilde yaptigimizda tek input yeterli oluyor.\n",
        "                                                                    # map in basina list (tuple...) yazilmasinin nedeni map ketum oldugu icin.ya da print icinde basina yildiz * koyarakta acilablir.\n",
        "print(yas) \n"
      ],
      "metadata": {
        "colab": {
          "base_uri": "https://localhost:8080/"
        },
        "id": "bhFXDCwwfA-h",
        "outputId": "0392c78f-755d-452f-96bd-fedbe5ffa3c2"
      },
      "execution_count": 6,
      "outputs": [
        {
          "output_type": "stream",
          "name": "stdout",
          "text": [
            "4 5 46\n",
            "46\n"
          ]
        }
      ]
    },
    {
      "cell_type": "code",
      "source": [
        "# 2.ADIM\n",
        "\n",
        "per_day, months = list(map(int,input(\"\").split()))\n",
        "\n",
        "total_second = 21 * per_day * 30 * months\n",
        "minutes = total_second // 60\n",
        "seconds = total_second % 60\n",
        "\n",
        "print('{} minutes and {} seconds'.format(minutes, seconds))"
      ],
      "metadata": {
        "colab": {
          "base_uri": "https://localhost:8080/"
        },
        "id": "n1LRsKOWfhUv",
        "outputId": "dd661366-567f-4887-e1e9-107c29020138"
      },
      "execution_count": 9,
      "outputs": [
        {
          "output_type": "stream",
          "name": "stdout",
          "text": [
            "5 5\n",
            "262 minutes and 30 seconds\n"
          ]
        }
      ]
    },
    {
      "cell_type": "code",
      "source": [
        "# Question 2\n",
        "# Write a function that finds the largest even number in a list. Return -1 if not found. The use of built-in functions max() and sorted() are prohibited.\n",
        "\n",
        "# Examples\n",
        "\n",
        "# [3, 7, 2, 1, 7, 9, 10, 13] ➞ 10\n",
        "\n",
        "# [1, 3, 5, 7] ➞ -1\n",
        "\n",
        "# [0, 19, 18973623] ➞ 0\n",
        "\n",
        "# Notes\n",
        "\n",
        "# Consider using the modulo operator % or the bitwise and operator &."
      ],
      "metadata": {
        "id": "YPbEZWSLiEB3"
      },
      "execution_count": null,
      "outputs": []
    },
    {
      "cell_type": "code",
      "source": [
        "arry = [3, 7, 2, 1, 7, 9, 10, 13]\n",
        "\n",
        "max_even = -1\n",
        "\n",
        "for i in arry:\n",
        "  if i % 2 == 0 and i > max_even:\n",
        "    max_even = i\n",
        "\n",
        "max_even"
      ],
      "metadata": {
        "colab": {
          "base_uri": "https://localhost:8080/"
        },
        "id": "eww_QX0yil_4",
        "outputId": "69acefc2-658d-424b-ec27-cf8cd226bb95"
      },
      "execution_count": 10,
      "outputs": [
        {
          "output_type": "execute_result",
          "data": {
            "text/plain": [
              "10"
            ]
          },
          "metadata": {},
          "execution_count": 10
        }
      ]
    },
    {
      "cell_type": "code",
      "source": [
        "#   Question 3\n",
        "\n",
        "# Create a function that determines whether a number is Oddish or Evenish. A number is Oddish if the sum of all of its digits is odd, and a number is Evenish if the sum of all of its digits is even. If a number is Oddish, return \"Oddish\". Otherwise, return \"Evenish\".\n",
        "\n",
        "\n",
        "# For example, (121) should return \"Evenish\", since 1 + 2 + 1 = 4. (41) should return \"Oddish\", since 4 + 1 = 5.\n",
        "\n",
        "# Examples\n",
        "\n",
        "# (43) ➞ \"Oddish\"\n",
        "\n",
        "# 4 + 3 = 7\n",
        "\n",
        "# 7 % 2 = 1\n",
        "\n",
        "\n",
        "# (373) ➞ \"Oddish\"\n",
        "\n",
        "# 3 + 7 + 3 = 13\n",
        "\n",
        "# 13 % 2 = 1\n",
        "\n",
        "# (4433) ➞ \"Evenish\"\n",
        "\n",
        "# 4 + 4 + 3 + 3 = 14\n",
        "\n",
        "# 14 % 2 = 0"
      ],
      "metadata": {
        "id": "pdEnxc5SkJOS"
      },
      "execution_count": null,
      "outputs": []
    },
    {
      "cell_type": "code",
      "source": [
        "num = input(\"lutfen bir sayi giriniz : \")\n",
        "\n",
        "toplam = 0\n",
        "\n",
        "for i in num :\n",
        "  toplam += int(i)\n",
        "\n",
        "if toplam % 2 :          # burada sonuc 0 cikarsa bu False demektir yani if hic calismadan asagiya inecektir.\n",
        "  print('oddish')\n",
        "else:\n",
        "  print(\"evenish\")\n",
        "\n",
        "# lisrt comp.   print(\"evenish\" if toplam % 2 == 0 else \"Oddish\")                 if degeri eger dogru ise if in solu calisir degil se sagi calisir."
      ],
      "metadata": {
        "colab": {
          "base_uri": "https://localhost:8080/"
        },
        "id": "nE-rIHf9k1xq",
        "outputId": "e64e6993-87fe-436f-9932-0908951c5ed2"
      },
      "execution_count": 13,
      "outputs": [
        {
          "output_type": "stream",
          "name": "stdout",
          "text": [
            "lutfen bir sayi giriniz : 89\n",
            "oddish\n"
          ]
        }
      ]
    },
    {
      "cell_type": "code",
      "source": [
        "# Program to print pyramid a using numbers.(User enter the numbers of rows)\n",
        "\n",
        "# 1\n",
        "# 2 2\n",
        "# 3 3 3\n",
        "# 4 4 4 4\n",
        "# 5 5 5 5 5"
      ],
      "metadata": {
        "id": "f6IHwbZTmMW1"
      },
      "execution_count": null,
      "outputs": []
    },
    {
      "cell_type": "code",
      "source": [
        "rows = int(input(\"lutfen bir sayi giriniz : \"))\n",
        "\n",
        "for i in range(1, rows+1) :\n",
        "  print(i * str(i))"
      ],
      "metadata": {
        "colab": {
          "base_uri": "https://localhost:8080/"
        },
        "id": "eyAgmTBTnW8f",
        "outputId": "1b5efdd9-c76d-4226-f7fd-743a9bf15529"
      },
      "execution_count": 14,
      "outputs": [
        {
          "output_type": "stream",
          "name": "stdout",
          "text": [
            "lutfen bir sayi giriniz : 5\n",
            "1\n",
            "22\n",
            "333\n",
            "4444\n",
            "55555\n"
          ]
        }
      ]
    },
    {
      "cell_type": "code",
      "source": [
        "#                               Question 5\n",
        "# Fruit salads are served best when the fruits are sliced and diced into small chunks!\n",
        "\n",
        "# For this challenge, slice each fruit in half and sort the chunks alphabetically. This recipe tastes best when the chunks are joined together to make a string.\n",
        "\n",
        "# Worked Example\n",
        "\n",
        "# [\"apple\", \"pear\", \"grapes\"] ➞ \"apargrapepesple\"\n",
        "\n",
        "# Chunks: [\"ap\", \"ple\", \"pe\", \"ar\", \"gra\", \"pes\"]\n",
        "\n",
        "# Sorted chunks: [\"ap\", \"ar\", \"gra\", \"pe\", \"pes\", \"ple\"]\n",
        "\n",
        "# Final string: \"apargrapepesple\"\n",
        "\n",
        "# Examples\n",
        "\n",
        "# [\"apple\", \"pear\", \"grapes\"] ➞ \"apargrapepesple\"\n",
        "\n",
        "# [\"raspberries\", \"mango\"] ➞ \"erriesmangoraspb\"\n",
        "\n",
        "# [\"banana\"] ➞ \"anaban\"\n",
        "\n",
        "# Notes\n",
        "\n",
        "# If a fruit has an odd number of letters, make the right side larger than the left.\n",
        "\n",
        "# For example: \"apple\" will be sliced into \"ap\" and \"ple\".\n",
        "\n",
        "# All fruits will be given in lowercase.\n"
      ],
      "metadata": {
        "id": "2EW_ymSFn76F"
      },
      "execution_count": null,
      "outputs": []
    },
    {
      "cell_type": "code",
      "source": [
        "arry = [\"apple\", \"pear\", \"grapes\"]\n",
        "\n",
        "new_arry = []\n",
        "\n",
        "for i in arry :\n",
        "  new_arry.append(i[0:len(i) // 2])\n",
        "  new_arry.append(i[len(i) // 2 :])\n",
        "sorted(new_arry)"
      ],
      "metadata": {
        "colab": {
          "base_uri": "https://localhost:8080/"
        },
        "id": "30DGWC5Tpkfu",
        "outputId": "c9adcfff-c09e-4a24-b096-ff1653929907"
      },
      "execution_count": 16,
      "outputs": [
        {
          "output_type": "execute_result",
          "data": {
            "text/plain": [
              "['ap', 'ar', 'gra', 'pe', 'pes', 'ple']"
            ]
          },
          "metadata": {},
          "execution_count": 16
        }
      ]
    },
    {
      "cell_type": "code",
      "source": [
        "# 2.ADIM\n",
        "\n",
        "arry = [\"apple\", \"pear\", \"grapes\"]\n",
        "\n",
        "new_arry = []\n",
        "\n",
        "for i in arry :\n",
        "  new_arry.append(i[0:len(i) // 2])\n",
        "  new_arry.append(i[len(i) // 2 :])\n",
        "\n",
        "new_arry.sort()\n",
        "new_arry\n",
        "salad = \"\"\n",
        "\n",
        "for i in new_arry :\n",
        "  salad += i\n",
        "\n",
        "## print(\"\".join(new_arry))\n",
        "\n",
        "salad"
      ],
      "metadata": {
        "colab": {
          "base_uri": "https://localhost:8080/",
          "height": 36
        },
        "id": "XQKJ22ixu3Sk",
        "outputId": "87983d4e-62bd-4702-dbfe-60d365bbf2ce"
      },
      "execution_count": 17,
      "outputs": [
        {
          "output_type": "execute_result",
          "data": {
            "application/vnd.google.colaboratory.intrinsic+json": {
              "type": "string"
            },
            "text/plain": [
              "'apargrapepesple'"
            ]
          },
          "metadata": {},
          "execution_count": 17
        }
      ]
    },
    {
      "cell_type": "code",
      "source": [
        "# EKSTRA\n",
        "\n",
        "text = \"izmir\"\n",
        "list(text)\n",
        "\"-\".join(text)"
      ],
      "metadata": {
        "colab": {
          "base_uri": "https://localhost:8080/",
          "height": 36
        },
        "id": "XNj_mYfzxudn",
        "outputId": "70957456-85f1-4f97-bbc5-782d17764e7d"
      },
      "execution_count": 19,
      "outputs": [
        {
          "output_type": "execute_result",
          "data": {
            "application/vnd.google.colaboratory.intrinsic+json": {
              "type": "string"
            },
            "text/plain": [
              "'i-z-m-i-r'"
            ]
          },
          "metadata": {},
          "execution_count": 19
        }
      ]
    },
    {
      "cell_type": "code",
      "source": [
        "#                                 Question 6\n",
        "# Given a positive integer N, The task is to write a Python program to check if the number is prime or not.\n",
        "\n",
        "# Definition:\n",
        "\n",
        "# A prime number is a natural number greater than 1 that has no positive divisors other than 1 and itself. \n",
        "\n",
        "# The first few prime numbers are {2, 3, 5, 7, 11, ….}."
      ],
      "metadata": {
        "id": "-gcwe68xyWw3"
      },
      "execution_count": null,
      "outputs": []
    },
    {
      "cell_type": "code",
      "source": [
        "num = int(input(\"lutfen bir sayi giriniz : \"))\n",
        "\n",
        "for i in range(2, num) :\n",
        "  if num % i == 0 :\n",
        "    print(\"asal sayi degil\")\n",
        "    break\n",
        "else:\n",
        "  print(\"bu bir asal sayidir\")"
      ],
      "metadata": {
        "colab": {
          "base_uri": "https://localhost:8080/"
        },
        "id": "x1ogV2XNyoDO",
        "outputId": "8f7c3682-b9ff-45e9-9158-93692afa1932"
      },
      "execution_count": 20,
      "outputs": [
        {
          "output_type": "stream",
          "name": "stdout",
          "text": [
            "lutfen bir sayi giriniz : 15\n",
            "asal sayi degil\n"
          ]
        }
      ]
    },
    {
      "cell_type": "code",
      "source": [
        "num = int(input(\"lutfen bir sayi giriniz : \"))\n",
        "\n",
        "for i in range(2, num) :\n",
        "  if num % i == 0 :\n",
        "    print(\"asal sayi degil\")\n",
        "    break\n",
        "  else:                            ## bu nedenle else if in altina degil for un altina yazildi.\n",
        "    print(\"bu bir asal sayidir\")"
      ],
      "metadata": {
        "colab": {
          "base_uri": "https://localhost:8080/"
        },
        "id": "3GQ_zHe9zeU0",
        "outputId": "d4b845f9-e964-4f3e-b0b8-15529a223541"
      },
      "execution_count": 21,
      "outputs": [
        {
          "output_type": "stream",
          "name": "stdout",
          "text": [
            "lutfen bir sayi giriniz : 5\n",
            "bu bir asal sayidir\n",
            "bu bir asal sayidir\n",
            "bu bir asal sayidir\n"
          ]
        }
      ]
    },
    {
      "cell_type": "code",
      "source": [
        "#                                 Question 7\n",
        "# Create a function that takes a word and extends all vowels by a number num.\n",
        "\n",
        "# Examples\n",
        "\n",
        "\n",
        "# \"Hello\", 5 ➞ \"Heeeeeelloooooo\"\n",
        "\n",
        "# \"Edabit\", 3 ➞ \"EEEEdaaaabiiiit\"\n",
        "\n",
        "# \"Extend\", 0 ➞ \"Extend\"\n"
      ],
      "metadata": {
        "id": "STxCAQEZzoca"
      },
      "execution_count": null,
      "outputs": []
    },
    {
      "cell_type": "code",
      "source": [
        "word = input(\"Please enter a word : \")\n",
        "num = int(input(\"\"))\n",
        "vowels =\"aeiouAEIOU\"\n",
        "new_w = \"\"\n",
        "\n",
        "for i in word :\n",
        "  if i in vowels and num > 0 :\n",
        "    new_w += i * (num + 1)\n",
        "  elif i in vowels and num == 0 :\n",
        "    new_w += i \n",
        "  else :\n",
        "    new_w += i \n",
        "\n",
        "print(new_w)"
      ],
      "metadata": {
        "id": "K7y9bJ-F0byx"
      },
      "execution_count": null,
      "outputs": []
    }
  ]
}