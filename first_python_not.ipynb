{
  "nbformat": 4,
  "nbformat_minor": 0,
  "metadata": {
    "colab": {
      "name": "first python not",
      "provenance": [],
      "collapsed_sections": [],
      "authorship_tag": "ABX9TyOCYatLEXp6wpGc/OZv7SMD"
    },
    "kernelspec": {
      "name": "python3",
      "display_name": "Python 3"
    },
    "language_info": {
      "name": "python"
    }
  },
  "cells": [
    {
      "cell_type": "code",
      "metadata": {
        "id": "WvldSq0M-xK0"
      },
      "source": [
        "\"metodlar\" .format()\n",
        "degiskenn = \"string\"\n"
      ],
      "execution_count": null,
      "outputs": []
    },
    {
      "cell_type": "code",
      "metadata": {
        "id": "vVPnorAtOXKF"
      },
      "source": [
        ""
      ],
      "execution_count": null,
      "outputs": []
    },
    {
      "cell_type": "code",
      "metadata": {
        "colab": {
          "base_uri": "https://localhost:8080/",
          "height": 35
        },
        "id": "_QL8MjSw33Jc",
        "outputId": "c7d7c211-4e0b-4db1-bde6-29f16cc2516f"
      },
      "source": [
        "\"Ben sabah ggff\""
      ],
      "execution_count": null,
      "outputs": [
        {
          "output_type": "execute_result",
          "data": {
            "application/vnd.google.colaboratory.intrinsic+json": {
              "type": "string"
            },
            "text/plain": [
              "'Ben sabah ggff'"
            ]
          },
          "metadata": {},
          "execution_count": 2
        }
      ]
    },
    {
      "cell_type": "code",
      "metadata": {
        "colab": {
          "base_uri": "https://localhost:8080/",
          "height": 35
        },
        "id": "uxTxsKdHAP2p",
        "outputId": "d84c0f54-f393-4c84-a30a-515b1927d0a4"
      },
      "source": [
        "phrase = \"{2} {3} {1} {0} \" .format(\"cırcumstances\", \"ın all\", \"generosıty\", \"wıms\" )\n",
        "phrase"
      ],
      "execution_count": null,
      "outputs": [
        {
          "output_type": "execute_result",
          "data": {
            "application/vnd.google.colaboratory.intrinsic+json": {
              "type": "string"
            },
            "text/plain": [
              "'generosıty wıms ın all cırcumstances '"
            ]
          },
          "metadata": {},
          "execution_count": 4
        }
      ]
    },
    {
      "cell_type": "code",
      "metadata": {
        "colab": {
          "base_uri": "https://localhost:8080/",
          "height": 129
        },
        "id": "ZHussb3NA-sn",
        "outputId": "5a4368b1-1862-4764-f7f0-5b3ec6efa1c6"
      },
      "source": [
        "text = f\"{str(11) + \"11\"}\"\""
      ],
      "execution_count": null,
      "outputs": [
        {
          "output_type": "error",
          "ename": "SyntaxError",
          "evalue": "ignored",
          "traceback": [
            "\u001b[0;36m  File \u001b[0;32m\"<ipython-input-5-0cf976eedee7>\"\u001b[0;36m, line \u001b[0;32m1\u001b[0m\n\u001b[0;31m    text = f\"{str(11) + \"11\"}\"\"\u001b[0m\n\u001b[0m                          ^\u001b[0m\n\u001b[0;31mSyntaxError\u001b[0m\u001b[0;31m:\u001b[0m invalid syntax\n"
          ]
        }
      ]
    },
    {
      "cell_type": "code",
      "metadata": {
        "colab": {
          "base_uri": "https://localhost:8080/",
          "height": 129
        },
        "id": "XFv0UZYECXa3",
        "outputId": "683d4388-de41-4948-f598-11692ef35bc3"
      },
      "source": [
        "name = \"Susan\"\n",
        "age = \"young\"\n",
        "gender = \"lady\"\n",
        "school = \"CLRWY IT unıversity\"\n",
        "f.\"{name} ıs a {young} {lady} and she ıs a student at the {school})"
      ],
      "execution_count": null,
      "outputs": [
        {
          "output_type": "error",
          "ename": "SyntaxError",
          "evalue": "ignored",
          "traceback": [
            "\u001b[0;36m  File \u001b[0;32m\"<ipython-input-6-dfe3f583d713>\"\u001b[0;36m, line \u001b[0;32m5\u001b[0m\n\u001b[0;31m    f.\"{name} ıs a {young} {lady} and she ıs a student at the {school})\u001b[0m\n\u001b[0m                                                                       ^\u001b[0m\n\u001b[0;31mSyntaxError\u001b[0m\u001b[0;31m:\u001b[0m EOL while scanning string literal\n"
          ]
        }
      ]
    },
    {
      "cell_type": "code",
      "metadata": {
        "colab": {
          "base_uri": "https://localhost:8080/",
          "height": 180
        },
        "id": "FkQYCmZ0Oy0J",
        "outputId": "bc648a49-aeb4-4acb-a20e-d1a484cbb590"
      },
      "source": [
        "text = \" {1} ı am a {2} programmer and ı {3} Clarusway\".format(\"Hello\", \"new\", \"love\")\n",
        "print(text)"
      ],
      "execution_count": null,
      "outputs": [
        {
          "output_type": "error",
          "ename": "IndexError",
          "evalue": "ignored",
          "traceback": [
            "\u001b[0;31m---------------------------------------------------------------------------\u001b[0m",
            "\u001b[0;31mIndexError\u001b[0m                                Traceback (most recent call last)",
            "\u001b[0;32m<ipython-input-7-afc7550ba987>\u001b[0m in \u001b[0;36m<module>\u001b[0;34m()\u001b[0m\n\u001b[0;32m----> 1\u001b[0;31m \u001b[0mtext\u001b[0m \u001b[0;34m=\u001b[0m \u001b[0;34m\" {1} ı am a {2} programmer and ı {3} Clarusway\"\u001b[0m\u001b[0;34m.\u001b[0m\u001b[0mformat\u001b[0m\u001b[0;34m(\u001b[0m\u001b[0;34m\"Hello\"\u001b[0m\u001b[0;34m,\u001b[0m \u001b[0;34m\"new\"\u001b[0m\u001b[0;34m,\u001b[0m \u001b[0;34m\"love\"\u001b[0m\u001b[0;34m)\u001b[0m\u001b[0;34m\u001b[0m\u001b[0;34m\u001b[0m\u001b[0m\n\u001b[0m\u001b[1;32m      2\u001b[0m \u001b[0mprint\u001b[0m\u001b[0;34m(\u001b[0m\u001b[0mtext\u001b[0m\u001b[0;34m)\u001b[0m\u001b[0;34m\u001b[0m\u001b[0;34m\u001b[0m\u001b[0m\n",
            "\u001b[0;31mIndexError\u001b[0m: tuple index out of range"
          ]
        }
      ]
    },
    {
      "cell_type": "code",
      "metadata": {
        "colab": {
          "base_uri": "https://localhost:8080/"
        },
        "id": "5rkjt82JUrc4",
        "outputId": "a4a48af4-37e6-4367-c0bf-ea9140bf39b6"
      },
      "source": [
        "text = \" {} ı am a {} programmer and ı {} Clarusway\".format(\"Hello\", \"new\", \"love\")\n",
        "print(text)\n"
      ],
      "execution_count": null,
      "outputs": [
        {
          "output_type": "stream",
          "name": "stdout",
          "text": [
            " Hello ı am a new programmer and ı love Clarusway\n"
          ]
        }
      ]
    },
    {
      "cell_type": "code",
      "metadata": {
        "colab": {
          "base_uri": "https://localhost:8080/"
        },
        "id": "kwX2HDjtaZ2q",
        "outputId": "7ce81756-5416-403c-f5e5-fe0bb0573ff7"
      },
      "source": [
        "college_years = ['Freshman', 'Sophomore', 'Junior', 'Senior']\n",
        "print(list(enumerate(college_years, 2019)))"
      ],
      "execution_count": null,
      "outputs": [
        {
          "output_type": "stream",
          "name": "stdout",
          "text": [
            "[(2019, 'Freshman'), (2020, 'Sophomore'), (2021, 'Junior'), (2022, 'Senior')]\n"
          ]
        }
      ]
    },
    {
      "cell_type": "code",
      "metadata": {
        "colab": {
          "base_uri": "https://localhost:8080/"
        },
        "id": "vrObOVXradsn",
        "outputId": "3c4b427f-8e0c-41aa-b151-fe4711d9545d"
      },
      "source": [
        "for x in set('pqr'):\n",
        "     print(x*2)"
      ],
      "execution_count": null,
      "outputs": [
        {
          "output_type": "stream",
          "name": "stdout",
          "text": [
            "qq\n",
            "pp\n",
            "rr\n"
          ]
        }
      ]
    },
    {
      "cell_type": "code",
      "metadata": {
        "colab": {
          "base_uri": "https://localhost:8080/"
        },
        "id": "rzmSR2EUVCn4",
        "outputId": "2820fd54-af35-47f8-90de-1a7d980471aa"
      },
      "source": [
        "city = \"SARAJEVO\"\n",
        "text = f\"I live in {city} .capitalize(city)\"\n",
        "print(text)\n"
      ],
      "execution_count": null,
      "outputs": [
        {
          "output_type": "stream",
          "name": "stdout",
          "text": [
            "I live in SARAJEVO .capitalize(city)\n"
          ]
        }
      ]
    },
    {
      "cell_type": "code",
      "metadata": {
        "id": "7ObkxYLVYh2A"
      },
      "source": [
        "word = 'clarusway'\n",
        "n = 3\n",
        "front = word[0:3]\n",
        "back = word[-1:-6:-1]\n",
        "print(front + back)"
      ],
      "execution_count": null,
      "outputs": []
    },
    {
      "cell_type": "code",
      "metadata": {
        "id": "OXHt4OsSZmh4",
        "colab": {
          "base_uri": "https://localhost:8080/"
        },
        "outputId": "f2ce884d-c12f-4997-f364-cb6add936d0e"
      },
      "source": [
        "print(2 ** 3)\n",
        "print(3 ** 2)\n",
        "a = 2\n",
        "b = 8\n",
        "print((a * b) ** 0.5)"
      ],
      "execution_count": null,
      "outputs": [
        {
          "output_type": "stream",
          "name": "stdout",
          "text": [
            "8\n",
            "9\n",
            "4.0\n"
          ]
        }
      ]
    },
    {
      "cell_type": "code",
      "metadata": {
        "colab": {
          "base_uri": "https://localhost:8080/"
        },
        "id": "Rt39E9PD4oOt",
        "outputId": "0d7e0302-6907-4982-d73d-82aa864ae053"
      },
      "source": [
        "değişken = 10\n",
        "değişken = değişken + 5\n",
        "değişken"
      ],
      "execution_count": null,
      "outputs": [
        {
          "output_type": "execute_result",
          "data": {
            "text/plain": [
              "15"
            ]
          },
          "metadata": {},
          "execution_count": 2
        }
      ]
    },
    {
      "cell_type": "code",
      "metadata": {
        "colab": {
          "base_uri": "https://localhost:8080/"
        },
        "id": "Hymt4Gxi6B5b",
        "outputId": "17f750f5-852b-479c-b807-b4d63399c5be"
      },
      "source": [
        "değişken += 3\n",
        "değişken "
      ],
      "execution_count": null,
      "outputs": [
        {
          "output_type": "execute_result",
          "data": {
            "text/plain": [
              "18"
            ]
          },
          "metadata": {},
          "execution_count": 3
        }
      ]
    },
    {
      "cell_type": "code",
      "metadata": {
        "colab": {
          "base_uri": "https://localhost:8080/"
        },
        "id": "cRsYOSMB6LXx",
        "outputId": "c4630b96-a044-40b2-9cbb-c15d37865601"
      },
      "source": [
        "a += b\n",
        "a"
      ],
      "execution_count": null,
      "outputs": [
        {
          "output_type": "execute_result",
          "data": {
            "text/plain": [
              "18"
            ]
          },
          "metadata": {},
          "execution_count": 5
        }
      ]
    },
    {
      "cell_type": "code",
      "metadata": {
        "id": "_69sWhFR6r_P",
        "colab": {
          "base_uri": "https://localhost:8080/"
        },
        "outputId": "e887c12e-3998-462d-daf3-97f2d024981a"
      },
      "source": [
        "kus = \"Phoenıx\"\n",
        "print(kus[-1:1])"
      ],
      "execution_count": null,
      "outputs": [
        {
          "output_type": "stream",
          "name": "stdout",
          "text": [
            "\n"
          ]
        }
      ]
    },
    {
      "cell_type": "code",
      "metadata": {
        "colab": {
          "base_uri": "https://localhost:8080/"
        },
        "id": "USRyJ8ldXyOh",
        "outputId": "ca4305a2-fa85-4f38-ef4c-9f32f1948edb"
      },
      "source": [
        "animal = \"hippopotamus\"\n",
        "print(animal[1:])"
      ],
      "execution_count": null,
      "outputs": [
        {
          "output_type": "stream",
          "name": "stdout",
          "text": [
            "ippopotamus\n"
          ]
        }
      ]
    },
    {
      "cell_type": "code",
      "metadata": {
        "colab": {
          "base_uri": "https://localhost:8080/"
        },
        "id": "UaneGd2yYUUN",
        "outputId": "ab26fb5f-18fc-4452-deb7-f82b03a8e0ab"
      },
      "source": [
        "print(animal[:])"
      ],
      "execution_count": null,
      "outputs": [
        {
          "output_type": "stream",
          "name": "stdout",
          "text": [
            "hippopotamus\n"
          ]
        }
      ]
    },
    {
      "cell_type": "code",
      "metadata": {
        "colab": {
          "base_uri": "https://localhost:8080/",
          "height": 35
        },
        "id": "Bgf-gH--Z_VJ",
        "outputId": "b445b1ff-91f4-4c65-b92c-1d72b2608c10"
      },
      "source": [
        "saat = \"00:05\"\n",
        "yer = \"okul\"\n",
        "\"sabah {} uyandım  ve {} a gıttım.\".format(saat, yer)"
      ],
      "execution_count": null,
      "outputs": [
        {
          "output_type": "execute_result",
          "data": {
            "application/vnd.google.colaboratory.intrinsic+json": {
              "type": "string"
            },
            "text/plain": [
              "'sabah 00:05 uyandım  ve okul a gıttım.'"
            ]
          },
          "metadata": {},
          "execution_count": 10
        }
      ]
    },
    {
      "cell_type": "code",
      "metadata": {
        "colab": {
          "base_uri": "https://localhost:8080/",
          "height": 35
        },
        "id": "YnrHpq6wx6HH",
        "outputId": "31d0e648-5fb8-4666-81db-c396772c6d4c"
      },
      "source": [
        "'{state} is the most {adjective} state of the {country}'.format(state = 'calıfornıa', country = 'USA', adjective = 'crowded')"
      ],
      "execution_count": null,
      "outputs": [
        {
          "output_type": "execute_result",
          "data": {
            "application/vnd.google.colaboratory.intrinsic+json": {
              "type": "string"
            },
            "text/plain": [
              "'calıfornıa is the most crowded state of the USA'"
            ]
          },
          "metadata": {},
          "execution_count": 15
        }
      ]
    },
    {
      "cell_type": "code",
      "metadata": {
        "colab": {
          "base_uri": "https://localhost:8080/",
          "height": 35
        },
        "id": "lYiQWH5T1Q3T",
        "outputId": "dc7db544-6788-459d-a47a-ce45e4918450"
      },
      "source": [
        "\"{1}{0}\" .format(saat, yer)"
      ],
      "execution_count": null,
      "outputs": [
        {
          "output_type": "execute_result",
          "data": {
            "application/vnd.google.colaboratory.intrinsic+json": {
              "type": "string"
            },
            "text/plain": [
              "'okul00:05'"
            ]
          },
          "metadata": {},
          "execution_count": 28
        }
      ]
    },
    {
      "cell_type": "code",
      "metadata": {
        "colab": {
          "base_uri": "https://localhost:8080/"
        },
        "id": "Ht_LdHqT2x_h",
        "outputId": "1c92807c-7d74-4bb4-bb45-7b809501177e"
      },
      "source": [
        "bool(\"ev\")"
      ],
      "execution_count": null,
      "outputs": [
        {
          "output_type": "execute_result",
          "data": {
            "text/plain": [
              "True"
            ]
          },
          "metadata": {},
          "execution_count": 30
        }
      ]
    },
    {
      "cell_type": "code",
      "metadata": {
        "id": "2e2XNKsr59k-",
        "colab": {
          "base_uri": "https://localhost:8080/"
        },
        "outputId": "ea8146d3-83d7-4008-a82b-4bc7ae106e17"
      },
      "source": [
        "var_string = 'In God we Trust'\n",
        "var_string.lower()\n",
        "print(var_string)"
      ],
      "execution_count": null,
      "outputs": [
        {
          "output_type": "stream",
          "name": "stdout",
          "text": [
            "In God we Trust\n"
          ]
        }
      ]
    },
    {
      "cell_type": "code",
      "metadata": {
        "colab": {
          "base_uri": "https://localhost:8080/"
        },
        "id": "hqXOxMf3XL6m",
        "outputId": "2e4e1ccc-a16e-4bf6-f4a6-f8f42aae8c4b"
      },
      "source": [
        "text = 'wwww.kol.com'\n",
        "print(text.endswith('.com'))\n",
        "print(text.startswith('http:'))"
      ],
      "execution_count": null,
      "outputs": [
        {
          "output_type": "stream",
          "name": "stdout",
          "text": [
            "True\n",
            "False\n"
          ]
        }
      ]
    },
    {
      "cell_type": "code",
      "metadata": {
        "colab": {
          "base_uri": "https://localhost:8080/"
        },
        "id": "5Q965BpzYgca",
        "outputId": "17d1435a-0703-401d-b2f8-3a72ad67c54d"
      },
      "source": [
        "text = 'canberk'\n",
        "text.startswith(\"ac\")"
      ],
      "execution_count": null,
      "outputs": [
        {
          "output_type": "execute_result",
          "data": {
            "text/plain": [
              "False"
            ]
          },
          "metadata": {},
          "execution_count": 4
        }
      ]
    },
    {
      "cell_type": "code",
      "metadata": {
        "colab": {
          "base_uri": "https://localhost:8080/"
        },
        "id": "63gPhRHBY7vj",
        "outputId": "b0bd0ddc-c8e6-4d6f-f5f4-53d7f1ae3b37"
      },
      "source": [
        "text.endswith(\"rk\")"
      ],
      "execution_count": null,
      "outputs": [
        {
          "output_type": "execute_result",
          "data": {
            "text/plain": [
              "True"
            ]
          },
          "metadata": {},
          "execution_count": 5
        }
      ]
    },
    {
      "cell_type": "code",
      "metadata": {
        "colab": {
          "base_uri": "https://localhost:8080/"
        },
        "id": "xoGCX96bY_yV",
        "outputId": "85e5a5ce-b464-4b85-b661-d7f3d5d8c447"
      },
      "source": [
        "text.startswith(\"n\", 2)"
      ],
      "execution_count": null,
      "outputs": [
        {
          "output_type": "execute_result",
          "data": {
            "text/plain": [
              "True"
            ]
          },
          "metadata": {},
          "execution_count": 10
        }
      ]
    },
    {
      "cell_type": "code",
      "metadata": {
        "colab": {
          "base_uri": "https://localhost:8080/"
        },
        "id": "Gfw_yV64Z7qd",
        "outputId": "cfd49731-d509-4954-c01f-55ac6d967ef0"
      },
      "source": [
        "text.replace(\"c\", \"C\")\n",
        "print(text)"
      ],
      "execution_count": null,
      "outputs": [
        {
          "output_type": "stream",
          "name": "stdout",
          "text": [
            "canberk\n"
          ]
        }
      ]
    },
    {
      "cell_type": "code",
      "metadata": {
        "colab": {
          "base_uri": "https://localhost:8080/",
          "height": 35
        },
        "id": "RoStQeNQcqQy",
        "outputId": "e627d2d0-d75d-43b9-92b4-55b6e444f06e"
      },
      "source": [
        "text.replace(\"c\", \"C\")\n"
      ],
      "execution_count": null,
      "outputs": [
        {
          "output_type": "execute_result",
          "data": {
            "application/vnd.google.colaboratory.intrinsic+json": {
              "type": "string"
            },
            "text/plain": [
              "'Canberk'"
            ]
          },
          "metadata": {},
          "execution_count": 12
        }
      ]
    },
    {
      "cell_type": "code",
      "metadata": {
        "colab": {
          "base_uri": "https://localhost:8080/",
          "height": 35
        },
        "id": "IJVPmqEHcs_r",
        "outputId": "23e77680-bd43-41d5-a466-6db7bab6be1b"
      },
      "source": [
        "text.swapcase()"
      ],
      "execution_count": null,
      "outputs": [
        {
          "output_type": "execute_result",
          "data": {
            "application/vnd.google.colaboratory.intrinsic+json": {
              "type": "string"
            },
            "text/plain": [
              "'CANBERK'"
            ]
          },
          "metadata": {},
          "execution_count": 13
        }
      ]
    },
    {
      "cell_type": "code",
      "metadata": {
        "colab": {
          "base_uri": "https://localhost:8080/"
        },
        "id": "CCsyfTJpdKJf",
        "outputId": "0cb8cfc6-ce88-4f08-cf64-ffc3f977d802"
      },
      "source": [
        "sentence = \"I live and work in Virginia\"\n",
        "print(sentence.upper())\n",
        "print(sentence.lower())\n",
        "print(sentence.swapcase())\n",
        "print(sentence)"
      ],
      "execution_count": null,
      "outputs": [
        {
          "output_type": "stream",
          "name": "stdout",
          "text": [
            "I LIVE AND WORK IN VIRGINIA\n",
            "i live and work in virginia\n",
            "i LIVE AND WORK IN vIRGINIA\n",
            "I live and work in Virginia\n"
          ]
        }
      ]
    },
    {
      "cell_type": "code",
      "metadata": {
        "colab": {
          "base_uri": "https://localhost:8080/"
        },
        "id": "qRhUNBSoeeOZ",
        "outputId": "9f837ea9-bb67-4394-aced-5592a738f207"
      },
      "source": [
        "text = \"the better the family, the better the society\"\n",
        "print(text.title())\n",
        "print(text.upper())"
      ],
      "execution_count": null,
      "outputs": [
        {
          "output_type": "stream",
          "name": "stdout",
          "text": [
            "The Better The Family, The Better The Society\n",
            "THE BETTER THE FAMILY, THE BETTER THE SOCIETY\n"
          ]
        }
      ]
    },
    {
      "cell_type": "code",
      "metadata": {
        "colab": {
          "base_uri": "https://localhost:8080/"
        },
        "id": "ebi50empjW1x",
        "outputId": "f174186a-b270-4c96-e656-d9994cac1b98"
      },
      "source": [
        "text = \"S0d0me and G0m0re\"\n",
        "text = text.replace(\"0\", \"o\")\n",
        "print(text)"
      ],
      "execution_count": null,
      "outputs": [
        {
          "output_type": "stream",
          "name": "stdout",
          "text": [
            "Sodome and Gomore\n"
          ]
        }
      ]
    },
    {
      "cell_type": "code",
      "metadata": {
        "colab": {
          "base_uri": "https://localhost:8080/"
        },
        "id": "Osem8fyDlIzi",
        "outputId": "ac23e3d6-7686-4c8b-dc2c-0dbecf15937a"
      },
      "source": [
        "space_string = \"    listen first    \"\n",
        "print(space_string.strip())"
      ],
      "execution_count": null,
      "outputs": [
        {
          "output_type": "stream",
          "name": "stdout",
          "text": [
            "listen first\n"
          ]
        }
      ]
    },
    {
      "cell_type": "code",
      "metadata": {
        "colab": {
          "base_uri": "https://localhost:8080/"
        },
        "id": "7OHD-Hgbm3DB",
        "outputId": "e0e80b23-195b-44b7-b22a-4244e3796022"
      },
      "source": [
        "text = \"    jk    kl   lk     \"\n",
        "print(text.rstrip())"
      ],
      "execution_count": null,
      "outputs": [
        {
          "output_type": "stream",
          "name": "stdout",
          "text": [
            "    jk    kl   lk\n"
          ]
        }
      ]
    },
    {
      "cell_type": "code",
      "metadata": {
        "colab": {
          "base_uri": "https://localhost:8080/"
        },
        "id": "7_OLDykipei_",
        "outputId": "952018ed-338b-4f2b-e682-2252e2d9d172"
      },
      "source": [
        "text = \"    jk    kl   lk     \"\n",
        "print(text.lstrip())"
      ],
      "execution_count": null,
      "outputs": [
        {
          "output_type": "stream",
          "name": "stdout",
          "text": [
            "jk    kl   lk     \n"
          ]
        }
      ]
    },
    {
      "cell_type": "code",
      "metadata": {
        "colab": {
          "base_uri": "https://localhost:8080/"
        },
        "id": "uLsWn4HVpja1",
        "outputId": "7a1ed241-cb7c-4501-8368-f65ee7d1cd94"
      },
      "source": [
        "a = 3\n",
        "b = 4\n",
        "print(\"the sum of {} + {} is : {}\".format(a, b, a*b))"
      ],
      "execution_count": null,
      "outputs": [
        {
          "output_type": "stream",
          "name": "stdout",
          "text": [
            "the sum of 3 + 4 is : 12\n"
          ]
        }
      ]
    },
    {
      "cell_type": "code",
      "metadata": {
        "colab": {
          "base_uri": "https://localhost:8080/",
          "height": 35
        },
        "id": "gWY5z91kr1gL",
        "outputId": "ad579aa8-6186-4e1c-ee0f-ecc7cc9a65e5"
      },
      "source": [
        "text = \"{:.3}, {:.5}, {:.1}\".format(\"as0dk\", \"cm a9dc8\", \"sa98.,zğ\")\n",
        "text"
      ],
      "execution_count": null,
      "outputs": [
        {
          "output_type": "execute_result",
          "data": {
            "application/vnd.google.colaboratory.intrinsic+json": {
              "type": "string"
            },
            "text/plain": [
              "'as0, cm a9, s'"
            ]
          },
          "metadata": {},
          "execution_count": 27
        }
      ]
    },
    {
      "cell_type": "code",
      "metadata": {
        "colab": {
          "base_uri": "https://localhost:8080/"
        },
        "id": "g1yngTSC0E2j",
        "outputId": "eb280681-949e-4ec8-e344-d4a6658ec54f"
      },
      "source": [
        "sentence = \"Benim adım DenIz.\"\n",
        "print(sentence.title())"
      ],
      "execution_count": null,
      "outputs": [
        {
          "output_type": "stream",
          "name": "stdout",
          "text": [
            "Benim Adım Deniz.\n"
          ]
        }
      ]
    },
    {
      "cell_type": "code",
      "metadata": {
        "colab": {
          "base_uri": "https://localhost:8080/"
        },
        "id": "ELgzGBn1pVWo",
        "outputId": "2c838227-47e7-47fc-ab4f-472cfb48abaf"
      },
      "source": [
        "sentence = \"Benim adım DenIz.\"\n",
        "print(sentence.capitalize())"
      ],
      "execution_count": null,
      "outputs": [
        {
          "output_type": "stream",
          "name": "stdout",
          "text": [
            "Benim adım deniz.\n"
          ]
        }
      ]
    },
    {
      "cell_type": "code",
      "metadata": {
        "colab": {
          "base_uri": "https://localhost:8080/"
        },
        "id": "uosc-OoBpd08",
        "outputId": "f5dda6d4-a8b4-43a8-cd44-c35840ab23cd"
      },
      "source": [
        "text = \"mbenım adım denızs\"\n",
        "text = text.rstrip(\"s\").lstrip(\"m\").upper()\n",
        "print(text)"
      ],
      "execution_count": null,
      "outputs": [
        {
          "output_type": "stream",
          "name": "stdout",
          "text": [
            "BENIM ADIM DENIZ\n"
          ]
        }
      ]
    },
    {
      "cell_type": "code",
      "metadata": {
        "colab": {
          "base_uri": "https://localhost:8080/"
        },
        "id": "TQSjkNtTTVB-",
        "outputId": "96e7331b-94dd-4585-baa5-5951670172ff"
      },
      "source": [
        "text = \"mbenım adım denızs\"\n",
        "text = text.strip(\"ms\").upper()\n",
        "print(text)"
      ],
      "execution_count": null,
      "outputs": [
        {
          "output_type": "stream",
          "name": "stdout",
          "text": [
            "BENIM ADIM DENIZ\n"
          ]
        }
      ]
    },
    {
      "cell_type": "code",
      "metadata": {
        "colab": {
          "base_uri": "https://localhost:8080/",
          "height": 180
        },
        "id": "PZGUreenTsxi",
        "outputId": "47183734-55c9-4e82-cca1-c2ff57faa2d7"
      },
      "source": [
        "name = alı\n",
        "print(f\"mbenım adım {name} denızs\")\n"
      ],
      "execution_count": null,
      "outputs": [
        {
          "output_type": "error",
          "ename": "NameError",
          "evalue": "ignored",
          "traceback": [
            "\u001b[0;31m---------------------------------------------------------------------------\u001b[0m",
            "\u001b[0;31mNameError\u001b[0m                                 Traceback (most recent call last)",
            "\u001b[0;32m<ipython-input-8-38677ec6a5bc>\u001b[0m in \u001b[0;36m<module>\u001b[0;34m()\u001b[0m\n\u001b[0;32m----> 1\u001b[0;31m \u001b[0mname\u001b[0m \u001b[0;34m=\u001b[0m \u001b[0malı\u001b[0m\u001b[0;34m\u001b[0m\u001b[0;34m\u001b[0m\u001b[0m\n\u001b[0m\u001b[1;32m      2\u001b[0m \u001b[0mprint\u001b[0m\u001b[0;34m(\u001b[0m\u001b[0;34mf\"mbenım adım {name} denızs\"\u001b[0m\u001b[0;34m)\u001b[0m\u001b[0;34m\u001b[0m\u001b[0;34m\u001b[0m\u001b[0m\n",
            "\u001b[0;31mNameError\u001b[0m: name 'alı' is not defined"
          ]
        }
      ]
    },
    {
      "cell_type": "code",
      "metadata": {
        "id": "-BIoPorqZ6Mz",
        "colab": {
          "base_uri": "https://localhost:8080/"
        },
        "outputId": "a9ec40b1-2865-4a87-9b81-a4df6712dd98"
      },
      "source": [
        "yil = '2200s hard'\n",
        "list(yil)"
      ],
      "execution_count": null,
      "outputs": [
        {
          "output_type": "execute_result",
          "data": {
            "text/plain": [
              "['2', '2', '0', '0', 's', ' ', 'h', 'a', 'r', 'd']"
            ]
          },
          "metadata": {},
          "execution_count": 1
        }
      ]
    },
    {
      "cell_type": "code",
      "metadata": {
        "id": "6Muexz6M_bHE"
      },
      "source": [
        "yil_list = ['2020s hard']"
      ],
      "execution_count": null,
      "outputs": []
    },
    {
      "cell_type": "code",
      "metadata": {
        "colab": {
          "base_uri": "https://localhost:8080/"
        },
        "id": "m7C1UDr5_riy",
        "outputId": "ad3e255e-a546-4125-93c3-ce78da7ea8c3"
      },
      "source": [
        "a = 1\n",
        "b = 2\n",
        "c = 3\n",
        "sayilar = [a, b, c]\n",
        "sayilar"
      ],
      "execution_count": null,
      "outputs": [
        {
          "output_type": "execute_result",
          "data": {
            "text/plain": [
              "[1, 2, 3]"
            ]
          },
          "metadata": {},
          "execution_count": 3
        }
      ]
    },
    {
      "cell_type": "code",
      "metadata": {
        "colab": {
          "base_uri": "https://localhost:8080/"
        },
        "id": "lDomS4on_3Zn",
        "outputId": "05f5d6c6-bfac-4b91-c125-18e9d0eb7ce7"
      },
      "source": [
        "listem = []\n",
        "listem.append(11)\n",
        "listem"
      ],
      "execution_count": null,
      "outputs": [
        {
          "output_type": "execute_result",
          "data": {
            "text/plain": [
              "[11]"
            ]
          },
          "metadata": {},
          "execution_count": 5
        }
      ]
    },
    {
      "cell_type": "code",
      "metadata": {
        "colab": {
          "base_uri": "https://localhost:8080/"
        },
        "id": "sm8eJPUoBm-s",
        "outputId": "3fa97ad4-8d13-47c0-c90e-406cc7ad5274"
      },
      "source": [
        "kardesler = ['ali', 'veli'] \n",
        "kardesler.append('deli')\n",
        "kardesler"
      ],
      "execution_count": null,
      "outputs": [
        {
          "output_type": "execute_result",
          "data": {
            "text/plain": [
              "['ali', 'veli', 'deli']"
            ]
          },
          "metadata": {},
          "execution_count": 7
        }
      ]
    },
    {
      "cell_type": "code",
      "metadata": {
        "colab": {
          "base_uri": "https://localhost:8080/"
        },
        "id": "N4tzLp9jB6RM",
        "outputId": "ffaf8e7f-4665-48d6-85ec-33e7e19a576c"
      },
      "source": [
        "mylist = []\n",
        "mylist.append(1)\n",
        "mylist.append(2)\n",
        "mylist.append(3)\n",
        "mylist.append(4)\n",
        "print(mylist)"
      ],
      "execution_count": null,
      "outputs": [
        {
          "output_type": "stream",
          "name": "stdout",
          "text": [
            "[1, 2, 3, 4]\n"
          ]
        }
      ]
    },
    {
      "cell_type": "code",
      "metadata": {
        "colab": {
          "base_uri": "https://localhost:8080/"
        },
        "id": "D1QOk3FyFrVF",
        "outputId": "685ca962-f554-4368-fe5f-7fc4dce1dd76"
      },
      "source": [
        "mylist = [1,2,3,4]\n",
        "mylist.insert(4, 5)\n",
        "mylist"
      ],
      "execution_count": null,
      "outputs": [
        {
          "output_type": "execute_result",
          "data": {
            "text/plain": [
              "[1, 2, 3, 4, 5]"
            ]
          },
          "metadata": {},
          "execution_count": 12
        }
      ]
    },
    {
      "cell_type": "code",
      "metadata": {
        "id": "oIJLhgQZICM-",
        "colab": {
          "base_uri": "https://localhost:8080/"
        },
        "outputId": "1b85fad6-23a4-47c5-c89e-baf8936bfaec"
      },
      "source": [
        "print(format(\"Welcome\", \"10s\"), end = '#')\n",
        "print(format(111, \"4d\"), end = '#')\n",
        "print(format(924.656, \"3.2f\"))"
      ],
      "execution_count": null,
      "outputs": [
        {
          "output_type": "stream",
          "name": "stdout",
          "text": [
            "Welcome   # 111#924.66\n"
          ]
        }
      ]
    },
    {
      "cell_type": "code",
      "metadata": {
        "colab": {
          "base_uri": "https://localhost:8080/"
        },
        "id": "6dTWddqV65h6",
        "outputId": "1deb4124-e8fe-4e63-c991-713c0c8366eb"
      },
      "source": [
        "print(\"xyyzxyzxzxyy\".count('yy', 2))"
      ],
      "execution_count": null,
      "outputs": [
        {
          "output_type": "stream",
          "name": "stdout",
          "text": [
            "1\n"
          ]
        }
      ]
    },
    {
      "cell_type": "code",
      "metadata": {
        "colab": {
          "base_uri": "https://localhost:8080/"
        },
        "id": "cUlQIp7I7D-Q",
        "outputId": "4cc2eb6b-74d1-414b-ec0b-62d7bd8bd627"
      },
      "source": [
        "print(\"xyyzxyzxzxyy\".endswith(\"xyy\", 0, 2))"
      ],
      "execution_count": null,
      "outputs": [
        {
          "output_type": "stream",
          "name": "stdout",
          "text": [
            "False\n"
          ]
        }
      ]
    },
    {
      "cell_type": "code",
      "metadata": {
        "id": "GisDXJJG7Vwq",
        "colab": {
          "base_uri": "https://localhost:8080/"
        },
        "outputId": "0172b4c4-1019-460e-8ac0-c2794633227b"
      },
      "source": [
        "city = ['New York', 'London', 'Istanbul', 'Seoul', 'Sydney']\n",
        "city_new = []\n",
        "city_new.append(city)\n",
        "city_new"
      ],
      "execution_count": null,
      "outputs": [
        {
          "output_type": "execute_result",
          "data": {
            "text/plain": [
              "[['New York', 'London', 'Istanbul', 'Seoul', 'Sydney']]"
            ]
          },
          "metadata": {},
          "execution_count": 3
        }
      ]
    },
    {
      "cell_type": "code",
      "metadata": {
        "colab": {
          "base_uri": "https://localhost:8080/",
          "height": 129
        },
        "id": "ZatPLB3nbFF0",
        "outputId": "d12685a3-833c-48fb-f331-a6922ba1ca0b"
      },
      "source": [
        "odd_numbers = list(range(1,10,2))"
      ],
      "execution_count": null,
      "outputs": [
        {
          "output_type": "error",
          "ename": "SyntaxError",
          "evalue": "ignored",
          "traceback": [
            "\u001b[0;36m  File \u001b[0;32m\"<ipython-input-4-c374201a340e>\"\u001b[0;36m, line \u001b[0;32m1\u001b[0m\n\u001b[0;31m    odd_numbers = list(range(1,10,2))\u001b[0m\n\u001b[0m               ^\u001b[0m\n\u001b[0;31mSyntaxError\u001b[0m\u001b[0;31m:\u001b[0m invalid character in identifier\n"
          ]
        }
      ]
    },
    {
      "cell_type": "code",
      "metadata": {
        "colab": {
          "base_uri": "https://localhost:8080/"
        },
        "id": "yGivH0Anh227",
        "outputId": "6d9675d4-8da0-40d6-a857-1ceb5c6095bb"
      },
      "source": [
        "numbers = list(range(1,11))\n",
        "numbers[::2]"
      ],
      "execution_count": null,
      "outputs": [
        {
          "output_type": "execute_result",
          "data": {
            "text/plain": [
              "[1, 3, 5, 7, 9]"
            ]
          },
          "metadata": {},
          "execution_count": 5
        }
      ]
    },
    {
      "cell_type": "code",
      "metadata": {
        "id": "voncEDjliYun",
        "colab": {
          "base_uri": "https://localhost:8080/"
        },
        "outputId": "5b80754a-5dd9-4413-f0ff-c3ca927e82c4"
      },
      "source": [
        "first_dict  = {1:'one', 'two':2, False:[1,2,3], 1.5:('one','two'), (1.2): 'duda'}\n",
        "first_dict"
      ],
      "execution_count": null,
      "outputs": [
        {
          "output_type": "execute_result",
          "data": {
            "text/plain": [
              "{1: 'one', 1.2: 'duda', 1.5: ('one', 'two'), False: [1, 2, 3], 'two': 2}"
            ]
          },
          "metadata": {},
          "execution_count": 1
        }
      ]
    },
    {
      "cell_type": "code",
      "metadata": {
        "colab": {
          "base_uri": "https://localhost:8080/",
          "height": 129
        },
        "id": "dF2tuVFw90ml",
        "outputId": "aa29900d-701a-4056-fcda-0f6d7d8d1c3e"
      },
      "source": [
        "second_dict = {[1,2] : 'one, 'two':2, }"
      ],
      "execution_count": null,
      "outputs": [
        {
          "output_type": "error",
          "ename": "SyntaxError",
          "evalue": "ignored",
          "traceback": [
            "\u001b[0;36m  File \u001b[0;32m\"<ipython-input-2-c677ded818b7>\"\u001b[0;36m, line \u001b[0;32m1\u001b[0m\n\u001b[0;31m    second_dict = {[1,2] : 'one, 'two':2, }\u001b[0m\n\u001b[0m                                    ^\u001b[0m\n\u001b[0;31mSyntaxError\u001b[0m\u001b[0;31m:\u001b[0m invalid syntax\n"
          ]
        }
      ]
    },
    {
      "cell_type": "code",
      "metadata": {
        "colab": {
          "base_uri": "https://localhost:8080/"
        },
        "id": "A26o_0NK-Ixm",
        "outputId": "f2e39617-2dda-432a-94c2-162f5f3830cf"
      },
      "source": [
        "family = {'name_1': 'cilo', 'name_3': 'fifi'}\n",
        "family['name_4'] = 'yoyo'\n",
        "family"
      ],
      "execution_count": null,
      "outputs": [
        {
          "output_type": "execute_result",
          "data": {
            "text/plain": [
              "{'name_1': 'cilo', 'name_3': 'fifi', 'name_4': 'yoyo'}"
            ]
          },
          "metadata": {},
          "execution_count": 8
        }
      ]
    },
    {
      "cell_type": "code",
      "metadata": {
        "id": "7IWSMDsHG60l"
      },
      "source": [
        "sehir = 'istanbul'\n",
        "isim = 'yasemin'\n",
        "nufus = '10000'\n",
        "yagmurlumu = False\n",
        "Benim = {1 : sehir, isim : 'kadin', 'nufusum' : nufus, 'hava_yagmurlu_mu' : yagmurlumu}"
      ],
      "execution_count": null,
      "outputs": []
    },
    {
      "cell_type": "code",
      "metadata": {
        "colab": {
          "base_uri": "https://localhost:8080/",
          "height": 163
        },
        "id": "QzHbLvsdJE-M",
        "outputId": "4e11111b-fa4d-491f-a990-3edff81d98b5"
      },
      "source": [
        "benim"
      ],
      "execution_count": null,
      "outputs": [
        {
          "output_type": "error",
          "ename": "NameError",
          "evalue": "ignored",
          "traceback": [
            "\u001b[0;31m---------------------------------------------------------------------------\u001b[0m",
            "\u001b[0;31mNameError\u001b[0m                                 Traceback (most recent call last)",
            "\u001b[0;32m<ipython-input-10-9480265eef93>\u001b[0m in \u001b[0;36m<module>\u001b[0;34m()\u001b[0m\n\u001b[0;32m----> 1\u001b[0;31m \u001b[0mbenim\u001b[0m\u001b[0;34m\u001b[0m\u001b[0;34m\u001b[0m\u001b[0m\n\u001b[0m",
            "\u001b[0;31mNameError\u001b[0m: name 'benim' is not defined"
          ]
        }
      ]
    },
    {
      "cell_type": "code",
      "metadata": {
        "colab": {
          "base_uri": "https://localhost:8080/"
        },
        "id": "i4fZdCe3JGVW",
        "outputId": "46446f54-36f0-4cc8-d07c-b2ec742f199b"
      },
      "source": [
        "Benim"
      ],
      "execution_count": null,
      "outputs": [
        {
          "output_type": "execute_result",
          "data": {
            "text/plain": [
              "{1: 'istanbul',\n",
              " 'hava_yagmurlu_mu': False,\n",
              " 'nufusum': '10000',\n",
              " 'yasemin': 'kadin'}"
            ]
          },
          "metadata": {},
          "execution_count": 11
        }
      ]
    },
    {
      "cell_type": "code",
      "metadata": {
        "colab": {
          "base_uri": "https://localhost:8080/",
          "height": 129
        },
        "id": "JpVrlEEDJHoC",
        "outputId": "5e7f30b8-7eb9-4423-a02b-b76f9028a55d"
      },
      "source": [
        "family = dict('name1': 'cilo', 'name3': 'fifi')\n",
        "family"
      ],
      "execution_count": null,
      "outputs": [
        {
          "output_type": "error",
          "ename": "SyntaxError",
          "evalue": "ignored",
          "traceback": [
            "\u001b[0;36m  File \u001b[0;32m\"<ipython-input-13-7474800f60c8>\"\u001b[0;36m, line \u001b[0;32m1\u001b[0m\n\u001b[0;31m    family = dict('name1': 'cilo', 'name3': 'fifi')\u001b[0m\n\u001b[0m                         ^\u001b[0m\n\u001b[0;31mSyntaxError\u001b[0m\u001b[0;31m:\u001b[0m invalid syntax\n"
          ]
        }
      ]
    },
    {
      "cell_type": "code",
      "metadata": {
        "id": "-W0s05S8KjqE"
      },
      "source": [
        "listem = []\n",
        "listem.append('ali')"
      ],
      "execution_count": null,
      "outputs": []
    },
    {
      "cell_type": "code",
      "metadata": {
        "colab": {
          "base_uri": "https://localhost:8080/"
        },
        "id": "UtnRUfe_1sfq",
        "outputId": "29891886-453b-4356-f6fd-8032501ddf5b"
      },
      "source": [
        "print(listem)"
      ],
      "execution_count": null,
      "outputs": [
        {
          "output_type": "stream",
          "name": "stdout",
          "text": [
            "['ali']\n"
          ]
        }
      ]
    },
    {
      "cell_type": "code",
      "metadata": {
        "id": "ppveax2O13C7"
      },
      "source": [
        "listem.append(2)"
      ],
      "execution_count": null,
      "outputs": []
    },
    {
      "cell_type": "code",
      "metadata": {
        "colab": {
          "base_uri": "https://localhost:8080/"
        },
        "id": "wPmmrYUp1714",
        "outputId": "1bab6e13-e432-49de-e60d-8323a0a47e5e"
      },
      "source": [
        "print(listem)"
      ],
      "execution_count": null,
      "outputs": [
        {
          "output_type": "stream",
          "name": "stdout",
          "text": [
            "['ali', 2]\n"
          ]
        }
      ]
    },
    {
      "cell_type": "code",
      "metadata": {
        "colab": {
          "base_uri": "https://localhost:8080/",
          "height": 163
        },
        "id": "ykj6TJY519Zo",
        "outputId": "64930341-7029-480e-832e-4102142b3054"
      },
      "source": [
        "listem.append(2, 'can')"
      ],
      "execution_count": null,
      "outputs": [
        {
          "output_type": "error",
          "ename": "TypeError",
          "evalue": "ignored",
          "traceback": [
            "\u001b[0;31m---------------------------------------------------------------------------\u001b[0m",
            "\u001b[0;31mTypeError\u001b[0m                                 Traceback (most recent call last)",
            "\u001b[0;32m<ipython-input-7-ab2c3c674534>\u001b[0m in \u001b[0;36m<module>\u001b[0;34m()\u001b[0m\n\u001b[0;32m----> 1\u001b[0;31m \u001b[0mlistem\u001b[0m\u001b[0;34m.\u001b[0m\u001b[0mappend\u001b[0m\u001b[0;34m(\u001b[0m\u001b[0;36m2\u001b[0m\u001b[0;34m,\u001b[0m \u001b[0;34m'can'\u001b[0m\u001b[0;34m)\u001b[0m\u001b[0;34m\u001b[0m\u001b[0;34m\u001b[0m\u001b[0m\n\u001b[0m",
            "\u001b[0;31mTypeError\u001b[0m: append() takes exactly one argument (2 given)"
          ]
        }
      ]
    },
    {
      "cell_type": "code",
      "metadata": {
        "id": "TvCNWpX72A1w",
        "colab": {
          "base_uri": "https://localhost:8080/"
        },
        "outputId": "40af9be4-3b48-4041-a01a-7fe694873c63"
      },
      "source": [
        "print('Hello World!')"
      ],
      "execution_count": null,
      "outputs": [
        {
          "output_type": "stream",
          "name": "stdout",
          "text": [
            "Hello World!\n"
          ]
        }
      ]
    },
    {
      "cell_type": "code",
      "metadata": {
        "colab": {
          "base_uri": "https://localhost:8080/"
        },
        "id": "E4b-uAp2bL4B",
        "outputId": "a18be860-61cb-42f5-bd63-9a8a5ee91376"
      },
      "source": [
        "print(\"Hello world!\")"
      ],
      "execution_count": null,
      "outputs": [
        {
          "output_type": "stream",
          "name": "stdout",
          "text": [
            "Hello world!\n"
          ]
        }
      ]
    },
    {
      "cell_type": "code",
      "metadata": {
        "colab": {
          "base_uri": "https://localhost:8080/"
        },
        "id": "jDHGX12AbYmM",
        "outputId": "7c588e0d-12d6-4bf8-a6d5-b4d7155c706f"
      },
      "source": [
        "print('''Hello world!''')"
      ],
      "execution_count": null,
      "outputs": [
        {
          "output_type": "stream",
          "name": "stdout",
          "text": [
            "Hello world!\n"
          ]
        }
      ]
    },
    {
      "cell_type": "code",
      "metadata": {
        "colab": {
          "base_uri": "https://localhost:8080/",
          "height": 129
        },
        "id": "Ttysrz_gbef_",
        "outputId": "5ee81bf9-ae99-41f6-a9a7-c808edddb318"
      },
      "source": [
        "print(''Hello World!'')"
      ],
      "execution_count": null,
      "outputs": [
        {
          "output_type": "error",
          "ename": "SyntaxError",
          "evalue": "ignored",
          "traceback": [
            "\u001b[0;36m  File \u001b[0;32m\"<ipython-input-4-0a0c9ee74f6a>\"\u001b[0;36m, line \u001b[0;32m1\u001b[0m\n\u001b[0;31m    print(''Hello World!'')\u001b[0m\n\u001b[0m                ^\u001b[0m\n\u001b[0;31mSyntaxError\u001b[0m\u001b[0;31m:\u001b[0m invalid syntax\n"
          ]
        }
      ]
    },
    {
      "cell_type": "code",
      "metadata": {
        "colab": {
          "base_uri": "https://localhost:8080/"
        },
        "id": "KF4XHlrUbi_4",
        "outputId": "18413136-2445-4d70-eb8c-6b151901009f"
      },
      "source": [
        "print(\"I'm happy to learn\")"
      ],
      "execution_count": null,
      "outputs": [
        {
          "output_type": "stream",
          "name": "stdout",
          "text": [
            "I'm happy to learn\n"
          ]
        }
      ]
    },
    {
      "cell_type": "code",
      "metadata": {
        "colab": {
          "base_uri": "https://localhost:8080/",
          "height": 129
        },
        "id": "QMnS471ybqZf",
        "outputId": "53b20c75-5b2d-4c4c-b980-c49b92a270cf"
      },
      "source": [
        "print( 'hello,\n",
        "      my,\n",
        "      name, \n",
        "      elo')"
      ],
      "execution_count": null,
      "outputs": [
        {
          "output_type": "error",
          "ename": "SyntaxError",
          "evalue": "ignored",
          "traceback": [
            "\u001b[0;36m  File \u001b[0;32m\"<ipython-input-11-dcfc4ff810aa>\"\u001b[0;36m, line \u001b[0;32m1\u001b[0m\n\u001b[0;31m    print( 'hello,\u001b[0m\n\u001b[0m                  ^\u001b[0m\n\u001b[0;31mSyntaxError\u001b[0m\u001b[0;31m:\u001b[0m EOL while scanning string literal\n"
          ]
        }
      ]
    },
    {
      "cell_type": "code",
      "metadata": {
        "colab": {
          "base_uri": "https://localhost:8080/",
          "height": 129
        },
        "id": "k8oN4m3Ib6Bn",
        "outputId": "d17ca9b0-0998-481c-e020-e3e7a904206b"
      },
      "source": [
        "print('kar\n",
        "la\n",
        "skf\n",
        "ksdj')"
      ],
      "execution_count": null,
      "outputs": [
        {
          "output_type": "error",
          "ename": "SyntaxError",
          "evalue": "ignored",
          "traceback": [
            "\u001b[0;36m  File \u001b[0;32m\"<ipython-input-12-47ed45143a1b>\"\u001b[0;36m, line \u001b[0;32m1\u001b[0m\n\u001b[0;31m    print('kar\u001b[0m\n\u001b[0m              ^\u001b[0m\n\u001b[0;31mSyntaxError\u001b[0m\u001b[0;31m:\u001b[0m EOL while scanning string literal\n"
          ]
        }
      ]
    },
    {
      "cell_type": "code",
      "metadata": {
        "colab": {
          "base_uri": "https://localhost:8080/"
        },
        "id": "rWLfP658cPy4",
        "outputId": "0425c239-21d5-4de6-b841-85ee998c65b7"
      },
      "source": [
        "print(\"ali'nin arabasi\")"
      ],
      "execution_count": null,
      "outputs": [
        {
          "output_type": "stream",
          "name": "stdout",
          "text": [
            "ali'nin arabasi\n"
          ]
        }
      ]
    },
    {
      "cell_type": "code",
      "metadata": {
        "colab": {
          "base_uri": "https://localhost:8080/"
        },
        "id": "fhfe-SUVdOAX",
        "outputId": "aaffea8c-9284-4f38-97ca-c9036c68d089"
      },
      "source": [
        "print(\"  ' ali gel' \")"
      ],
      "execution_count": null,
      "outputs": [
        {
          "output_type": "stream",
          "name": "stdout",
          "text": [
            "  ' ali gel' \n"
          ]
        }
      ]
    },
    {
      "cell_type": "code",
      "metadata": {
        "colab": {
          "base_uri": "https://localhost:8080/"
        },
        "id": "saTbKSbmdX_3",
        "outputId": "f6151203-8705-4bb7-ebc3-c25894e2aee4"
      },
      "source": [
        "print()"
      ],
      "execution_count": null,
      "outputs": [
        {
          "output_type": "stream",
          "name": "stdout",
          "text": [
            "\n"
          ]
        }
      ]
    },
    {
      "cell_type": "code",
      "metadata": {
        "colab": {
          "base_uri": "https://localhost:8080/"
        },
        "id": "3JQAbFHzda-v",
        "outputId": "553e18bb-7b86-4d00-9c90-6bbd479cb27e"
      },
      "source": [
        "print('')"
      ],
      "execution_count": null,
      "outputs": [
        {
          "output_type": "stream",
          "name": "stdout",
          "text": [
            "\n"
          ]
        }
      ]
    },
    {
      "cell_type": "code",
      "metadata": {
        "colab": {
          "base_uri": "https://localhost:8080/",
          "height": 129
        },
        "id": "2Ik_HYYmdemH",
        "outputId": "9d8ac2ac-6466-4747-fbf2-e35236de74d9"
      },
      "source": [
        "print('''')"
      ],
      "execution_count": null,
      "outputs": [
        {
          "output_type": "error",
          "ename": "SyntaxError",
          "evalue": "ignored",
          "traceback": [
            "\u001b[0;36m  File \u001b[0;32m\"<ipython-input-17-4b777b03c816>\"\u001b[0;36m, line \u001b[0;32m1\u001b[0m\n\u001b[0;31m    print('''')\u001b[0m\n\u001b[0m               ^\u001b[0m\n\u001b[0;31mSyntaxError\u001b[0m\u001b[0;31m:\u001b[0m EOF while scanning triple-quoted string literal\n"
          ]
        }
      ]
    },
    {
      "cell_type": "code",
      "metadata": {
        "colab": {
          "base_uri": "https://localhost:8080/"
        },
        "id": "ZXl50-FXdoT3",
        "outputId": "738fe32f-4d80-4fca-bd43-8fc85cdd7997"
      },
      "source": [
        "print('selam')  #bu bir not"
      ],
      "execution_count": null,
      "outputs": [
        {
          "output_type": "stream",
          "name": "stdout",
          "text": [
            "selam\n"
          ]
        }
      ]
    },
    {
      "cell_type": "code",
      "metadata": {
        "colab": {
          "base_uri": "https://localhost:8080/"
        },
        "id": "n5QSGTxoeMKP",
        "outputId": "155a3c5a-61d2-4dfe-a9de-9fee7bc3de59"
      },
      "source": [
        "print('selam')#bu bir not"
      ],
      "execution_count": null,
      "outputs": [
        {
          "output_type": "stream",
          "name": "stdout",
          "text": [
            "selam\n"
          ]
        }
      ]
    },
    {
      "cell_type": "code",
      "metadata": {
        "colab": {
          "base_uri": "https://localhost:8080/"
        },
        "id": "mrix3rZUeQJ3",
        "outputId": "6fdc96a5-d548-405a-9c0c-d9fc15a9d941"
      },
      "source": [
        "print()  #not 1 \n",
        "# not 2\n",
        "# not 3"
      ],
      "execution_count": null,
      "outputs": [
        {
          "output_type": "stream",
          "name": "stdout",
          "text": [
            "\n"
          ]
        }
      ]
    },
    {
      "cell_type": "code",
      "metadata": {
        "colab": {
          "base_uri": "https://localhost:8080/"
        },
        "id": "b343jHh2eeBe",
        "outputId": "51e0610e-b9e1-4d85-d464-3070dce21ff0"
      },
      "source": [
        "number = 5\n",
        "str_1 = 'gol'\n",
        "print('ben number str_1 attim')"
      ],
      "execution_count": null,
      "outputs": [
        {
          "output_type": "stream",
          "name": "stdout",
          "text": [
            "ben number str_1 attim\n"
          ]
        }
      ]
    },
    {
      "cell_type": "code",
      "metadata": {
        "colab": {
          "base_uri": "https://localhost:8080/"
        },
        "id": "fs6B6NwMf2p3",
        "outputId": "81177c39-0b72-4aa4-baa2-e21d99387f9d"
      },
      "source": [
        "print(number)"
      ],
      "execution_count": null,
      "outputs": [
        {
          "output_type": "stream",
          "name": "stdout",
          "text": [
            "5\n"
          ]
        }
      ]
    },
    {
      "cell_type": "code",
      "metadata": {
        "colab": {
          "base_uri": "https://localhost:8080/"
        },
        "id": "vzo2R3dkf6oY",
        "outputId": "4f45170d-0bab-4035-cff6-1bdab6e995d6"
      },
      "source": [
        "print(str_1)"
      ],
      "execution_count": null,
      "outputs": [
        {
          "output_type": "stream",
          "name": "stdout",
          "text": [
            "gol\n"
          ]
        }
      ]
    },
    {
      "cell_type": "code",
      "metadata": {
        "colab": {
          "base_uri": "https://localhost:8080/"
        },
        "id": "727mkjL0f9Au",
        "outputId": "79bc27b1-d39e-4b01-c50b-b199fcc0e871"
      },
      "source": [
        "print(number, str_1)"
      ],
      "execution_count": null,
      "outputs": [
        {
          "output_type": "stream",
          "name": "stdout",
          "text": [
            "5 gol\n"
          ]
        }
      ]
    },
    {
      "cell_type": "code",
      "metadata": {
        "colab": {
          "base_uri": "https://localhost:8080/",
          "height": 180
        },
        "id": "AyXNsTQVgA_O",
        "outputId": "4499b1a6-69cc-4a16-f1a9-f4abfdd8f871"
      },
      "source": [
        "a = b = c = saksi\n",
        "print(a)"
      ],
      "execution_count": null,
      "outputs": [
        {
          "output_type": "error",
          "ename": "NameError",
          "evalue": "ignored",
          "traceback": [
            "\u001b[0;31m---------------------------------------------------------------------------\u001b[0m",
            "\u001b[0;31mNameError\u001b[0m                                 Traceback (most recent call last)",
            "\u001b[0;32m<ipython-input-25-f47bf2110725>\u001b[0m in \u001b[0;36m<module>\u001b[0;34m()\u001b[0m\n\u001b[0;32m----> 1\u001b[0;31m \u001b[0ma\u001b[0m \u001b[0;34m=\u001b[0m \u001b[0mb\u001b[0m \u001b[0;34m=\u001b[0m \u001b[0mc\u001b[0m \u001b[0;34m=\u001b[0m \u001b[0msaksi\u001b[0m\u001b[0;34m\u001b[0m\u001b[0;34m\u001b[0m\u001b[0m\n\u001b[0m\u001b[1;32m      2\u001b[0m \u001b[0mprint\u001b[0m\u001b[0;34m(\u001b[0m\u001b[0ma\u001b[0m\u001b[0;34m)\u001b[0m\u001b[0;34m\u001b[0m\u001b[0;34m\u001b[0m\u001b[0m\n",
            "\u001b[0;31mNameError\u001b[0m: name 'saksi' is not defined"
          ]
        }
      ]
    },
    {
      "cell_type": "code",
      "metadata": {
        "colab": {
          "base_uri": "https://localhost:8080/"
        },
        "id": "2paR_J-GgH4O",
        "outputId": "cc547df7-5d00-42c0-a827-aade04d4f3aa"
      },
      "source": [
        "a = 15\n",
        "b = 5\n",
        "c = 68\n",
        "print(a, b, c)"
      ],
      "execution_count": null,
      "outputs": [
        {
          "output_type": "stream",
          "name": "stdout",
          "text": [
            "15 5 68\n"
          ]
        }
      ]
    },
    {
      "cell_type": "code",
      "metadata": {
        "colab": {
          "base_uri": "https://localhost:8080/"
        },
        "id": "2Edtucltgepn",
        "outputId": "4a18c129-3d6f-4c6a-eb8a-bc57f3300050"
      },
      "source": [
        "a, b, c = 1,  2, 3\n",
        "print(a)"
      ],
      "execution_count": null,
      "outputs": [
        {
          "output_type": "stream",
          "name": "stdout",
          "text": [
            "1\n"
          ]
        }
      ]
    },
    {
      "cell_type": "code",
      "metadata": {
        "colab": {
          "base_uri": "https://localhost:8080/"
        },
        "id": "fbf5xWXTiAs_",
        "outputId": "f9ec250c-7e22-4a6d-ee03-e0ab35a9f737"
      },
      "source": [
        "print(c)"
      ],
      "execution_count": null,
      "outputs": [
        {
          "output_type": "stream",
          "name": "stdout",
          "text": [
            "3\n"
          ]
        }
      ]
    },
    {
      "cell_type": "code",
      "metadata": {
        "colab": {
          "base_uri": "https://localhost:8080/"
        },
        "id": "7iLJt5dpiCFO",
        "outputId": "eec74643-8b42-4ebc-a0d4-b46ffeab39aa"
      },
      "source": [
        "pi = 3.14\n",
        "converted_pi = str(pi)\n",
        "print(converted_pi)"
      ],
      "execution_count": null,
      "outputs": [
        {
          "output_type": "stream",
          "name": "stdout",
          "text": [
            "3.14\n"
          ]
        }
      ]
    },
    {
      "cell_type": "code",
      "metadata": {
        "colab": {
          "base_uri": "https://localhost:8080/"
        },
        "id": "1LwAKzbTiuBG",
        "outputId": "8a2f846a-5018-41e5-fb3b-ee8d837ba232"
      },
      "source": [
        "print(type(converted_pi))"
      ],
      "execution_count": null,
      "outputs": [
        {
          "output_type": "stream",
          "name": "stdout",
          "text": [
            "<class 'str'>\n"
          ]
        }
      ]
    },
    {
      "cell_type": "code",
      "metadata": {
        "colab": {
          "base_uri": "https://localhost:8080/"
        },
        "id": "8wbBRmfTi25p",
        "outputId": "270c690d-f314-4b6b-d69d-969d919e91a6"
      },
      "source": [
        "23%5"
      ],
      "execution_count": null,
      "outputs": [
        {
          "output_type": "execute_result",
          "data": {
            "text/plain": [
              "3"
            ]
          },
          "metadata": {},
          "execution_count": 32
        }
      ]
    },
    {
      "cell_type": "code",
      "metadata": {
        "colab": {
          "base_uri": "https://localhost:8080/"
        },
        "id": "KV0tDZmtjBG9",
        "outputId": "bd61352f-88df-48ce-f63e-c3f4f20bd6a7"
      },
      "source": [
        "print(5+3)"
      ],
      "execution_count": null,
      "outputs": [
        {
          "output_type": "stream",
          "name": "stdout",
          "text": [
            "8\n"
          ]
        }
      ]
    },
    {
      "cell_type": "code",
      "metadata": {
        "colab": {
          "base_uri": "https://localhost:8080/"
        },
        "id": "TCUWl7jOjfCn",
        "outputId": "7d05712d-0c40-4c1f-b44e-309bff9b2cc7"
      },
      "source": [
        "print('5+3')"
      ],
      "execution_count": null,
      "outputs": [
        {
          "output_type": "stream",
          "name": "stdout",
          "text": [
            "5+3\n"
          ]
        }
      ]
    },
    {
      "cell_type": "code",
      "metadata": {
        "colab": {
          "base_uri": "https://localhost:8080/"
        },
        "id": "r1vNuAYvjhVm",
        "outputId": "14e544df-31a0-4ac5-ff63-8a42362e59a7"
      },
      "source": [
        "print(4+7.0)"
      ],
      "execution_count": null,
      "outputs": [
        {
          "output_type": "stream",
          "name": "stdout",
          "text": [
            "11.0\n"
          ]
        }
      ]
    },
    {
      "cell_type": "code",
      "metadata": {
        "id": "AcVJDvHvjkcu"
      },
      "source": [
        "r = 5"
      ],
      "execution_count": null,
      "outputs": []
    },
    {
      "cell_type": "code",
      "metadata": {
        "colab": {
          "base_uri": "https://localhost:8080/"
        },
        "id": "IcyizL42j2rG",
        "outputId": "fede9350-2a5b-4bf4-e386-ee6a027ad799"
      },
      "source": [
        "r = 5\n",
        "pi = 3.14\n",
        "area = pi*r**2\n",
        "print(area)"
      ],
      "execution_count": null,
      "outputs": [
        {
          "output_type": "stream",
          "name": "stdout",
          "text": [
            "78.5\n"
          ]
        }
      ]
    },
    {
      "cell_type": "code",
      "metadata": {
        "colab": {
          "base_uri": "https://localhost:8080/"
        },
        "id": "7MKIKmivkItW",
        "outputId": "c28abe27-a5a3-465b-da34-ec0334f0794c"
      },
      "source": [
        "r += 3\n",
        "print(r)"
      ],
      "execution_count": null,
      "outputs": [
        {
          "output_type": "stream",
          "name": "stdout",
          "text": [
            "8\n"
          ]
        }
      ]
    },
    {
      "cell_type": "code",
      "metadata": {
        "id": "NOwHAg_pkU62"
      },
      "source": [
        "a = 3\n",
        "b = 4\n",
        "c = (a**2 + b**2)**0.5"
      ],
      "execution_count": null,
      "outputs": []
    },
    {
      "cell_type": "code",
      "metadata": {
        "colab": {
          "base_uri": "https://localhost:8080/"
        },
        "id": "QqGwBzUlkvbu",
        "outputId": "9bfb883b-f8c4-4901-e206-913816429a8b"
      },
      "source": [
        "print(c)"
      ],
      "execution_count": null,
      "outputs": [
        {
          "output_type": "stream",
          "name": "stdout",
          "text": [
            "5.0\n"
          ]
        }
      ]
    },
    {
      "cell_type": "code",
      "metadata": {
        "colab": {
          "base_uri": "https://localhost:8080/"
        },
        "id": "tAhUKX5Jkwqt",
        "outputId": "4d6ec6a0-5b86-43f8-a674-82448113dd56"
      },
      "source": [
        "print( 'ali', end=\"\")\n",
        "print('aysa')"
      ],
      "execution_count": null,
      "outputs": [
        {
          "output_type": "stream",
          "name": "stdout",
          "text": [
            "aliaysa\n"
          ]
        }
      ]
    },
    {
      "cell_type": "code",
      "metadata": {
        "colab": {
          "base_uri": "https://localhost:8080/"
        },
        "id": "JauvVN7al4eV",
        "outputId": "a3e6829c-254d-40d4-cf71-f40f49ef23f2"
      },
      "source": [
        "text1 = 'marketten'\n",
        "text2 = 7\n",
        "text3 = 'tane elma aldim'\n",
        "print(text1, text2, text3)"
      ],
      "execution_count": null,
      "outputs": [
        {
          "output_type": "stream",
          "name": "stdout",
          "text": [
            "marketten 7 tane elma aldim\n"
          ]
        }
      ]
    },
    {
      "cell_type": "code",
      "metadata": {
        "colab": {
          "base_uri": "https://localhost:8080/"
        },
        "id": "py_du8K169e9",
        "outputId": "313eece0-974e-4644-e96b-bf3baef41a65"
      },
      "source": [
        "print('marketten'+ str(text2)+'tane elma aldim')"
      ],
      "execution_count": null,
      "outputs": [
        {
          "output_type": "stream",
          "name": "stdout",
          "text": [
            "marketten7tane elma aldim\n"
          ]
        }
      ]
    },
    {
      "cell_type": "code",
      "metadata": {
        "colab": {
          "base_uri": "https://localhost:8080/"
        },
        "id": "YtEVBSTk7dSO",
        "outputId": "f1df5f05-5295-47f3-d510-a4f62a9f4ba3"
      },
      "source": [
        "print('Ayla\\\\nin cantasi')"
      ],
      "execution_count": null,
      "outputs": [
        {
          "output_type": "stream",
          "name": "stdout",
          "text": [
            "Ayla\\nin cantasi\n"
          ]
        }
      ]
    },
    {
      "cell_type": "code",
      "metadata": {
        "colab": {
          "base_uri": "https://localhost:8080/"
        },
        "id": "rYhd7Q8k9yj9",
        "outputId": "0e5020d8-83bd-428f-e131-8f9254f7a969"
      },
      "source": [
        "print(3.5)"
      ],
      "execution_count": null,
      "outputs": [
        {
          "output_type": "stream",
          "name": "stdout",
          "text": [
            "3.5\n"
          ]
        }
      ]
    },
    {
      "cell_type": "code",
      "metadata": {
        "colab": {
          "base_uri": "https://localhost:8080/"
        },
        "id": "nhpZBd09C7p9",
        "outputId": "beb9c1ff-7200-4eac-8ec0-98fc70f801e3"
      },
      "source": [
        "print('3.5')"
      ],
      "execution_count": null,
      "outputs": [
        {
          "output_type": "stream",
          "name": "stdout",
          "text": [
            "3.5\n"
          ]
        }
      ]
    },
    {
      "cell_type": "code",
      "metadata": {
        "colab": {
          "base_uri": "https://localhost:8080/"
        },
        "id": "FBYsp2TYC9hN",
        "outputId": "3667f68f-bfd8-4284-ec5a-1c99a4d23645"
      },
      "source": [
        "type(3.5)"
      ],
      "execution_count": null,
      "outputs": [
        {
          "output_type": "execute_result",
          "data": {
            "text/plain": [
              "float"
            ]
          },
          "metadata": {},
          "execution_count": 6
        }
      ]
    },
    {
      "cell_type": "code",
      "metadata": {
        "colab": {
          "base_uri": "https://localhost:8080/"
        },
        "id": "TKirpM9CC_mt",
        "outputId": "f99126f7-74f4-4c5e-9e57-a866df2a004b"
      },
      "source": [
        "type('3.5')"
      ],
      "execution_count": null,
      "outputs": [
        {
          "output_type": "execute_result",
          "data": {
            "text/plain": [
              "str"
            ]
          },
          "metadata": {},
          "execution_count": 7
        }
      ]
    },
    {
      "cell_type": "code",
      "metadata": {
        "colab": {
          "base_uri": "https://localhost:8080/"
        },
        "id": "hoTxL8Q4DBvE",
        "outputId": "186e6ee8-7e9c-41d7-e48f-7adf2b093c47"
      },
      "source": [
        "print(\"x\")\n",
        "print(\"y\")\n",
        "print()\n",
        "print(\"z\")"
      ],
      "execution_count": null,
      "outputs": [
        {
          "output_type": "stream",
          "name": "stdout",
          "text": [
            "x\n",
            "y\n",
            "\n",
            "z\n"
          ]
        }
      ]
    },
    {
      "cell_type": "code",
      "metadata": {
        "colab": {
          "base_uri": "https://localhost:8080/"
        },
        "id": "g5bMvvQbEhOl",
        "outputId": "9c8c3637-0099-4b75-d906-d6dc844271d2"
      },
      "source": [
        "print(\"\")\n",
        "print(\"first\")\n",
        "print()\n",
        "\n",
        "print(\"second\")\n",
        "print()"
      ],
      "execution_count": null,
      "outputs": [
        {
          "output_type": "stream",
          "name": "stdout",
          "text": [
            "\n",
            "first\n",
            "\n",
            "second\n",
            "\n"
          ]
        }
      ]
    },
    {
      "cell_type": "code",
      "metadata": {
        "colab": {
          "base_uri": "https://localhost:8080/"
        },
        "id": "MEj5qUnMFOVN",
        "outputId": "4d4e5f31-1417-41e0-8b9e-8a8c0703c36e"
      },
      "source": [
        "varb_1 = 5\n",
        "varb_2 = 2\n",
        "bana_price = varb_2 * varb_1\n",
        "print(bana_price)"
      ],
      "execution_count": null,
      "outputs": [
        {
          "output_type": "stream",
          "name": "stdout",
          "text": [
            "10\n"
          ]
        }
      ]
    },
    {
      "cell_type": "code",
      "metadata": {
        "id": "KlKfa10PWKPo",
        "colab": {
          "base_uri": "https://localhost:8080/"
        },
        "outputId": "1f3a18d6-78d8-420f-9348-1578713bff29"
      },
      "source": [
        "text1 = 'it'\n",
        "text2 = 'easy'\n",
        "print(text1 + '\\'s very ' + text2)"
      ],
      "execution_count": null,
      "outputs": [
        {
          "output_type": "stream",
          "name": "stdout",
          "text": [
            "it's very easy\n"
          ]
        }
      ]
    },
    {
      "cell_type": "code",
      "metadata": {
        "colab": {
          "base_uri": "https://localhost:8080/"
        },
        "id": "RtiggOl86ml3",
        "outputId": "a55fb21b-e5e9-4d5a-82bb-82b0edb95302"
      },
      "source": [
        "print(\"{0} {1} {2} {3} {4} {5} {6} {7} {8} {9} {10}.\".format('Good', 'teachers', 'know', 'how', 'to', 'bring', 'out', 'the', 'best', 'in', 'students'))"
      ],
      "execution_count": null,
      "outputs": [
        {
          "output_type": "stream",
          "name": "stdout",
          "text": [
            "Good teachers know how to bring out the best in students.\n"
          ]
        }
      ]
    },
    {
      "cell_type": "code",
      "metadata": {
        "id": "ccs2FisNEvbQ",
        "colab": {
          "base_uri": "https://localhost:8080/"
        },
        "outputId": "d5332c91-a82a-4dc9-8ee5-d07ca45e2a2c"
      },
      "source": [
        "print('{} bugun eve saat {}da geldim, {} yorgundum {} uyudum'.format( 'ben', 6, 'cok', 'erken'))"
      ],
      "execution_count": null,
      "outputs": [
        {
          "output_type": "stream",
          "name": "stdout",
          "text": [
            "ben bugun eve saat 6da geldim, cok yorgundum erken uyudum\n"
          ]
        }
      ]
    },
    {
      "cell_type": "code",
      "metadata": {
        "colab": {
          "base_uri": "https://localhost:8080/"
        },
        "id": "BteEToozw6NV",
        "outputId": "2dd2eda0-0c5f-47a2-8ef8-96c6fb25c670"
      },
      "source": [
        "print('{ulke}nin baskenti {il}dir.'.format(ulke = 'Turkiye', il = 'Ankara'))"
      ],
      "execution_count": null,
      "outputs": [
        {
          "output_type": "stream",
          "name": "stdout",
          "text": [
            "Turkiyenin baskenti Ankaradir.\n"
          ]
        }
      ]
    },
    {
      "cell_type": "code",
      "metadata": {
        "colab": {
          "base_uri": "https://localhost:8080/"
        },
        "id": "C-Sc8oJlxzWm",
        "outputId": "9e25d8f1-304f-4bd3-d873-cd376e9715c8"
      },
      "source": [
        "print('{3} {0} {2} {1} {4}.'.format('cok', 'bir', 'zevkli', 'Python', 'ders'))"
      ],
      "execution_count": null,
      "outputs": [
        {
          "output_type": "stream",
          "name": "stdout",
          "text": [
            "Python cok zevkli bir ders.\n"
          ]
        }
      ]
    },
    {
      "cell_type": "code",
      "metadata": {
        "id": "M_ypHINLyViD"
      },
      "source": [
        "text = f\"ali veli {'seli'.replace('s', 'd')}\""
      ],
      "execution_count": null,
      "outputs": []
    },
    {
      "cell_type": "code",
      "metadata": {
        "colab": {
          "base_uri": "https://localhost:8080/"
        },
        "id": "3DyZQLmL2H11",
        "outputId": "1d9d6093-2b8d-4875-bec1-8d7921a14007"
      },
      "source": [
        "print(text)"
      ],
      "execution_count": null,
      "outputs": [
        {
          "output_type": "stream",
          "name": "stdout",
          "text": [
            "ali veli deli\n"
          ]
        }
      ]
    },
    {
      "cell_type": "code",
      "metadata": {
        "id": "T1Wzs_0p2VOj"
      },
      "source": [
        "text = f\"Useyin bey {'Fenerlidir'.replace('Fenerlidir', 'Galatasaraylidir')}\""
      ],
      "execution_count": null,
      "outputs": []
    },
    {
      "cell_type": "code",
      "metadata": {
        "colab": {
          "base_uri": "https://localhost:8080/"
        },
        "id": "IHpXXAPz2-V3",
        "outputId": "e032c126-de4d-4140-e300-711e3182ace8"
      },
      "source": [
        "print(text)"
      ],
      "execution_count": null,
      "outputs": [
        {
          "output_type": "stream",
          "name": "stdout",
          "text": [
            "Useyin bey Galatasaraylidir\n"
          ]
        }
      ]
    },
    {
      "cell_type": "code",
      "metadata": {
        "id": "aSs1V9_X3MND"
      },
      "source": [
        "text3 = f\"Elo {'fenerlidir'.replace('fenerlidir', 'Gslidir')}\""
      ],
      "execution_count": null,
      "outputs": []
    },
    {
      "cell_type": "code",
      "metadata": {
        "colab": {
          "base_uri": "https://localhost:8080/"
        },
        "id": "PFeZs05-32h7",
        "outputId": "516cf20c-bf2d-43ad-e3b3-fdb64e60c8a7"
      },
      "source": [
        "print(text3)"
      ],
      "execution_count": null,
      "outputs": [
        {
          "output_type": "stream",
          "name": "stdout",
          "text": [
            "Elo Gslidir\n"
          ]
        }
      ]
    },
    {
      "cell_type": "code",
      "metadata": {
        "colab": {
          "base_uri": "https://localhost:8080/"
        },
        "id": "YOizBr2Y4AUT",
        "outputId": "d997db48-c005-44bc-a2b0-a945afbe5ef9"
      },
      "source": [
        "print(f\"ben {'gsliyim'.capitalize()}\")"
      ],
      "execution_count": null,
      "outputs": [
        {
          "output_type": "stream",
          "name": "stdout",
          "text": [
            "ben Gsliyim\n"
          ]
        }
      ]
    },
    {
      "cell_type": "code",
      "metadata": {
        "colab": {
          "base_uri": "https://localhost:8080/",
          "height": 180
        },
        "id": "atLiWea-4fns",
        "outputId": "944b9335-07c5-42ad-a989-a22cea5b263f"
      },
      "source": [
        "name = \"can\"\n",
        "print(\"ben name {name.capitalize()}\".format())"
      ],
      "execution_count": null,
      "outputs": [
        {
          "output_type": "error",
          "ename": "KeyError",
          "evalue": "ignored",
          "traceback": [
            "\u001b[0;31m---------------------------------------------------------------------------\u001b[0m",
            "\u001b[0;31mKeyError\u001b[0m                                  Traceback (most recent call last)",
            "\u001b[0;32m<ipython-input-33-623a91346f3c>\u001b[0m in \u001b[0;36m<module>\u001b[0;34m()\u001b[0m\n\u001b[1;32m      1\u001b[0m \u001b[0mname\u001b[0m \u001b[0;34m=\u001b[0m \u001b[0;34m\"can\"\u001b[0m\u001b[0;34m\u001b[0m\u001b[0;34m\u001b[0m\u001b[0m\n\u001b[0;32m----> 2\u001b[0;31m \u001b[0mprint\u001b[0m\u001b[0;34m(\u001b[0m\u001b[0;34m\"ben name {name.capitalize()}\"\u001b[0m\u001b[0;34m.\u001b[0m\u001b[0mformat\u001b[0m\u001b[0;34m(\u001b[0m\u001b[0;34m)\u001b[0m\u001b[0;34m)\u001b[0m\u001b[0;34m\u001b[0m\u001b[0;34m\u001b[0m\u001b[0m\n\u001b[0m",
            "\u001b[0;31mKeyError\u001b[0m: 'name'"
          ]
        }
      ]
    },
    {
      "cell_type": "code",
      "metadata": {
        "colab": {
          "base_uri": "https://localhost:8080/",
          "height": 129
        },
        "id": "VOJf8i0S5Fx4",
        "outputId": "63eb9bb8-ff66-4e38-bb31-e89796317fd2"
      },
      "source": [
        "name = 'ali'\n",
        "job = 'student'\n",
        "domain = \"IT\"\n",
        "text = (\n",
        "\\  f\"hi {name}\"\n",
        " \\ f\"you are a {job}\"\n",
        "  \\f\"in {domain} class\"\n",
        ")"
      ],
      "execution_count": null,
      "outputs": [
        {
          "output_type": "error",
          "ename": "SyntaxError",
          "evalue": "ignored",
          "traceback": [
            "\u001b[0;36m  File \u001b[0;32m\"<ipython-input-36-592b0a6d1ae3>\"\u001b[0;36m, line \u001b[0;32m5\u001b[0m\n\u001b[0;31m    \\  f\"hi {name}\"\u001b[0m\n\u001b[0m                   ^\u001b[0m\n\u001b[0;31mSyntaxError\u001b[0m\u001b[0;31m:\u001b[0m unexpected character after line continuation character\n"
          ]
        }
      ]
    },
    {
      "cell_type": "code",
      "metadata": {
        "colab": {
          "base_uri": "https://localhost:8080/"
        },
        "id": "Y-tCpaXa8aTv",
        "outputId": "cc024332-1822-4b4e-9c3e-3004d7c741d4"
      },
      "source": [
        "print(text)"
      ],
      "execution_count": null,
      "outputs": [
        {
          "output_type": "stream",
          "name": "stdout",
          "text": [
            "hi aliyou are a studentin IT class\n"
          ]
        }
      ]
    },
    {
      "cell_type": "code",
      "metadata": {
        "colab": {
          "base_uri": "https://localhost:8080/"
        },
        "id": "Mije6G648b5w",
        "outputId": "2ac92cd1-61ec-4425-866a-75391c1cca52"
      },
      "source": [
        "string1 = 'AyyilDiz'\n",
        "print(string1.lower())"
      ],
      "execution_count": null,
      "outputs": [
        {
          "output_type": "stream",
          "name": "stdout",
          "text": [
            "ayyildiz\n"
          ]
        }
      ]
    },
    {
      "cell_type": "code",
      "metadata": {
        "colab": {
          "base_uri": "https://localhost:8080/"
        },
        "id": "AHdj5Jfx9ghq",
        "outputId": "60482e6b-c214-4a95-e19c-ec934aa6547d"
      },
      "source": [
        "name  = \"jack\"\n",
        "print(name + 'ben' + \"6\")"
      ],
      "execution_count": null,
      "outputs": [
        {
          "output_type": "stream",
          "name": "stdout",
          "text": [
            "jackben6\n"
          ]
        }
      ]
    },
    {
      "cell_type": "code",
      "metadata": {
        "colab": {
          "base_uri": "https://localhost:8080/",
          "height": 163
        },
        "id": "19y7YwTrQSiw",
        "outputId": "eb40a5cb-f45e-44e6-fbf7-ac757a006969"
      },
      "source": [
        "print(number + int(1988))"
      ],
      "execution_count": null,
      "outputs": [
        {
          "output_type": "error",
          "ename": "NameError",
          "evalue": "ignored",
          "traceback": [
            "\u001b[0;31m---------------------------------------------------------------------------\u001b[0m",
            "\u001b[0;31mNameError\u001b[0m                                 Traceback (most recent call last)",
            "\u001b[0;32m<ipython-input-44-c4382eeecede>\u001b[0m in \u001b[0;36m<module>\u001b[0;34m()\u001b[0m\n\u001b[0;32m----> 1\u001b[0;31m \u001b[0mprint\u001b[0m\u001b[0;34m(\u001b[0m\u001b[0mnumber\u001b[0m \u001b[0;34m+\u001b[0m \u001b[0mint\u001b[0m\u001b[0;34m(\u001b[0m\u001b[0;36m1988\u001b[0m\u001b[0;34m)\u001b[0m\u001b[0;34m)\u001b[0m\u001b[0;34m\u001b[0m\u001b[0;34m\u001b[0m\u001b[0m\n\u001b[0m",
            "\u001b[0;31mNameError\u001b[0m: name 'number' is not defined"
          ]
        }
      ]
    },
    {
      "cell_type": "code",
      "metadata": {
        "colab": {
          "base_uri": "https://localhost:8080/"
        },
        "id": "pdHIEXw8Wo0v",
        "outputId": "586f23ee-fc9e-4840-e409-353dfcaa42e8"
      },
      "source": [
        "# Complete the code below using int() function and the variable number to print 2020.\n",
        "\n",
        " # Note: Variable number = \"32\" is created for you. You can use it in your code without defining it.\n",
        " #print(\"1\" + str(\"1\"))\n",
        "\n",
        "number = \"32\"\n",
        "print(int(number) + 1988)"
      ],
      "execution_count": null,
      "outputs": [
        {
          "output_type": "stream",
          "name": "stdout",
          "text": [
            "2020\n"
          ]
        }
      ]
    },
    {
      "cell_type": "code",
      "metadata": {
        "colab": {
          "base_uri": "https://localhost:8080/",
          "height": 129
        },
        "id": "iQ_t4yxGX9RD",
        "outputId": "a408d7d9-e181-4c7c-bbc8-2543b7bd2817"
      },
      "source": [
        "print( None not )"
      ],
      "execution_count": null,
      "outputs": [
        {
          "output_type": "error",
          "ename": "SyntaxError",
          "evalue": "ignored",
          "traceback": [
            "\u001b[0;36m  File \u001b[0;32m\"<ipython-input-48-ecc21ef284f3>\"\u001b[0;36m, line \u001b[0;32m1\u001b[0m\n\u001b[0;31m    print( None (True not True) or True )\u001b[0m\n\u001b[0m                             ^\u001b[0m\n\u001b[0;31mSyntaxError\u001b[0m\u001b[0;31m:\u001b[0m invalid syntax\n"
          ]
        }
      ]
    },
    {
      "cell_type": "code",
      "metadata": {
        "id": "le-4WAxYd0Un",
        "colab": {
          "base_uri": "https://localhost:8080/"
        },
        "outputId": "e1c44bf4-b103-4658-c479-6869f9fe1c11"
      },
      "source": [
        "word =  ['a', 'b', 'c']\n",
        "print(word[2])"
      ],
      "execution_count": null,
      "outputs": [
        {
          "output_type": "stream",
          "name": "stdout",
          "text": [
            "c\n"
          ]
        }
      ]
    },
    {
      "cell_type": "code",
      "metadata": {
        "colab": {
          "base_uri": "https://localhost:8080/"
        },
        "id": "l2oZ0wYKToeT",
        "outputId": "de2fbbcb-cce4-44f2-fec0-5eec14e26f04"
      },
      "source": [
        "print(word[0])"
      ],
      "execution_count": null,
      "outputs": [
        {
          "output_type": "stream",
          "name": "stdout",
          "text": [
            "a\n"
          ]
        }
      ]
    },
    {
      "cell_type": "code",
      "metadata": {
        "colab": {
          "base_uri": "https://localhost:8080/"
        },
        "id": "NWVaWzJVTtuh",
        "outputId": "ceed91f9-aa11-44cb-c003-8b324a469002"
      },
      "source": [
        "city = ['istanbul', 'izmir', 'bursa']\n",
        "city_list = []\n",
        "city_list.append(city)\n",
        "print(city_list)"
      ],
      "execution_count": null,
      "outputs": [
        {
          "output_type": "stream",
          "name": "stdout",
          "text": [
            "[['istanbul', 'izmir', 'bursa']]\n"
          ]
        }
      ]
    },
    {
      "cell_type": "code",
      "metadata": {
        "colab": {
          "base_uri": "https://localhost:8080/"
        },
        "id": "mesOEpDFUUqw",
        "outputId": "33b7a2d2-aed6-4ae7-8260-b43a035010e6"
      },
      "source": [
        "len([[]])"
      ],
      "execution_count": null,
      "outputs": [
        {
          "output_type": "execute_result",
          "data": {
            "text/plain": [
              "1"
            ]
          },
          "metadata": {},
          "execution_count": 5
        }
      ]
    },
    {
      "cell_type": "code",
      "metadata": {
        "colab": {
          "base_uri": "https://localhost:8080/"
        },
        "id": "dp9L1QX6UvfR",
        "outputId": "650c7e40-fa7b-47ac-a7f2-ed497d83d919"
      },
      "source": [
        "len(city_list)"
      ],
      "execution_count": null,
      "outputs": [
        {
          "output_type": "execute_result",
          "data": {
            "text/plain": [
              "1"
            ]
          },
          "metadata": {},
          "execution_count": 7
        }
      ]
    },
    {
      "cell_type": "code",
      "metadata": {
        "colab": {
          "base_uri": "https://localhost:8080/",
          "height": 163
        },
        "id": "B5zG4xDQUza2",
        "outputId": "18239300-36d6-499a-e10b-d05208364858"
      },
      "source": [
        "list[range(1,10,3)]"
      ],
      "execution_count": null,
      "outputs": [
        {
          "output_type": "error",
          "ename": "TypeError",
          "evalue": "ignored",
          "traceback": [
            "\u001b[0;31m---------------------------------------------------------------------------\u001b[0m",
            "\u001b[0;31mTypeError\u001b[0m                                 Traceback (most recent call last)",
            "\u001b[0;32m<ipython-input-9-d06ef9bf1992>\u001b[0m in \u001b[0;36m<module>\u001b[0;34m()\u001b[0m\n\u001b[0;32m----> 1\u001b[0;31m \u001b[0mlist\u001b[0m\u001b[0;34m[\u001b[0m\u001b[0mrange\u001b[0m\u001b[0;34m(\u001b[0m\u001b[0;36m1\u001b[0m\u001b[0;34m,\u001b[0m\u001b[0;36m10\u001b[0m\u001b[0;34m,\u001b[0m\u001b[0;36m3\u001b[0m\u001b[0;34m)\u001b[0m\u001b[0;34m]\u001b[0m\u001b[0;34m\u001b[0m\u001b[0;34m\u001b[0m\u001b[0m\n\u001b[0m",
            "\u001b[0;31mTypeError\u001b[0m: 'type' object is not subscriptable"
          ]
        }
      ]
    },
    {
      "cell_type": "code",
      "metadata": {
        "colab": {
          "base_uri": "https://localhost:8080/"
        },
        "id": "GN_5uLxAXDuz",
        "outputId": "0eacf0b8-2d95-42ea-e485-b8bd4d552fca"
      },
      "source": [
        "text1 = \"Clarusway, Clarusway, Clarusway,\"\n",
        "text2 = \"\\tClarusway, Clarusway, Clarusway,\"\n",
        "text3 = \"\\t \\tClarusway, Clarusway, Clarusway,\"\n",
        "print(text1)\n",
        "print(text2)\n",
        "print(text3)\n"
      ],
      "execution_count": null,
      "outputs": [
        {
          "output_type": "stream",
          "name": "stdout",
          "text": [
            "Clarusway, Clarusway, Clarusway,\n",
            "\t Clarusway, Clarusway, Clarusway,\n",
            "\t \t Clarusway, Clarusway, Clarusway,\n"
          ]
        }
      ]
    },
    {
      "cell_type": "code",
      "metadata": {
        "colab": {
          "base_uri": "https://localhost:8080/"
        },
        "id": "62_mFBMEOZwP",
        "outputId": "e322eb20-9788-46fa-cdec-cc73ed7aef7e"
      },
      "source": [
        "student_ages = {\"Harry\": 29,\n",
        "                \"Clark\": 32,\n",
        "                \"Peter\": 22,\n",
        "                \"Bruce\": 36\n",
        "                }\n",
        "print(student_ages[\"Clark\"])"
      ],
      "execution_count": null,
      "outputs": [
        {
          "output_type": "stream",
          "name": "stdout",
          "text": [
            "32\n"
          ]
        }
      ]
    },
    {
      "cell_type": "code",
      "metadata": {
        "colab": {
          "base_uri": "https://localhost:8080/"
        },
        "id": "ZZsoki7GOeqx",
        "outputId": "db2879b8-ee0a-4b22-8c37-ee25d5da0c3e"
      },
      "source": [
        "ilk_kumem = {1, 2, 1, 0, 1}\n",
        "ilk_kumem"
      ],
      "execution_count": null,
      "outputs": [
        {
          "output_type": "execute_result",
          "data": {
            "text/plain": [
              "{0, 1, 2}"
            ]
          },
          "metadata": {},
          "execution_count": 3
        }
      ]
    },
    {
      "cell_type": "code",
      "metadata": {
        "colab": {
          "base_uri": "https://localhost:8080/",
          "height": 129
        },
        "id": "HNTrA__OA12w",
        "outputId": "2b630b9b-a3ef-45ff-f660-339b46f4b559"
      },
      "source": [
        "friend = {\n",
        "    \"friend1\": {\"first\": \"sue\", \"last\": \"Bold\"},\n",
        "    \"friend2\": {\"first\": \"steve\", \"last\": \"smith\"}"
      ],
      "execution_count": null,
      "outputs": [
        {
          "output_type": "error",
          "ename": "SyntaxError",
          "evalue": "ignored",
          "traceback": [
            "\u001b[0;36m  File \u001b[0;32m\"<ipython-input-4-1472e47ebe28>\"\u001b[0;36m, line \u001b[0;32m3\u001b[0m\n\u001b[0;31m    \"friend2\": {\"first\": \"steve\", \"last\": \"smith\"}\u001b[0m\n\u001b[0m                                                  ^\u001b[0m\n\u001b[0;31mSyntaxError\u001b[0m\u001b[0;31m:\u001b[0m unexpected EOF while parsing\n"
          ]
        }
      ]
    },
    {
      "cell_type": "code",
      "metadata": {
        "colab": {
          "base_uri": "https://localhost:8080/"
        },
        "id": "bqESDK-eDmOR",
        "outputId": "d5fd5983-781c-426a-fb30-bd2b767c05c3"
      },
      "source": [
        "dict_by = {'animal' : 'cat',\n",
        "'planet' : 'neptun',\n",
        "'number' : 3.14 }\n",
        "print(dict_by.items())\n",
        "print(dict_by.keys())\n",
        "print(dict_by.values())"
      ],
      "execution_count": null,
      "outputs": [
        {
          "output_type": "stream",
          "name": "stdout",
          "text": [
            "dict_items([('animal', 'cat'), ('planet', 'neptun'), ('number', 3.14)])\n",
            "dict_keys(['animal', 'planet', 'number'])\n",
            "dict_values(['cat', 'neptun', 3.14])\n"
          ]
        }
      ]
    },
    {
      "cell_type": "code",
      "metadata": {
        "colab": {
          "base_uri": "https://localhost:8080/"
        },
        "id": "vheYydRJ5fMS",
        "outputId": "85a29d8a-f866-40f0-943f-c99a39c93418"
      },
      "source": [
        "list(dict_by.items())"
      ],
      "execution_count": null,
      "outputs": [
        {
          "output_type": "execute_result",
          "data": {
            "text/plain": [
              "[('animal', 'cat'), ('planet', 'neptun'), ('number', 3.14)]"
            ]
          },
          "metadata": {},
          "execution_count": 4
        }
      ]
    },
    {
      "cell_type": "code",
      "metadata": {
        "colab": {
          "base_uri": "https://localhost:8080/"
        },
        "id": "lGnh02aE6rPn",
        "outputId": "eb697a0f-1783-4b8e-c5c1-4645f397467f"
      },
      "source": [
        "print(dict_by)"
      ],
      "execution_count": null,
      "outputs": [
        {
          "output_type": "stream",
          "name": "stdout",
          "text": [
            "{'animal': 'cat', 'planet': 'neptun', 'number': 3.14, 'is_bad': False}\n"
          ]
        }
      ]
    },
    {
      "cell_type": "code",
      "metadata": {
        "colab": {
          "base_uri": "https://localhost:8080/"
        },
        "id": "iqLJzbiM9NXS",
        "outputId": "174e20b9-b08f-43b1-e7e9-f52cfa82dc75"
      },
      "source": [
        "dict_by.update({'pii' : 'one'})"
      ],
      "execution_count": null,
      "outputs": [
        {
          "output_type": "stream",
          "name": "stdout",
          "text": [
            "None\n"
          ]
        }
      ]
    },
    {
      "cell_type": "code",
      "metadata": {
        "colab": {
          "base_uri": "https://localhost:8080/"
        },
        "id": "OypwFAp3_S-e",
        "outputId": "eebf167b-c393-4b36-dfaf-64f174984478"
      },
      "source": [
        "print(dict_by)"
      ],
      "execution_count": null,
      "outputs": [
        {
          "output_type": "stream",
          "name": "stdout",
          "text": [
            "{'animal': 'cat', 'planet': 'neptun', 'number': 3.14, 'is_bad': False, 'pii': 'one'}\n"
          ]
        }
      ]
    },
    {
      "cell_type": "code",
      "metadata": {
        "id": "u67dap0u_bNA"
      },
      "source": [
        "listA = [\"susan\", \"tom\", False, 0, 22]\n",
        "filtered_list = filter(None, listA)\n"
      ],
      "execution_count": null,
      "outputs": []
    },
    {
      "cell_type": "code",
      "metadata": {
        "id": "v4EGzDMy5hVO"
      },
      "source": [
        "def ilk_fonksiyonum(x,y) :\n",
        "  print(x**2 + y**2)\n",
        " "
      ],
      "execution_count": null,
      "outputs": []
    },
    {
      "cell_type": "code",
      "metadata": {
        "colab": {
          "base_uri": "https://localhost:8080/"
        },
        "id": "mECIUOIg59Mu",
        "outputId": "61e98e40-4658-4f35-9e92-cf36acf734ff"
      },
      "source": [
        "ilk_fonksiyonum(3,4)"
      ],
      "execution_count": null,
      "outputs": [
        {
          "output_type": "stream",
          "name": "stdout",
          "text": [
            "25\n"
          ]
        }
      ]
    },
    {
      "cell_type": "code",
      "metadata": {
        "colab": {
          "base_uri": "https://localhost:8080/"
        },
        "id": "HqNlG7rccNVf",
        "outputId": "2053d819-eb58-4a11-bfb5-0cbe224c1005"
      },
      "source": [
        "fruits = {'apples' : 5, 'orange' : 3, 'bananas' : 4}\n",
        "fruit_names = [ x for x in fruits.keys()]\n",
        "print(fruit_names)"
      ],
      "execution_count": null,
      "outputs": [
        {
          "output_type": "stream",
          "name": "stdout",
          "text": [
            "['apples', 'orange', 'bananas']\n"
          ]
        }
      ]
    },
    {
      "cell_type": "markdown",
      "metadata": {
        "id": "bpOUQPhFcuW6"
      },
      "source": [
        ""
      ]
    },
    {
      "cell_type": "markdown",
      "metadata": {
        "id": "ttLr2oSgcugo"
      },
      "source": [
        ""
      ]
    },
    {
      "cell_type": "markdown",
      "metadata": {
        "id": "1zrmoPlMculB"
      },
      "source": [
        ""
      ]
    },
    {
      "cell_type": "markdown",
      "metadata": {
        "id": "1Ppq1W7Zcup7"
      },
      "source": [
        ""
      ]
    },
    {
      "cell_type": "code",
      "metadata": {
        "colab": {
          "base_uri": "https://localhost:8080/"
        },
        "id": "grk_T6BPcx3s",
        "outputId": "65515233-9847-4813-ae23-db3662e9799d"
      },
      "source": [
        "i = 5\n",
        "while True:\n",
        "  if i % 0xe == 0:\n",
        "    break\n",
        "  print(i)\n",
        "   \n",
        "  i += 1"
      ],
      "execution_count": null,
      "outputs": [
        {
          "output_type": "stream",
          "name": "stdout",
          "text": [
            "5\n",
            "6\n",
            "7\n",
            "8\n",
            "9\n",
            "10\n",
            "11\n",
            "12\n",
            "13\n"
          ]
        }
      ]
    },
    {
      "cell_type": "code",
      "metadata": {
        "colab": {
          "base_uri": "https://localhost:8080/"
        },
        "id": "HkIYo6ewkI1C",
        "outputId": "93bf5311-1188-459f-97b6-9eb031927de6"
      },
      "source": [
        "k = [2,3,4]\n",
        "reversed(k)\n",
        "tuple(reversed(k))"
      ],
      "execution_count": null,
      "outputs": [
        {
          "output_type": "execute_result",
          "data": {
            "text/plain": [
              "(4, 3, 2)"
            ]
          },
          "metadata": {},
          "execution_count": 6
        }
      ]
    },
    {
      "cell_type": "markdown",
      "metadata": {
        "id": "QqJQOgPEczd4"
      },
      "source": [
        ""
      ]
    },
    {
      "cell_type": "markdown",
      "metadata": {
        "id": "MM5kPwmyczkB"
      },
      "source": [
        ""
      ]
    },
    {
      "cell_type": "markdown",
      "metadata": {
        "id": "z4HnrmM8czos"
      },
      "source": [
        ""
      ]
    },
    {
      "cell_type": "markdown",
      "metadata": {
        "id": "qLHTkfEsczrX"
      },
      "source": [
        ""
      ]
    },
    {
      "cell_type": "markdown",
      "metadata": {
        "id": "_vZ1AAqzcztw"
      },
      "source": [
        ""
      ]
    },
    {
      "cell_type": "code",
      "metadata": {
        "id": "AbLCse2IrxDF"
      },
      "source": [
        "import math"
      ],
      "execution_count": null,
      "outputs": []
    },
    {
      "cell_type": "code",
      "metadata": {
        "colab": {
          "base_uri": "https://localhost:8080/"
        },
        "id": "AXp_8-_qrzru",
        "outputId": "8b0c8602-e3af-4531-a387-304f282270d8"
      },
      "source": [
        "print(dir(math))"
      ],
      "execution_count": null,
      "outputs": [
        {
          "output_type": "stream",
          "name": "stdout",
          "text": [
            "['__doc__', '__loader__', '__name__', '__package__', '__spec__', 'acos', 'acosh', 'asin', 'asinh', 'atan', 'atan2', 'atanh', 'ceil', 'copysign', 'cos', 'cosh', 'degrees', 'e', 'erf', 'erfc', 'exp', 'expm1', 'fabs', 'factorial', 'floor', 'fmod', 'frexp', 'fsum', 'gamma', 'gcd', 'hypot', 'inf', 'isclose', 'isfinite', 'isinf', 'isnan', 'ldexp', 'lgamma', 'log', 'log10', 'log1p', 'log2', 'modf', 'nan', 'pi', 'pow', 'radians', 'remainder', 'sin', 'sinh', 'sqrt', 'tan', 'tanh', 'tau', 'trunc']\n"
          ]
        }
      ]
    },
    {
      "cell_type": "code",
      "metadata": {
        "id": "9bsew5Olr2z6"
      },
      "source": [
        "from math import pi, factorial, log10"
      ],
      "execution_count": null,
      "outputs": []
    },
    {
      "cell_type": "code",
      "metadata": {
        "colab": {
          "base_uri": "https://localhost:8080/"
        },
        "id": "syGWha4vr-hS",
        "outputId": "ee651ca3-c774-48ed-f8e9-2004d161125f"
      },
      "source": [
        "pi"
      ],
      "execution_count": null,
      "outputs": [
        {
          "output_type": "execute_result",
          "data": {
            "text/plain": [
              "3.141592653589793"
            ]
          },
          "metadata": {},
          "execution_count": 4
        }
      ]
    },
    {
      "cell_type": "code",
      "metadata": {
        "colab": {
          "base_uri": "https://localhost:8080/"
        },
        "id": "RE8uebW9r_0G",
        "outputId": "9626ea81-722b-4e30-e92a-3d23b688c0d0"
      },
      "source": [
        "factorial(4)"
      ],
      "execution_count": null,
      "outputs": [
        {
          "output_type": "execute_result",
          "data": {
            "text/plain": [
              "24"
            ]
          },
          "metadata": {},
          "execution_count": 5
        }
      ]
    },
    {
      "cell_type": "code",
      "metadata": {
        "id": "YcGDDeTisDzC"
      },
      "source": [
        " import string"
      ],
      "execution_count": null,
      "outputs": []
    },
    {
      "cell_type": "code",
      "metadata": {
        "colab": {
          "base_uri": "https://localhost:8080/",
          "height": 35
        },
        "id": "fTUGlLpyuLx7",
        "outputId": "0550bffc-8e0b-4a9f-f550-5d2a441925fc"
      },
      "source": [
        "string.punctuation"
      ],
      "execution_count": null,
      "outputs": [
        {
          "output_type": "execute_result",
          "data": {
            "application/vnd.google.colaboratory.intrinsic+json": {
              "type": "string"
            },
            "text/plain": [
              "'!\"#$%&\\'()*+,-./:;<=>?@[\\\\]^_`{|}~'"
            ]
          },
          "metadata": {},
          "execution_count": 7
        }
      ]
    },
    {
      "cell_type": "code",
      "metadata": {
        "id": "JJ62Zed_uX6a"
      },
      "source": [
        "from datetime import date"
      ],
      "execution_count": null,
      "outputs": []
    },
    {
      "cell_type": "code",
      "metadata": {
        "id": "K_QEjhYs4fuh"
      },
      "source": [
        "birth = date(2018, 4, 9)"
      ],
      "execution_count": null,
      "outputs": []
    },
    {
      "cell_type": "code",
      "metadata": {
        "id": "03LvXFcF4qbx"
      },
      "source": [
        "today = date(2021, 12, 5)"
      ],
      "execution_count": null,
      "outputs": []
    },
    {
      "cell_type": "code",
      "metadata": {
        "colab": {
          "base_uri": "https://localhost:8080/"
        },
        "id": "NeDMVRnt4wN5",
        "outputId": "e68e2adc-5ba0-41b6-fded-d8abe854aef7"
      },
      "source": [
        "date.toordinal(birth)"
      ],
      "execution_count": null,
      "outputs": [
        {
          "output_type": "execute_result",
          "data": {
            "text/plain": [
              "736793"
            ]
          },
          "metadata": {},
          "execution_count": 18
        }
      ]
    },
    {
      "cell_type": "code",
      "metadata": {
        "colab": {
          "base_uri": "https://localhost:8080/"
        },
        "id": "bk7EaKP-5J3e",
        "outputId": "5165057a-76ac-460c-a276-7b14199f6691"
      },
      "source": [
        "date.toordinal(today)"
      ],
      "execution_count": null,
      "outputs": [
        {
          "output_type": "execute_result",
          "data": {
            "text/plain": [
              "738129"
            ]
          },
          "metadata": {},
          "execution_count": 19
        }
      ]
    },
    {
      "cell_type": "code",
      "metadata": {
        "colab": {
          "base_uri": "https://localhost:8080/"
        },
        "id": "NxYEdlsa5MmR",
        "outputId": "63252050-253a-4263-abc0-339719ac82e6"
      },
      "source": [
        "date.toordinal(today) - date.toordinal(birth)"
      ],
      "execution_count": null,
      "outputs": [
        {
          "output_type": "execute_result",
          "data": {
            "text/plain": [
              "1336"
            ]
          },
          "metadata": {},
          "execution_count": 20
        }
      ]
    },
    {
      "cell_type": "code",
      "metadata": {
        "id": "GmSpXl4L5RYZ"
      },
      "source": [
        " import random "
      ],
      "execution_count": null,
      "outputs": []
    },
    {
      "cell_type": "code",
      "metadata": {
        "colab": {
          "base_uri": "https://localhost:8080/",
          "height": 35
        },
        "id": "3XwWZUIB9Dex",
        "outputId": "f394b5e8-c4c6-443f-872b-0067f0437d8b"
      },
      "source": [
        "city = ['ankara', 'van', 'izmir']\n",
        "random.choice(city)"
      ],
      "execution_count": null,
      "outputs": [
        {
          "output_type": "execute_result",
          "data": {
            "application/vnd.google.colaboratory.intrinsic+json": {
              "type": "string"
            },
            "text/plain": [
              "'izmir'"
            ]
          },
          "metadata": {},
          "execution_count": 25
        }
      ]
    },
    {
      "cell_type": "code",
      "metadata": {
        "colab": {
          "base_uri": "https://localhost:8080/",
          "height": 35
        },
        "id": "lSNn1Rio9vQf",
        "outputId": "4d661077-fd2a-4256-8faa-65df6b9b10b6"
      },
      "source": [
        "game = ['tas', 'kagit', 'makas']\n",
        "random.choice(game)"
      ],
      "execution_count": null,
      "outputs": [
        {
          "output_type": "execute_result",
          "data": {
            "application/vnd.google.colaboratory.intrinsic+json": {
              "type": "string"
            },
            "text/plain": [
              "'makas'"
            ]
          },
          "metadata": {},
          "execution_count": 26
        }
      ]
    },
    {
      "cell_type": "code",
      "metadata": {
        "id": "2PwlZUx4_0KS"
      },
      "source": [
        "for i in game:\n",
        "  if i =\"tas\"  "
      ],
      "execution_count": null,
      "outputs": []
    },
    {
      "cell_type": "code",
      "metadata": {
        "colab": {
          "base_uri": "https://localhost:8080/"
        },
        "id": "jQ1-pGgbC76q",
        "outputId": "931e709c-9ef2-4c54-da58-9c27146844be"
      },
      "source": [
        "pip --version"
      ],
      "execution_count": null,
      "outputs": [
        {
          "output_type": "stream",
          "name": "stdout",
          "text": [
            "pip 21.1.3 from /usr/local/lib/python3.7/dist-packages/pip (python 3.7)\n"
          ]
        }
      ]
    },
    {
      "cell_type": "code",
      "metadata": {
        "colab": {
          "base_uri": "https://localhost:8080/"
        },
        "id": "XvqZoKQxC97N",
        "outputId": "90f38fd5-b126-4f63-aa23-2b77269a82a4"
      },
      "source": [
        "pip install kaggle"
      ],
      "execution_count": null,
      "outputs": [
        {
          "output_type": "stream",
          "name": "stdout",
          "text": [
            "Requirement already satisfied: kaggle in /usr/local/lib/python3.7/dist-packages (1.5.12)\n",
            "Requirement already satisfied: requests in /usr/local/lib/python3.7/dist-packages (from kaggle) (2.23.0)\n",
            "Requirement already satisfied: python-dateutil in /usr/local/lib/python3.7/dist-packages (from kaggle) (2.8.2)\n",
            "Requirement already satisfied: certifi in /usr/local/lib/python3.7/dist-packages (from kaggle) (2021.10.8)\n",
            "Requirement already satisfied: six>=1.10 in /usr/local/lib/python3.7/dist-packages (from kaggle) (1.15.0)\n",
            "Requirement already satisfied: urllib3 in /usr/local/lib/python3.7/dist-packages (from kaggle) (1.24.3)\n",
            "Requirement already satisfied: python-slugify in /usr/local/lib/python3.7/dist-packages (from kaggle) (5.0.2)\n",
            "Requirement already satisfied: tqdm in /usr/local/lib/python3.7/dist-packages (from kaggle) (4.62.3)\n",
            "Requirement already satisfied: text-unidecode>=1.3 in /usr/local/lib/python3.7/dist-packages (from python-slugify->kaggle) (1.3)\n",
            "Requirement already satisfied: idna<3,>=2.5 in /usr/local/lib/python3.7/dist-packages (from requests->kaggle) (2.10)\n",
            "Requirement already satisfied: chardet<4,>=3.0.2 in /usr/local/lib/python3.7/dist-packages (from requests->kaggle) (3.0.4)\n"
          ]
        }
      ]
    },
    {
      "cell_type": "code",
      "metadata": {
        "colab": {
          "base_uri": "https://localhost:8080/"
        },
        "id": "LGDL7OETDGpy",
        "outputId": "cc126b3d-0540-4122-c776-61ae2eb7d4a1"
      },
      "source": [
        "pip install numpy"
      ],
      "execution_count": null,
      "outputs": [
        {
          "output_type": "stream",
          "name": "stdout",
          "text": [
            "Requirement already satisfied: numpy in /usr/local/lib/python3.7/dist-packages (1.19.5)\n"
          ]
        }
      ]
    },
    {
      "cell_type": "code",
      "metadata": {
        "id": "BFT0D9EKDPJ4"
      },
      "source": [
        ""
      ],
      "execution_count": null,
      "outputs": []
    }
  ]
}