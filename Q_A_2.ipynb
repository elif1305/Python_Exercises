{
  "nbformat": 4,
  "nbformat_minor": 0,
  "metadata": {
    "colab": {
      "name": "Q-A - 2",
      "provenance": [],
      "authorship_tag": "ABX9TyPw6QqVrDJ5BMCWXmQtGdak"
    },
    "kernelspec": {
      "name": "python3",
      "display_name": "Python 3"
    },
    "language_info": {
      "name": "python"
    }
  },
  "cells": [
    {
      "cell_type": "code",
      "execution_count": null,
      "metadata": {
        "id": "pFE9E4-lAgx_"
      },
      "outputs": [],
      "source": [
        "# 1- Write a program to prompt for a score between 0.0 and 1.0. If the score is out of range, print an error. If the score is between 0.0 and 1.0, print a grade using the following table: Score Grade\n",
        "\n",
        "# 0.9 A\n",
        "\n",
        "# 0.8 B\n",
        "\n",
        "# 0.7 C\n",
        "\n",
        "# 0.6 D\n",
        "\n",
        "# 0.6 F\n",
        "\n",
        "# If the user enters a value out of range, print a suitable error message and exit. For the test, enter a score of 0.85"
      ]
    },
    {
      "cell_type": "code",
      "source": [
        "s = float(input(\"enter a value\"))\n",
        "\n",
        "if 0.0 <= s <= 1.0 :\n",
        "  if s >= 0.9:\n",
        "    print(\"A\")\n",
        "  elif s >= 0.8:\n",
        "    print(\"B\")\n",
        "  elif s >= 0.7:\n",
        "    print(\"C\")\n",
        "  elif s >= 0.6:\n",
        "    print(\"D\")\n",
        "  elif s < 0.6:\n",
        "    print(\"F\")\n",
        "else :\n",
        "  print(\"Error\")"
      ],
      "metadata": {
        "colab": {
          "base_uri": "https://localhost:8080/"
        },
        "id": "UcB_6-8iAlvj",
        "outputId": "174567de-c183-48d1-9a25-e9c972e62351"
      },
      "execution_count": 1,
      "outputs": [
        {
          "output_type": "stream",
          "name": "stdout",
          "text": [
            "enter a value0.5\n",
            "F\n"
          ]
        }
      ]
    },
    {
      "cell_type": "code",
      "source": [
        "2- Yazi olarak girilen string ifadenin içindeki harfler tamamen büyük veya tamamen küçük ise True, küçük ve büyük harlerden oluşmuş ise False veren bir fonksiyon yazalım."
      ],
      "metadata": {
        "id": "2H_2_tgkCnAZ"
      },
      "execution_count": null,
      "outputs": []
    },
    {
      "cell_type": "code",
      "source": [
        "def buyuk_kucuk(yazi):\n",
        "  return yazi.upper() == yazi or yazi.lower() == yazi"
      ],
      "metadata": {
        "id": "nMc7De0IC4qe"
      },
      "execution_count": null,
      "outputs": []
    },
    {
      "cell_type": "code",
      "source": [
        "3- Sayıyı kalansız bölen sayıları bulan bir fonksiyon yazalım"
      ],
      "metadata": {
        "id": "9fGTGsSMDpdV"
      },
      "execution_count": null,
      "outputs": []
    },
    {
      "cell_type": "code",
      "source": [
        "def kalansiz_bolunenler(sayi) :\n",
        "  a = []\n",
        "  for i in range(1, sayi+1):\n",
        "    if sayi % i == 0 :\n",
        "      a.append(i)\n",
        "  return a\n",
        "\n",
        "kalansiz_bolunenler(250)"
      ],
      "metadata": {
        "colab": {
          "base_uri": "https://localhost:8080/"
        },
        "id": "sjzknXGiDrvH",
        "outputId": "d835761c-205a-4c03-fcea-806910a3adfa"
      },
      "execution_count": 3,
      "outputs": [
        {
          "output_type": "execute_result",
          "data": {
            "text/plain": [
              "[1, 2, 5, 10, 25, 50, 125, 250]"
            ]
          },
          "metadata": {},
          "execution_count": 3
        }
      ]
    },
    {
      "cell_type": "code",
      "source": [
        "## list compr. olarak cozumu:\n",
        "\n",
        "def kalansiz_bolunenler(sayi) :\n",
        "   return [i for i in range(1, sayi+1) if sayi % i == 0]\n",
        "\n",
        "kalansiz_bolunenler(63)"
      ],
      "metadata": {
        "colab": {
          "base_uri": "https://localhost:8080/"
        },
        "id": "P6fiSTeyGCku",
        "outputId": "3c45b1d3-a931-4089-bda9-8e0d074b793a"
      },
      "execution_count": 4,
      "outputs": [
        {
          "output_type": "execute_result",
          "data": {
            "text/plain": [
              "[1, 3, 7, 9, 21, 63]"
            ]
          },
          "metadata": {},
          "execution_count": 4
        }
      ]
    },
    {
      "cell_type": "code",
      "source": [
        "4- Cümlenin içindeki sesli harfleri kaldıran bir fonksiyon yazalım.\n",
        "print(sessiz_yap(\"Hayat beni neden yoruyosun?:)\")) --> hyt bn ndn yrysn?:)"
      ],
      "metadata": {
        "id": "XwrvbFE4GkYt"
      },
      "execution_count": null,
      "outputs": []
    },
    {
      "cell_type": "code",
      "source": [
        "def sessiz_yap(cumle):\n",
        "  sesliler = \"euioaEUIOA\"\n",
        "  for i in set(cumle) :\n",
        "    if i in sesliler:\n",
        "      cumle = cumle.replace(i,\"\")\n",
        "  return cumle   \n",
        "\n",
        "sessiz_yap(\"hayat beni neden yoruyorsun\") "
      ],
      "metadata": {
        "colab": {
          "base_uri": "https://localhost:8080/",
          "height": 36
        },
        "id": "S044mZ68G1qd",
        "outputId": "74930abf-5e89-4c39-9ef9-dda2384af39c"
      },
      "execution_count": 6,
      "outputs": [
        {
          "output_type": "execute_result",
          "data": {
            "application/vnd.google.colaboratory.intrinsic+json": {
              "type": "string"
            },
            "text/plain": [
              "'hyt bn ndn yryrsn'"
            ]
          },
          "metadata": {},
          "execution_count": 6
        }
      ]
    },
    {
      "cell_type": "code",
      "source": [
        "5- Tarihi yüzyıla çeviren bir fonksiyon yazalım.\n",
        "print(yüzyıl_yap(1738)) --> 18. yüzyıl"
      ],
      "metadata": {
        "id": "JGTaKISqIBPB"
      },
      "execution_count": null,
      "outputs": []
    },
    {
      "cell_type": "code",
      "source": [
        "def yuzyil_yap(yil) :\n",
        "  return f'{(yil // 100) +1}. yuzyil'\n",
        "\n",
        "yuzyil_yap(50)"
      ],
      "metadata": {
        "colab": {
          "base_uri": "https://localhost:8080/",
          "height": 36
        },
        "id": "APAclxrgxnl1",
        "outputId": "173fc91c-75f3-4ba8-cada-f2e13fffa51e"
      },
      "execution_count": 4,
      "outputs": [
        {
          "output_type": "execute_result",
          "data": {
            "application/vnd.google.colaboratory.intrinsic+json": {
              "type": "string"
            },
            "text/plain": [
              "'1. yuzyil'"
            ]
          },
          "metadata": {},
          "execution_count": 4
        }
      ]
    },
    {
      "cell_type": "code",
      "source": [
        "6- Yazının içersindeki kelimelerin ilk ve son karakterleri sabit tutup diğer karakterleri yerine - çizgi koyan fonksiyon yazalım.\n",
        "print(dönüstür(\"hello world\")) --> h---o w---d "
      ],
      "metadata": {
        "id": "6RalFhEJyO3y"
      },
      "execution_count": null,
      "outputs": []
    },
    {
      "cell_type": "code",
      "source": [
        "def donustur(yazi) :\n",
        "  liste = yazi.split()\n",
        "  yeni = \"\"\n",
        "  for i in liste:\n",
        "    for k in range(len(i)):\n",
        "      if k == 0 :\n",
        "        yeni += i[k]\n",
        "      elif k == len(i)-1:\n",
        "        yeni += i[k] + \" \"\n",
        "      else:\n",
        "        yeni += \"-\"\n",
        "  return yeni.strip()\n",
        "\n",
        "donustur(\"hellooooo world\")"
      ],
      "metadata": {
        "colab": {
          "base_uri": "https://localhost:8080/",
          "height": 36
        },
        "id": "Cdh8TM9Zyyjf",
        "outputId": "2efa865b-b6db-4a11-cf19-34a635db452a"
      },
      "execution_count": 6,
      "outputs": [
        {
          "output_type": "execute_result",
          "data": {
            "application/vnd.google.colaboratory.intrinsic+json": {
              "type": "string"
            },
            "text/plain": [
              "'h-------o w---d'"
            ]
          },
          "metadata": {},
          "execution_count": 6
        }
      ]
    },
    {
      "cell_type": "code",
      "source": [
        "kelime = \"hello world\"  # input(\"lutfen bir kelime giriniz\")\n",
        "kelime = list(kelime.split())\n",
        "n_kelime = \"\"\n",
        "\n",
        "for i in kelime:\n",
        "  n_kelime += i[0]+(len(i)-2) * \"-\" + i[-1] + \" \"\n",
        "\n",
        "print(n_kelime)"
      ],
      "metadata": {
        "colab": {
          "base_uri": "https://localhost:8080/"
        },
        "id": "Bsww2s0wz7hm",
        "outputId": "5000e607-e227-4754-d6f8-39fcd5e6bc9b"
      },
      "execution_count": 10,
      "outputs": [
        {
          "output_type": "stream",
          "name": "stdout",
          "text": [
            "h---o w---d \n"
          ]
        }
      ]
    },
    {
      "cell_type": "code",
      "source": [
        "7- Her girdi listesinde iki tanesi hariç her rakam en az bir kere tekrarlıyor.iki benzersiz sayıyı döndüren bir fonksiyon yazalım.\n",
        "benzersizi_bul([2,2,3,11,3,6,5]) --> [6, 5]  # 11 de 2 tane 1 var"
      ],
      "metadata": {
        "id": "XuQjcTfu26Jv"
      },
      "execution_count": null,
      "outputs": []
    },
    {
      "cell_type": "code",
      "source": [
        "def benzersizi_bul(a):\n",
        "  b = \"\"\n",
        "  n = []\n",
        "  for i in a:\n",
        "    b += str(i)\n",
        "  for i in set(b):\n",
        "    for j in a:\n",
        "      if b.count(i) == 1 and i in str(j):\n",
        "        n.append(j)\n",
        "  return list(set(n))\n",
        "\n",
        "benzersizi_bul([2,2,3,11,3,66,5])"
      ],
      "metadata": {
        "colab": {
          "base_uri": "https://localhost:8080/"
        },
        "id": "UzgPVRZZ34TB",
        "outputId": "3aa2febe-2f20-45db-e1ee-ee3c7172e55f"
      },
      "execution_count": 11,
      "outputs": [
        {
          "output_type": "execute_result",
          "data": {
            "text/plain": [
              "[5]"
            ]
          },
          "metadata": {},
          "execution_count": 11
        }
      ]
    },
    {
      "cell_type": "code",
      "source": [
        "8- Bir stringi(kelime) alan ve birbirini izleyen aynı harfleri çıkaran bir fonksiyon oluşturun.\n",
        "print(cıkar(\"mmmeeerrhhhaaabbbaaa\")) --> merhaba"
      ],
      "metadata": {
        "id": "0HS-RH4G96V6"
      },
      "execution_count": null,
      "outputs": []
    },
    {
      "cell_type": "code",
      "source": [
        "def cikar(kelime) :\n",
        "  yeni = \"\"\n",
        "  for i in range(len(kelime)-1):\n",
        "    if kelime[i] != kelime[i+1]:\n",
        "      yeni += kelime[i]\n",
        "  yeni += kelime[-1]\n",
        "  return yeni\n",
        "\n",
        "cikar (\"mmmmmmmmeeerrrhhhhaaabbbbaaa\")"
      ],
      "metadata": {
        "colab": {
          "base_uri": "https://localhost:8080/",
          "height": 36
        },
        "id": "R7psb-IADpIp",
        "outputId": "59de86b3-1bc8-468f-be0e-1bc8d2a41c52"
      },
      "execution_count": 13,
      "outputs": [
        {
          "output_type": "execute_result",
          "data": {
            "application/vnd.google.colaboratory.intrinsic+json": {
              "type": "string"
            },
            "text/plain": [
              "'merhaba'"
            ]
          },
          "metadata": {},
          "execution_count": 13
        }
      ]
    },
    {
      "cell_type": "code",
      "source": [
        "9- Belirli aralıkta(sınırlar dahil) verilen rakamın kaç kere olduğunu sayan bir fonksiyon yazalım. print(kac_tane(50,55,5)) --> 7"
      ],
      "metadata": {
        "id": "UEFFqfIbEeVA"
      },
      "execution_count": null,
      "outputs": []
    },
    {
      "cell_type": "code",
      "source": [
        "def kac_tane(baslangic, bitis, sayi):\n",
        "  sonuc = 0\n",
        "  for i in range(baslangic, bitis+1):\n",
        "    sonuc += str(i).count(str(sayi))\n",
        "  return(sonuc)\n",
        "\n",
        "print(kac_tane(50, 55, 5))"
      ],
      "metadata": {
        "colab": {
          "base_uri": "https://localhost:8080/"
        },
        "id": "5R6A_9kcGOzP",
        "outputId": "1324223b-10ca-4c0e-c3d5-579ffead2d34"
      },
      "execution_count": 14,
      "outputs": [
        {
          "output_type": "stream",
          "name": "stdout",
          "text": [
            "7\n"
          ]
        }
      ]
    },
    {
      "cell_type": "code",
      "source": [
        "10- Yüksekliği verilen yılbaşı ağacını oluşturan bir fonksiyon yazalım. agac(7)\n"
      ],
      "metadata": {
        "id": "hZcTFeapIL6O"
      },
      "execution_count": null,
      "outputs": []
    },
    {
      "cell_type": "code",
      "source": [
        "def agac(n):\n",
        "  for i in range(1,2*n,2):\n",
        "    print((i*'#').center(2*n-1))\n",
        "\n",
        "agac(9)"
      ],
      "metadata": {
        "colab": {
          "base_uri": "https://localhost:8080/"
        },
        "id": "EgzL9xncJ_Cz",
        "outputId": "18a18da6-4b0a-4292-cdda-67fa4f67198c"
      },
      "execution_count": 15,
      "outputs": [
        {
          "output_type": "stream",
          "name": "stdout",
          "text": [
            "        #        \n",
            "       ###       \n",
            "      #####      \n",
            "     #######     \n",
            "    #########    \n",
            "   ###########   \n",
            "  #############  \n",
            " ############### \n",
            "#################\n"
          ]
        }
      ]
    },
    {
      "cell_type": "code",
      "source": [
        ""
      ],
      "metadata": {
        "id": "dj3AkyBaKWHh"
      },
      "execution_count": null,
      "outputs": []
    }
  ]
}