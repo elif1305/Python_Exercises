{
  "nbformat": 4,
  "nbformat_minor": 0,
  "metadata": {
    "colab": {
      "name": "Q-A - 2",
      "provenance": [],
      "authorship_tag": "ABX9TyMJfXNgMyfJmMoBZNJksd9v"
    },
    "kernelspec": {
      "name": "python3",
      "display_name": "Python 3"
    },
    "language_info": {
      "name": "python"
    }
  },
  "cells": [
    {
      "cell_type": "code",
      "execution_count": null,
      "metadata": {
        "id": "pFE9E4-lAgx_"
      },
      "outputs": [],
      "source": [
        "# 1- Write a program to prompt for a score between 0.0 and 1.0. If the score is out of range, print an error. If the score is between 0.0 and 1.0, print a grade using the following table: Score Grade\n",
        "\n",
        "# 0.9 A\n",
        "\n",
        "# 0.8 B\n",
        "\n",
        "# 0.7 C\n",
        "\n",
        "# 0.6 D\n",
        "\n",
        "# 0.6 F\n",
        "\n",
        "# If the user enters a value out of range, print a suitable error message and exit. For the test, enter a score of 0.85"
      ]
    },
    {
      "cell_type": "code",
      "source": [
        "s = float(input(\"enter a value\"))\n",
        "\n",
        "if 0.0 <= s <= 1.0 :\n",
        "  if s >= 0.9:\n",
        "    print(\"A\")\n",
        "  elif s >= 0.8:\n",
        "    print(\"B\")\n",
        "  elif s >= 0.7:\n",
        "    print(\"C\")\n",
        "  elif s >= 0.6:\n",
        "    print(\"D\")\n",
        "  elif s < 0.6:\n",
        "    print(\"F\")\n",
        "else :\n",
        "  print(\"Error\")"
      ],
      "metadata": {
        "colab": {
          "base_uri": "https://localhost:8080/"
        },
        "id": "UcB_6-8iAlvj",
        "outputId": "174567de-c183-48d1-9a25-e9c972e62351"
      },
      "execution_count": 1,
      "outputs": [
        {
          "output_type": "stream",
          "name": "stdout",
          "text": [
            "enter a value0.5\n",
            "F\n"
          ]
        }
      ]
    },
    {
      "cell_type": "code",
      "source": [
        "2- Yazi olarak girilen string ifadenin içindeki harfler tamamen büyük veya tamamen küçük ise True, küçük ve büyük harlerden oluşmuş ise False veren bir fonksiyon yazalım."
      ],
      "metadata": {
        "id": "2H_2_tgkCnAZ"
      },
      "execution_count": null,
      "outputs": []
    },
    {
      "cell_type": "code",
      "source": [
        "def buyuk_kucuk(yazi):\n",
        "  return yazi.upper() == yazi or yazi.lower() == yazi"
      ],
      "metadata": {
        "id": "nMc7De0IC4qe"
      },
      "execution_count": null,
      "outputs": []
    },
    {
      "cell_type": "code",
      "source": [
        "3- Sayıyı kalansız bölen sayıları bulan bir fonksiyon yazalım"
      ],
      "metadata": {
        "id": "9fGTGsSMDpdV"
      },
      "execution_count": null,
      "outputs": []
    },
    {
      "cell_type": "code",
      "source": [
        "def kalansiz_bolunenler(sayi) :\n",
        "  a = []\n",
        "  for i in range(1, sayi+1):\n",
        "    if sayi % i == 0 :\n",
        "      a.append(i)\n",
        "  return a\n",
        "\n",
        "kalansiz_bolunenler(250)"
      ],
      "metadata": {
        "colab": {
          "base_uri": "https://localhost:8080/"
        },
        "id": "sjzknXGiDrvH",
        "outputId": "d835761c-205a-4c03-fcea-806910a3adfa"
      },
      "execution_count": 3,
      "outputs": [
        {
          "output_type": "execute_result",
          "data": {
            "text/plain": [
              "[1, 2, 5, 10, 25, 50, 125, 250]"
            ]
          },
          "metadata": {},
          "execution_count": 3
        }
      ]
    },
    {
      "cell_type": "code",
      "source": [
        "## list compr. olarak cozumu:\n",
        "\n",
        "def kalansiz_bolunenler(sayi) :\n",
        "   return [i for i in range(1, sayi+1) if sayi % i == 0]\n",
        "\n",
        "kalansiz_bolunenler(63)"
      ],
      "metadata": {
        "colab": {
          "base_uri": "https://localhost:8080/"
        },
        "id": "P6fiSTeyGCku",
        "outputId": "3c45b1d3-a931-4089-bda9-8e0d074b793a"
      },
      "execution_count": 4,
      "outputs": [
        {
          "output_type": "execute_result",
          "data": {
            "text/plain": [
              "[1, 3, 7, 9, 21, 63]"
            ]
          },
          "metadata": {},
          "execution_count": 4
        }
      ]
    },
    {
      "cell_type": "code",
      "source": [
        "4- Cümlenin içindeki sesli harfleri kaldıran bir fonksiyon yazalım.\n",
        "print(sessiz_yap(\"Hayat beni neden yoruyosun?:)\")) --> hyt bn ndn yrysn?:)"
      ],
      "metadata": {
        "id": "XwrvbFE4GkYt"
      },
      "execution_count": null,
      "outputs": []
    },
    {
      "cell_type": "code",
      "source": [
        "def sessiz_yap(cumle):\n",
        "  sesliler = \"euioaEUIOA\"\n",
        "  for i in set(cumle) :\n",
        "    if i in sesliler:\n",
        "      cumle = cumle.replace(i,\"\")\n",
        "  return cumle   \n",
        "\n",
        "sessiz_yap(\"hayat beni neden yoruyorsun\") "
      ],
      "metadata": {
        "colab": {
          "base_uri": "https://localhost:8080/",
          "height": 36
        },
        "id": "S044mZ68G1qd",
        "outputId": "74930abf-5e89-4c39-9ef9-dda2384af39c"
      },
      "execution_count": 6,
      "outputs": [
        {
          "output_type": "execute_result",
          "data": {
            "application/vnd.google.colaboratory.intrinsic+json": {
              "type": "string"
            },
            "text/plain": [
              "'hyt bn ndn yryrsn'"
            ]
          },
          "metadata": {},
          "execution_count": 6
        }
      ]
    },
    {
      "cell_type": "code",
      "source": [
        ""
      ],
      "metadata": {
        "id": "JGTaKISqIBPB"
      },
      "execution_count": null,
      "outputs": []
    }
  ]
}