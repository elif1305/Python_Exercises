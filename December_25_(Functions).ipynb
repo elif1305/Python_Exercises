{
  "nbformat": 4,
  "nbformat_minor": 0,
  "metadata": {
    "colab": {
      "name": "December- 25- (Functions)",
      "provenance": [],
      "authorship_tag": "ABX9TyPZTWhxvbns2aWnwA12PNLF"
    },
    "kernelspec": {
      "name": "python3",
      "display_name": "Python 3"
    },
    "language_info": {
      "name": "python"
    }
  },
  "cells": [
    {
      "cell_type": "code",
      "execution_count": null,
      "metadata": {
        "id": "_tYTZmaQuqJU"
      },
      "outputs": [],
      "source": [
        "############ Functions \n",
        "\n"
      ]
    },
    {
      "cell_type": "code",
      "source": [
        "# temel olarak fonksiyon mantik yuruten bir kod blogudur"
      ],
      "metadata": {
        "id": "AtMRtvRtwM1Q"
      },
      "execution_count": null,
      "outputs": []
    },
    {
      "cell_type": "code",
      "source": [
        "# # calling a function\n",
        "\n",
        "# built in functions"
      ],
      "metadata": {
        "id": "dmBXIAG4wqZT"
      },
      "execution_count": null,
      "outputs": []
    },
    {
      "cell_type": "code",
      "source": [
        "def multiply(parameter1, parameter2) :\n",
        "  print(parameter1 * parameter2)\n",
        "\n",
        "multiply(5, 5)\n",
        "\n",
        "multiply(5, 'izmir ')\n",
        "\n",
        "multiply(-1, 5.5)"
      ],
      "metadata": {
        "colab": {
          "base_uri": "https://localhost:8080/"
        },
        "id": "BiIgwSln5PGc",
        "outputId": "fb11c871-43c2-40ac-b153-86c1715e6142"
      },
      "execution_count": 2,
      "outputs": [
        {
          "output_type": "stream",
          "name": "stdout",
          "text": [
            "25\n",
            "izmir izmir izmir izmir izmir \n",
            "-5.5\n"
          ]
        }
      ]
    },
    {
      "cell_type": "code",
      "source": [
        "# paraametre olmadan da func tnaimlayabliriz\n",
        "\n",
        "# yani parantez ici bos\n",
        "\n",
        "def ders_tekrari() :\n",
        "  print(' biz ders tekrari yapiyoruz')\n",
        "\n",
        "ders_tekrari()"
      ],
      "metadata": {
        "colab": {
          "base_uri": "https://localhost:8080/"
        },
        "id": "Ymip01rs5pZ0",
        "outputId": "6d8bc7b7-1759-4709-8ea7-86f4da8e4563"
      },
      "execution_count": 3,
      "outputs": [
        {
          "output_type": "stream",
          "name": "stdout",
          "text": [
            " biz ders tekrari yapiyoruz\n"
          ]
        }
      ]
    },
    {
      "cell_type": "code",
      "source": [
        "## Execution of function\n",
        "\n",
        "# program akisindaki fonksiyonlarin urettigi cikti ve veri tiplerini daha sonra kullanbilmek icin retutn anahtar kelimesini def tanimlama kelimesine ihtiyac duyariz\n",
        "\n",
        "def multiply1(argument1, argument2) :\n",
        "  print(argument1 * argument2)\n",
        "\n",
        "def multiply2(argument1, argument2):\n",
        "  return(argument1 * argument2)\n",
        "\n",
        "multiply1(4,5)                  # onemli : outputlara baktigimizda fark goremeyiz fakat typlarina bakildiginde farki gorecegiz.\n",
        "\n",
        "multiply2(4,5)"
      ],
      "metadata": {
        "colab": {
          "base_uri": "https://localhost:8080/"
        },
        "id": "Za8quZK66OEw",
        "outputId": "e2edfa4e-efc1-4376-d378-423653b6b90c"
      },
      "execution_count": 4,
      "outputs": [
        {
          "output_type": "stream",
          "name": "stdout",
          "text": [
            "20\n"
          ]
        },
        {
          "output_type": "execute_result",
          "data": {
            "text/plain": [
              "20"
            ]
          },
          "metadata": {},
          "execution_count": 4
        }
      ]
    },
    {
      "cell_type": "code",
      "source": [
        ""
      ],
      "metadata": {
        "id": "NiyNtmMx8V4D"
      },
      "execution_count": null,
      "outputs": []
    },
    {
      "cell_type": "code",
      "source": [
        ""
      ],
      "metadata": {
        "id": "8C4ZUC5D8K1H"
      },
      "execution_count": null,
      "outputs": []
    }
  ]
}