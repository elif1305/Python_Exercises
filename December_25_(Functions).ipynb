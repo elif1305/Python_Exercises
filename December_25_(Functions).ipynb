{
  "nbformat": 4,
  "nbformat_minor": 0,
  "metadata": {
    "colab": {
      "name": "December- 25- (Functions)",
      "provenance": [],
      "collapsed_sections": [],
      "authorship_tag": "ABX9TyNClnNlGZUv79VD/e28NaK7"
    },
    "kernelspec": {
      "name": "python3",
      "display_name": "Python 3"
    },
    "language_info": {
      "name": "python"
    }
  },
  "cells": [
    {
      "cell_type": "code",
      "execution_count": null,
      "metadata": {
        "id": "_tYTZmaQuqJU"
      },
      "outputs": [],
      "source": [
        "############ Functions \n",
        "\n"
      ]
    },
    {
      "cell_type": "code",
      "source": [
        "# temel olarak fonksiyon mantik yuruten bir kod blogudur"
      ],
      "metadata": {
        "id": "AtMRtvRtwM1Q"
      },
      "execution_count": null,
      "outputs": []
    },
    {
      "cell_type": "code",
      "source": [
        "# # calling a function\n",
        "\n",
        "# built in functions"
      ],
      "metadata": {
        "id": "dmBXIAG4wqZT"
      },
      "execution_count": null,
      "outputs": []
    },
    {
      "cell_type": "code",
      "source": [
        "def multiply(parameter1, parameter2) :\n",
        "  print(parameter1 * parameter2)\n",
        "\n",
        "multiply(5, 5)\n",
        "\n",
        "multiply(5, 'izmir ')\n",
        "\n",
        "multiply(-1, 5.5)"
      ],
      "metadata": {
        "colab": {
          "base_uri": "https://localhost:8080/"
        },
        "id": "BiIgwSln5PGc",
        "outputId": "fb11c871-43c2-40ac-b153-86c1715e6142"
      },
      "execution_count": 2,
      "outputs": [
        {
          "output_type": "stream",
          "name": "stdout",
          "text": [
            "25\n",
            "izmir izmir izmir izmir izmir \n",
            "-5.5\n"
          ]
        }
      ]
    },
    {
      "cell_type": "code",
      "source": [
        "# paraametre olmadan da func tnaimlayabliriz\n",
        "\n",
        "# yani parantez ici bos\n",
        "\n",
        "def ders_tekrari() :\n",
        "  print(' biz ders tekrari yapiyoruz')\n",
        "\n",
        "ders_tekrari()"
      ],
      "metadata": {
        "colab": {
          "base_uri": "https://localhost:8080/"
        },
        "id": "Ymip01rs5pZ0",
        "outputId": "6d8bc7b7-1759-4709-8ea7-86f4da8e4563"
      },
      "execution_count": 3,
      "outputs": [
        {
          "output_type": "stream",
          "name": "stdout",
          "text": [
            " biz ders tekrari yapiyoruz\n"
          ]
        }
      ]
    },
    {
      "cell_type": "code",
      "source": [
        "## Execution of function\n",
        "\n",
        "# program akisindaki fonksiyonlarin urettigi cikti ve veri tiplerini daha sonra kullanbilmek icin retutn anahtar kelimesini def tanimlama kelimesine ihtiyac duyariz\n",
        "\n",
        "def multiply1(argument1, argument2) :\n",
        "  print(argument1 * argument2)\n",
        "\n",
        "def multiply2(argument1, argument2):\n",
        "  return(argument1 * argument2)\n",
        "\n",
        "multiply1(4,5)                  # onemli : outputlara baktigimizda fark goremeyiz fakat typlarina bakildiginde farki gorecegiz.\n",
        "\n",
        "multiply2(4,5)"
      ],
      "metadata": {
        "colab": {
          "base_uri": "https://localhost:8080/"
        },
        "id": "Za8quZK66OEw",
        "outputId": "e2edfa4e-efc1-4376-d378-423653b6b90c"
      },
      "execution_count": 4,
      "outputs": [
        {
          "output_type": "stream",
          "name": "stdout",
          "text": [
            "20\n"
          ]
        },
        {
          "output_type": "execute_result",
          "data": {
            "text/plain": [
              "20"
            ]
          },
          "metadata": {},
          "execution_count": 4
        }
      ]
    },
    {
      "cell_type": "code",
      "source": [
        "def multiply2(argument1, argument2):\n",
        "  return argument1 * argument2       # returnde parantez olmasada calisiyor\n",
        "\n",
        "multiply2(4,5)"
      ],
      "metadata": {
        "colab": {
          "base_uri": "https://localhost:8080/"
        },
        "id": "NiyNtmMx8V4D",
        "outputId": "c5f00ab0-1ab1-4859-a912-974ac1eddd5b"
      },
      "execution_count": 8,
      "outputs": [
        {
          "output_type": "execute_result",
          "data": {
            "text/plain": [
              "20"
            ]
          },
          "metadata": {},
          "execution_count": 8
        }
      ]
    },
    {
      "cell_type": "code",
      "source": [
        "def multiply1(argument1, argument2) :\n",
        "  print(argument1 * argument2)\n",
        "\n",
        "def multiply2(argument1, argument2):\n",
        "  return(argument1 * argument2)\n",
        "\n",
        "multiply1(4,5)                \n",
        "\n",
        "multiply2(4,5)\n",
        "\n",
        "print(type(multiply1(4,5)))                       # nonetype olanlari ilerde kullaamiyoruz\n",
        "print(type(multiply2(4,5)))                        # 4 ile 5 integer oldugu icin integer dondurdu, "
      ],
      "metadata": {
        "colab": {
          "base_uri": "https://localhost:8080/"
        },
        "id": "x1UHTKLo9U98",
        "outputId": "d677382a-e0e5-485a-acb6-7e446f0aa826"
      },
      "execution_count": 9,
      "outputs": [
        {
          "output_type": "stream",
          "name": "stdout",
          "text": [
            "20\n",
            "20\n",
            "<class 'NoneType'>\n",
            "<class 'int'>\n"
          ]
        }
      ]
    },
    {
      "cell_type": "code",
      "source": [
        "# string ile kullanimi\n",
        "\n",
        "def multiply1(argument1, argument2) :\n",
        "  print(argument1 * argument2)\n",
        "\n",
        "def multiply2(argument1, argument2):\n",
        "  return(argument1 * argument2)\n",
        "\n",
        "multiply1(4,\"izmir \")                \n",
        "\n",
        "multiply2(4,\"izmir \")\n",
        "\n",
        "print(type(multiply1(4,\"izmir \")))                    \n",
        "print(type(multiply2(4,\"izmir \")))  "
      ],
      "metadata": {
        "colab": {
          "base_uri": "https://localhost:8080/"
        },
        "id": "sjnM9hZY9sbE",
        "outputId": "1a53d406-4d93-4783-ae40-5789db64765c"
      },
      "execution_count": 11,
      "outputs": [
        {
          "output_type": "stream",
          "name": "stdout",
          "text": [
            "izmir izmir izmir izmir \n",
            "izmir izmir izmir izmir \n",
            "<class 'NoneType'>\n",
            "<class 'str'>\n"
          ]
        }
      ]
    },
    {
      "cell_type": "code",
      "source": [
        "# return ve print farkini anlamak icin;\n",
        "\n",
        "def ella(a,b):\n",
        "  return(a+b)\n",
        "\n",
        "print(ella(3, 4) + 7)"
      ],
      "metadata": {
        "colab": {
          "base_uri": "https://localhost:8080/"
        },
        "id": "Kr7TXVM5-Nmp",
        "outputId": "6613608b-9bd3-4e52-9e8b-a170e68665fe"
      },
      "execution_count": 19,
      "outputs": [
        {
          "output_type": "stream",
          "name": "stdout",
          "text": [
            "14\n"
          ]
        }
      ]
    },
    {
      "cell_type": "code",
      "source": [
        "def ella(a,b):\n",
        "  print(a+b)                         # unsupported operand type(s) for +: 'NoneType' and 'int'\n",
        "\n",
        "print(ella(3, 4) + 7)"
      ],
      "metadata": {
        "colab": {
          "base_uri": "https://localhost:8080/",
          "height": 227
        },
        "id": "lNkeQSq4Ai7H",
        "outputId": "d016d58d-9f1a-4c3e-af43-46026f44f09d"
      },
      "execution_count": 18,
      "outputs": [
        {
          "output_type": "stream",
          "name": "stdout",
          "text": [
            "7\n"
          ]
        },
        {
          "output_type": "error",
          "ename": "TypeError",
          "evalue": "ignored",
          "traceback": [
            "\u001b[0;31m---------------------------------------------------------------------------\u001b[0m",
            "\u001b[0;31mTypeError\u001b[0m                                 Traceback (most recent call last)",
            "\u001b[0;32m<ipython-input-18-ca0335646172>\u001b[0m in \u001b[0;36m<module>\u001b[0;34m()\u001b[0m\n\u001b[1;32m      2\u001b[0m   \u001b[0mprint\u001b[0m\u001b[0;34m(\u001b[0m\u001b[0ma\u001b[0m\u001b[0;34m+\u001b[0m\u001b[0mb\u001b[0m\u001b[0;34m)\u001b[0m\u001b[0;34m\u001b[0m\u001b[0;34m\u001b[0m\u001b[0m\n\u001b[1;32m      3\u001b[0m \u001b[0;34m\u001b[0m\u001b[0m\n\u001b[0;32m----> 4\u001b[0;31m \u001b[0mprint\u001b[0m\u001b[0;34m(\u001b[0m\u001b[0mella\u001b[0m\u001b[0;34m(\u001b[0m\u001b[0;36m3\u001b[0m\u001b[0;34m,\u001b[0m \u001b[0;36m4\u001b[0m\u001b[0;34m)\u001b[0m \u001b[0;34m+\u001b[0m \u001b[0;36m7\u001b[0m\u001b[0;34m)\u001b[0m\u001b[0;34m\u001b[0m\u001b[0;34m\u001b[0m\u001b[0m\n\u001b[0m",
            "\u001b[0;31mTypeError\u001b[0m: unsupported operand type(s) for +: 'NoneType' and 'int'"
          ]
        }
      ]
    },
    {
      "cell_type": "code",
      "source": [
        "##n Not: func cagirirken tanimlama esnasinda kac adet parameter giildi ise ayni sayida argumen girilmelidir\n",
        "\n",
        "def multiply1(argument1, argument2) :\n",
        "  print(argument1 * argument2)\n",
        "\n",
        "def multiply2(argument1, argument2):\n",
        "  return(argument1 * argument2)\n",
        "\n",
        "multiply1(\"izmir \")       # 4 u burdan silersek hata verecektir.         \n",
        "\n",
        "multiply2(4,\"izmir \")"
      ],
      "metadata": {
        "colab": {
          "base_uri": "https://localhost:8080/",
          "height": 245
        },
        "id": "6087WX27BoGA",
        "outputId": "64db6233-f54c-4eda-d45d-ba7db095640e"
      },
      "execution_count": 20,
      "outputs": [
        {
          "output_type": "error",
          "ename": "TypeError",
          "evalue": "ignored",
          "traceback": [
            "\u001b[0;31m---------------------------------------------------------------------------\u001b[0m",
            "\u001b[0;31mTypeError\u001b[0m                                 Traceback (most recent call last)",
            "\u001b[0;32m<ipython-input-20-c1299de71079>\u001b[0m in \u001b[0;36m<module>\u001b[0;34m()\u001b[0m\n\u001b[1;32m      7\u001b[0m   \u001b[0;32mreturn\u001b[0m\u001b[0;34m(\u001b[0m\u001b[0margument1\u001b[0m \u001b[0;34m*\u001b[0m \u001b[0margument2\u001b[0m\u001b[0;34m)\u001b[0m\u001b[0;34m\u001b[0m\u001b[0;34m\u001b[0m\u001b[0m\n\u001b[1;32m      8\u001b[0m \u001b[0;34m\u001b[0m\u001b[0m\n\u001b[0;32m----> 9\u001b[0;31m \u001b[0mmultiply1\u001b[0m\u001b[0;34m(\u001b[0m\u001b[0;34m\"izmir \"\u001b[0m\u001b[0;34m)\u001b[0m       \u001b[0;31m# 4 u burdan silersek hata verecektir.\u001b[0m\u001b[0;34m\u001b[0m\u001b[0;34m\u001b[0m\u001b[0m\n\u001b[0m\u001b[1;32m     10\u001b[0m \u001b[0;34m\u001b[0m\u001b[0m\n\u001b[1;32m     11\u001b[0m \u001b[0mmultiply2\u001b[0m\u001b[0;34m(\u001b[0m\u001b[0;36m4\u001b[0m\u001b[0;34m,\u001b[0m\u001b[0;34m\"izmir \"\u001b[0m\u001b[0;34m)\u001b[0m\u001b[0;34m\u001b[0m\u001b[0;34m\u001b[0m\u001b[0m\n",
            "\u001b[0;31mTypeError\u001b[0m: multiply1() missing 1 required positional argument: 'argument2'"
          ]
        }
      ]
    },
    {
      "cell_type": "code",
      "source": [
        "# eger bi function tanimlarken birden fazla return var ise ilk yazilani cevirir\n",
        "\n",
        "def multiply2(argument1, argument2) :\n",
        "  return(argument1 * argument2)\n",
        "  return(argument1 + argument2)\n",
        "  return(argument1 - argument2)\n",
        "\n",
        "\n",
        "multiply2(10, 5)"
      ],
      "metadata": {
        "colab": {
          "base_uri": "https://localhost:8080/"
        },
        "id": "EUAWQuOXC6yR",
        "outputId": "7d5a0c81-0ffc-4f8f-d62c-7da2d6b3af64"
      },
      "execution_count": 21,
      "outputs": [
        {
          "output_type": "execute_result",
          "data": {
            "text/plain": [
              "50"
            ]
          },
          "metadata": {},
          "execution_count": 21
        }
      ]
    },
    {
      "cell_type": "code",
      "source": [
        "# print basa yazilirsa ptrinti yazdirir sonra ilk returnu yazdiriri\n",
        "\n",
        "def multiply2(argument1, argument2) :\n",
        "  print(argument1 + argument2)\n",
        "  return(argument1 * argument2)\n",
        "  return(argument1 + argument2)\n",
        "  return(argument1 - argument2)\n",
        "\n",
        "multiply2(10, 5)\n"
      ],
      "metadata": {
        "colab": {
          "base_uri": "https://localhost:8080/"
        },
        "id": "dgunGxsfDujg",
        "outputId": "cb116e97-0c37-4af5-af19-b7f45ccbf0b8"
      },
      "execution_count": 22,
      "outputs": [
        {
          "output_type": "stream",
          "name": "stdout",
          "text": [
            "15\n"
          ]
        },
        {
          "output_type": "execute_result",
          "data": {
            "text/plain": [
              "50"
            ]
          },
          "metadata": {},
          "execution_count": 22
        }
      ]
    },
    {
      "cell_type": "code",
      "source": [
        "# functionlrimizi tnaimlarken her zman basit ve anlasirlir yapmamiz gerekir\n",
        "\n",
        "# diger bir husus ise olusturdugumuz function in daha sonra bunun ne ise yaradgini ve nerelerde kullanmak icin olusturdugumuzu aciklama icin birer commet ya da docstring yazmak iyi olacaktir"
      ],
      "metadata": {
        "id": "jLenPHiBEPKY"
      },
      "execution_count": null,
      "outputs": []
    },
    {
      "cell_type": "code",
      "source": [
        "def ella():\n",
        "  girdi = input(\"lutfen adinizi giriniz: \")\n",
        "  girdi = girdi[0]\n",
        "  return girdi\n",
        "ella()"
      ],
      "metadata": {
        "colab": {
          "base_uri": "https://localhost:8080/",
          "height": 54
        },
        "id": "Ob5wfH3-5nkP",
        "outputId": "9fdc30cb-49b4-4c39-f93d-f41c279e2f81"
      },
      "execution_count": 2,
      "outputs": [
        {
          "name": "stdout",
          "output_type": "stream",
          "text": [
            "lutfen adinizi giriniz: canitin\n"
          ]
        },
        {
          "output_type": "execute_result",
          "data": {
            "application/vnd.google.colaboratory.intrinsic+json": {
              "type": "string"
            },
            "text/plain": [
              "'c'"
            ]
          },
          "metadata": {},
          "execution_count": 2
        }
      ]
    },
    {
      "cell_type": "code",
      "source": [
        "# mesela ileriki bir tarihte kodumuzun arasindaki kisaltmis oldugumuz isim ve soysim bloklarini buyuk harfle yazirmak iestedik.\n",
        "# bu durumda sadece kendi olusturdugumuz fuction daki kod da oynama yapmamiz yeterlidir."
      ],
      "metadata": {
        "id": "y9PZ0Q2k505q"
      },
      "execution_count": null,
      "outputs": []
    },
    {
      "cell_type": "code",
      "source": [
        "# ornek :\n",
        "\n",
        "def kisaltma(name) :\n",
        "  kisa = name[0:1].upper()\n",
        "  return(kisa)\n",
        "\n",
        "isim = input(\"isim giriniz :\")\n",
        "isim_kisaltma = kisaltma(isim)\n",
        "\n",
        "soyisim = input('soyadinizi giriniz :')\n",
        "soyisim_kisaltma = kisaltma(soyisim)\n",
        "\n",
        "print('isminizi ve soisminizin kisaltmasi : ', isim_kisaltma + soyisim_kisaltma)\n"
      ],
      "metadata": {
        "colab": {
          "base_uri": "https://localhost:8080/"
        },
        "id": "-Lq08qnWCjac",
        "outputId": "20b2451f-7f67-42f2-b7b0-3e8be8ee2452"
      },
      "execution_count": 5,
      "outputs": [
        {
          "output_type": "stream",
          "name": "stdout",
          "text": [
            "isim giriniz :ella\n",
            "soyadinizi giriniz :johnson\n",
            "isminizi ve soisminizin kisaltmasi :  EJ\n"
          ]
        }
      ]
    },
    {
      "cell_type": "code",
      "source": [
        "def kisaltma(name) :\n",
        "  kisa = name[0:1].upper()\n",
        "  return(kisa)\n",
        "\n",
        "isim = input(\"isim giriniz :\")\n",
        "\n",
        "soyisim = input('soyadinizi giriniz :')\n",
        "\n",
        "print(kisaltma(isim), kisaltma(soyisim))"
      ],
      "metadata": {
        "colab": {
          "base_uri": "https://localhost:8080/"
        },
        "id": "Hq-CLCloDSII",
        "outputId": "3452e8da-f748-4956-e259-57ab808bdd4f"
      },
      "execution_count": 6,
      "outputs": [
        {
          "output_type": "stream",
          "name": "stdout",
          "text": [
            "isim giriniz :Ella\n",
            "soyadinizi giriniz :Johnson\n",
            "E J\n"
          ]
        }
      ]
    },
    {
      "cell_type": "code",
      "source": [
        "# dikfortgenin alanini hesapkayan bir function yaziniz\n",
        "\n",
        "def dik_alan(a,b):\n",
        "  return(a*b)\n",
        "\n",
        "dik_alan(5,6)"
      ],
      "metadata": {
        "colab": {
          "base_uri": "https://localhost:8080/"
        },
        "id": "8RnACrHiFFnQ",
        "outputId": "aa2c2324-d717-492a-e333-ab8ac1e362a0"
      },
      "execution_count": 7,
      "outputs": [
        {
          "output_type": "execute_result",
          "data": {
            "text/plain": [
              "30"
            ]
          },
          "metadata": {},
          "execution_count": 7
        }
      ]
    },
    {
      "cell_type": "code",
      "source": [
        "# once bir func tanimlayalim. bu func icersine liste gibi bir iterable alsin daha sonra bu iterablein elemanlari arasinda gezinerek en uzun olanini bulsun ve en uzun elemani bize print etsin.\n",
        "\n",
        "# daha sonra kullanicidan isimler isteyeleim ve bu isimlerden hangisininen uzun oldugunu tanimladigiiz bu func vasitasi ile tespit ederlim\n",
        "\n",
        "\n",
        "def karsilastirma(iterable):                            # fonksiyonu tanimlarken kullandigimiz parameter , cagirirken kullandigimiz argument\n",
        "  counter = 0\n",
        "  enuzun = ''\n",
        "  for i in iterable:                                                                   # for dongusu ile kullanicinin girdigi iterablein ierisnie giriyor, cumlenin ilk kelimesi (i) counterdan uzunsa yani 0 dan buyukse,\n",
        "    counter = len(i)                                                                       o zman counter len(i) ye esit olsun en uzun kelime de (i) olsun.   \n",
        "    enuzun = i\n",
        "  print('girdigniz en uzun isim :', enuzun, 've', counter, 'karakteridir')\n",
        "\n",
        "girdi = list(map(str, input('lutfen girmek istedigniz isimleri yaziniz : ').split()))           # map() ketum func o yuzden basina list gibi bir func yaziyoruz. iterable icindeki elemanlari tek tek almak icin map veya fr dongusunu kullanabiliriz.\n",
        "\n",
        "karsilastirma(girdi)"
      ],
      "metadata": {
        "colab": {
          "base_uri": "https://localhost:8080/"
        },
        "id": "msvad8LzFyYl",
        "outputId": "e209ac04-41e6-46bb-c0a0-36b9b1362f17"
      },
      "execution_count": 13,
      "outputs": [
        {
          "output_type": "stream",
          "name": "stdout",
          "text": [
            "lutfen girmek istedigniz isimleri yaziniz : seni cok seviyorum\n",
            "girdigniz en uzun isim : seviyorum ve 9 karakteridir\n"
          ]
        }
      ]
    },
    {
      "cell_type": "code",
      "source": [
        "map(int, input('lutfen bir sayi giriniz :'))   # ketum func. acmak lazim"
      ],
      "metadata": {
        "colab": {
          "base_uri": "https://localhost:8080/"
        },
        "id": "x7fIArVoHZVw",
        "outputId": "2de3f0e1-bd61-42a0-feb8-b618a6fca415"
      },
      "execution_count": 14,
      "outputs": [
        {
          "name": "stdout",
          "output_type": "stream",
          "text": [
            "lutfen bir sayi giriniz :15\n"
          ]
        },
        {
          "output_type": "execute_result",
          "data": {
            "text/plain": [
              "<map at 0x7f3a5992da50>"
            ]
          },
          "metadata": {},
          "execution_count": 14
        }
      ]
    },
    {
      "cell_type": "code",
      "source": [
        "girdi = list(map(int, input('lutfen bir sayi giriniz :')))\n",
        "\n",
        "print(girdi)                               # kullanici birden fazla deger girerse hata verir, bu nedenle split() kullaniyoruz."
      ],
      "metadata": {
        "colab": {
          "base_uri": "https://localhost:8080/"
        },
        "id": "g18ZJ_3pO_BA",
        "outputId": "7bd0b3f2-8bf2-4475-8d07-617ae3331cb2"
      },
      "execution_count": 15,
      "outputs": [
        {
          "output_type": "stream",
          "name": "stdout",
          "text": [
            "lutfen bir sayi giriniz :15\n",
            "[1, 5]\n"
          ]
        }
      ]
    },
    {
      "cell_type": "code",
      "source": [
        "girdi = list(map(int, input('lutfen bir sayi giriniz :').split()))\n",
        "\n",
        "print(girdi)                               # kullanici birden fazla deger girerse hata verir, bu nedenle split() kullaniyoruz. spliti map fonksiyonunu icine yazmaliyiz"
      ],
      "metadata": {
        "colab": {
          "base_uri": "https://localhost:8080/"
        },
        "id": "5TiBT_WdPHpe",
        "outputId": "95d00d9c-019e-4c99-8a26-5a1d90392453"
      },
      "execution_count": 17,
      "outputs": [
        {
          "output_type": "stream",
          "name": "stdout",
          "text": [
            "lutfen bir sayi giriniz :15 68 1 52 \n",
            "[15, 68, 1, 52]\n"
          ]
        }
      ]
    },
    {
      "cell_type": "code",
      "source": [
        "girdi = list(map(int, input('lutfen bir sayi giriniz :').split()))\n",
        "\n",
        "bos = []\n",
        "\n",
        "for i in girdi:\n",
        "  i = int(i)               # bu satiri direk .append() fonk icinede yazabilriz.boylece kod 1 satir azalir\n",
        "  bos.append(i)\n",
        "\n",
        "print(bos)\n"
      ],
      "metadata": {
        "colab": {
          "base_uri": "https://localhost:8080/"
        },
        "id": "QqXK2yIkQTQK",
        "outputId": "66ca1e30-1188-4578-8db3-f44c838daaab"
      },
      "execution_count": 18,
      "outputs": [
        {
          "output_type": "stream",
          "name": "stdout",
          "text": [
            "lutfen bir sayi giriniz :89 65 85 1 3 6\n",
            "[89, 65, 85, 1, 3, 6]\n"
          ]
        }
      ]
    },
    {
      "cell_type": "code",
      "source": [
        "girdi = list(map(str, input('lutfen bir sayi giriniz :')))      # map fonksiyonu icinde yazdigimiz fonc onemlidir. burada integer yazmamiz daha uygun oalcaktir cunku sayilari ayirmaya calisiyoruz\n",
        "                                                                 # str yazarsak, map fonc girilen sayilari str olarak algilar ve o sekilde ayirir                                                              \n",
        "print(girdi)  "
      ],
      "metadata": {
        "colab": {
          "base_uri": "https://localhost:8080/"
        },
        "id": "3Wi1QngaROXN",
        "outputId": "7b86e417-158c-4a8a-8324-3ccfadc0c7e5"
      },
      "execution_count": 19,
      "outputs": [
        {
          "output_type": "stream",
          "name": "stdout",
          "text": [
            "lutfen bir sayi giriniz :15 46 2\n",
            "['1', '5', ' ', '4', '6', ' ', '2']\n"
          ]
        }
      ]
    },
    {
      "cell_type": "code",
      "source": [
        "###### the metter od arguments ########"
      ],
      "metadata": {
        "id": "OhmSc5RmhDLf"
      },
      "execution_count": null,
      "outputs": []
    },
    {
      "cell_type": "code",
      "source": [
        "def kim(isim, soyisim):    ## burada isim ve soyisim func in parametreleridir\n",
        " print(f\"sizin isminiz {isim}\")\n",
        " print('sizin soyisminiz {}'.format(soyisim))\n",
        "\n",
        "kim('brad', 'pitt')                # burada brad ve pitt argumandir"
      ],
      "metadata": {
        "colab": {
          "base_uri": "https://localhost:8080/"
        },
        "id": "l_hBn5SWiP2Y",
        "outputId": "0cfc0d05-dde8-49cd-9e2a-b9d356dbcf27"
      },
      "execution_count": 21,
      "outputs": [
        {
          "output_type": "stream",
          "name": "stdout",
          "text": [
            "sizin isminiz brad\n",
            "sizin soyisminiz pitt\n"
          ]
        }
      ]
    },
    {
      "cell_type": "code",
      "source": [
        "#### correct use of arguments #####"
      ],
      "metadata": {
        "id": "lPBVaAY-lKvU"
      },
      "execution_count": null,
      "outputs": []
    },
    {
      "cell_type": "code",
      "source": [
        "# 1 : positional agument(konumsal)\n",
        "# 2 : keyword argumentss(kwarg)\n",
        "\n",
        "# su ana kadar ogrendigimiz argumanlar konumsal olanlardir.\n",
        "# arguanlarin konumu yani ulanim sirasi cok onemlidir.\n",
        "\n",
        "# ornegin:\n",
        "\n",
        "def pos_args(a, b):                                   # a ve b konumsal argumanlardir , yerleri degisirse kod farkli output verir\n",
        "  print(a, ' is the first argument')\n",
        "  print(b, 'is the second argument')\n",
        "\n",
        "pos_args(3, 4)"
      ],
      "metadata": {
        "id": "s4IcVcd7ngMm"
      },
      "execution_count": null,
      "outputs": []
    },
    {
      "cell_type": "code",
      "source": [
        "###  keywords argument\n",
        "\n",
        "# bir islevi cagirdigimizda argumanlarin pozisyonlarinin bizi kisitlamasini istemiyorsak bu argumanlari anahtar kelimelerle cagiririz.\n",
        "\n",
        "# kwargs = values seklinde formule edilirler"
      ],
      "metadata": {
        "id": "nTXlQ0Rzrs3n"
      },
      "execution_count": null,
      "outputs": []
    },
    {
      "cell_type": "code",
      "source": [
        "def who(first, last):\n",
        "  print('your firt name is :', first)\n",
        "  print(f' your last name is {last}')\n",
        "\n",
        "who(first = 'guido', last = \" van rossum\")"
      ],
      "metadata": {
        "colab": {
          "base_uri": "https://localhost:8080/"
        },
        "id": "Do98PLqhsH4f",
        "outputId": "60f446d4-dd93-41a5-9bbd-610f201ec7c1"
      },
      "execution_count": 23,
      "outputs": [
        {
          "output_type": "stream",
          "name": "stdout",
          "text": [
            "your firt name is : guido\n",
            " your last name is  van rossum\n"
          ]
        }
      ]
    },
    {
      "cell_type": "code",
      "source": [
        "def who(first, last):\n",
        "  print('your firt name is :', first)\n",
        "  print(f' your last name is {last}')\n",
        "\n",
        "who(last = \" van rossum\", first = 'guido', )"
      ],
      "metadata": {
        "colab": {
          "base_uri": "https://localhost:8080/"
        },
        "id": "ut4QkEc1tl8S",
        "outputId": "a8c693c8-841e-401d-f9ff-d8276caac9c5"
      },
      "execution_count": 24,
      "outputs": [
        {
          "output_type": "stream",
          "name": "stdout",
          "text": [
            "your firt name is : guido\n",
            " your last name is  van rossum\n"
          ]
        }
      ]
    },
    {
      "cell_type": "code",
      "source": [
        "## onemli\n",
        "\n",
        "# positioonal arguman kullaniminda kullanicinin gitmesi gereken argumena:\n",
        "# required argument denir\n",
        "# positional argumantlar basa yazilmak zorundadir.\n",
        "\n",
        "\n",
        "# keywords arguman kullanimda ise:\n",
        "# optional arguments denir."
      ],
      "metadata": {
        "id": "E5MgxTIiuYTT"
      },
      "execution_count": null,
      "outputs": []
    },
    {
      "cell_type": "code",
      "source": [
        "def kus(etki, tuyler='sert', action='cik cik', renk='norvec mavisi'):\n",
        "  print('bu kus', action, 'etmedi')\n",
        "  print('eger', etki, 'yaparsaniz', 'kus oter')\n",
        "  print('bu kusun rengi', renk)\n",
        "  print('ve bu kusun tuyleri', tuyler)\n",
        "\n",
        "kus('dokunmak')                    # dokunmak burada etkinin argumani olacaktir. eger dokunmak buradan silinrse hata verecektir. cunku positional argument mutlaka karsilik bulmak zorundadir.\n"
      ],
      "metadata": {
        "colab": {
          "base_uri": "https://localhost:8080/"
        },
        "id": "XXxPH3rT7Rh6",
        "outputId": "414380f0-f4be-40fa-e1ff-fc911c3c8efa"
      },
      "execution_count": 26,
      "outputs": [
        {
          "output_type": "stream",
          "name": "stdout",
          "text": [
            "bu kus cik cik etmedi\n",
            "eger dokunmak yaparsaniz kus oter\n",
            "bu kusun rengi norvec mavisi\n",
            "ve bu kusun tuyleri sert\n"
          ]
        }
      ]
    },
    {
      "cell_type": "code",
      "source": [
        "def kus(etki, tuyler='sert', action='cik cik', renk='norvec mavisi'):       # positional argumantlar basa yazilmak zorundadir.( etki burada postional argumanttir)\n",
        "  print('bu kus', action, 'etmedi')\n",
        "  print('eger', etki, 'yaparsaniz', 'kus oter')\n",
        "  print('bu kusun rengi', renk)\n",
        "  print('ve bu kusun tuyleri', tuyler)\n",
        "\n",
        "kus(1000)           # 1 positional\n",
        "kus(etki=1000)      # 1 keyword arguments\n",
        "kus(etki=1000000, action='Vooooom')   # 2 kwargs \n",
        "kus(action=\"vooooom\", etki=1000000)   # 2 kwargs\n",
        "kus(\"a million\", \"bereft of life\", \"jump\")    # 3 positional\n",
        "kus('a thousand', tuyler='pushing up the daisies')   # 1 positional, 1 kwargs\n"
      ],
      "metadata": {
        "colab": {
          "base_uri": "https://localhost:8080/"
        },
        "id": "M--A9mhe7wXN",
        "outputId": "7f4350a0-8b8c-4002-dc0d-dc69249a1260"
      },
      "execution_count": 29,
      "outputs": [
        {
          "output_type": "stream",
          "name": "stdout",
          "text": [
            "bu kus cik cik etmedi\n",
            "eger 1000 yaparsaniz kus oter\n",
            "bu kusun rengi norvec mavisi\n",
            "ve bu kusun tuyleri sert\n",
            "bu kus cik cik etmedi\n",
            "eger 1000 yaparsaniz kus oter\n",
            "bu kusun rengi norvec mavisi\n",
            "ve bu kusun tuyleri sert\n",
            "bu kus Vooooom etmedi\n",
            "eger 1000000 yaparsaniz kus oter\n",
            "bu kusun rengi norvec mavisi\n",
            "ve bu kusun tuyleri sert\n",
            "bu kus vooooom etmedi\n",
            "eger 1000000 yaparsaniz kus oter\n",
            "bu kusun rengi norvec mavisi\n",
            "ve bu kusun tuyleri sert\n",
            "bu kus jump etmedi\n",
            "eger a million yaparsaniz kus oter\n",
            "bu kusun rengi norvec mavisi\n",
            "ve bu kusun tuyleri bereft of life\n",
            "bu kus cik cik etmedi\n",
            "eger a thousand yaparsaniz kus oter\n",
            "bu kusun rengi norvec mavisi\n",
            "ve bu kusun tuyleri pushing up the daisies\n"
          ]
        }
      ]
    },
    {
      "cell_type": "code",
      "source": [
        "def kus(etki, tuyler='sert', action='cik cik', renk='norvec mavisi'):       # positional argumantlar basa yazilmak zorundadir.yazilmazsa hata verir( etki burada postional argumanttir)\n",
        "  print('bu kus', action, 'etmedi')\n",
        "  print('eger', etki, 'yaparsaniz', 'kus oter')\n",
        "  print('bu kusun rengi', renk)\n",
        "  print('ve bu kusun tuyleri', tuyler)\n",
        "\n",
        "kus(action='pir pir', etki = 'dokunmak')               # etki ve action in yeri degisse de ayni ciktiyi verir "
      ],
      "metadata": {
        "colab": {
          "base_uri": "https://localhost:8080/"
        },
        "id": "dZl847HjCtYK",
        "outputId": "1d754391-d7cf-4c35-cba1-23e91cd33f56"
      },
      "execution_count": 30,
      "outputs": [
        {
          "output_type": "stream",
          "name": "stdout",
          "text": [
            "bu kus pir pir etmedi\n",
            "eger dokunmak yaparsaniz kus oter\n",
            "bu kusun rengi norvec mavisi\n",
            "ve bu kusun tuyleri sert\n"
          ]
        }
      ]
    },
    {
      "cell_type": "code",
      "source": [
        "def kus(etki, tuyler='sert', action='cik cik', renk='norvec mavisi'):       # positional argumantlar basa yazilmak zorundadir.( etki burada postional argumanttir)\n",
        "  print('bu kus', action, 'etmedi')\n",
        "  print('eger', etki, 'yaparsaniz', 'kus oter')\n",
        "  print('bu kusun rengi', renk)\n",
        "  print('ve bu kusun tuyleri', tuyler)\n",
        "\n",
        "kus( etki = 'dokunmak', action='pir pir')"
      ],
      "metadata": {
        "colab": {
          "base_uri": "https://localhost:8080/"
        },
        "id": "-qZh2DFkEqC7",
        "outputId": "31d9bffd-2fa2-4bec-df3b-dde90a2dbaa7"
      },
      "execution_count": 31,
      "outputs": [
        {
          "output_type": "stream",
          "name": "stdout",
          "text": [
            "bu kus pir pir etmedi\n",
            "eger dokunmak yaparsaniz kus oter\n",
            "bu kusun rengi norvec mavisi\n",
            "ve bu kusun tuyleri sert\n"
          ]
        }
      ]
    },
    {
      "cell_type": "code",
      "source": [
        "def kus(etki, tuyler='sert', action='cik cik', renk='norvec mavisi'):       # positional argumantlar basa yazilmak zorundadir.( etki burada postional argumanttir)\n",
        "  print('bu kus', action, 'etmedi')\n",
        "  print('eger', etki, 'yaparsaniz', 'kus oter')\n",
        "  print('bu kusun rengi', renk)\n",
        "  print('ve bu kusun tuyleri', tuyler)\n",
        "\n",
        "kus('dokunmak', 'yumusak', 'pir pir')              # burada hic positional argument kullanmadik. sadece keyworrd kullanildi. burada dokunmak=etkiye gider, yumusak=tuyler e , pir pir = action a gider. \n",
        "                                                      # her ne kadar print icinde default degeri verilsede (tuyler ve action icin) biz fonksiyonu cagiirirken baska bir deger yazdigimiz icin sirayla atama yapar ve o sekilde yazdirir."
      ],
      "metadata": {
        "colab": {
          "base_uri": "https://localhost:8080/"
        },
        "id": "dt7jMqK7EuAT",
        "outputId": "04161077-bba1-4820-b5b6-706996cdab87"
      },
      "execution_count": 32,
      "outputs": [
        {
          "output_type": "stream",
          "name": "stdout",
          "text": [
            "bu kus pir pir etmedi\n",
            "eger dokunmak yaparsaniz kus oter\n",
            "bu kusun rengi norvec mavisi\n",
            "ve bu kusun tuyleri yumusak\n"
          ]
        }
      ]
    },
    {
      "cell_type": "code",
      "source": [
        "def kus(etki, tuyler='sert', action='cik cik', renk='norvec mavisi'):       # positional argumantlar basa yazilmak zorundadir.( etki burada postional argumanttir)\n",
        "  print('bu kus', action, 'etmedi')\n",
        "  print('eger', etki, 'yaparsaniz', 'kus oter')\n",
        "  print('bu kusun rengi', renk)\n",
        "  print('ve bu kusun tuyleri', tuyler)\n",
        "\n",
        "kus('pat pat', tuyler='mor')"
      ],
      "metadata": {
        "colab": {
          "base_uri": "https://localhost:8080/"
        },
        "id": "U8R6hH5GE8bM",
        "outputId": "ce4f4486-3101-4509-990c-e5691e57458f"
      },
      "execution_count": 34,
      "outputs": [
        {
          "output_type": "stream",
          "name": "stdout",
          "text": [
            "bu kus cik cik etmedi\n",
            "eger pat pat yaparsaniz kus oter\n",
            "bu kusun rengi norvec mavisi\n",
            "ve bu kusun tuyleri mor\n"
          ]
        }
      ]
    },
    {
      "cell_type": "code",
      "source": [
        "def kus(etki, tuyler='sert', action='cik cik', renk='norvec mavisi'):       # positional argumantlar basa yazilmak zorundadir.( etki burada postional argumanttir)\n",
        "  print('bu kus', action, 'etmedi')\n",
        "  print('eger', etki, 'yaparsaniz', 'kus oter')\n",
        "  print('bu kusun rengi', renk)\n",
        "  print('ve bu kusun tuyleri', tuyler)\n",
        "\n",
        "kus()            # bos birakildigi zmaman hata verir. cunku yukarda 1 tane positionel argument var ve mutlaka bir deger atanmsi gerekiyor"
      ],
      "metadata": {
        "colab": {
          "base_uri": "https://localhost:8080/",
          "height": 208
        },
        "id": "wQ8281izKG-5",
        "outputId": "90b1b96c-bbed-453f-de56-4e2cfed85317"
      },
      "execution_count": 35,
      "outputs": [
        {
          "output_type": "error",
          "ename": "TypeError",
          "evalue": "ignored",
          "traceback": [
            "\u001b[0;31m---------------------------------------------------------------------------\u001b[0m",
            "\u001b[0;31mTypeError\u001b[0m                                 Traceback (most recent call last)",
            "\u001b[0;32m<ipython-input-35-236a3c2df354>\u001b[0m in \u001b[0;36m<module>\u001b[0;34m()\u001b[0m\n\u001b[1;32m      5\u001b[0m   \u001b[0mprint\u001b[0m\u001b[0;34m(\u001b[0m\u001b[0;34m've bu kusun tuyleri'\u001b[0m\u001b[0;34m,\u001b[0m \u001b[0mtuyler\u001b[0m\u001b[0;34m)\u001b[0m\u001b[0;34m\u001b[0m\u001b[0;34m\u001b[0m\u001b[0m\n\u001b[1;32m      6\u001b[0m \u001b[0;34m\u001b[0m\u001b[0m\n\u001b[0;32m----> 7\u001b[0;31m \u001b[0mkus\u001b[0m\u001b[0;34m(\u001b[0m\u001b[0;34m)\u001b[0m            \u001b[0;31m# bos birakildigi zmaman hata verir. cunku yukarda 1 tane positionel argument var ve mutlaka bir deger atanmsi gerekiyor\u001b[0m\u001b[0;34m\u001b[0m\u001b[0;34m\u001b[0m\u001b[0m\n\u001b[0m",
            "\u001b[0;31mTypeError\u001b[0m: kus() missing 1 required positional argument: 'etki'"
          ]
        }
      ]
    },
    {
      "cell_type": "code",
      "source": [
        "def kus(etki, tuyler='sert', action='cik cik', renk='norvec mavisi'):       # positional argumantlar basa yazilmak zorundadir.( etki burada postional argumanttir)\n",
        "  print('bu kus', action, 'etmedi')\n",
        "  print('eger', etki, 'yaparsaniz', 'kus oter')\n",
        "  print('bu kusun rengi', renk)\n",
        "  print('ve bu kusun tuyleri', tuyler)\n",
        "\n",
        "kus(etki='dokunmak', 'dead')   # non -keyword argument after a keyword argument"
      ],
      "metadata": {
        "colab": {
          "base_uri": "https://localhost:8080/",
          "height": 135
        },
        "id": "ozPZ4ci8KTUO",
        "outputId": "5a3e2a02-7e4b-47b5-f374-718f64ff8410"
      },
      "execution_count": 36,
      "outputs": [
        {
          "output_type": "error",
          "ename": "SyntaxError",
          "evalue": "ignored",
          "traceback": [
            "\u001b[0;36m  File \u001b[0;32m\"<ipython-input-36-7b4f67d8f1c9>\"\u001b[0;36m, line \u001b[0;32m7\u001b[0m\n\u001b[0;31m    kus(etki='dokunmak', 'dead')   # non -keyword argument after a keyword argument\u001b[0m\n\u001b[0m                        ^\u001b[0m\n\u001b[0;31mSyntaxError\u001b[0m\u001b[0;31m:\u001b[0m positional argument follows keyword argument\n"
          ]
        }
      ]
    },
    {
      "cell_type": "code",
      "source": [
        "def kus(etki, tuyler='sert', action='cik cik', renk='norvec mavisi'):       # positional argumantlar basa yazilmak zorundadir.( etki burada postional argumanttir)\n",
        "  print('bu kus', action, 'etmedi')\n",
        "  print('eger', etki, 'yaparsaniz', 'kus oter')\n",
        "  print('bu kusun rengi', renk)\n",
        "  print('ve bu kusun tuyleri', tuyler)\n",
        "\n",
        "kus(etki='pat pat', etki='tik tik')                  # keyword argument repeated"
      ],
      "metadata": {
        "colab": {
          "base_uri": "https://localhost:8080/",
          "height": 135
        },
        "id": "9k_b_RNoKl9H",
        "outputId": "c7be17da-a348-4f70-a7f7-d80dc9c30c07"
      },
      "execution_count": 37,
      "outputs": [
        {
          "output_type": "error",
          "ename": "SyntaxError",
          "evalue": "ignored",
          "traceback": [
            "\u001b[0;36m  File \u001b[0;32m\"<ipython-input-37-6f9580fcd625>\"\u001b[0;36m, line \u001b[0;32m7\u001b[0m\n\u001b[0;31m    kus(etki='pat pat', etki='tik tik')\u001b[0m\n\u001b[0m                       ^\u001b[0m\n\u001b[0;31mSyntaxError\u001b[0m\u001b[0;31m:\u001b[0m keyword argument repeated\n"
          ]
        }
      ]
    },
    {
      "cell_type": "code",
      "source": [
        "def kus(etki, tuyler='sert', action='cik cik', renk='norvec mavisi'):       # positional argumantlar basa yazilmak zorundadir.( etki burada postional argumanttir)\n",
        "  print('bu kus', action, 'etmedi')\n",
        "  print('eger', etki, 'yaparsaniz', 'kus oter')\n",
        "  print('bu kusun rengi', renk)\n",
        "  print('ve bu kusun tuyleri', tuyler)\n",
        "\n",
        "kus(actor = 'brad pitt')            # kus() got an unexpected keyword argument 'actor'"
      ],
      "metadata": {
        "colab": {
          "base_uri": "https://localhost:8080/",
          "height": 208
        },
        "id": "udi_F0mkLE2Q",
        "outputId": "901aa6c6-0e86-4963-b0ed-6e72729100fc"
      },
      "execution_count": 38,
      "outputs": [
        {
          "output_type": "error",
          "ename": "TypeError",
          "evalue": "ignored",
          "traceback": [
            "\u001b[0;31m---------------------------------------------------------------------------\u001b[0m",
            "\u001b[0;31mTypeError\u001b[0m                                 Traceback (most recent call last)",
            "\u001b[0;32m<ipython-input-38-3db2b6850e30>\u001b[0m in \u001b[0;36m<module>\u001b[0;34m()\u001b[0m\n\u001b[1;32m      5\u001b[0m   \u001b[0mprint\u001b[0m\u001b[0;34m(\u001b[0m\u001b[0;34m've bu kusun tuyleri'\u001b[0m\u001b[0;34m,\u001b[0m \u001b[0mtuyler\u001b[0m\u001b[0;34m)\u001b[0m\u001b[0;34m\u001b[0m\u001b[0;34m\u001b[0m\u001b[0m\n\u001b[1;32m      6\u001b[0m \u001b[0;34m\u001b[0m\u001b[0m\n\u001b[0;32m----> 7\u001b[0;31m \u001b[0mkus\u001b[0m\u001b[0;34m(\u001b[0m\u001b[0mactor\u001b[0m \u001b[0;34m=\u001b[0m \u001b[0;34m'brad pitt'\u001b[0m\u001b[0;34m)\u001b[0m\u001b[0;34m\u001b[0m\u001b[0;34m\u001b[0m\u001b[0m\n\u001b[0m",
            "\u001b[0;31mTypeError\u001b[0m: kus() got an unexpected keyword argument 'actor'"
          ]
        }
      ]
    },
    {
      "cell_type": "code",
      "source": [
        "###########  built in function ############"
      ],
      "metadata": {
        "id": "HmMN22ZPLPX0"
      },
      "execution_count": null,
      "outputs": []
    },
    {
      "cell_type": "code",
      "source": [
        "# and operatoru gib calisir\n",
        "# hespsinin true olmasini ister\n",
        "\n",
        "#eger bir tane bile false varsa false dondurur\n",
        "# hepsi true ise true verir\n",
        "\n",
        "# DIKKAT : bos eleman da true verir\n",
        "# false odakli calisir false bulamadigi zaman true verir\n",
        "\n",
        "# kullanim alani : cok uzun bir iterableimiz var ve biz bbunun ivcerisinde falsy eleman olup olmadigini ogrenemk istiyoruz."
      ],
      "metadata": {
        "id": "klC4FA2POqVw"
      },
      "execution_count": null,
      "outputs": []
    },
    {
      "cell_type": "code",
      "source": [
        "a = [1, 2, 3, 4, 5, 6, 7, 8, 9, 10, 11, 12, 13, 14, 15]\n",
        "b =['a', 'b', '']\n",
        "c ={}\n",
        "\n",
        "print(all(a))\n",
        "print(all(b))\n",
        "print(all(c))\n",
        "\n",
        "d = all([1,2,3,4])   # bu sekilde degiskene atayarakta kullanilablir\n",
        "print(d)"
      ],
      "metadata": {
        "colab": {
          "base_uri": "https://localhost:8080/"
        },
        "id": "4pHuHGN6QmOa",
        "outputId": "76669b2d-e958-4d73-fed0-3bb3340b3eed"
      },
      "execution_count": 39,
      "outputs": [
        {
          "output_type": "stream",
          "name": "stdout",
          "text": [
            "True\n",
            "False\n",
            "True\n",
            "True\n"
          ]
        }
      ]
    },
    {
      "cell_type": "code",
      "source": [
        ""
      ],
      "metadata": {
        "id": "Ako_R6VORAim"
      },
      "execution_count": null,
      "outputs": []
    }
  ]
}