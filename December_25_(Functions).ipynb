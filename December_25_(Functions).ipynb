{
  "nbformat": 4,
  "nbformat_minor": 0,
  "metadata": {
    "colab": {
      "name": "December- 25- (Functions)",
      "provenance": [],
      "collapsed_sections": [],
      "authorship_tag": "ABX9TyOX4Y2wf3glUOXy1MuOADKr"
    },
    "kernelspec": {
      "name": "python3",
      "display_name": "Python 3"
    },
    "language_info": {
      "name": "python"
    }
  },
  "cells": [
    {
      "cell_type": "code",
      "execution_count": null,
      "metadata": {
        "id": "_tYTZmaQuqJU"
      },
      "outputs": [],
      "source": [
        "############ Functions \n",
        "\n"
      ]
    },
    {
      "cell_type": "code",
      "source": [
        "# temel olarak fonksiyon mantik yuruten bir kod blogudur"
      ],
      "metadata": {
        "id": "AtMRtvRtwM1Q"
      },
      "execution_count": null,
      "outputs": []
    },
    {
      "cell_type": "code",
      "source": [
        "# # calling a function\n",
        "\n",
        "# built in functions"
      ],
      "metadata": {
        "id": "dmBXIAG4wqZT"
      },
      "execution_count": null,
      "outputs": []
    },
    {
      "cell_type": "code",
      "source": [
        "def multiply(parameter1, parameter2) :\n",
        "  print(parameter1 * parameter2)\n",
        "\n",
        "multiply(5, 5)\n",
        "\n",
        "multiply(5, 'izmir ')\n",
        "\n",
        "multiply(-1, 5.5)"
      ],
      "metadata": {
        "colab": {
          "base_uri": "https://localhost:8080/"
        },
        "id": "BiIgwSln5PGc",
        "outputId": "fb11c871-43c2-40ac-b153-86c1715e6142"
      },
      "execution_count": 2,
      "outputs": [
        {
          "output_type": "stream",
          "name": "stdout",
          "text": [
            "25\n",
            "izmir izmir izmir izmir izmir \n",
            "-5.5\n"
          ]
        }
      ]
    },
    {
      "cell_type": "code",
      "source": [
        "# paraametre olmadan da func tnaimlayabliriz\n",
        "\n",
        "# yani parantez ici bos\n",
        "\n",
        "def ders_tekrari() :\n",
        "  print(' biz ders tekrari yapiyoruz')\n",
        "\n",
        "ders_tekrari()"
      ],
      "metadata": {
        "colab": {
          "base_uri": "https://localhost:8080/"
        },
        "id": "Ymip01rs5pZ0",
        "outputId": "6d8bc7b7-1759-4709-8ea7-86f4da8e4563"
      },
      "execution_count": 3,
      "outputs": [
        {
          "output_type": "stream",
          "name": "stdout",
          "text": [
            " biz ders tekrari yapiyoruz\n"
          ]
        }
      ]
    },
    {
      "cell_type": "code",
      "source": [
        "## Execution of function\n",
        "\n",
        "# program akisindaki fonksiyonlarin urettigi cikti ve veri tiplerini daha sonra kullanbilmek icin retutn anahtar kelimesini def tanimlama kelimesine ihtiyac duyariz\n",
        "\n",
        "def multiply1(argument1, argument2) :\n",
        "  print(argument1 * argument2)\n",
        "\n",
        "def multiply2(argument1, argument2):\n",
        "  return(argument1 * argument2)\n",
        "\n",
        "multiply1(4,5)                  # onemli : outputlara baktigimizda fark goremeyiz fakat typlarina bakildiginde farki gorecegiz.\n",
        "\n",
        "multiply2(4,5)"
      ],
      "metadata": {
        "colab": {
          "base_uri": "https://localhost:8080/"
        },
        "id": "Za8quZK66OEw",
        "outputId": "e2edfa4e-efc1-4376-d378-423653b6b90c"
      },
      "execution_count": 4,
      "outputs": [
        {
          "output_type": "stream",
          "name": "stdout",
          "text": [
            "20\n"
          ]
        },
        {
          "output_type": "execute_result",
          "data": {
            "text/plain": [
              "20"
            ]
          },
          "metadata": {},
          "execution_count": 4
        }
      ]
    },
    {
      "cell_type": "code",
      "source": [
        "def multiply2(argument1, argument2):\n",
        "  return argument1 * argument2       # returnde parantez olmasada calisiyor\n",
        "\n",
        "multiply2(4,5)"
      ],
      "metadata": {
        "colab": {
          "base_uri": "https://localhost:8080/"
        },
        "id": "NiyNtmMx8V4D",
        "outputId": "c5f00ab0-1ab1-4859-a912-974ac1eddd5b"
      },
      "execution_count": 8,
      "outputs": [
        {
          "output_type": "execute_result",
          "data": {
            "text/plain": [
              "20"
            ]
          },
          "metadata": {},
          "execution_count": 8
        }
      ]
    },
    {
      "cell_type": "code",
      "source": [
        "def multiply1(argument1, argument2) :\n",
        "  print(argument1 * argument2)\n",
        "\n",
        "def multiply2(argument1, argument2):\n",
        "  return(argument1 * argument2)\n",
        "\n",
        "multiply1(4,5)                \n",
        "\n",
        "multiply2(4,5)\n",
        "\n",
        "print(type(multiply1(4,5)))                       # nonetype olanlari ilerde kullaamiyoruz\n",
        "print(type(multiply2(4,5)))                        # 4 ile 5 integer oldugu icin integer dondurdu, "
      ],
      "metadata": {
        "colab": {
          "base_uri": "https://localhost:8080/"
        },
        "id": "x1UHTKLo9U98",
        "outputId": "d677382a-e0e5-485a-acb6-7e446f0aa826"
      },
      "execution_count": 9,
      "outputs": [
        {
          "output_type": "stream",
          "name": "stdout",
          "text": [
            "20\n",
            "20\n",
            "<class 'NoneType'>\n",
            "<class 'int'>\n"
          ]
        }
      ]
    },
    {
      "cell_type": "code",
      "source": [
        "# string ile kullanimi\n",
        "\n",
        "def multiply1(argument1, argument2) :\n",
        "  print(argument1 * argument2)\n",
        "\n",
        "def multiply2(argument1, argument2):\n",
        "  return(argument1 * argument2)\n",
        "\n",
        "multiply1(4,\"izmir \")                \n",
        "\n",
        "multiply2(4,\"izmir \")\n",
        "\n",
        "print(type(multiply1(4,\"izmir \")))                    \n",
        "print(type(multiply2(4,\"izmir \")))  "
      ],
      "metadata": {
        "colab": {
          "base_uri": "https://localhost:8080/"
        },
        "id": "sjnM9hZY9sbE",
        "outputId": "1a53d406-4d93-4783-ae40-5789db64765c"
      },
      "execution_count": 11,
      "outputs": [
        {
          "output_type": "stream",
          "name": "stdout",
          "text": [
            "izmir izmir izmir izmir \n",
            "izmir izmir izmir izmir \n",
            "<class 'NoneType'>\n",
            "<class 'str'>\n"
          ]
        }
      ]
    },
    {
      "cell_type": "code",
      "source": [
        "# return ve print farkini anlamak icin;\n",
        "\n",
        "def ella(a,b):\n",
        "  return(a+b)\n",
        "\n",
        "print(ella(3, 4) + 7)"
      ],
      "metadata": {
        "colab": {
          "base_uri": "https://localhost:8080/"
        },
        "id": "Kr7TXVM5-Nmp",
        "outputId": "6613608b-9bd3-4e52-9e8b-a170e68665fe"
      },
      "execution_count": 19,
      "outputs": [
        {
          "output_type": "stream",
          "name": "stdout",
          "text": [
            "14\n"
          ]
        }
      ]
    },
    {
      "cell_type": "code",
      "source": [
        "def ella(a,b):\n",
        "  print(a+b)                         # unsupported operand type(s) for +: 'NoneType' and 'int'\n",
        "\n",
        "print(ella(3, 4) + 7)"
      ],
      "metadata": {
        "colab": {
          "base_uri": "https://localhost:8080/",
          "height": 227
        },
        "id": "lNkeQSq4Ai7H",
        "outputId": "d016d58d-9f1a-4c3e-af43-46026f44f09d"
      },
      "execution_count": 18,
      "outputs": [
        {
          "output_type": "stream",
          "name": "stdout",
          "text": [
            "7\n"
          ]
        },
        {
          "output_type": "error",
          "ename": "TypeError",
          "evalue": "ignored",
          "traceback": [
            "\u001b[0;31m---------------------------------------------------------------------------\u001b[0m",
            "\u001b[0;31mTypeError\u001b[0m                                 Traceback (most recent call last)",
            "\u001b[0;32m<ipython-input-18-ca0335646172>\u001b[0m in \u001b[0;36m<module>\u001b[0;34m()\u001b[0m\n\u001b[1;32m      2\u001b[0m   \u001b[0mprint\u001b[0m\u001b[0;34m(\u001b[0m\u001b[0ma\u001b[0m\u001b[0;34m+\u001b[0m\u001b[0mb\u001b[0m\u001b[0;34m)\u001b[0m\u001b[0;34m\u001b[0m\u001b[0;34m\u001b[0m\u001b[0m\n\u001b[1;32m      3\u001b[0m \u001b[0;34m\u001b[0m\u001b[0m\n\u001b[0;32m----> 4\u001b[0;31m \u001b[0mprint\u001b[0m\u001b[0;34m(\u001b[0m\u001b[0mella\u001b[0m\u001b[0;34m(\u001b[0m\u001b[0;36m3\u001b[0m\u001b[0;34m,\u001b[0m \u001b[0;36m4\u001b[0m\u001b[0;34m)\u001b[0m \u001b[0;34m+\u001b[0m \u001b[0;36m7\u001b[0m\u001b[0;34m)\u001b[0m\u001b[0;34m\u001b[0m\u001b[0;34m\u001b[0m\u001b[0m\n\u001b[0m",
            "\u001b[0;31mTypeError\u001b[0m: unsupported operand type(s) for +: 'NoneType' and 'int'"
          ]
        }
      ]
    },
    {
      "cell_type": "code",
      "source": [
        "##n Not: func cagirirken tanimlama esnasinda kac adet parameter giildi ise ayni sayida argumen girilmelidir\n",
        "\n",
        "def multiply1(argument1, argument2) :\n",
        "  print(argument1 * argument2)\n",
        "\n",
        "def multiply2(argument1, argument2):\n",
        "  return(argument1 * argument2)\n",
        "\n",
        "multiply1(\"izmir \")       # 4 u burdan silersek hata verecektir.         \n",
        "\n",
        "multiply2(4,\"izmir \")"
      ],
      "metadata": {
        "colab": {
          "base_uri": "https://localhost:8080/",
          "height": 245
        },
        "id": "6087WX27BoGA",
        "outputId": "64db6233-f54c-4eda-d45d-ba7db095640e"
      },
      "execution_count": 20,
      "outputs": [
        {
          "output_type": "error",
          "ename": "TypeError",
          "evalue": "ignored",
          "traceback": [
            "\u001b[0;31m---------------------------------------------------------------------------\u001b[0m",
            "\u001b[0;31mTypeError\u001b[0m                                 Traceback (most recent call last)",
            "\u001b[0;32m<ipython-input-20-c1299de71079>\u001b[0m in \u001b[0;36m<module>\u001b[0;34m()\u001b[0m\n\u001b[1;32m      7\u001b[0m   \u001b[0;32mreturn\u001b[0m\u001b[0;34m(\u001b[0m\u001b[0margument1\u001b[0m \u001b[0;34m*\u001b[0m \u001b[0margument2\u001b[0m\u001b[0;34m)\u001b[0m\u001b[0;34m\u001b[0m\u001b[0;34m\u001b[0m\u001b[0m\n\u001b[1;32m      8\u001b[0m \u001b[0;34m\u001b[0m\u001b[0m\n\u001b[0;32m----> 9\u001b[0;31m \u001b[0mmultiply1\u001b[0m\u001b[0;34m(\u001b[0m\u001b[0;34m\"izmir \"\u001b[0m\u001b[0;34m)\u001b[0m       \u001b[0;31m# 4 u burdan silersek hata verecektir.\u001b[0m\u001b[0;34m\u001b[0m\u001b[0;34m\u001b[0m\u001b[0m\n\u001b[0m\u001b[1;32m     10\u001b[0m \u001b[0;34m\u001b[0m\u001b[0m\n\u001b[1;32m     11\u001b[0m \u001b[0mmultiply2\u001b[0m\u001b[0;34m(\u001b[0m\u001b[0;36m4\u001b[0m\u001b[0;34m,\u001b[0m\u001b[0;34m\"izmir \"\u001b[0m\u001b[0;34m)\u001b[0m\u001b[0;34m\u001b[0m\u001b[0;34m\u001b[0m\u001b[0m\n",
            "\u001b[0;31mTypeError\u001b[0m: multiply1() missing 1 required positional argument: 'argument2'"
          ]
        }
      ]
    },
    {
      "cell_type": "code",
      "source": [
        "# eger bi function tanimlarken birden fazla return var ise ilk yazilani cevirir\n",
        "\n",
        "def multiply2(argument1, argument2) :\n",
        "  return(argument1 * argument2)\n",
        "  return(argument1 + argument2)\n",
        "  return(argument1 - argument2)\n",
        "\n",
        "\n",
        "multiply2(10, 5)"
      ],
      "metadata": {
        "colab": {
          "base_uri": "https://localhost:8080/"
        },
        "id": "EUAWQuOXC6yR",
        "outputId": "7d5a0c81-0ffc-4f8f-d62c-7da2d6b3af64"
      },
      "execution_count": 21,
      "outputs": [
        {
          "output_type": "execute_result",
          "data": {
            "text/plain": [
              "50"
            ]
          },
          "metadata": {},
          "execution_count": 21
        }
      ]
    },
    {
      "cell_type": "code",
      "source": [
        "# print basa yazilirsa ptrinti yazdirir sonra ilk returnu yazdiriri\n",
        "\n",
        "def multiply2(argument1, argument2) :\n",
        "  print(argument1 + argument2)\n",
        "  return(argument1 * argument2)\n",
        "  return(argument1 + argument2)\n",
        "  return(argument1 - argument2)\n",
        "\n",
        "multiply2(10, 5)\n"
      ],
      "metadata": {
        "colab": {
          "base_uri": "https://localhost:8080/"
        },
        "id": "dgunGxsfDujg",
        "outputId": "cb116e97-0c37-4af5-af19-b7f45ccbf0b8"
      },
      "execution_count": 22,
      "outputs": [
        {
          "output_type": "stream",
          "name": "stdout",
          "text": [
            "15\n"
          ]
        },
        {
          "output_type": "execute_result",
          "data": {
            "text/plain": [
              "50"
            ]
          },
          "metadata": {},
          "execution_count": 22
        }
      ]
    },
    {
      "cell_type": "code",
      "source": [
        "# functionlrimizi tnaimlarken her zman basit ve anlasirlir yapmamiz gerekir\n",
        "\n",
        "# diger bir husus ise olusturdugumuz function in daha sonra bunun ne ise yaradgini ve nerelerde kullanmak icin olusturdugumuzu aciklama icin birer commet ya da docstring yazmak iyi olacaktir"
      ],
      "metadata": {
        "id": "jLenPHiBEPKY"
      },
      "execution_count": null,
      "outputs": []
    },
    {
      "cell_type": "code",
      "source": [
        "def ella():\n",
        "  girdi = input(\"lutfen adinizi giriniz: \")\n",
        "  girdi = girdi[0]\n",
        "  return girdi\n",
        "ella()"
      ],
      "metadata": {
        "colab": {
          "base_uri": "https://localhost:8080/",
          "height": 54
        },
        "id": "Ob5wfH3-5nkP",
        "outputId": "9fdc30cb-49b4-4c39-f93d-f41c279e2f81"
      },
      "execution_count": 2,
      "outputs": [
        {
          "name": "stdout",
          "output_type": "stream",
          "text": [
            "lutfen adinizi giriniz: canitin\n"
          ]
        },
        {
          "output_type": "execute_result",
          "data": {
            "application/vnd.google.colaboratory.intrinsic+json": {
              "type": "string"
            },
            "text/plain": [
              "'c'"
            ]
          },
          "metadata": {},
          "execution_count": 2
        }
      ]
    },
    {
      "cell_type": "code",
      "source": [
        ""
      ],
      "metadata": {
        "id": "y9PZ0Q2k505q"
      },
      "execution_count": null,
      "outputs": []
    }
  ]
}