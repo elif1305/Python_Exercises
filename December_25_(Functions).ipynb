{
  "nbformat": 4,
  "nbformat_minor": 0,
  "metadata": {
    "colab": {
      "name": "December- 25- (Functions)",
      "provenance": [],
      "collapsed_sections": [],
      "authorship_tag": "ABX9TyNgOaNyCD8Mt262cY92u+j5"
    },
    "kernelspec": {
      "name": "python3",
      "display_name": "Python 3"
    },
    "language_info": {
      "name": "python"
    }
  },
  "cells": [
    {
      "cell_type": "code",
      "execution_count": null,
      "metadata": {
        "id": "_tYTZmaQuqJU"
      },
      "outputs": [],
      "source": [
        "############ Functions \n",
        "\n"
      ]
    },
    {
      "cell_type": "code",
      "source": [
        "# temel olarak fonksiyon mantik yuruten bir kod blogudur"
      ],
      "metadata": {
        "id": "AtMRtvRtwM1Q"
      },
      "execution_count": null,
      "outputs": []
    },
    {
      "cell_type": "code",
      "source": [
        "# # calling a function\n",
        "\n",
        "# built in functions"
      ],
      "metadata": {
        "id": "dmBXIAG4wqZT"
      },
      "execution_count": null,
      "outputs": []
    },
    {
      "cell_type": "code",
      "source": [
        "def multiply(parameter1, parameter2) :\n",
        "  print(parameter1 * parameter2)\n",
        "\n",
        "multiply(5, 5)\n",
        "\n",
        "multiply(5, 'izmir ')\n",
        "\n",
        "multiply(-1, 5.5)"
      ],
      "metadata": {
        "colab": {
          "base_uri": "https://localhost:8080/"
        },
        "id": "BiIgwSln5PGc",
        "outputId": "fb11c871-43c2-40ac-b153-86c1715e6142"
      },
      "execution_count": 2,
      "outputs": [
        {
          "output_type": "stream",
          "name": "stdout",
          "text": [
            "25\n",
            "izmir izmir izmir izmir izmir \n",
            "-5.5\n"
          ]
        }
      ]
    },
    {
      "cell_type": "code",
      "source": [
        "# paraametre olmadan da func tnaimlayabliriz\n",
        "\n",
        "# yani parantez ici bos\n",
        "\n",
        "def ders_tekrari() :\n",
        "  print(' biz ders tekrari yapiyoruz')\n",
        "\n",
        "ders_tekrari()"
      ],
      "metadata": {
        "colab": {
          "base_uri": "https://localhost:8080/"
        },
        "id": "Ymip01rs5pZ0",
        "outputId": "6d8bc7b7-1759-4709-8ea7-86f4da8e4563"
      },
      "execution_count": 3,
      "outputs": [
        {
          "output_type": "stream",
          "name": "stdout",
          "text": [
            " biz ders tekrari yapiyoruz\n"
          ]
        }
      ]
    },
    {
      "cell_type": "code",
      "source": [
        "## Execution of function\n",
        "\n",
        "# program akisindaki fonksiyonlarin urettigi cikti ve veri tiplerini daha sonra kullanbilmek icin retutn anahtar kelimesini def tanimlama kelimesine ihtiyac duyariz\n",
        "\n",
        "def multiply1(argument1, argument2) :\n",
        "  print(argument1 * argument2)\n",
        "\n",
        "def multiply2(argument1, argument2):\n",
        "  return(argument1 * argument2)\n",
        "\n",
        "multiply1(4,5)                  # onemli : outputlara baktigimizda fark goremeyiz fakat typlarina bakildiginde farki gorecegiz.\n",
        "\n",
        "multiply2(4,5)"
      ],
      "metadata": {
        "colab": {
          "base_uri": "https://localhost:8080/"
        },
        "id": "Za8quZK66OEw",
        "outputId": "e2edfa4e-efc1-4376-d378-423653b6b90c"
      },
      "execution_count": 4,
      "outputs": [
        {
          "output_type": "stream",
          "name": "stdout",
          "text": [
            "20\n"
          ]
        },
        {
          "output_type": "execute_result",
          "data": {
            "text/plain": [
              "20"
            ]
          },
          "metadata": {},
          "execution_count": 4
        }
      ]
    },
    {
      "cell_type": "code",
      "source": [
        "def multiply2(argument1, argument2):\n",
        "  return argument1 * argument2       # returnde parantez olmasada calisiyor\n",
        "\n",
        "multiply2(4,5)"
      ],
      "metadata": {
        "colab": {
          "base_uri": "https://localhost:8080/"
        },
        "id": "NiyNtmMx8V4D",
        "outputId": "c5f00ab0-1ab1-4859-a912-974ac1eddd5b"
      },
      "execution_count": 8,
      "outputs": [
        {
          "output_type": "execute_result",
          "data": {
            "text/plain": [
              "20"
            ]
          },
          "metadata": {},
          "execution_count": 8
        }
      ]
    },
    {
      "cell_type": "code",
      "source": [
        "def multiply1(argument1, argument2) :\n",
        "  print(argument1 * argument2)\n",
        "\n",
        "def multiply2(argument1, argument2):\n",
        "  return(argument1 * argument2)\n",
        "\n",
        "multiply1(4,5)                \n",
        "\n",
        "multiply2(4,5)\n",
        "\n",
        "print(type(multiply1(4,5)))                       # nonetype olanlari ilerde kullaamiyoruz\n",
        "print(type(multiply2(4,5)))                        # 4 ile 5 integer oldugu icin integer dondurdu, "
      ],
      "metadata": {
        "colab": {
          "base_uri": "https://localhost:8080/"
        },
        "id": "x1UHTKLo9U98",
        "outputId": "d677382a-e0e5-485a-acb6-7e446f0aa826"
      },
      "execution_count": 9,
      "outputs": [
        {
          "output_type": "stream",
          "name": "stdout",
          "text": [
            "20\n",
            "20\n",
            "<class 'NoneType'>\n",
            "<class 'int'>\n"
          ]
        }
      ]
    },
    {
      "cell_type": "code",
      "source": [
        "# string ile kullanimi\n",
        "\n",
        "def multiply1(argument1, argument2) :\n",
        "  print(argument1 * argument2)\n",
        "\n",
        "def multiply2(argument1, argument2):\n",
        "  return(argument1 * argument2)\n",
        "\n",
        "multiply1(4,\"izmir \")                \n",
        "\n",
        "multiply2(4,\"izmir \")\n",
        "\n",
        "print(type(multiply1(4,\"izmir \")))                    \n",
        "print(type(multiply2(4,\"izmir \")))  "
      ],
      "metadata": {
        "colab": {
          "base_uri": "https://localhost:8080/"
        },
        "id": "sjnM9hZY9sbE",
        "outputId": "1a53d406-4d93-4783-ae40-5789db64765c"
      },
      "execution_count": 11,
      "outputs": [
        {
          "output_type": "stream",
          "name": "stdout",
          "text": [
            "izmir izmir izmir izmir \n",
            "izmir izmir izmir izmir \n",
            "<class 'NoneType'>\n",
            "<class 'str'>\n"
          ]
        }
      ]
    },
    {
      "cell_type": "code",
      "source": [
        "# return ve print farkini anlamak icin;\n",
        "\n",
        "def ella(a,b):\n",
        "  return(a+b)\n",
        "\n",
        "print(ella(3, 4) + 7)"
      ],
      "metadata": {
        "colab": {
          "base_uri": "https://localhost:8080/"
        },
        "id": "Kr7TXVM5-Nmp",
        "outputId": "6613608b-9bd3-4e52-9e8b-a170e68665fe"
      },
      "execution_count": 19,
      "outputs": [
        {
          "output_type": "stream",
          "name": "stdout",
          "text": [
            "14\n"
          ]
        }
      ]
    },
    {
      "cell_type": "code",
      "source": [
        "def ella(a,b):\n",
        "  print(a+b)                         # unsupported operand type(s) for +: 'NoneType' and 'int'\n",
        "\n",
        "print(ella(3, 4) + 7)"
      ],
      "metadata": {
        "colab": {
          "base_uri": "https://localhost:8080/",
          "height": 227
        },
        "id": "lNkeQSq4Ai7H",
        "outputId": "d016d58d-9f1a-4c3e-af43-46026f44f09d"
      },
      "execution_count": 18,
      "outputs": [
        {
          "output_type": "stream",
          "name": "stdout",
          "text": [
            "7\n"
          ]
        },
        {
          "output_type": "error",
          "ename": "TypeError",
          "evalue": "ignored",
          "traceback": [
            "\u001b[0;31m---------------------------------------------------------------------------\u001b[0m",
            "\u001b[0;31mTypeError\u001b[0m                                 Traceback (most recent call last)",
            "\u001b[0;32m<ipython-input-18-ca0335646172>\u001b[0m in \u001b[0;36m<module>\u001b[0;34m()\u001b[0m\n\u001b[1;32m      2\u001b[0m   \u001b[0mprint\u001b[0m\u001b[0;34m(\u001b[0m\u001b[0ma\u001b[0m\u001b[0;34m+\u001b[0m\u001b[0mb\u001b[0m\u001b[0;34m)\u001b[0m\u001b[0;34m\u001b[0m\u001b[0;34m\u001b[0m\u001b[0m\n\u001b[1;32m      3\u001b[0m \u001b[0;34m\u001b[0m\u001b[0m\n\u001b[0;32m----> 4\u001b[0;31m \u001b[0mprint\u001b[0m\u001b[0;34m(\u001b[0m\u001b[0mella\u001b[0m\u001b[0;34m(\u001b[0m\u001b[0;36m3\u001b[0m\u001b[0;34m,\u001b[0m \u001b[0;36m4\u001b[0m\u001b[0;34m)\u001b[0m \u001b[0;34m+\u001b[0m \u001b[0;36m7\u001b[0m\u001b[0;34m)\u001b[0m\u001b[0;34m\u001b[0m\u001b[0;34m\u001b[0m\u001b[0m\n\u001b[0m",
            "\u001b[0;31mTypeError\u001b[0m: unsupported operand type(s) for +: 'NoneType' and 'int'"
          ]
        }
      ]
    },
    {
      "cell_type": "code",
      "source": [
        "##n Not: func cagirirken tanimlama esnasinda kac adet parameter giildi ise ayni sayida argumen girilmelidir\n",
        "\n",
        "def multiply1(argument1, argument2) :\n",
        "  print(argument1 * argument2)\n",
        "\n",
        "def multiply2(argument1, argument2):\n",
        "  return(argument1 * argument2)\n",
        "\n",
        "multiply1(\"izmir \")       # 4 u burdan silersek hata verecektir.         \n",
        "\n",
        "multiply2(4,\"izmir \")"
      ],
      "metadata": {
        "colab": {
          "base_uri": "https://localhost:8080/",
          "height": 245
        },
        "id": "6087WX27BoGA",
        "outputId": "64db6233-f54c-4eda-d45d-ba7db095640e"
      },
      "execution_count": 20,
      "outputs": [
        {
          "output_type": "error",
          "ename": "TypeError",
          "evalue": "ignored",
          "traceback": [
            "\u001b[0;31m---------------------------------------------------------------------------\u001b[0m",
            "\u001b[0;31mTypeError\u001b[0m                                 Traceback (most recent call last)",
            "\u001b[0;32m<ipython-input-20-c1299de71079>\u001b[0m in \u001b[0;36m<module>\u001b[0;34m()\u001b[0m\n\u001b[1;32m      7\u001b[0m   \u001b[0;32mreturn\u001b[0m\u001b[0;34m(\u001b[0m\u001b[0margument1\u001b[0m \u001b[0;34m*\u001b[0m \u001b[0margument2\u001b[0m\u001b[0;34m)\u001b[0m\u001b[0;34m\u001b[0m\u001b[0;34m\u001b[0m\u001b[0m\n\u001b[1;32m      8\u001b[0m \u001b[0;34m\u001b[0m\u001b[0m\n\u001b[0;32m----> 9\u001b[0;31m \u001b[0mmultiply1\u001b[0m\u001b[0;34m(\u001b[0m\u001b[0;34m\"izmir \"\u001b[0m\u001b[0;34m)\u001b[0m       \u001b[0;31m# 4 u burdan silersek hata verecektir.\u001b[0m\u001b[0;34m\u001b[0m\u001b[0;34m\u001b[0m\u001b[0m\n\u001b[0m\u001b[1;32m     10\u001b[0m \u001b[0;34m\u001b[0m\u001b[0m\n\u001b[1;32m     11\u001b[0m \u001b[0mmultiply2\u001b[0m\u001b[0;34m(\u001b[0m\u001b[0;36m4\u001b[0m\u001b[0;34m,\u001b[0m\u001b[0;34m\"izmir \"\u001b[0m\u001b[0;34m)\u001b[0m\u001b[0;34m\u001b[0m\u001b[0;34m\u001b[0m\u001b[0m\n",
            "\u001b[0;31mTypeError\u001b[0m: multiply1() missing 1 required positional argument: 'argument2'"
          ]
        }
      ]
    },
    {
      "cell_type": "code",
      "source": [
        "# eger bi function tanimlarken birden fazla return var ise ilk yazilani cevirir\n",
        "\n",
        "def multiply2(argument1, argument2) :\n",
        "  return(argument1 * argument2)\n",
        "  return(argument1 + argument2)\n",
        "  return(argument1 - argument2)\n",
        "\n",
        "\n",
        "multiply2(10, 5)"
      ],
      "metadata": {
        "colab": {
          "base_uri": "https://localhost:8080/"
        },
        "id": "EUAWQuOXC6yR",
        "outputId": "7d5a0c81-0ffc-4f8f-d62c-7da2d6b3af64"
      },
      "execution_count": 21,
      "outputs": [
        {
          "output_type": "execute_result",
          "data": {
            "text/plain": [
              "50"
            ]
          },
          "metadata": {},
          "execution_count": 21
        }
      ]
    },
    {
      "cell_type": "code",
      "source": [
        "# print basa yazilirsa ptrinti yazdirir sonra ilk returnu yazdiriri\n",
        "\n",
        "def multiply2(argument1, argument2) :\n",
        "  print(argument1 + argument2)\n",
        "  return(argument1 * argument2)\n",
        "  return(argument1 + argument2)\n",
        "  return(argument1 - argument2)\n",
        "\n",
        "multiply2(10, 5)\n"
      ],
      "metadata": {
        "colab": {
          "base_uri": "https://localhost:8080/"
        },
        "id": "dgunGxsfDujg",
        "outputId": "cb116e97-0c37-4af5-af19-b7f45ccbf0b8"
      },
      "execution_count": 22,
      "outputs": [
        {
          "output_type": "stream",
          "name": "stdout",
          "text": [
            "15\n"
          ]
        },
        {
          "output_type": "execute_result",
          "data": {
            "text/plain": [
              "50"
            ]
          },
          "metadata": {},
          "execution_count": 22
        }
      ]
    },
    {
      "cell_type": "code",
      "source": [
        "# functionlrimizi tnaimlarken her zman basit ve anlasirlir yapmamiz gerekir\n",
        "\n",
        "# diger bir husus ise olusturdugumuz function in daha sonra bunun ne ise yaradgini ve nerelerde kullanmak icin olusturdugumuzu aciklama icin birer commet ya da docstring yazmak iyi olacaktir"
      ],
      "metadata": {
        "id": "jLenPHiBEPKY"
      },
      "execution_count": null,
      "outputs": []
    },
    {
      "cell_type": "code",
      "source": [
        "def ella():\n",
        "  girdi = input(\"lutfen adinizi giriniz: \")\n",
        "  girdi = girdi[0]\n",
        "  return girdi\n",
        "ella()"
      ],
      "metadata": {
        "colab": {
          "base_uri": "https://localhost:8080/",
          "height": 54
        },
        "id": "Ob5wfH3-5nkP",
        "outputId": "9fdc30cb-49b4-4c39-f93d-f41c279e2f81"
      },
      "execution_count": 2,
      "outputs": [
        {
          "name": "stdout",
          "output_type": "stream",
          "text": [
            "lutfen adinizi giriniz: canitin\n"
          ]
        },
        {
          "output_type": "execute_result",
          "data": {
            "application/vnd.google.colaboratory.intrinsic+json": {
              "type": "string"
            },
            "text/plain": [
              "'c'"
            ]
          },
          "metadata": {},
          "execution_count": 2
        }
      ]
    },
    {
      "cell_type": "code",
      "source": [
        "# mesela ileriki bir tarihte kodumuzun arasindaki kisaltmis oldugumuz isim ve soysim bloklarini buyuk harfle yazirmak iestedik.\n",
        "# bu durumda sadece kendi olusturdugumuz fuction daki kod da oynama yapmamiz yeterlidir."
      ],
      "metadata": {
        "id": "y9PZ0Q2k505q"
      },
      "execution_count": null,
      "outputs": []
    },
    {
      "cell_type": "code",
      "source": [
        "# ornek :\n",
        "\n",
        "def kisaltma(name) :\n",
        "  kisa = name[0:1].upper()\n",
        "  return(kisa)\n",
        "\n",
        "isim = input(\"isim giriniz :\")\n",
        "isim_kisaltma = kisaltma(isim)\n",
        "\n",
        "soyisim = input('soyadinizi giriniz :')\n",
        "soyisim_kisaltma = kisaltma(soyisim)\n",
        "\n",
        "print('isminizi ve soisminizin kisaltmasi : ', isim_kisaltma + soyisim_kisaltma)\n"
      ],
      "metadata": {
        "colab": {
          "base_uri": "https://localhost:8080/"
        },
        "id": "-Lq08qnWCjac",
        "outputId": "20b2451f-7f67-42f2-b7b0-3e8be8ee2452"
      },
      "execution_count": 5,
      "outputs": [
        {
          "output_type": "stream",
          "name": "stdout",
          "text": [
            "isim giriniz :ella\n",
            "soyadinizi giriniz :johnson\n",
            "isminizi ve soisminizin kisaltmasi :  EJ\n"
          ]
        }
      ]
    },
    {
      "cell_type": "code",
      "source": [
        "def kisaltma(name) :\n",
        "  kisa = name[0:1].upper()\n",
        "  return(kisa)\n",
        "\n",
        "isim = input(\"isim giriniz :\")\n",
        "\n",
        "soyisim = input('soyadinizi giriniz :')\n",
        "\n",
        "print(kisaltma(isim), kisaltma(soyisim))"
      ],
      "metadata": {
        "colab": {
          "base_uri": "https://localhost:8080/"
        },
        "id": "Hq-CLCloDSII",
        "outputId": "3452e8da-f748-4956-e259-57ab808bdd4f"
      },
      "execution_count": 6,
      "outputs": [
        {
          "output_type": "stream",
          "name": "stdout",
          "text": [
            "isim giriniz :Ella\n",
            "soyadinizi giriniz :Johnson\n",
            "E J\n"
          ]
        }
      ]
    },
    {
      "cell_type": "code",
      "source": [
        "# dikfortgenin alanini hesapkayan bir function yaziniz\n",
        "\n",
        "def dik_alan(a,b):\n",
        "  return(a*b)\n",
        "\n",
        "dik_alan(5,6)"
      ],
      "metadata": {
        "colab": {
          "base_uri": "https://localhost:8080/"
        },
        "id": "8RnACrHiFFnQ",
        "outputId": "aa2c2324-d717-492a-e333-ab8ac1e362a0"
      },
      "execution_count": 7,
      "outputs": [
        {
          "output_type": "execute_result",
          "data": {
            "text/plain": [
              "30"
            ]
          },
          "metadata": {},
          "execution_count": 7
        }
      ]
    },
    {
      "cell_type": "code",
      "source": [
        "# once bir func tanimlayalim. bu func icersine liste gibi bir iterable alsin daha sonra bu iterablein elemanlari arasinda gezinerek en uzun olanini bulsun ve en uzun elemani bize print etsin.\n",
        "\n",
        "# daha sonra kullanicidan isimler isteyeleim ve bu isimlerden hangisininen uzun oldugunu tanimladigiiz bu func vasitasi ile tespit ederlim\n",
        "\n",
        "\n",
        "def karsilastirma(iterable):                            # fonksiyonu tanimlarken kullandigimiz parameter , cagirirken kullandigimiz argument\n",
        "  counter = 0\n",
        "  enuzun = ''\n",
        "  for i in iterable:                                                                   # for dongusu ile kullanicinin girdigi iterablein ierisnie giriyor, cumlenin ilk kelimesi (i) counterdan uzunsa yani 0 dan buyukse,\n",
        "    counter = len(i)                                                                       o zman counter len(i) ye esit olsun en uzun kelime de (i) olsun.   \n",
        "    enuzun = i\n",
        "  print('girdigniz en uzun isim :', enuzun, 've', counter, 'karakteridir')\n",
        "\n",
        "girdi = list(map(str, input('lutfen girmek istedigniz isimleri yaziniz : ').split()))           # map() ketum func o yuzden basina list gibi bir func yaziyoruz. iterable icindeki elemanlari tek tek almak icin map veya fr dongusunu kullanabiliriz.\n",
        "\n",
        "karsilastirma(girdi)"
      ],
      "metadata": {
        "colab": {
          "base_uri": "https://localhost:8080/"
        },
        "id": "msvad8LzFyYl",
        "outputId": "e209ac04-41e6-46bb-c0a0-36b9b1362f17"
      },
      "execution_count": 13,
      "outputs": [
        {
          "output_type": "stream",
          "name": "stdout",
          "text": [
            "lutfen girmek istedigniz isimleri yaziniz : seni cok seviyorum\n",
            "girdigniz en uzun isim : seviyorum ve 9 karakteridir\n"
          ]
        }
      ]
    },
    {
      "cell_type": "code",
      "source": [
        "map(int, input('lutfen bir sayi giriniz :'))   # ketum func. acmak lazim"
      ],
      "metadata": {
        "colab": {
          "base_uri": "https://localhost:8080/"
        },
        "id": "x7fIArVoHZVw",
        "outputId": "2de3f0e1-bd61-42a0-feb8-b618a6fca415"
      },
      "execution_count": 14,
      "outputs": [
        {
          "name": "stdout",
          "output_type": "stream",
          "text": [
            "lutfen bir sayi giriniz :15\n"
          ]
        },
        {
          "output_type": "execute_result",
          "data": {
            "text/plain": [
              "<map at 0x7f3a5992da50>"
            ]
          },
          "metadata": {},
          "execution_count": 14
        }
      ]
    },
    {
      "cell_type": "code",
      "source": [
        "girdi = list(map(int, input('lutfen bir sayi giriniz :')))\n",
        "\n",
        "print(girdi)                               # kullanici birden fazla deger girerse hata verir, bu nedenle split() kullaniyoruz."
      ],
      "metadata": {
        "colab": {
          "base_uri": "https://localhost:8080/"
        },
        "id": "g18ZJ_3pO_BA",
        "outputId": "7bd0b3f2-8bf2-4475-8d07-617ae3331cb2"
      },
      "execution_count": 15,
      "outputs": [
        {
          "output_type": "stream",
          "name": "stdout",
          "text": [
            "lutfen bir sayi giriniz :15\n",
            "[1, 5]\n"
          ]
        }
      ]
    },
    {
      "cell_type": "code",
      "source": [
        "girdi = list(map(int, input('lutfen bir sayi giriniz :').split()))\n",
        "\n",
        "print(girdi)                               # kullanici birden fazla deger girerse hata verir, bu nedenle split() kullaniyoruz. spliti map fonksiyonunu icine yazmaliyiz"
      ],
      "metadata": {
        "colab": {
          "base_uri": "https://localhost:8080/"
        },
        "id": "5TiBT_WdPHpe",
        "outputId": "95d00d9c-019e-4c99-8a26-5a1d90392453"
      },
      "execution_count": 17,
      "outputs": [
        {
          "output_type": "stream",
          "name": "stdout",
          "text": [
            "lutfen bir sayi giriniz :15 68 1 52 \n",
            "[15, 68, 1, 52]\n"
          ]
        }
      ]
    },
    {
      "cell_type": "code",
      "source": [
        "girdi = list(map(int, input('lutfen bir sayi giriniz :').split()))\n",
        "\n",
        "bos = []\n",
        "\n",
        "for i in girdi:\n",
        "  i = int(i)               # bu satiri direk .append() fonk icinede yazabilriz.boylece kod 1 satir azalir\n",
        "  bos.append(i)\n",
        "\n",
        "print(bos)\n"
      ],
      "metadata": {
        "colab": {
          "base_uri": "https://localhost:8080/"
        },
        "id": "QqXK2yIkQTQK",
        "outputId": "66ca1e30-1188-4578-8db3-f44c838daaab"
      },
      "execution_count": 18,
      "outputs": [
        {
          "output_type": "stream",
          "name": "stdout",
          "text": [
            "lutfen bir sayi giriniz :89 65 85 1 3 6\n",
            "[89, 65, 85, 1, 3, 6]\n"
          ]
        }
      ]
    },
    {
      "cell_type": "code",
      "source": [
        "girdi = list(map(str, input('lutfen bir sayi giriniz :')))      # map fonksiyonu icinde yazdigimiz fonc onemlidir. burada integer yazmamiz daha uygun oalcaktir cunku sayilari ayirmaya calisiyoruz\n",
        "                                                                 # str yazarsak, map fonc girilen sayilari str olarak algilar ve o sekilde ayirir                                                              \n",
        "print(girdi)  "
      ],
      "metadata": {
        "colab": {
          "base_uri": "https://localhost:8080/"
        },
        "id": "3Wi1QngaROXN",
        "outputId": "7b86e417-158c-4a8a-8324-3ccfadc0c7e5"
      },
      "execution_count": 19,
      "outputs": [
        {
          "output_type": "stream",
          "name": "stdout",
          "text": [
            "lutfen bir sayi giriniz :15 46 2\n",
            "['1', '5', ' ', '4', '6', ' ', '2']\n"
          ]
        }
      ]
    },
    {
      "cell_type": "code",
      "source": [
        "###### the metter od arguments ########"
      ],
      "metadata": {
        "id": "OhmSc5RmhDLf"
      },
      "execution_count": null,
      "outputs": []
    },
    {
      "cell_type": "code",
      "source": [
        "def kim(isim, soyisim):    ## burada isim ve soyisim func in parametreleridir\n",
        " print(f\"sizin isminiz {isim}\")\n",
        " print('sizin soyisminiz {}'.format(soyisim))\n",
        "\n",
        "kim('brad', 'pitt')                # burada brad ve pitt argumandir"
      ],
      "metadata": {
        "colab": {
          "base_uri": "https://localhost:8080/"
        },
        "id": "l_hBn5SWiP2Y",
        "outputId": "0cfc0d05-dde8-49cd-9e2a-b9d356dbcf27"
      },
      "execution_count": 21,
      "outputs": [
        {
          "output_type": "stream",
          "name": "stdout",
          "text": [
            "sizin isminiz brad\n",
            "sizin soyisminiz pitt\n"
          ]
        }
      ]
    },
    {
      "cell_type": "code",
      "source": [
        "#### correct use of arguments #####"
      ],
      "metadata": {
        "id": "lPBVaAY-lKvU"
      },
      "execution_count": null,
      "outputs": []
    },
    {
      "cell_type": "code",
      "source": [
        "# 1 : positional agument(konumsal)\n",
        "# 2 : keyword argumentss(kwarg)\n",
        "\n",
        "# su ana kadar ogrendigimiz argumanlar konumsal olanlardir.\n",
        "# arguanlarin konumu yani ulanim sirasi cok onemlidir.\n",
        "\n",
        "# ornegin:\n",
        "\n",
        "def pos_args(a, b):                                   # a ve b konumsal argumanlardir , yerleri degisirse kod farkli output verir\n",
        "  print(a, ' is the first argument')\n",
        "  print(b, 'is the second argument')\n",
        "\n",
        "pos_args(3, 4)"
      ],
      "metadata": {
        "id": "s4IcVcd7ngMm"
      },
      "execution_count": null,
      "outputs": []
    },
    {
      "cell_type": "code",
      "source": [
        "###  keywords argument\n",
        "\n",
        "# bir islevi cagirdigimizda argumanlarin pozisyonlarinin bizi kisitlamasini istemiyorsak bu argumanlari anahtar kelimelerle cagiririz.\n",
        "\n",
        "# kwargs = values seklinde formule edilirler"
      ],
      "metadata": {
        "id": "nTXlQ0Rzrs3n"
      },
      "execution_count": null,
      "outputs": []
    },
    {
      "cell_type": "code",
      "source": [
        "def who(first, last):\n",
        "  print('your firt name is :', first)\n",
        "  print(f' your last name is {last}')\n",
        "\n",
        "who(first = 'guido', last = \" van rossum\")"
      ],
      "metadata": {
        "colab": {
          "base_uri": "https://localhost:8080/"
        },
        "id": "Do98PLqhsH4f",
        "outputId": "60f446d4-dd93-41a5-9bbd-610f201ec7c1"
      },
      "execution_count": 23,
      "outputs": [
        {
          "output_type": "stream",
          "name": "stdout",
          "text": [
            "your firt name is : guido\n",
            " your last name is  van rossum\n"
          ]
        }
      ]
    },
    {
      "cell_type": "code",
      "source": [
        "def who(first, last):\n",
        "  print('your firt name is :', first)\n",
        "  print(f' your last name is {last}')\n",
        "\n",
        "who(last = \" van rossum\", first = 'guido', )"
      ],
      "metadata": {
        "colab": {
          "base_uri": "https://localhost:8080/"
        },
        "id": "ut4QkEc1tl8S",
        "outputId": "a8c693c8-841e-401d-f9ff-d8276caac9c5"
      },
      "execution_count": 24,
      "outputs": [
        {
          "output_type": "stream",
          "name": "stdout",
          "text": [
            "your firt name is : guido\n",
            " your last name is  van rossum\n"
          ]
        }
      ]
    },
    {
      "cell_type": "code",
      "source": [
        "## onemli\n",
        "\n",
        "# positioonal arguman kullaniminda kullanicinin gitmesi gereken argumena:\n",
        "# required argument denir\n",
        "\n",
        "# keywords arguman kullanimda ise:\n",
        "# optional arguments denir."
      ],
      "metadata": {
        "id": "E5MgxTIiuYTT"
      },
      "execution_count": null,
      "outputs": []
    }
  ]
}