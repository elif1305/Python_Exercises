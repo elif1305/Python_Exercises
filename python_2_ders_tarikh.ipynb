{
  "nbformat": 4,
  "nbformat_minor": 0,
  "metadata": {
    "colab": {
      "name": "python_2. ders.ipynb",
      "provenance": [],
      "collapsed_sections": []
    },
    "kernelspec": {
      "name": "python3",
      "display_name": "Python 3"
    },
    "language_info": {
      "name": "python"
    }
  },
  "cells": [
    {
      "cell_type": "code",
      "metadata": {
        "colab": {
          "base_uri": "https://localhost:8080/"
        },
        "id": "pEipUz1ZmEML",
        "outputId": "d90ee5d2-c79d-489a-f14f-9be2b610e6b3"
      },
      "source": [
        "#  Basic Data Types\n",
        "\n",
        "a = \"ali\""
      ],
      "execution_count": null,
      "outputs": [
        {
          "output_type": "stream",
          "name": "stdout",
          "text": [
            "30\n"
          ]
        }
      ]
    },
    {
      "cell_type": "code",
      "metadata": {
        "id": "29Ml5Iy5NO3B"
      },
      "source": [
        "# Variables\n",
        "\n",
        "# Tanimladigimiz her bir degisken hafizada yer eder.\n",
        "# Ne kadar cok degisken olursa o kadar cok yer isgal eder"
      ],
      "execution_count": null,
      "outputs": []
    },
    {
      "cell_type": "code",
      "metadata": {
        "id": "EUghtvd7NO60"
      },
      "source": [
        "# degiskenler =  ile tanimlanir"
      ],
      "execution_count": null,
      "outputs": []
    },
    {
      "cell_type": "code",
      "metadata": {
        "id": "sZKvuQddNO80"
      },
      "source": [
        "# Degiskenleri ne icin kullaniyoruz? \n",
        "\n",
        "# degiskenler bizim isimizi kolaylastirirlar\n",
        "\n",
        "# cohort10 = \"icerisinde 300 kisi var\"\n",
        "# cohort9 =  300 kisi var\n",
        "# derstekrari = 20 kisi var\n",
        "\n",
        "# biz cohort 10 ögrencileri icin tek tek isim söylemeyiz\n",
        "# ve artik cohort 10 gelsin dedigimizde elimizde cohort10 degil 300 ögrenci vardir\n",
        "# atama assigning yaptik\n",
        "\n",
        "\n",
        "# degisken icerisindeki veri tipi nedir?\n",
        "\n",
        "# cohort10 dedigimizde karsimiza 300 ögrenci cikar. yani value muz ögrenci tipidir.\n",
        "# mesela cohort 6 dedigimizde karsimiza 300 calisan personel cikar. yani valuemuz calisan tipi bir deger\n",
        "\n",
        "# instructors diye bir variable atadigimizda o zaman veri tipimiz ögretmen tipi bir veri olacaktir\n",
        "\n",
        "\n",
        "a = \"tarik\"\n",
        "\n",
        "b = 123"
      ],
      "execution_count": null,
      "outputs": []
    },
    {
      "cell_type": "code",
      "metadata": {
        "id": "qDb1H10CNO-o"
      },
      "source": [
        "# bir degiskene deger atamaya assigning denir.\n",
        "\n",
        "# myliste = \"ayse\"  burada ayse ismini myliste degiskenine assign ediyoruz"
      ],
      "execution_count": null,
      "outputs": []
    },
    {
      "cell_type": "code",
      "metadata": {
        "colab": {
          "base_uri": "https://localhost:8080/",
          "height": 132
        },
        "id": "BD-M23O8NPCw",
        "outputId": "eec85de7-a70b-427b-8a42-a94cf14ec82e"
      },
      "source": [
        "# Naming Variables: degiskenlere nasil isim verilir?\n",
        "\n",
        "# degisken ismi bir integer olamaz\n",
        "\n",
        "8 = \"ali\"\n",
        "\n",
        "print(8)  # bazi kurallarimiz PEP 8 e göre yanlistir ama kod calisir\n",
        "            # burada ise kod hic calismaz cünkü hatalidir"
      ],
      "execution_count": null,
      "outputs": [
        {
          "output_type": "error",
          "ename": "SyntaxError",
          "evalue": "ignored",
          "traceback": [
            "\u001b[0;36m  File \u001b[0;32m\"<ipython-input-46-8518763ecf07>\"\u001b[0;36m, line \u001b[0;32m5\u001b[0m\n\u001b[0;31m    8 = \"ali\"\u001b[0m\n\u001b[0m             ^\u001b[0m\n\u001b[0;31mSyntaxError\u001b[0m\u001b[0;31m:\u001b[0m can't assign to literal\n"
          ]
        }
      ]
    },
    {
      "cell_type": "code",
      "metadata": {
        "id": "7drmQqpUNPGd"
      },
      "source": [
        "# degisken isimleri :\n",
        "\n",
        "# mümkün oldugunca anlasilir olmali\n",
        "\n",
        "# mümkün oldugunca kisa olmali ama kisaltma yapmak isterken anlasilmaz olmamali\n",
        "\n",
        "# bedeno = (\"python\", \"linux\")  <==  Bad Example \n"
      ],
      "execution_count": null,
      "outputs": []
    },
    {
      "cell_type": "code",
      "metadata": {
        "colab": {
          "base_uri": "https://localhost:8080/"
        },
        "id": "k_mSuZrhNPI3",
        "outputId": "f09e5f90-0adb-4e6b-fdbe-b85612eca98e"
      },
      "source": [
        "# iki kelime arasinda - kullanirsak kod calisir mi ?\n",
        "\n",
        "benim_evim = \"kirmizi\"\n",
        "\n",
        "print(benim_evim)"
      ],
      "execution_count": null,
      "outputs": [
        {
          "output_type": "stream",
          "name": "stdout",
          "text": [
            "kirmizi\n"
          ]
        }
      ]
    },
    {
      "cell_type": "code",
      "metadata": {
        "colab": {
          "base_uri": "https://localhost:8080/",
          "height": 202
        },
        "id": "GW0Oy8e6R_pJ",
        "outputId": "d84ea624-0c6c-49a9-de80-f28c06adaaed"
      },
      "source": [
        "# nokta da hata verir\n",
        "\n",
        "benim.evim = \"kirmizi\"\n",
        "\n",
        "print(benim.evim)"
      ],
      "execution_count": null,
      "outputs": [
        {
          "output_type": "error",
          "ename": "NameError",
          "evalue": "ignored",
          "traceback": [
            "\u001b[0;31m---------------------------------------------------------------------------\u001b[0m",
            "\u001b[0;31mNameError\u001b[0m                                 Traceback (most recent call last)",
            "\u001b[0;32m<ipython-input-3-62554a03ca81>\u001b[0m in \u001b[0;36m<module>\u001b[0;34m()\u001b[0m\n\u001b[0;32m----> 1\u001b[0;31m \u001b[0mbenim\u001b[0m\u001b[0;34m.\u001b[0m\u001b[0mevim\u001b[0m \u001b[0;34m=\u001b[0m \u001b[0;34m\"kirmizi\"\u001b[0m\u001b[0;34m\u001b[0m\u001b[0;34m\u001b[0m\u001b[0m\n\u001b[0m\u001b[1;32m      2\u001b[0m \u001b[0;34m\u001b[0m\u001b[0m\n\u001b[1;32m      3\u001b[0m \u001b[0mprint\u001b[0m\u001b[0;34m(\u001b[0m\u001b[0mbenim\u001b[0m\u001b[0;34m.\u001b[0m\u001b[0mevim\u001b[0m\u001b[0;34m)\u001b[0m\u001b[0;34m\u001b[0m\u001b[0;34m\u001b[0m\u001b[0m\n",
            "\u001b[0;31mNameError\u001b[0m: name 'benim' is not defined"
          ]
        }
      ]
    },
    {
      "cell_type": "code",
      "metadata": {
        "colab": {
          "base_uri": "https://localhost:8080/"
        },
        "id": "nUfQhIUKR_ru",
        "outputId": "855a47f6-91f6-4fac-eaa1-56e8dd5eee35"
      },
      "source": [
        "benim____evim = \"kirmizi\" # birden cok _ olur\n",
        "\n",
        "print(benim____evim)"
      ],
      "execution_count": null,
      "outputs": [
        {
          "output_type": "stream",
          "name": "stdout",
          "text": [
            "kirmizi\n"
          ]
        }
      ]
    },
    {
      "cell_type": "code",
      "metadata": {
        "colab": {
          "base_uri": "https://localhost:8080/",
          "height": 202
        },
        "id": "g67zNzIuR_tI",
        "outputId": "58f89114-7bb2-4435-d4cf-7a7ff55a993c"
      },
      "source": [
        "benim,evim = \"kirmizi\"  # , de olmaz\n",
        "\n",
        "print(benim,evim)"
      ],
      "execution_count": null,
      "outputs": [
        {
          "output_type": "error",
          "ename": "ValueError",
          "evalue": "ignored",
          "traceback": [
            "\u001b[0;31m---------------------------------------------------------------------------\u001b[0m",
            "\u001b[0;31mValueError\u001b[0m                                Traceback (most recent call last)",
            "\u001b[0;32m<ipython-input-6-365eb32358a3>\u001b[0m in \u001b[0;36m<module>\u001b[0;34m()\u001b[0m\n\u001b[0;32m----> 1\u001b[0;31m \u001b[0mbenim\u001b[0m\u001b[0;34m,\u001b[0m\u001b[0mevim\u001b[0m \u001b[0;34m=\u001b[0m \u001b[0;34m\"kirmizi\"\u001b[0m\u001b[0;34m\u001b[0m\u001b[0;34m\u001b[0m\u001b[0m\n\u001b[0m\u001b[1;32m      2\u001b[0m \u001b[0;34m\u001b[0m\u001b[0m\n\u001b[1;32m      3\u001b[0m \u001b[0mprint\u001b[0m\u001b[0;34m(\u001b[0m\u001b[0mbenim\u001b[0m\u001b[0;34m,\u001b[0m\u001b[0mevim\u001b[0m\u001b[0;34m)\u001b[0m\u001b[0;34m\u001b[0m\u001b[0;34m\u001b[0m\u001b[0m\n",
            "\u001b[0;31mValueError\u001b[0m: too many values to unpack (expected 2)"
          ]
        }
      ]
    },
    {
      "cell_type": "code",
      "metadata": {
        "colab": {
          "base_uri": "https://localhost:8080/",
          "height": 132
        },
        "id": "-EItS9HrR_vS",
        "outputId": "a692fa84-bb6a-44c3-c0fb-370941c236e4"
      },
      "source": [
        "benim/evim = \"kirmizi\"  # forward slash olmaz\n",
        "\n",
        "print(benim/evim)"
      ],
      "execution_count": null,
      "outputs": [
        {
          "output_type": "error",
          "ename": "SyntaxError",
          "evalue": "ignored",
          "traceback": [
            "\u001b[0;36m  File \u001b[0;32m\"<ipython-input-7-1085f6081db5>\"\u001b[0;36m, line \u001b[0;32m1\u001b[0m\n\u001b[0;31m    benim/evim = \"kirmizi\"\u001b[0m\n\u001b[0m                          ^\u001b[0m\n\u001b[0;31mSyntaxError\u001b[0m\u001b[0;31m:\u001b[0m can't assign to operator\n"
          ]
        }
      ]
    },
    {
      "cell_type": "code",
      "metadata": {
        "colab": {
          "base_uri": "https://localhost:8080/",
          "height": 132
        },
        "id": "TM91wt6eR_xd",
        "outputId": "3b5d33ef-ba7f-424d-bbdd-860fdc65625a"
      },
      "source": [
        "benim+evim = \"kirmizi\"  # matematiksel isaretler olmaz\n",
        "\n",
        "print(benim+evim)"
      ],
      "execution_count": null,
      "outputs": [
        {
          "output_type": "error",
          "ename": "SyntaxError",
          "evalue": "ignored",
          "traceback": [
            "\u001b[0;36m  File \u001b[0;32m\"<ipython-input-8-ac40bc5b09a0>\"\u001b[0;36m, line \u001b[0;32m1\u001b[0m\n\u001b[0;31m    benim+evim = \"kirmizi\"\u001b[0m\n\u001b[0m                          ^\u001b[0m\n\u001b[0;31mSyntaxError\u001b[0m\u001b[0;31m:\u001b[0m can't assign to operator\n"
          ]
        }
      ]
    },
    {
      "cell_type": "code",
      "metadata": {
        "colab": {
          "base_uri": "https://localhost:8080/",
          "height": 132
        },
        "id": "3442WVoSR_zx",
        "outputId": "50e39b17-60cf-4699-e77a-22ad14d252a6"
      },
      "source": [
        "# aralarda bosluk olmaz \n",
        "\n",
        "benim evim = \"kirmizi\"\n",
        "\n",
        "print(benim evim)"
      ],
      "execution_count": null,
      "outputs": [
        {
          "output_type": "error",
          "ename": "SyntaxError",
          "evalue": "ignored",
          "traceback": [
            "\u001b[0;36m  File \u001b[0;32m\"<ipython-input-9-b5c49056305a>\"\u001b[0;36m, line \u001b[0;32m3\u001b[0m\n\u001b[0;31m    benim evim = \"kirmizi\"\u001b[0m\n\u001b[0m             ^\u001b[0m\n\u001b[0;31mSyntaxError\u001b[0m\u001b[0;31m:\u001b[0m invalid syntax\n"
          ]
        }
      ]
    },
    {
      "cell_type": "code",
      "metadata": {
        "colab": {
          "base_uri": "https://localhost:8080/"
        },
        "id": "oqSIHhPPR_1x",
        "outputId": "255e818b-f5e2-46e3-d8f8-58679ff1c54b"
      },
      "source": [
        "# google colab ve jupiter türkce karakter tanir ancak kullanmamakta fayda var \n",
        "# cünkü calisma hayatimizda bizim kodumuzu calistiran kisilerin kullandiklari ortamlarda\n",
        "# bizim kodumuz calismayabilir \n",
        "\n",
        "\n",
        "mercedes = 5000 Euro\n",
        "\n",
        "bmw = 7500 Euro\n",
        " \n"
      ],
      "execution_count": null,
      "outputs": [
        {
          "output_type": "stream",
          "name": "stdout",
          "text": [
            "33\n"
          ]
        }
      ]
    },
    {
      "cell_type": "code",
      "metadata": {
        "id": "btjqEiCzR_3M"
      },
      "source": [
        "# python case sensitive dir\n",
        "\n",
        "# büyük kücük harf paython da önemlidir\n",
        "\n",
        "time = 3\n",
        "\n",
        "print(Time)   #  bu islem hata verir\n",
        "#----------------------------------------\n",
        "\n",
        "a = \"bir\"\n",
        "\n",
        "A = \"bir\"   # bunlarin ikisi de tamamen farkli degiskenlerdir\n",
        "\n",
        "# ve ikisinin ASCII kodlari farklidir"
      ],
      "execution_count": null,
      "outputs": []
    },
    {
      "cell_type": "code",
      "metadata": {
        "colab": {
          "base_uri": "https://localhost:8080/",
          "height": 132
        },
        "id": "LWOqmFFUR_4_",
        "outputId": "bbbb77fd-8c37-4557-876d-19e5625e6fe3"
      },
      "source": [
        "# özel isimleri variable atarsak kod calisir mi?\n",
        "\n",
        "or = \"clarusway\"\n",
        "\n",
        "print(or)"
      ],
      "execution_count": null,
      "outputs": [
        {
          "output_type": "error",
          "ename": "SyntaxError",
          "evalue": "ignored",
          "traceback": [
            "\u001b[0;36m  File \u001b[0;32m\"<ipython-input-13-4c4fbafb5926>\"\u001b[0;36m, line \u001b[0;32m3\u001b[0m\n\u001b[0;31m    or = \"clarusway\"\u001b[0m\n\u001b[0m     ^\u001b[0m\n\u001b[0;31mSyntaxError\u001b[0m\u001b[0;31m:\u001b[0m invalid syntax\n"
          ]
        }
      ]
    },
    {
      "cell_type": "code",
      "metadata": {
        "colab": {
          "base_uri": "https://localhost:8080/",
          "height": 132
        },
        "id": "eAUGJPTINPMa",
        "outputId": "6f695ca9-3be0-41bd-bfff-44c514aff32e"
      },
      "source": [
        "# özel isimleri variable atarsak kod calisir mi?\n",
        "\n",
        "and = (\"class\")           \n",
        "\n",
        "\n",
        "mercedes = 5000\n",
        "\n",
        "print(mercedes)"
      ],
      "execution_count": null,
      "outputs": [
        {
          "output_type": "error",
          "ename": "SyntaxError",
          "evalue": "ignored",
          "traceback": [
            "\u001b[0;36m  File \u001b[0;32m\"<ipython-input-14-ecf6b91b016d>\"\u001b[0;36m, line \u001b[0;32m3\u001b[0m\n\u001b[0;31m    and = \"class\"\u001b[0m\n\u001b[0m      ^\u001b[0m\n\u001b[0;31mSyntaxError\u001b[0m\u001b[0;31m:\u001b[0m invalid syntax\n"
          ]
        }
      ]
    },
    {
      "cell_type": "code",
      "metadata": {
        "colab": {
          "base_uri": "https://localhost:8080/"
        },
        "id": "ay102HFgNPP0",
        "outputId": "df170fa9-b515-4da6-96b2-d36161b97a4a"
      },
      "source": [
        "# bazi python ideleri özel isimleri de calistirir ama biz kullanmamaya özen gösteriyoruz "
      ],
      "execution_count": null,
      "outputs": [
        {
          "output_type": "stream",
          "name": "stdout",
          "text": [
            "2\n"
          ]
        }
      ]
    },
    {
      "cell_type": "code",
      "metadata": {
        "id": "-srGZYC8gwcl"
      },
      "source": [
        "# özel isimleri kullanmak zorundaysak;\n",
        "\n",
        "# basina yada sonuna _ koyabiliriz\n",
        "\n",
        "and_ = \"ve\"\n",
        "\n",
        "_or_ = \"yada\"\n",
        "\n",
        "not_ = \"not\"\n",
        "\n",
        "class_ = \"sinif\"\n",
        "\n",
        "_True_ = \"dogru\""
      ],
      "execution_count": null,
      "outputs": []
    },
    {
      "cell_type": "code",
      "metadata": {
        "id": "DXvcGk2vgwff"
      },
      "source": [
        "# özel isimleri ezberlemek zorunda degiliz\n",
        "# yazdigimiz zaman renginden anliyoruz (mavi olur ve yanina aciklama cikar)"
      ],
      "execution_count": null,
      "outputs": []
    },
    {
      "cell_type": "code",
      "metadata": {
        "colab": {
          "base_uri": "https://localhost:8080/",
          "height": 132
        },
        "id": "fwoKHrTIgwhZ",
        "outputId": "837ce82f-fef1-48d3-f1f8-a196d1e14ad5"
      },
      "source": [
        "# degisken isimlerinde basta sayi ve tek basina sayi olmaz\n",
        "\n",
        "4test = \"\"    # hata verir  \n",
        "\n",
        "print(4test)"
      ],
      "execution_count": null,
      "outputs": [
        {
          "output_type": "error",
          "ename": "SyntaxError",
          "evalue": "ignored",
          "traceback": [
            "\u001b[0;36m  File \u001b[0;32m\"<ipython-input-52-ee1009af863d>\"\u001b[0;36m, line \u001b[0;32m3\u001b[0m\n\u001b[0;31m    4test = \"\"    # hata verir\u001b[0m\n\u001b[0m        ^\u001b[0m\n\u001b[0;31mSyntaxError\u001b[0m\u001b[0;31m:\u001b[0m invalid syntax\n"
          ]
        }
      ]
    },
    {
      "cell_type": "code",
      "metadata": {
        "colab": {
          "base_uri": "https://localhost:8080/"
        },
        "id": "CWSObLgPgwkY",
        "outputId": "e386e103-f71a-4e12-aead-b669aa764b8e"
      },
      "source": [
        "# ortada sayi olur:\n",
        "\n",
        "test4test = \"abc\"\n",
        "\n",
        "print(test4test)"
      ],
      "execution_count": null,
      "outputs": [
        {
          "output_type": "stream",
          "name": "stdout",
          "text": [
            "abc\n"
          ]
        }
      ]
    },
    {
      "cell_type": "code",
      "metadata": {
        "colab": {
          "base_uri": "https://localhost:8080/",
          "height": 132
        },
        "id": "1b1eZXyIgwn0",
        "outputId": "f5348401-a508-4068-ae0f-63d3aeeb124e"
      },
      "source": [
        "# özel karakter basta da olmaz sonda da olmaz ortada da olmaz\n",
        "\n",
        "benim% = \"benim\"\n",
        "\n",
        "print(benim%)"
      ],
      "execution_count": null,
      "outputs": [
        {
          "output_type": "error",
          "ename": "SyntaxError",
          "evalue": "ignored",
          "traceback": [
            "\u001b[0;36m  File \u001b[0;32m\"<ipython-input-18-ecf71d203c43>\"\u001b[0;36m, line \u001b[0;32m3\u001b[0m\n\u001b[0;31m    benim% = \"benim\"\u001b[0m\n\u001b[0m           ^\u001b[0m\n\u001b[0;31mSyntaxError\u001b[0m\u001b[0;31m:\u001b[0m invalid syntax\n"
          ]
        }
      ]
    },
    {
      "cell_type": "code",
      "metadata": {
        "colab": {
          "base_uri": "https://localhost:8080/",
          "height": 132
        },
        "id": "Ti2yxecTj31F",
        "outputId": "d0a2f0b4-c246-43f4-9a66-c333aa612a98"
      },
      "source": [
        "ben?im = \"benim\"\n",
        "\n",
        "print(ben?im)"
      ],
      "execution_count": null,
      "outputs": [
        {
          "output_type": "error",
          "ename": "SyntaxError",
          "evalue": "ignored",
          "traceback": [
            "\u001b[0;36m  File \u001b[0;32m\"<ipython-input-19-ec389c6d8609>\"\u001b[0;36m, line \u001b[0;32m1\u001b[0m\n\u001b[0;31m    ben?im = \"benim\"\u001b[0m\n\u001b[0m       ^\u001b[0m\n\u001b[0;31mSyntaxError\u001b[0m\u001b[0;31m:\u001b[0m invalid syntax\n"
          ]
        }
      ]
    },
    {
      "cell_type": "code",
      "metadata": {
        "id": "Toj6y7SLj34P"
      },
      "source": [
        "## degisken atama:\n",
        "\n",
        "a = b = c = \"ali\"\n",
        "\n",
        "print(b)  # output nedir\n",
        "\n",
        "print(c)  "
      ],
      "execution_count": null,
      "outputs": []
    },
    {
      "cell_type": "code",
      "metadata": {
        "colab": {
          "base_uri": "https://localhost:8080/"
        },
        "id": "QcgCQatBj363",
        "outputId": "8426fac8-499a-473a-d733-0ee4a89af1d8"
      },
      "source": [
        "computer = a = b = c = \"pc\"\n",
        "\n",
        "print(a)  # output nedir\n",
        "\n",
        "print(c)  # output nedir"
      ],
      "execution_count": null,
      "outputs": [
        {
          "output_type": "stream",
          "name": "stdout",
          "text": [
            "pc\n",
            "pc\n"
          ]
        }
      ]
    },
    {
      "cell_type": "code",
      "metadata": {
        "colab": {
          "base_uri": "https://localhost:8080/"
        },
        "id": "DsnbZVPBj38u",
        "outputId": "fbed665a-7cf4-42e2-8819-121d9e90c59e"
      },
      "source": [
        "#  =  kullanarak birbirine esit olan birden cok degiskeni tek satirda atayabiliriz\n",
        "\n",
        "# mesela ilk okul ögretmeni ögrenci notlarini giriyor diyelim \n",
        "\n",
        "ali = 90     # bu sekilde de yazilabilir ama uzundur\n",
        "büsra = 90     \n",
        "can = 90\n",
        "demir = 90\n",
        "esra = 90\n",
        "\n",
        "ali = büsra = can = demir = esra = 90\n",
        "\n",
        "# daha sonra bir yerde bize demir in lazim oldugunda \n",
        "\n",
        "print(demir)  komutunu calistirmamiz yeterli olacaktir"
      ],
      "execution_count": null,
      "outputs": [
        {
          "output_type": "stream",
          "name": "stdout",
          "text": [
            "90\n"
          ]
        }
      ]
    },
    {
      "cell_type": "code",
      "metadata": {
        "id": "HTeqXGwsj3-4"
      },
      "source": [
        "# Attention!!!: Degisken birden cok olabilir ama deger tektir\n",
        "\n",
        "meyve = sebze = yemek = icecek = [\"portakal\", \"elma\", \"su\"] \n",
        "\n",
        "# buradaki liste 3 elemalidir ama komple tek bir value dur."
      ],
      "execution_count": null,
      "outputs": []
    },
    {
      "cell_type": "code",
      "metadata": {
        "colab": {
          "base_uri": "https://localhost:8080/",
          "height": 132
        },
        "id": "bEuLKmWjgwps",
        "outputId": "30ab0551-9595-4cd0-a540-672d9cd2f91c"
      },
      "source": [
        "# =  ile birden cok degisken yazilabilir ama value dan sonra\n",
        "\n",
        "#  =  kullanarak artik baska bir value yazamayiz.\n",
        "\n",
        "meyve = sebze = yemek = icecek = [\"portakal\", \"elma\", \"su\"] = \"ali\"\n",
        "\n",
        "print(meyve)"
      ],
      "execution_count": null,
      "outputs": [
        {
          "output_type": "error",
          "ename": "SyntaxError",
          "evalue": "ignored",
          "traceback": [
            "\u001b[0;36m  File \u001b[0;32m\"<ipython-input-21-df2d15e35adf>\"\u001b[0;36m, line \u001b[0;32m1\u001b[0m\n\u001b[0;31m    meyve = sebze = yemek = icecek = [\"portakal\", \"elma\", \"su\"] = \"ali\"\u001b[0m\n\u001b[0m                                    ^\u001b[0m\n\u001b[0;31mSyntaxError\u001b[0m\u001b[0;31m:\u001b[0m can't assign to literal\n"
          ]
        }
      ]
    },
    {
      "cell_type": "code",
      "metadata": {
        "colab": {
          "base_uri": "https://localhost:8080/"
        },
        "id": "vxZB74E4u2qu",
        "outputId": "ab8b094f-61cf-4939-86ef-e95560409198"
      },
      "source": [
        "#  \n",
        "\n",
        "j = o = s = e = p = h = 41\n",
        "\n",
        "print(j,o,s,e,p,h)"
      ],
      "execution_count": null,
      "outputs": [
        {
          "output_type": "stream",
          "name": "stdout",
          "text": [
            "41 41 41 41 41 41\n"
          ]
        }
      ]
    },
    {
      "cell_type": "code",
      "metadata": {
        "colab": {
          "base_uri": "https://localhost:8080/"
        },
        "id": "3Cz_FNeVu2s8",
        "outputId": "51487903-25ac-4f3f-c72d-64b998d6ad99"
      },
      "source": [
        "thomas = 33\n",
        "marry = 40\n",
        "walter = None # ************  Eger birisinin adini bilmiyorsak ve bunu reserve etmek ve \n",
        "isabella = 41                 # hafizada yer kaplamamasini istiyorsak o zaman None atanir\n",
        "                              # None python da hicbir sey demektir. \n",
        "\n",
        "                                       \n",
        "print(walter)             \n",
        "\n",
        "                              # Bos birakirsak name error hatasi verir\n",
        "                              # x veremeyiz hata verir \n",
        "                              # ve bos bile biraksak hafizada 1 byte yer kaplar\n",
        "                              # ()  kullanabiliriz ama bu da hafiza da yer kaplar"
      ],
      "execution_count": null,
      "outputs": [
        {
          "output_type": "stream",
          "name": "stdout",
          "text": [
            "None\n"
          ]
        }
      ]
    },
    {
      "cell_type": "code",
      "metadata": {
        "colab": {
          "base_uri": "https://localhost:8080/"
        },
        "id": "6Mj3A2oYu2xF",
        "outputId": "67ddb132-dc55-4765-90f6-7109372aadf1"
      },
      "source": [
        "# assigning yaparken en son satir ne ise hafizada o tutulur\n",
        "\n",
        "a = 5\n",
        "a = 10\n",
        "a = 15\n",
        "a = 20\n",
        "a = 25\n",
        "\n",
        "# print(a)  #  sizce output ne olur ?????"
      ],
      "execution_count": null,
      "outputs": [
        {
          "output_type": "stream",
          "name": "stdout",
          "text": [
            "25\n"
          ]
        }
      ]
    },
    {
      "cell_type": "code",
      "metadata": {
        "colab": {
          "base_uri": "https://localhost:8080/"
        },
        "id": "ONIJyh8Ru20h",
        "outputId": "b4d65924-d70a-4bbc-9d8f-5b9e98230d87"
      },
      "source": [
        "# assigning yaparken en son satir ne ise hafizada o tutulur\n",
        "\n",
        "a = 5\n",
        "a += 5\n",
        "a -= 5\n",
        "a *= 5\n",
        "a /= 5    \n",
        "\n",
        "print(int(a))  #  sizce sonuc ne olur ?????"
      ],
      "execution_count": null,
      "outputs": [
        {
          "output_type": "stream",
          "name": "stdout",
          "text": [
            "5\n"
          ]
        }
      ]
    },
    {
      "cell_type": "code",
      "metadata": {
        "colab": {
          "base_uri": "https://localhost:8080/"
        },
        "id": "mMnYpIZ9u22v",
        "outputId": "43253814-43c9-420f-a0ae-7282423b7c8d"
      },
      "source": [
        "a = 10    \n",
        "b = 15\n",
        "c = 20\n",
        "d = 30  \n",
        "\n",
        "c = d\n",
        "\n",
        "\n",
        "\n",
        "print(c)\n",
        "\n",
        "print(b)\n",
        "\n",
        "print(c)\n",
        "\n",
        "print(d)  ##  ???????  sizce 4 output ne olur ???  "
      ],
      "execution_count": null,
      "outputs": [
        {
          "output_type": "stream",
          "name": "stdout",
          "text": [
            "30\n"
          ]
        }
      ]
    },
    {
      "cell_type": "code",
      "metadata": {
        "id": "_FHmVyLdu24b"
      },
      "source": [
        "# hatirlatma !!!!!\n",
        "\n",
        "# birden cok satiri ayni anda comment yapmanin diger yolu satirlari secip  control + #"
      ],
      "execution_count": null,
      "outputs": []
    },
    {
      "cell_type": "code",
      "metadata": {
        "id": "99-lL8KJu26h"
      },
      "source": [
        "# task \n",
        "\n",
        "x = 15\n",
        "y = 33\n",
        "z = x\n",
        "x = y\n",
        "\n",
        "\n",
        "print(x)        # Sizce outputlar nedir ??\n",
        "\n",
        "print(y)\n",
        "\n",
        "print(z)"
      ],
      "execution_count": null,
      "outputs": []
    },
    {
      "cell_type": "code",
      "metadata": {
        "id": "ZEIN0vxO-luv"
      },
      "source": [
        "# virgül kullanarak ayni anda birden fazla degisken ve deger atama\n",
        "\n",
        "# Attention:  ne kadar variable varsa o kadar sayida value olmak zorunda dir\n",
        "\n",
        "# a, b, c = 5, 3.2, \"hello\", \"world\"  # eger variable ve value sayisi esit olmazsa hata verir\n",
        "\n",
        "# print(a)\n",
        "\n",
        " "
      ],
      "execution_count": null,
      "outputs": []
    },
    {
      "cell_type": "code",
      "metadata": {
        "colab": {
          "base_uri": "https://localhost:8080/",
          "height": 238
        },
        "id": "1d075ezfDE3l",
        "outputId": "843a1064-a9ce-4462-9ede-f5497251d020"
      },
      "source": [
        "# tam tersi variable sayisi fazla olsa yine hata verir\n",
        "\n",
        "a, b, c, d, e = 5, 3.2, \"hello\"\n",
        "\n",
        "print(a)"
      ],
      "execution_count": null,
      "outputs": [
        {
          "output_type": "error",
          "ename": "ValueError",
          "evalue": "ignored",
          "traceback": [
            "\u001b[0;31m---------------------------------------------------------------------------\u001b[0m",
            "\u001b[0;31mValueError\u001b[0m                                Traceback (most recent call last)",
            "\u001b[0;32m<ipython-input-73-e1494a4feedb>\u001b[0m in \u001b[0;36m<module>\u001b[0;34m()\u001b[0m\n\u001b[1;32m      1\u001b[0m \u001b[0;31m# tam tersi variable sayisi fazla olsa yine hata verir\u001b[0m\u001b[0;34m\u001b[0m\u001b[0;34m\u001b[0m\u001b[0;34m\u001b[0m\u001b[0m\n\u001b[1;32m      2\u001b[0m \u001b[0;34m\u001b[0m\u001b[0m\n\u001b[0;32m----> 3\u001b[0;31m \u001b[0ma\u001b[0m\u001b[0;34m,\u001b[0m \u001b[0mb\u001b[0m\u001b[0;34m,\u001b[0m \u001b[0mc\u001b[0m\u001b[0;34m,\u001b[0m \u001b[0md\u001b[0m\u001b[0;34m,\u001b[0m \u001b[0me\u001b[0m \u001b[0;34m=\u001b[0m \u001b[0;36m5\u001b[0m\u001b[0;34m,\u001b[0m \u001b[0;36m3.2\u001b[0m\u001b[0;34m,\u001b[0m \u001b[0;34m\"hello\"\u001b[0m\u001b[0;34m\u001b[0m\u001b[0;34m\u001b[0m\u001b[0m\n\u001b[0m\u001b[1;32m      4\u001b[0m \u001b[0;34m\u001b[0m\u001b[0m\n\u001b[1;32m      5\u001b[0m \u001b[0mprint\u001b[0m\u001b[0;34m(\u001b[0m\u001b[0ma\u001b[0m\u001b[0;34m)\u001b[0m\u001b[0;34m\u001b[0m\u001b[0;34m\u001b[0m\u001b[0m\n",
            "\u001b[0;31mValueError\u001b[0m: not enough values to unpack (expected 5, got 3)"
          ]
        }
      ]
    },
    {
      "cell_type": "code",
      "metadata": {
        "colab": {
          "base_uri": "https://localhost:8080/"
        },
        "id": "PWvKelgO-lxD",
        "outputId": "d162a6a8-836d-40c7-9b64-bc83df55f9e0"
      },
      "source": [
        "# Yukarida degisken sayisi birden fazla olabilir ama value tek olmak zorunda demistik!!!\n",
        "# simdi ayni kod üzerinde variable sayisini degistiriyoruz\n",
        "\n",
        "a = k = n, b, c = 5, 3.2, \"hello\"\n",
        "\n",
        "print(k)\n",
        "\n",
        "# = kullanarak  sonsuz sayida degiskeni tek satirda assign edebiliriz\n",
        "# Ama value her degisken icin bir tane olmak zorundadir"
      ],
      "execution_count": null,
      "outputs": [
        {
          "output_type": "stream",
          "name": "stdout",
          "text": [
            "(5, 3.2, 'hello')\n"
          ]
        }
      ]
    },
    {
      "cell_type": "code",
      "metadata": {
        "id": "dWsDl5uB-ly9"
      },
      "source": [
        "# value nun tek olmak zorunda oldugunun anlasilmasi icin bir örnek \n",
        "\n",
        "babam = annem = kizim = oglum = \"seviyorum\"\n",
        "\n",
        "komsum = isarkadasim = patronum = \"sevmiyorum\"\n",
        "\n",
        "# burada sevdigimiz veya sevmedigimiz insan sayisi degisebilir ama bu kisilerin \n",
        "# bizim kalbimizdeki degeri degismez !!!!"
      ],
      "execution_count": null,
      "outputs": []
    },
    {
      "cell_type": "code",
      "metadata": {
        "id": "S2jOZ_58-l1I"
      },
      "source": [
        "# degisken sadece bizim atadigimiz bir isimden ibarettir. \n",
        "# bu ismi istedigimiz gibi yazabiliriz.\n",
        "# bu degiskenlerin degerini ise kendimiz belirliyoruz."
      ],
      "execution_count": null,
      "outputs": []
    },
    {
      "cell_type": "code",
      "metadata": {
        "colab": {
          "base_uri": "https://localhost:8080/"
        },
        "id": "hGSPfVLPu28T",
        "outputId": "d8cc1d26-af53-42ac-a1bf-8fc5e9fd347e"
      },
      "source": [
        "# virgül ile Degisik veri tiplerini yan yana yazabiliriz\n",
        "\n",
        "a, b, c, d, e, f, g = 3, \"ayse\", 3.14, 3 + 5j, True, [1, 2, 3], (1, 2, 3)\n",
        "\n",
        "print(a, type(a))\n",
        "\n",
        "print(b, type(b))\n",
        "\n",
        "print(c, type(c))\n",
        "\n",
        "print(d, type(d))\n",
        "\n",
        "print(e, type(e))\n",
        "\n",
        "print(f, type(f))\n",
        "\n",
        "print(g, type(g))"
      ],
      "execution_count": null,
      "outputs": [
        {
          "output_type": "stream",
          "name": "stdout",
          "text": [
            "3 <class 'int'>\n",
            "ayse <class 'str'>\n",
            "3.14 <class 'float'>\n",
            "(3+5j) <class 'complex'>\n",
            "True <class 'bool'>\n",
            "[1, 2, 3] <class 'list'>\n",
            "(1, 2, 3) <class 'tuple'>\n"
          ]
        }
      ]
    },
    {
      "cell_type": "code",
      "metadata": {
        "id": "7hBsIYgaC4uC"
      },
      "source": [
        "\n"
      ],
      "execution_count": null,
      "outputs": []
    },
    {
      "cell_type": "code",
      "metadata": {
        "id": "6eB3pFYHC4wG"
      },
      "source": [
        "#######           DATA TYPES             ################"
      ],
      "execution_count": null,
      "outputs": []
    },
    {
      "cell_type": "code",
      "metadata": {
        "id": "XqQwSL42nr15"
      },
      "source": [
        "# 4 temel tip verimiz vardir\n",
        "\n",
        "# 1:  String\n",
        "\n",
        "# 2:  Integer\n",
        "\n",
        "# 3:  Float \n",
        "\n",
        "# 4:  Complex "
      ],
      "execution_count": null,
      "outputs": []
    },
    {
      "cell_type": "code",
      "metadata": {
        "id": "4VIjwD0gnr4U"
      },
      "source": [
        ""
      ],
      "execution_count": null,
      "outputs": []
    },
    {
      "cell_type": "code",
      "metadata": {
        "id": "CBO87C-9C4yR"
      },
      "source": [
        "#### STRING "
      ],
      "execution_count": null,
      "outputs": []
    },
    {
      "cell_type": "code",
      "metadata": {
        "id": "WTDsdUdaC42R"
      },
      "source": [
        "# bir string tek, cift veya üc tirnak icerisinde bir klavyede bulunan bütün karakterlerden olusabilir\n",
        "# ve buna negativ pozitif ve ondalikli sayilar dahildir\n",
        "\"\"\" 535438461947481948§$§\"\"\"\"\"  \"\"\"\n",
        "\n",
        "\"    \"   '       '\n",
        "\n",
        "\"\" \"\"   ''       5327412 ''    3 + 5j"
      ],
      "execution_count": null,
      "outputs": []
    },
    {
      "cell_type": "code",
      "metadata": {
        "colab": {
          "base_uri": "https://localhost:8080/"
        },
        "id": "CtNwt-fYC44S",
        "outputId": "0c4444a4-0704-4a90-9bbc-1d18f3336b72"
      },
      "source": [
        "# type function:\n",
        "\n",
        "# bir verinin tipini ögrenmek icin kullanilir\n",
        "\n",
        "# bu function icerisinde bir variable da yazilabilir bir value da yazilabilir\n",
        "\n",
        "# Example:\n",
        "\n",
        "computer = \"science\"  \n",
        "\n",
        "print(type(computer))       # variable \n"
      ],
      "execution_count": null,
      "outputs": [
        {
          "output_type": "stream",
          "name": "stdout",
          "text": [
            "<class 'str'>\n"
          ]
        }
      ]
    },
    {
      "cell_type": "code",
      "metadata": {
        "colab": {
          "base_uri": "https://localhost:8080/"
        },
        "id": "ZMe6Xm3uC454",
        "outputId": "1dac79b8-f675-4efb-b37f-c6042544c3cf"
      },
      "source": [
        "# type(value) \n",
        "\n",
        "# print(type(\"zehra\"))  # tipini ögrenmek istedigimiz bir degeri dogrudan type func icine yaziyoruz\n",
        "\n",
        "# print(type(9 + 7j))\n",
        "\n",
        "print(type(3.14))\n",
        "\n",
        "print( type((3,14)))       \n",
        "\n",
        "a = 1\n",
        "\n",
        "b = 2\n",
        "\n",
        "print(type((a,b)))   \n",
        "\n",
        "x = (a, b)\n",
        "\n",
        "print(type(x))\n",
        "\n"
      ],
      "execution_count": null,
      "outputs": [
        {
          "output_type": "stream",
          "name": "stdout",
          "text": [
            "<class 'float'>\n",
            "<class 'tuple'>\n",
            "<class 'tuple'>\n",
            "<class 'tuple'>\n"
          ]
        }
      ]
    },
    {
      "cell_type": "code",
      "metadata": {
        "colab": {
          "base_uri": "https://localhost:8080/"
        },
        "id": "bkElOsH2C48C",
        "outputId": "14cc2003-a1f3-4cac-d681-8c498beae269"
      },
      "source": [
        "# type function i bir variable a atayarak calistirabiliriz\n",
        "# mesela bir application olusturalim. Bu app bize kullanicinin girdigi veri tipini yazdirsin\n",
        "\n",
        "girdi = (\"3\", 5, 3.5)\n",
        "\n",
        "veritipi = type(girdi)\n",
        "\n",
        "print(veritipi)"
      ],
      "execution_count": null,
      "outputs": [
        {
          "output_type": "stream",
          "name": "stdout",
          "text": [
            "<class 'tuple'>\n"
          ]
        }
      ]
    },
    {
      "cell_type": "code",
      "metadata": {
        "colab": {
          "base_uri": "https://localhost:8080/"
        },
        "id": "1Q3OuCETo9AK",
        "outputId": "65b68b79-ef34-4f5f-c3d8-cb88c8e34eeb"
      },
      "source": [
        "#### Attention:\n",
        "\n",
        "# type function ile ayni anda sadece bir veri tipi yazdirabiliriz\n",
        "\n",
        "# Example:\n",
        "\n",
        "a = \"ahmet\"\n",
        "\n",
        "b = 2\n",
        "\n",
        "c = 3\n",
        "\n",
        "# print(type(a, b, c))  # error verir\n",
        "\n",
        "# dogru yöntem\n",
        "\n",
        "print(type(a))\n",
        "print(type(b))\n",
        "print(type(c))"
      ],
      "execution_count": null,
      "outputs": [
        {
          "output_type": "stream",
          "name": "stdout",
          "text": [
            "<class 'str'>\n",
            "<class 'int'>\n",
            "<class 'int'>\n"
          ]
        }
      ]
    },
    {
      "cell_type": "code",
      "metadata": {
        "colab": {
          "base_uri": "https://localhost:8080/"
        },
        "id": "3ldKqHiyC49-",
        "outputId": "0831fea2-79ea-440d-a97b-5fe394655017"
      },
      "source": [
        "#  Integer\n",
        "\n",
        "# integerlar 0 dahil, negativ ve pozitif tüm tamsayilardan olusur.\n",
        "# ondalikli sayi icermez\n",
        "\n",
        "a = 5\n",
        "\n",
        "b = 0\n",
        "\n",
        "c = -5\n",
        "\n",
        "print(type(a))\n",
        "print(type(b))\n",
        "print(type(c))"
      ],
      "execution_count": null,
      "outputs": [
        {
          "output_type": "stream",
          "name": "stdout",
          "text": [
            "<class 'int'>\n",
            "<class 'int'>\n",
            "<class 'int'>\n"
          ]
        }
      ]
    },
    {
      "cell_type": "code",
      "metadata": {
        "id": "FBM9JQs_u29_"
      },
      "source": [
        "##########   float    ##########"
      ],
      "execution_count": null,
      "outputs": []
    },
    {
      "cell_type": "code",
      "metadata": {
        "id": "mCQlBM3dmsl8"
      },
      "source": [
        "##  ondalikli sayilardan olusur.\n",
        "\n",
        "# Attention: python da . ve , cok farkli seylerdir.\n",
        "\n",
        "# Ondalikli sayilar icin . kullaniyoruz.\n",
        "\n",
        "# , ise verileri, degerleri ve variable lari birbirinden ayirmak icin kullanilir\n",
        "\n",
        "\n",
        "a = 3.5\n",
        "\n",
        "b = 3,5\n",
        "\n",
        "print(type(a))   ####  Sizce output lar nasildir ?\n",
        "\n",
        "print(type(b))  "
      ],
      "execution_count": null,
      "outputs": []
    },
    {
      "cell_type": "code",
      "metadata": {
        "colab": {
          "base_uri": "https://localhost:8080/"
        },
        "id": "JvdL8P-WNPRl",
        "outputId": "913928f7-d9ca-4eb7-aae1-0ace7d14607f"
      },
      "source": [
        "0.0 != -1   \n",
        "\n",
        "# print(type(0.0))"
      ],
      "execution_count": null,
      "outputs": [
        {
          "output_type": "execute_result",
          "data": {
            "text/plain": [
              "True"
            ]
          },
          "metadata": {},
          "execution_count": 4
        }
      ]
    },
    {
      "cell_type": "code",
      "metadata": {
        "colab": {
          "base_uri": "https://localhost:8080/"
        },
        "id": "ao2AH0rpmvSI",
        "outputId": "d4431675-1aff-43d4-8b39-d06728fd3720"
      },
      "source": [
        "15.0 == 15"
      ],
      "execution_count": null,
      "outputs": [
        {
          "output_type": "execute_result",
          "data": {
            "text/plain": [
              "True"
            ]
          },
          "metadata": {},
          "execution_count": 42
        }
      ]
    },
    {
      "cell_type": "code",
      "metadata": {
        "id": "yvuEieuBmFA8"
      },
      "source": [
        "#####          boolean      ###########"
      ],
      "execution_count": null,
      "outputs": []
    },
    {
      "cell_type": "code",
      "metadata": {
        "id": "YarSbnhQmFPa"
      },
      "source": [
        "# integer lar - sonsuz dan + sonsuza kadar degerler alabilir\n",
        "\n",
        "# ama boolean lar sadece True ve False alabilir\n",
        "\n",
        " true ve false un bas harfleri büyük olmali \n",
        "\n",
        " true = True   \n",
        "\n",
        " False        "
      ],
      "execution_count": null,
      "outputs": []
    },
    {
      "cell_type": "code",
      "metadata": {
        "id": "z25VyvCwmFZk",
        "colab": {
          "base_uri": "https://localhost:8080/"
        },
        "outputId": "23c84d20-50cf-4621-92c4-1f84c6274da3"
      },
      "source": [
        "# yagmur yagiyor mu?\n",
        "\n",
        "# hava günesli mi ?  \n",
        "\n",
        "# acik mi kapali mi?\n",
        "\n",
        "5 == 5 \n",
        "\n",
        "# 3 > 2  "
      ],
      "execution_count": null,
      "outputs": [
        {
          "output_type": "execute_result",
          "data": {
            "text/plain": [
              "True"
            ]
          },
          "metadata": {},
          "execution_count": 6
        }
      ]
    },
    {
      "cell_type": "code",
      "metadata": {
        "id": "VP3nZBezqgMu",
        "colab": {
          "base_uri": "https://localhost:8080/"
        },
        "outputId": "ff938fda-b44f-4b2d-9b47-8adf638057f4"
      },
      "source": [
        "3 > 2"
      ],
      "execution_count": null,
      "outputs": [
        {
          "output_type": "execute_result",
          "data": {
            "text/plain": [
              "True"
            ]
          },
          "metadata": {},
          "execution_count": 44
        }
      ]
    },
    {
      "cell_type": "code",
      "metadata": {
        "id": "TcFenPCrqk-Y",
        "colab": {
          "base_uri": "https://localhost:8080/"
        },
        "outputId": "db563efc-72d9-4c86-c3cb-75090c55bd31"
      },
      "source": [
        "(5 == 5)         \n",
        "\n",
        "a = (5 == 5)\n",
        "\n",
        "print(a)"
      ],
      "execution_count": null,
      "outputs": [
        {
          "output_type": "stream",
          "name": "stdout",
          "text": [
            "True\n",
            "True\n"
          ]
        }
      ]
    },
    {
      "cell_type": "code",
      "metadata": {
        "id": "NVd3znmtqlTv",
        "colab": {
          "base_uri": "https://localhost:8080/"
        },
        "outputId": "1c6d4666-b3aa-4c77-87af-9d557cd4c585"
      },
      "source": [
        ""
      ],
      "execution_count": null,
      "outputs": [
        {
          "output_type": "execute_result",
          "data": {
            "text/plain": [
              "1"
            ]
          },
          "metadata": {},
          "execution_count": 11
        }
      ]
    },
    {
      "cell_type": "code",
      "metadata": {
        "id": "OmbesS2dqliM"
      },
      "source": [
        " ######         type conversion       ############"
      ],
      "execution_count": null,
      "outputs": []
    },
    {
      "cell_type": "code",
      "metadata": {
        "id": "1tIpB20Gqlto"
      },
      "source": [
        "# bir veri tipini baska bir veri tipine cevirebiliyoruz\n",
        "\n",
        "str <=> int\n",
        "int <=> bool\n",
        "float <=> int"
      ],
      "execution_count": null,
      "outputs": []
    },
    {
      "cell_type": "code",
      "metadata": {
        "id": "EAvbiUSPql2E"
      },
      "source": [
        "# 4 adet function vardir:     \n",
        "\n",
        "1 :  int\n",
        "2:   float\n",
        "3:   str\n",
        "4:   bool\n"
      ],
      "execution_count": null,
      "outputs": []
    },
    {
      "cell_type": "code",
      "metadata": {
        "colab": {
          "base_uri": "https://localhost:8080/",
          "height": 202
        },
        "id": "UIhYI4kpql79",
        "outputId": "de4d2205-921a-47f2-f37d-cfff61ab1ec4"
      },
      "source": [
        "#  her deger birbirine cevrilemez!!!\n",
        "\n",
        "# sadece bazi degerler birbirine cevrilebilir\n",
        "\n",
        "# example:\n",
        "\n",
        "a = float(\"ali\")   ## ??? output nedir?\n",
        "\n",
        "# print(a)\n",
        "\n",
        "print(float(\"ali\"))"
      ],
      "execution_count": null,
      "outputs": [
        {
          "output_type": "error",
          "ename": "ValueError",
          "evalue": "ignored",
          "traceback": [
            "\u001b[0;31m---------------------------------------------------------------------------\u001b[0m",
            "\u001b[0;31mValueError\u001b[0m                                Traceback (most recent call last)",
            "\u001b[0;32m<ipython-input-28-a539a45b4fa8>\u001b[0m in \u001b[0;36m<module>\u001b[0;34m()\u001b[0m\n\u001b[1;32m      9\u001b[0m \u001b[0;31m# print(a)\u001b[0m\u001b[0;34m\u001b[0m\u001b[0;34m\u001b[0m\u001b[0;34m\u001b[0m\u001b[0m\n\u001b[1;32m     10\u001b[0m \u001b[0;34m\u001b[0m\u001b[0m\n\u001b[0;32m---> 11\u001b[0;31m \u001b[0mprint\u001b[0m\u001b[0;34m(\u001b[0m\u001b[0mfloat\u001b[0m\u001b[0;34m(\u001b[0m\u001b[0;34m\"ali\"\u001b[0m\u001b[0;34m)\u001b[0m\u001b[0;34m)\u001b[0m\u001b[0;34m\u001b[0m\u001b[0;34m\u001b[0m\u001b[0m\n\u001b[0m",
            "\u001b[0;31mValueError\u001b[0m: could not convert string to float: 'ali'"
          ]
        }
      ]
    },
    {
      "cell_type": "code",
      "metadata": {
        "id": "vG70UDq24IMc",
        "colab": {
          "base_uri": "https://localhost:8080/"
        },
        "outputId": "e9573208-c453-4477-aa4c-b4a06c629a94"
      },
      "source": [
        "a = bool(\" \")                         \n",
        "\n",
        "print(a)   # output nedir???\n",
        " "
      ],
      "execution_count": null,
      "outputs": [
        {
          "output_type": "stream",
          "name": "stdout",
          "text": [
            "True\n"
          ]
        }
      ]
    },
    {
      "cell_type": "code",
      "metadata": {
        "id": "O_lHCmCo3NkB",
        "colab": {
          "base_uri": "https://localhost:8080/"
        },
        "outputId": "7f90ee96-ed32-4bd7-a314-bfe66816dc0b"
      },
      "source": [
        "# bütün veri tipleri stringe cevrilebilir:\n",
        "\n",
        "c = str(True)\n",
        "\n",
        "\n",
        "\n",
        "print(c)\n",
        "\n",
        "print(str(True))\n",
        "print(type(c))\n",
        "\n",
        "\n",
        "# print(c, type(c), sep = \" \")\n",
        "\n",
        "# print(type(str(True)))           "
      ],
      "execution_count": null,
      "outputs": [
        {
          "output_type": "stream",
          "name": "stdout",
          "text": [
            "True\n",
            "True\n",
            "<class 'str'>\n"
          ]
        }
      ]
    },
    {
      "cell_type": "code",
      "metadata": {
        "id": "xNZr0DwG3Nm6",
        "colab": {
          "base_uri": "https://localhost:8080/"
        },
        "outputId": "65c605a5-56d2-47eb-ac1f-de2c26ff517c"
      },
      "source": [
        "# bütün veri tipleri stringe cevrilebilir: \n",
        "\n",
        "d = str(55)\n",
        "\n",
        "print(d, type(d))"
      ],
      "execution_count": null,
      "outputs": [
        {
          "output_type": "stream",
          "name": "stdout",
          "text": [
            "55 <class 'str'>\n"
          ]
        }
      ]
    },
    {
      "cell_type": "code",
      "metadata": {
        "id": "DPi6ArVX3Np8",
        "colab": {
          "base_uri": "https://localhost:8080/"
        },
        "outputId": "69cb7446-3428-47ac-a42d-14bf34675b75"
      },
      "source": [
        "# bütün veri tipleri stringe cevrilebilir: \n",
        "\n",
        "e = str(3 + 5j)\n",
        "\n",
        "print(e, type(e))"
      ],
      "execution_count": null,
      "outputs": [
        {
          "output_type": "stream",
          "name": "stdout",
          "text": [
            "(3+5j) <class 'str'>\n"
          ]
        }
      ]
    },
    {
      "cell_type": "code",
      "metadata": {
        "id": "KEMChP_c3NsU",
        "colab": {
          "base_uri": "https://localhost:8080/"
        },
        "outputId": "90386933-78a1-41bb-cb8b-955b47bad153"
      },
      "source": [
        "#  ??????   Neden veri tiplerini birbirlerine cevirme ihtiyaci hissediyoruz??\n",
        "\n",
        "girdi = input(\"Lütfen yasinizi giriniz??? :  \")  \n",
        "\n",
        "print(girdi, type(girdi))\n",
        "\n",
        "int_girdi = int(girdi)\n",
        "\n",
        "print(int_girdi, type(int_girdi))"
      ],
      "execution_count": null,
      "outputs": [
        {
          "output_type": "stream",
          "name": "stdout",
          "text": [
            "Lütfen yasinizi giriniz??? :  55\n",
            "55 <class 'str'>\n",
            "55 <class 'int'>\n"
          ]
        }
      ]
    },
    {
      "cell_type": "code",
      "metadata": {
        "id": "pZceN63H3Nu8",
        "colab": {
          "base_uri": "https://localhost:8080/"
        },
        "outputId": "c3db7d14-d1c0-4206-d946-ce8111f1fa36"
      },
      "source": [
        "##   float bir veriyi integer a cevirme:\n",
        "\n",
        "# int func calisma prensibi:\n",
        "\n",
        "# sayinin tam kismini alir ondalikli kismi görmezden gelir.\n",
        "\n",
        "myfloat = 3.14\n",
        "\n",
        "newfloat = int(myfloat)\n",
        "\n",
        "print(newfloat)"
      ],
      "execution_count": null,
      "outputs": [
        {
          "output_type": "stream",
          "name": "stdout",
          "text": [
            "3\n"
          ]
        }
      ]
    },
    {
      "cell_type": "code",
      "metadata": {
        "id": "Cvx1JC8f3Nxk",
        "colab": {
          "base_uri": "https://localhost:8080/"
        },
        "outputId": "ba6d1b6e-b28c-4792-bb71-fe72b6125d7a"
      },
      "source": [
        "##   float bir veriyi integer a cevirme:\n",
        "\n",
        "a = 15.99\n",
        "\n",
        "b = int(a)\n",
        "\n",
        "print(b)      #   output nedir ???"
      ],
      "execution_count": null,
      "outputs": [
        {
          "output_type": "stream",
          "name": "stdout",
          "text": [
            "15\n"
          ]
        }
      ]
    },
    {
      "cell_type": "code",
      "metadata": {
        "id": "0hJhpWXY3N0X",
        "colab": {
          "base_uri": "https://localhost:8080/",
          "height": 235
        },
        "outputId": "3f949a7f-1998-4b67-c4b3-e5834bf373c5"
      },
      "source": [
        "## integer i float a cevirme:\n",
        "\n",
        "c = 10.3535328\n",
        "\n",
        "d = float(c, \"%.2f\")\n",
        "\n",
        "print(d)        # output nedir?"
      ],
      "execution_count": null,
      "outputs": [
        {
          "output_type": "error",
          "ename": "TypeError",
          "evalue": "ignored",
          "traceback": [
            "\u001b[0;31m---------------------------------------------------------------------------\u001b[0m",
            "\u001b[0;31mTypeError\u001b[0m                                 Traceback (most recent call last)",
            "\u001b[0;32m<ipython-input-43-656b0335b812>\u001b[0m in \u001b[0;36m<module>\u001b[0;34m()\u001b[0m\n\u001b[1;32m      3\u001b[0m \u001b[0mc\u001b[0m \u001b[0;34m=\u001b[0m \u001b[0;36m10.3535328\u001b[0m\u001b[0;34m\u001b[0m\u001b[0;34m\u001b[0m\u001b[0m\n\u001b[1;32m      4\u001b[0m \u001b[0;34m\u001b[0m\u001b[0m\n\u001b[0;32m----> 5\u001b[0;31m \u001b[0md\u001b[0m \u001b[0;34m=\u001b[0m \u001b[0mfloat\u001b[0m\u001b[0;34m(\u001b[0m\u001b[0mc\u001b[0m\u001b[0;34m,\u001b[0m \u001b[0;34m\"%.2f\"\u001b[0m\u001b[0;34m)\u001b[0m\u001b[0;34m\u001b[0m\u001b[0;34m\u001b[0m\u001b[0m\n\u001b[0m\u001b[1;32m      6\u001b[0m \u001b[0;34m\u001b[0m\u001b[0m\n\u001b[1;32m      7\u001b[0m \u001b[0mprint\u001b[0m\u001b[0;34m(\u001b[0m\u001b[0md\u001b[0m\u001b[0;34m)\u001b[0m        \u001b[0;31m# output nedir?\u001b[0m\u001b[0;34m\u001b[0m\u001b[0;34m\u001b[0m\u001b[0m\n",
            "\u001b[0;31mTypeError\u001b[0m: float expected at most 1 arguments, got 2"
          ]
        }
      ]
    },
    {
      "cell_type": "code",
      "metadata": {
        "colab": {
          "base_uri": "https://localhost:8080/"
        },
        "id": "svl3fJeDxq7h",
        "outputId": "e139f215-b854-48ec-f421-0f0af85fe6b1"
      },
      "source": [
        "string = \"{:.2f}, {:.3f}\" .format(3.45378, 3.354918365)\n",
        "\n",
        "print(string)"
      ],
      "execution_count": null,
      "outputs": [
        {
          "output_type": "stream",
          "name": "stdout",
          "text": [
            "3.45, 3.355\n"
          ]
        }
      ]
    },
    {
      "cell_type": "code",
      "metadata": {
        "colab": {
          "base_uri": "https://localhost:8080/"
        },
        "id": "zP75hFlNz5WD",
        "outputId": "3b368b16-343a-47ce-b141-8e0bf199e07b"
      },
      "source": [
        "string = \"{:.4}, {:.3}\" .format(\"123456\",  \"12345667\") \n",
        "\n",
        "print(string)  "
      ],
      "execution_count": null,
      "outputs": [
        {
          "output_type": "stream",
          "name": "stdout",
          "text": [
            "1234, 123\n"
          ]
        }
      ]
    },
    {
      "cell_type": "code",
      "metadata": {
        "colab": {
          "base_uri": "https://localhost:8080/"
        },
        "id": "IxJ6BSLP81GK",
        "outputId": "566e4e82-f6f3-4bd2-fa2f-d0022f708173"
      },
      "source": [
        "x = 39\n",
        "v = \"11\"\n",
        "y = \"2.5\"\n",
        "z = \"I am at _\"\n",
        "\n",
        "print(x - int(v))\n",
        "\n",
        "print(x - float(y))\n",
        "\n",
        "print(z + str(x))     "
      ],
      "execution_count": null,
      "outputs": [
        {
          "output_type": "stream",
          "name": "stdout",
          "text": [
            "28\n",
            "36.5\n",
            "I am at _39\n"
          ]
        }
      ]
    },
    {
      "cell_type": "code",
      "metadata": {
        "colab": {
          "base_uri": "https://localhost:8080/"
        },
        "id": "DvO1ZZld81NM",
        "outputId": "e4a066c4-c412-47eb-f5f1-10e73d6122bb"
      },
      "source": [
        "# Pratik yöntem:  bu fonksiyonlar dogrudan print func  icerisinde de kullanilabilir \n",
        "\n",
        "print(float(8))\n",
        "\n",
        "print(str(False))\n",
        "\n",
        "print(int(4.17))"
      ],
      "execution_count": null,
      "outputs": [
        {
          "output_type": "stream",
          "name": "stdout",
          "text": [
            "8.0\n",
            "False\n",
            "4\n"
          ]
        }
      ]
    },
    {
      "cell_type": "code",
      "metadata": {
        "colab": {
          "base_uri": "https://localhost:8080/"
        },
        "id": "nHHoejPd81SE",
        "outputId": "14936cc2-eab1-4e34-8c43-89307c90387e"
      },
      "source": [
        "#  Bu functionlar ile kolayca matematiksel islemler yapabiliriz yada yanyana print ettirebiliriz\n",
        "\n",
        "# print(int(\"18\") + 20)\n",
        "\n",
        "# print((20) + 30.5) \n",
        "\n",
        "print(\"ben\" , 55 , \"yasindayim\") \n",
        "\n",
        "print(\"ben\"+ \"+\" +str(55) +\"+\" +\"yasindayim\")  \n",
        "\n",
        "print(\"55\" , \"55\", type(\"55\")) "
      ],
      "execution_count": null,
      "outputs": [
        {
          "output_type": "stream",
          "name": "stdout",
          "text": [
            "ben 55 yasindayim\n",
            "ben+55+yasindayim\n",
            "55 55 <class 'str'>\n"
          ]
        }
      ]
    },
    {
      "cell_type": "code",
      "metadata": {
        "id": "-nuqrptl9WGO",
        "colab": {
          "base_uri": "https://localhost:8080/"
        },
        "outputId": "bf159241-77a2-40c5-bd28-2374480a420b"
      },
      "source": [
        "print(\"Biz\" + \"+\" \"clarusway de\" + \"+\"   \" \"     \"300 kisiyiz\") "
      ],
      "execution_count": null,
      "outputs": [
        {
          "output_type": "stream",
          "name": "stdout",
          "text": [
            "Biz+clarusway de+ 300 kisiyiz\n"
          ]
        }
      ]
    },
    {
      "cell_type": "code",
      "metadata": {
        "id": "y4Uv4dvS9WQR"
      },
      "source": [
        ""
      ],
      "execution_count": null,
      "outputs": []
    },
    {
      "cell_type": "code",
      "metadata": {
        "id": "VREKqt679WWF"
      },
      "source": [
        "integer = 0, 1, -1 # integer 0 yada - ve + tamsayilar"
      ],
      "execution_count": null,
      "outputs": []
    },
    {
      "cell_type": "code",
      "metadata": {
        "colab": {
          "base_uri": "https://localhost:8080/"
        },
        "id": "JwJw-rvh9WYR",
        "outputId": "fe76f3e6-bc68-4df8-e075-6d99d5f2e696"
      },
      "source": [
        "0.0 == 0 # float"
      ],
      "execution_count": null,
      "outputs": [
        {
          "output_type": "execute_result",
          "data": {
            "text/plain": [
              "True"
            ]
          },
          "metadata": {},
          "execution_count": 30
        }
      ]
    },
    {
      "cell_type": "code",
      "metadata": {
        "colab": {
          "base_uri": "https://localhost:8080/"
        },
        "id": "61qJcOZo9hF1",
        "outputId": "175e14d7-ef1b-43fb-a8e6-616d281b5848"
      },
      "source": [
        "# Attention: \n",
        "\n",
        "print(float(\"5\"))   #  str icerisinde integer "
      ],
      "execution_count": null,
      "outputs": [
        {
          "output_type": "stream",
          "name": "stdout",
          "text": [
            "5.0\n"
          ]
        }
      ]
    },
    {
      "cell_type": "code",
      "metadata": {
        "id": "2zl1L4dM9i51"
      },
      "source": [
        "## Attention \n",
        "\n",
        "# her deger tipi stringe cevrilebilir ancak her deger integer a cevrilmez\n",
        "\n",
        "print(int(\"ali\"))   # output ??"
      ],
      "execution_count": null,
      "outputs": []
    },
    {
      "cell_type": "code",
      "metadata": {
        "id": "G64N7bBSPEzh",
        "colab": {
          "base_uri": "https://localhost:8080/"
        },
        "outputId": "91c53f8a-8c8a-4360-af52-8a932e71b8e4"
      },
      "source": [
        "# iki stringin toplanmasi =>  concatanate\n",
        "\n",
        "print(\"ders\" + \"tekrari\") \n",
        "\n",
        "## Attention: kod satirindaki bosluklar PEP 8 e göre birakilan bosluklar. Output da cikmaz"
      ],
      "execution_count": null,
      "outputs": [
        {
          "output_type": "stream",
          "name": "stdout",
          "text": [
            "derstekrari\n"
          ]
        }
      ]
    },
    {
      "cell_type": "code",
      "metadata": {
        "id": "VYimAWjAPE6s"
      },
      "source": [
        "# stringleri toplamanin bir diger yolu => stringleri bir degiskene atamaktir\n",
        "\n",
        "a = \"ders\"\n",
        "b = \" \"\n",
        "c = \"tekrari\"\n",
        "\n",
        "print(a + b + c)"
      ],
      "execution_count": null,
      "outputs": []
    },
    {
      "cell_type": "code",
      "metadata": {
        "id": "L9SOFcy1PFBK"
      },
      "source": [
        ""
      ],
      "execution_count": null,
      "outputs": []
    },
    {
      "cell_type": "code",
      "metadata": {
        "id": "YYpM8bbzP3Nq"
      },
      "source": [
        ""
      ],
      "execution_count": null,
      "outputs": []
    },
    {
      "cell_type": "code",
      "metadata": {
        "id": "EqHgmQKvP3VU"
      },
      "source": [
        ""
      ],
      "execution_count": null,
      "outputs": []
    },
    {
      "cell_type": "code",
      "metadata": {
        "id": "h9_8AzXTP3bQ"
      },
      "source": [
        ""
      ],
      "execution_count": null,
      "outputs": []
    },
    {
      "cell_type": "code",
      "metadata": {
        "id": "Tz7ir9sKP3fE"
      },
      "source": [
        ""
      ],
      "execution_count": null,
      "outputs": []
    },
    {
      "cell_type": "code",
      "metadata": {
        "id": "DyN0zmuRP3iq"
      },
      "source": [
        ""
      ],
      "execution_count": null,
      "outputs": []
    },
    {
      "cell_type": "code",
      "metadata": {
        "id": "enWZ05e9RRmP"
      },
      "source": [
        ""
      ],
      "execution_count": null,
      "outputs": []
    },
    {
      "cell_type": "code",
      "metadata": {
        "id": "nSIpCm5NRRoz"
      },
      "source": [
        ""
      ],
      "execution_count": null,
      "outputs": []
    },
    {
      "cell_type": "code",
      "metadata": {
        "id": "1yv44TanRRrd"
      },
      "source": [
        ""
      ],
      "execution_count": null,
      "outputs": []
    },
    {
      "cell_type": "code",
      "metadata": {
        "id": "eFLJZUr2RRvG"
      },
      "source": [
        ""
      ],
      "execution_count": null,
      "outputs": []
    },
    {
      "cell_type": "code",
      "metadata": {
        "colab": {
          "base_uri": "https://localhost:8080/"
        },
        "id": "qjtIFizCRRxH",
        "outputId": "f4d93720-38ee-4ac4-a89e-a9937d1d7b34"
      },
      "source": [
        "#Quiz\n",
        "\n",
        "number_int = 123\n",
        "number_flt = 1.23\n",
        "\n",
        "number_new = number_int + number_flt                     \n",
        "\n",
        "print(\"datatype of number_int:\", type(number_int))\n",
        "print(\"datatype of number_flt:\", type(number_flt))\n",
        "\n",
        "print(\"Value of number_new:\", number_new)\n",
        "print(\"datatype of number_new\", type(number_new))"
      ],
      "execution_count": null,
      "outputs": [
        {
          "output_type": "stream",
          "name": "stdout",
          "text": [
            "datatype of number_int: <class 'int'>\n",
            "datatype of number_flt: <class 'float'>\n",
            "Value of number_new: 124.23\n",
            "datatype of number_new <class 'float'>\n"
          ]
        }
      ]
    },
    {
      "cell_type": "code",
      "metadata": {
        "colab": {
          "base_uri": "https://localhost:8080/"
        },
        "id": "-sH1ucocWT24",
        "outputId": "e7ad27f2-64ce-4c92-f332-3952448e9d00"
      },
      "source": [
        "# Quiz2 \n",
        "\n",
        "number_int = 123\n",
        "number_str = \"456\"\n",
        "\n",
        "print(\"Data type of number_int:\", type(number_int))\n",
        "print(\"Data type of number_str:\", type(number_str))\n"
      ],
      "execution_count": null,
      "outputs": [
        {
          "output_type": "stream",
          "name": "stdout",
          "text": [
            "Data type of number_int: <class 'int'>\n",
            "Data type of number_str: <class 'str'>\n"
          ]
        }
      ]
    },
    {
      "cell_type": "code",
      "metadata": {
        "id": "GTJ7545MWUAC"
      },
      "source": [
        ""
      ],
      "execution_count": null,
      "outputs": []
    },
    {
      "cell_type": "code",
      "metadata": {
        "id": "8p18ufbgWUCv"
      },
      "source": [
        ""
      ],
      "execution_count": null,
      "outputs": []
    },
    {
      "cell_type": "code",
      "metadata": {
        "colab": {
          "base_uri": "https://localhost:8080/"
        },
        "id": "Nc22m5IfWUE1",
        "outputId": "cd39b74f-b661-4994-ddf4-ba8175700ce2"
      },
      "source": [
        "#Quiz3\n",
        "\n",
        "number_int = 123\n",
        "number_str = \"456\"\n",
        "\n",
        "print(\"Data type of number_int\", type(number_int))\n",
        "print(\"Data type of number_str before Type Casting:\", type(number_str))\n",
        "\n",
        "number_str = int(number_str)\n",
        "print(\"Data type of number_str after Type Casting\", type(number_str))\n",
        "\n",
        "number_sum = number_int + number_str\n",
        "\n",
        "print(\"Sum of number_int and number_str:\", number_sum)\n",
        "print(\"Data type of the sum:\", type(number_sum))"
      ],
      "execution_count": null,
      "outputs": [
        {
          "output_type": "stream",
          "name": "stdout",
          "text": [
            "Data type of number_int <class 'int'>\n",
            "Data type of number_str before Type Casting: <class 'str'>\n",
            "Data type of number_str after Type Casting <class 'int'>\n",
            "Sum of number_int and number_str: 579\n",
            "Data type of the sum: <class 'int'>\n"
          ]
        }
      ]
    },
    {
      "cell_type": "code",
      "metadata": {
        "id": "8qm1ORO8WUH8"
      },
      "source": [
        ""
      ],
      "execution_count": null,
      "outputs": []
    },
    {
      "cell_type": "code",
      "metadata": {
        "id": "kkNgQ2ZwWUJL"
      },
      "source": [
        ""
      ],
      "execution_count": null,
      "outputs": []
    },
    {
      "cell_type": "code",
      "metadata": {
        "id": "w76iS3svbu3T"
      },
      "source": [
        ""
      ],
      "execution_count": null,
      "outputs": []
    },
    {
      "cell_type": "code",
      "metadata": {
        "id": "6ljtGC6Fbu54"
      },
      "source": [
        ""
      ],
      "execution_count": null,
      "outputs": []
    },
    {
      "cell_type": "code",
      "metadata": {
        "colab": {
          "base_uri": "https://localhost:8080/"
        },
        "id": "bBRM5c8Gbu8I",
        "outputId": "f46d997b-80f6-4648-f83f-f99a17332abd"
      },
      "source": [
        "                                 "
      ],
      "execution_count": null,
      "outputs": [
        {
          "output_type": "stream",
          "name": "stdout",
          "text": [
            "10\n"
          ]
        }
      ]
    },
    {
      "cell_type": "code",
      "metadata": {
        "id": "xkb-T4FRbu-H"
      },
      "source": [
        ""
      ],
      "execution_count": null,
      "outputs": []
    },
    {
      "cell_type": "code",
      "metadata": {
        "id": "zQenM5tZbvH9"
      },
      "source": [
        ""
      ],
      "execution_count": null,
      "outputs": []
    },
    {
      "cell_type": "code",
      "metadata": {
        "id": "Wb-XGTg4bvJ-"
      },
      "source": [
        ""
      ],
      "execution_count": null,
      "outputs": []
    },
    {
      "cell_type": "code",
      "metadata": {
        "id": "LLdg9ieEbvMd"
      },
      "source": [
        ""
      ],
      "execution_count": null,
      "outputs": []
    },
    {
      "cell_type": "code",
      "metadata": {
        "id": "DPawnFBTbvOV"
      },
      "source": [
        ""
      ],
      "execution_count": null,
      "outputs": []
    },
    {
      "cell_type": "code",
      "metadata": {
        "id": "Ro34YQHjbvQg"
      },
      "source": [
        ""
      ],
      "execution_count": null,
      "outputs": []
    },
    {
      "cell_type": "code",
      "metadata": {
        "id": "s2ysrXoTbvSs"
      },
      "source": [
        "\n",
        "\n",
        "\n",
        "\n"
      ],
      "execution_count": null,
      "outputs": []
    },
    {
      "cell_type": "code",
      "metadata": {
        "id": "Gp26UrUpd5Ve"
      },
      "source": [
        ""
      ],
      "execution_count": null,
      "outputs": []
    },
    {
      "cell_type": "code",
      "metadata": {
        "id": "WWOdmONgd5YG"
      },
      "source": [
        ""
      ],
      "execution_count": null,
      "outputs": []
    },
    {
      "cell_type": "code",
      "metadata": {
        "id": "nGg_uJn9d5ap"
      },
      "source": [
        ""
      ],
      "execution_count": null,
      "outputs": []
    },
    {
      "cell_type": "code",
      "metadata": {
        "id": "TzUgNXZgd5de"
      },
      "source": [
        ""
      ],
      "execution_count": null,
      "outputs": []
    },
    {
      "cell_type": "code",
      "metadata": {
        "id": "8KSFLazFd5fg"
      },
      "source": [
        ""
      ],
      "execution_count": null,
      "outputs": []
    },
    {
      "cell_type": "code",
      "metadata": {
        "id": "sLGaMjQZedqG"
      },
      "source": [
        ""
      ],
      "execution_count": null,
      "outputs": []
    },
    {
      "cell_type": "code",
      "metadata": {
        "id": "zH1SwulhedtW"
      },
      "source": [
        ""
      ],
      "execution_count": null,
      "outputs": []
    },
    {
      "cell_type": "code",
      "metadata": {
        "id": "OMV0kUckedwG"
      },
      "source": [
        ""
      ],
      "execution_count": null,
      "outputs": []
    },
    {
      "cell_type": "code",
      "metadata": {
        "id": "tgq_WAR8edyh"
      },
      "source": [
        ""
      ],
      "execution_count": null,
      "outputs": []
    },
    {
      "cell_type": "code",
      "metadata": {
        "id": "RYmo3B3ced06"
      },
      "source": [
        ""
      ],
      "execution_count": null,
      "outputs": []
    },
    {
      "cell_type": "code",
      "metadata": {
        "id": "LztGqVlRed3r"
      },
      "source": [
        ""
      ],
      "execution_count": null,
      "outputs": []
    }
  ]
}