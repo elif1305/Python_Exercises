{
  "nbformat": 4,
  "nbformat_minor": 0,
  "metadata": {
    "colab": {
      "name": "December -24-(while-for loop)",
      "provenance": [],
      "authorship_tag": "ABX9TyOcIG/DOp6xs5J/eJ59I8vj"
    },
    "kernelspec": {
      "name": "python3",
      "display_name": "Python 3"
    },
    "language_info": {
      "name": "python"
    }
  },
  "cells": [
    {
      "cell_type": "code",
      "execution_count": null,
      "metadata": {
        "id": "wzPqjGz1h_Zr"
      },
      "outputs": [],
      "source": [
        "### while and for loops"
      ]
    },
    {
      "cell_type": "code",
      "source": [
        "## tekrar ettirmek icin\n",
        "#for loop iterablelar uzerinden calisir. bir iterable verinin elemanlari sayisinca iterate eder. iterablein elemanlari bitince for dongusu calismanini durdurur\n",
        "\n",
        "# while loop ise condition lar uzerinden gider. kosul true ciktigi surece while loop calisir, false a dondugu zaman calismayi durdurur"
      ],
      "metadata": {
        "id": "ar7lZLD6lb4d"
      },
      "execution_count": null,
      "outputs": []
    },
    {
      "cell_type": "code",
      "source": [
        "## while loop temel yapisi:\n",
        "\n",
        "while condition : ( : colon onemli)\n",
        "   body   # (4 space indentation)\n",
        "   "
      ],
      "metadata": {
        "id": "YSOE-281l4lK"
      },
      "execution_count": null,
      "outputs": []
    },
    {
      "cell_type": "code",
      "source": [
        "# wile looplar condition kismina boolean degerler ya da truthy falsy degerler a;ir;ar.\n",
        "\n",
        "while 3>2 : \n",
        "\n",
        "while True :\n",
        "\n",
        "while None:\n",
        "\n",
        "while {}:\n",
        "\n",
        "while False:\n",
        "\n",
        "while bool(1) + bool('a'):\n",
        "\n",
        "while \"ahmet\":\n",
        "  print('ahmet')\n",
        "  break\n",
        "\n",
        "while 'ali' and None or 2021 :\n",
        "\n"
      ],
      "metadata": {
        "id": "Ivxe7oOnmS_Y"
      },
      "execution_count": null,
      "outputs": []
    },
    {
      "cell_type": "code",
      "source": [
        "condition = 6.5   ## !!! burada 6.5 degilde , 6.8 yazarsak surekli 0.5 azalacagindan sonuc 0 a hic dusmez ve sonsuz donguye girer\n",
        "\n",
        "while condition:\n",
        "  condition -= 0.5\n",
        "  print(condition)"
      ],
      "metadata": {
        "colab": {
          "base_uri": "https://localhost:8080/"
        },
        "id": "IzJ9UJCKniWM",
        "outputId": "1ea866ee-bc3b-474f-e86c-1b3f729d37d3"
      },
      "execution_count": 2,
      "outputs": [
        {
          "output_type": "stream",
          "name": "stdout",
          "text": [
            "6.0\n",
            "5.5\n",
            "5.0\n",
            "4.5\n",
            "4.0\n",
            "3.5\n",
            "3.0\n",
            "2.5\n",
            "2.0\n",
            "1.5\n",
            "1.0\n",
            "0.5\n",
            "0.0\n"
          ]
        }
      ]
    },
    {
      "cell_type": "code",
      "source": [
        "##### sonsuz donguye girdigi zaman RUNTIME --> INTERRUPT EXECUTION a bas"
      ],
      "metadata": {
        "id": "Im69iRsgn3lA"
      },
      "execution_count": null,
      "outputs": []
    },
    {
      "cell_type": "code",
      "source": [
        "# while dongusunde false ile karsilasilmazsa kod sonsuz donguye girer..\n",
        "\n",
        "# a += 1 ya da a -=1 gibi degiskenler kullanarak iteration da verimizi degistirebliriz.\n",
        "\n",
        "# break ile de kodu sonsuz donguden cikarabliriz."
      ],
      "metadata": {
        "id": "U3WE1Sm-oOlK"
      },
      "execution_count": null,
      "outputs": []
    },
    {
      "cell_type": "code",
      "source": [
        "condition = 5\n",
        "\n",
        "while True:\n",
        "  condition -= 1\n",
        "  print(condition)\n",
        "  if condition == 0:\n",
        "    break"
      ],
      "metadata": {
        "colab": {
          "base_uri": "https://localhost:8080/"
        },
        "id": "JSN1y6ILo5vI",
        "outputId": "09daee47-5a08-4d48-f8dd-e049189dc910"
      },
      "execution_count": 3,
      "outputs": [
        {
          "output_type": "stream",
          "name": "stdout",
          "text": [
            "4\n",
            "3\n",
            "2\n",
            "1\n",
            "0\n"
          ]
        }
      ]
    },
    {
      "cell_type": "code",
      "source": [
        "# eger ic ice yani nasted while loop lar ile calisiorsak ve en icreki loop umuza berak kullaniyorsak, en icteki looptan cikar bir ust while loop ise calismaya devam eder.\n",
        "\n",
        "condition = 20\n",
        "\n",
        "while condition > 0 :\n",
        "  print(condition)\n",
        "  condition -= 1          ## 1 kez burada calisir\n",
        "\n",
        "  while 19 >= condition >= 13 :        # 7 kez burada calisir\n",
        "    print(\"condition >= 13\")\n",
        "    condition -= 1 \n",
        "\n",
        "    while 13 > condition > 7 : # burada sayi 8den buyukk oldgu surece calisacak\n",
        "      print(\"condition >= 8\")\n",
        "      condition -= 1\n",
        "      if condition == 7:\n",
        "        break"
      ],
      "metadata": {
        "colab": {
          "base_uri": "https://localhost:8080/"
        },
        "id": "zp2C1YnHpNzL",
        "outputId": "c2dece0c-7fe8-4f3a-b61d-3d4f9383d6e4"
      },
      "execution_count": 7,
      "outputs": [
        {
          "output_type": "stream",
          "name": "stdout",
          "text": [
            "20\n",
            "condition >= 13\n",
            "condition >= 13\n",
            "condition >= 13\n",
            "condition >= 13\n",
            "condition >= 13\n",
            "condition >= 13\n",
            "condition >= 13\n",
            "condition >= 8\n",
            "condition >= 8\n",
            "condition >= 8\n",
            "condition >= 8\n",
            "condition >= 8\n",
            "7\n",
            "6\n",
            "5\n",
            "4\n",
            "3\n",
            "2\n",
            "1\n"
          ]
        }
      ]
    },
    {
      "cell_type": "code",
      "source": [
        " ## print () func 2 kez yazilirsa ne olur\n",
        "\n",
        "condition = 5\n",
        "\n",
        "while condition > 0 :\n",
        "  condition -= 1 \n",
        "  print(condition)\n",
        "  print(condition)\n",
        "  "
      ],
      "metadata": {
        "colab": {
          "base_uri": "https://localhost:8080/"
        },
        "id": "UE8BH0AJqauB",
        "outputId": "fd178952-e7d5-45e3-f655-1e2dc83aa80c"
      },
      "execution_count": 8,
      "outputs": [
        {
          "output_type": "stream",
          "name": "stdout",
          "text": [
            "4\n",
            "4\n",
            "3\n",
            "3\n",
            "2\n",
            "2\n",
            "1\n",
            "1\n",
            "0\n",
            "0\n"
          ]
        }
      ]
    },
    {
      "cell_type": "code",
      "source": [
        "## print () func while loop disinda yazilirsa\n",
        "\n",
        "condition = 5\n",
        "\n",
        "while condition > 0 :\n",
        "  condition -= 1 \n",
        "  print(condition)\n",
        "print(condition)"
      ],
      "metadata": {
        "colab": {
          "base_uri": "https://localhost:8080/"
        },
        "id": "ZAGj56aRs-p1",
        "outputId": "bc4a53ae-65af-4a39-ff86-1e43e926c4f8"
      },
      "execution_count": 11,
      "outputs": [
        {
          "output_type": "stream",
          "name": "stdout",
          "text": [
            "4\n",
            "3\n",
            "2\n",
            "1\n",
            "0\n",
            "0\n"
          ]
        }
      ]
    },
    {
      "cell_type": "code",
      "source": [
        "condition = 5\n",
        "\n",
        "while condition > 0 :\n",
        "  \n",
        "  print(condition)\n",
        "  condition -= 1 "
      ],
      "metadata": {
        "colab": {
          "base_uri": "https://localhost:8080/"
        },
        "id": "LyhEiL26spNm",
        "outputId": "f365bb6c-a560-4e4e-e731-a8b1051f0a93"
      },
      "execution_count": 10,
      "outputs": [
        {
          "output_type": "stream",
          "name": "stdout",
          "text": [
            "5\n",
            "4\n",
            "3\n",
            "2\n",
            "1\n"
          ]
        }
      ]
    },
    {
      "cell_type": "code",
      "source": [
        "## condition while icine yazilirsa :\n",
        "\n",
        "\n",
        "\n",
        "while condition > 0 :\n",
        "  condition = 5\n",
        "  print(condition)\n",
        "  condition -= 1                  ## bos doner"
      ],
      "metadata": {
        "id": "jwf96Uxps1Bn"
      },
      "execution_count": 12,
      "outputs": []
    },
    {
      "cell_type": "code",
      "source": [
        "## while loop un calisma prensibini manuel olrak yapalim\n",
        "\n",
        "x = 5\n",
        "\n",
        "while x > 0 :\n",
        "  x  -= 1\n",
        "  print(x)\n",
        "\n",
        "# x = 4\n",
        "# print(x)\n",
        "\n",
        "# x = 3\n",
        "# print(x)\n",
        "\n",
        "# x = 2\n",
        "# print(2)\n",
        "\n",
        "# x = 1\n",
        "# print(x)\n",
        "\n",
        "# x = 0\n",
        "# print(x)"
      ],
      "metadata": {
        "colab": {
          "base_uri": "https://localhost:8080/"
        },
        "id": "1Q4I182ntdt1",
        "outputId": "ebeb62a5-69ca-4a97-895f-6e9fa2c95487"
      },
      "execution_count": 14,
      "outputs": [
        {
          "output_type": "stream",
          "name": "stdout",
          "text": [
            "4\n",
            "3\n",
            "2\n",
            "1\n",
            "0\n"
          ]
        }
      ]
    },
    {
      "cell_type": "code",
      "source": [
        "## while loop calisma prensibi:\n",
        "\n",
        "while loop statement ==>> condition -->> False ise donguden cikar bir sonraki condition a gider.\n",
        "                                    -->> True ise loop u calistirir"
      ],
      "metadata": {
        "id": "jgfl9iZZv1G1"
      },
      "execution_count": null,
      "outputs": []
    },
    {
      "cell_type": "code",
      "source": [
        "number = 0\n",
        "\n",
        "while number < 6 :\n",
        "  print(number)\n",
        "  number += 1\n",
        "\n",
        "print('simdi sayi 6 ya esit veya daha buyuk')"
      ],
      "metadata": {
        "colab": {
          "base_uri": "https://localhost:8080/"
        },
        "id": "W40yrGb_wpbf",
        "outputId": "18dc939a-29c9-4d81-9213-934fcb074582"
      },
      "execution_count": 17,
      "outputs": [
        {
          "output_type": "stream",
          "name": "stdout",
          "text": [
            "0\n",
            "1\n",
            "2\n",
            "3\n",
            "4\n",
            "5\n",
            "simdi sayi 6 ya esit veya daha buyuk\n"
          ]
        }
      ]
    },
    {
      "cell_type": "code",
      "source": [
        "number = 0\n",
        "\n",
        "while number < 6 :\n",
        "  number += 1\n",
        "  print(number)\n",
        "  "
      ],
      "metadata": {
        "colab": {
          "base_uri": "https://localhost:8080/"
        },
        "id": "z44OIkyaw65c",
        "outputId": "5bf2894e-09dc-4118-b83b-83750c41071f"
      },
      "execution_count": 18,
      "outputs": [
        {
          "output_type": "stream",
          "name": "stdout",
          "text": [
            "1\n",
            "2\n",
            "3\n",
            "4\n",
            "5\n",
            "6\n"
          ]
        }
      ]
    },
    {
      "cell_type": "code",
      "source": [
        "## while dongusunu for dongusunde kullandigimiz b iterable ile de saglayabliriz\n",
        "\n",
        "liste = ['a', 'b', 'c', 'd', 'e']\n",
        "a = 0\n",
        "\n",
        "while a < len(liste):\n",
        "  a += 1\n",
        "  print(\"{}'in karesi = {}\" . format(a, a**2))"
      ],
      "metadata": {
        "colab": {
          "base_uri": "https://localhost:8080/"
        },
        "id": "GJjUqqtjyMG6",
        "outputId": "de3a4a64-8198-478e-83cb-7f8beadab91e"
      },
      "execution_count": 21,
      "outputs": [
        {
          "output_type": "stream",
          "name": "stdout",
          "text": [
            "1'in karesi = 1\n",
            "2'in karesi = 4\n",
            "3'in karesi = 9\n",
            "4'in karesi = 16\n",
            "5'in karesi = 25\n"
          ]
        }
      ]
    },
    {
      "cell_type": "code",
      "source": [
        "yas = input(\"yasinizi giriniz:\")\n",
        "\n",
        "while not yas.isdigit() :                                             ## isdigit icine sadece integer alir. (-)veya float almaz. \n",
        "  print(\"yanlis formatta girdiniz\")\n",
        "  yas = input(\"lutfen yasinizi dogru formatta giriniz:\")\n",
        "\n",
        "print(\"tesekkur ederz . yasiniz :\", yas)"
      ],
      "metadata": {
        "colab": {
          "base_uri": "https://localhost:8080/"
        },
        "id": "eRG32meWy5T5",
        "outputId": "3629cd23-ab13-4f93-9d37-77d312c1f0e6"
      },
      "execution_count": 2,
      "outputs": [
        {
          "output_type": "stream",
          "name": "stdout",
          "text": [
            "yasinizi giriniz:gf\n",
            "yanlis formatta girdiniz\n",
            "lutfen yasinizi dogru formatta giriniz:ht\n",
            "yanlis formatta girdiniz\n",
            "lutfen yasinizi dogru formatta giriniz:5\n",
            "tesekkur ederz . yasiniz : 5\n"
          ]
        }
      ]
    },
    {
      "cell_type": "code",
      "source": [
        "## not : isdigit() zaten kendisi True ve ya False gibi boolean degerler dondurdugu icin bu nedenle tekrar bir daha == True ya da == False demeye ihtiyac duymuyoruz."
      ],
      "metadata": {
        "id": "N6MZ9TlDhQai"
      },
      "execution_count": 2,
      "outputs": []
    },
    {
      "cell_type": "code",
      "source": [
        "## kahoot sorulari"
      ],
      "metadata": {
        "id": "e_pnGhA7kSR0"
      },
      "execution_count": null,
      "outputs": []
    },
    {
      "cell_type": "code",
      "source": [
        "condition = (3>1) and (1<1)\n",
        "\n",
        "if not condition :\n",
        "  print(\"it works\")\n",
        "\n",
        "else:\n",
        "  print(\"something is wrong\")"
      ],
      "metadata": {
        "colab": {
          "base_uri": "https://localhost:8080/"
        },
        "id": "YK2HBR8RkUQd",
        "outputId": "4f97807e-91c9-4e8e-89e3-54e0b2d7d0ff"
      },
      "execution_count": 3,
      "outputs": [
        {
          "output_type": "stream",
          "name": "stdout",
          "text": [
            "it works\n"
          ]
        }
      ]
    },
    {
      "cell_type": "code",
      "source": [
        "price = \"2000\"\n",
        "\n",
        "if price <= 2200 :       # buradaki deger string olarak yazilmamis\n",
        " print(\"ucuz\")\n",
        "\n",
        "else:\n",
        "  print(\"pahali\")"
      ],
      "metadata": {
        "colab": {
          "base_uri": "https://localhost:8080/",
          "height": 245
        },
        "id": "olyP1M_Xkiya",
        "outputId": "b64c087c-1536-47fc-eb26-86de47ce8ed8"
      },
      "execution_count": 4,
      "outputs": [
        {
          "output_type": "error",
          "ename": "TypeError",
          "evalue": "ignored",
          "traceback": [
            "\u001b[0;31m---------------------------------------------------------------------------\u001b[0m",
            "\u001b[0;31mTypeError\u001b[0m                                 Traceback (most recent call last)",
            "\u001b[0;32m<ipython-input-4-5c530e518be7>\u001b[0m in \u001b[0;36m<module>\u001b[0;34m()\u001b[0m\n\u001b[1;32m      1\u001b[0m \u001b[0mprice\u001b[0m \u001b[0;34m=\u001b[0m \u001b[0;34m\"2000\"\u001b[0m\u001b[0;34m\u001b[0m\u001b[0;34m\u001b[0m\u001b[0m\n\u001b[1;32m      2\u001b[0m \u001b[0;34m\u001b[0m\u001b[0m\n\u001b[0;32m----> 3\u001b[0;31m \u001b[0;32mif\u001b[0m \u001b[0mprice\u001b[0m \u001b[0;34m<=\u001b[0m \u001b[0;36m2200\u001b[0m \u001b[0;34m:\u001b[0m\u001b[0;34m\u001b[0m\u001b[0;34m\u001b[0m\u001b[0m\n\u001b[0m\u001b[1;32m      4\u001b[0m  \u001b[0mprint\u001b[0m\u001b[0;34m(\u001b[0m\u001b[0;34m\"ucuz\"\u001b[0m\u001b[0;34m)\u001b[0m\u001b[0;34m\u001b[0m\u001b[0;34m\u001b[0m\u001b[0m\n\u001b[1;32m      5\u001b[0m \u001b[0;34m\u001b[0m\u001b[0m\n",
            "\u001b[0;31mTypeError\u001b[0m: '<=' not supported between instances of 'str' and 'int'"
          ]
        }
      ]
    },
    {
      "cell_type": "code",
      "source": [
        "price = \"2000\"\n",
        "\n",
        "if price <= '2200' :       ## stringleri < > veya <= >= ile kiyaslama yapabliyoruz.\n",
        " print(\"ucuz\")\n",
        "\n",
        "else:\n",
        "  print(\"pahali\")"
      ],
      "metadata": {
        "colab": {
          "base_uri": "https://localhost:8080/"
        },
        "id": "a6W6D7Psk2bq",
        "outputId": "e16152de-a9ee-479f-e145-fe68250e9a1a"
      },
      "execution_count": 5,
      "outputs": [
        {
          "output_type": "stream",
          "name": "stdout",
          "text": [
            "ucuz\n"
          ]
        }
      ]
    },
    {
      "cell_type": "code",
      "source": [
        "print(\"a\" < \"aa\")\n",
        "\n",
        "print(\"a\" < \"A\")\n",
        "\n",
        "print(\"a\" < \"1000\")         ## ascii koda bakiliyor. burada a yi \"1000\" in ilk elemani olan 1 ile karsilastiriyor. ilk elemanlar ayni olursa 2. elemana geciyor\n",
        "print(\"a\" < \"a1\")\n",
        "print(\"a\" < \"1a\")\n",
        "\n",
        "print(\"a\" < \"+\")\n",
        "\n",
        "print(\"a\" == \"a\")"
      ],
      "metadata": {
        "colab": {
          "base_uri": "https://localhost:8080/"
        },
        "id": "cAeSXdPXk-wC",
        "outputId": "b44a2cd9-84d6-40b7-fd99-5c7c03eeed95"
      },
      "execution_count": 7,
      "outputs": [
        {
          "output_type": "stream",
          "name": "stdout",
          "text": [
            "True\n",
            "False\n",
            "False\n",
            "True\n",
            "False\n",
            "False\n",
            "True\n"
          ]
        }
      ]
    },
    {
      "cell_type": "code",
      "source": [
        "## aklindan sayi tut oyunu: \n",
        "\n",
        "print(\"hadi sayi tut oyunu oynayalim\")\n",
        "sayi = 55\n",
        "\n",
        "while True:\n",
        "  girdi =  int(input(\"aklimdan gecen sayiyi bil bakalim:\"))\n",
        "  \n",
        "  if girdi > sayi:\n",
        "    print(\"biraz azalt:\")\n",
        "\n",
        "  elif girdi < sayi:\n",
        "    print(\"biraz artir\")\n",
        "\n",
        "  else:\n",
        "    cevap = \"tebrikler bildin\"\n",
        "    break\n",
        "\n",
        "print(cevap)"
      ],
      "metadata": {
        "colab": {
          "base_uri": "https://localhost:8080/"
        },
        "id": "TLMclcsCmEIq",
        "outputId": "4f2fd562-6e00-4c1b-8a35-57919753998e"
      },
      "execution_count": 8,
      "outputs": [
        {
          "output_type": "stream",
          "name": "stdout",
          "text": [
            "hadi sayi tut oyunu oynayalim\n",
            "aklimdan gecen sayiyi bil bakalim:89\n",
            "biraz azalt:\n",
            "aklimdan gecen sayiyi bil bakalim:45\n",
            "biraz artir\n",
            "aklimdan gecen sayiyi bil bakalim:52\n",
            "biraz artir\n",
            "aklimdan gecen sayiyi bil bakalim:55\n",
            "tebrikler bildin\n"
          ]
        }
      ]
    },
    {
      "cell_type": "code",
      "source": [
        "# farkli cozumu\n",
        "\n",
        "girdi = int(input(\"bir sayi soyle:\"))\n",
        "sayi= 55\n",
        "\n",
        "while girdi < sayi :                                     ## buralarda break kullanmadik ve buna ragmen sonsuz donguye girmedi. cunku tekrardan girdi (input) istedik\n",
        "  print(\"biraz artir\")\n",
        "  girdi = int(input(\"yeni sayi:\"))\n",
        "\n",
        "while girdi > sayi :\n",
        "  print(\"biraz azalt\")\n",
        "  girdi = int(input(\"yeni sayi:\"))\n",
        "\n",
        "while girdi == sayi :\n",
        "  print(\"tebrikler bildin\")\n",
        "  break"
      ],
      "metadata": {
        "colab": {
          "base_uri": "https://localhost:8080/"
        },
        "id": "emz7w7_7qwQI",
        "outputId": "2b8b83b0-b90a-4d85-d0a2-833a5639e9e5"
      },
      "execution_count": 11,
      "outputs": [
        {
          "output_type": "stream",
          "name": "stdout",
          "text": [
            "bir sayi soyle:44\n",
            "biraz artir\n",
            "yeni sayi:89\n",
            "biraz azalt\n",
            "yeni sayi:62\n",
            "biraz azalt\n",
            "yeni sayi:55\n",
            "tebrikler bildin\n"
          ]
        }
      ]
    },
    {
      "cell_type": "code",
      "source": [
        "## not : bu tars kodlari while ve for kullanmadan sadece if ve else ler ile yazamayiz. cunku kullanicinin kac sefer de bilecegini bilemeyiz ve sadece if ler ile bir dongu olusturamayiz."
      ],
      "metadata": {
        "id": "Wiqasne0sWqo"
      },
      "execution_count": null,
      "outputs": []
    },
    {
      "cell_type": "code",
      "source": [
        "## kullaniciininn girdigi cumlede en uzun kelimenin uzunlugunu bulma\n",
        "\n",
        "girdi = input(\"lutfen bir cumle giriniz :\")\n",
        "new = girdi.split()           ## kelimeleri tek tek ayirmak icin\n",
        "counter = 0\n",
        "longest = 0\n",
        "\n",
        "while counter < len(new):\n",
        "  a = new[counter]\n",
        "  counter += 1\n",
        "\n",
        "  if len(a) > longest:\n",
        "    longest = len(a)\n",
        "  else:\n",
        "    longest = longest\n",
        "\n",
        "print(longest)"
      ],
      "metadata": {
        "colab": {
          "base_uri": "https://localhost:8080/"
        },
        "id": "nFYj2wPXtfeR",
        "outputId": "3aa7498f-223a-4e49-edb8-23b40a88ee1f"
      },
      "execution_count": 13,
      "outputs": [
        {
          "output_type": "stream",
          "name": "stdout",
          "text": [
            "lutfen bir cumle giriniz :muratgilin damindan atlayamadim\n",
            "11\n"
          ]
        }
      ]
    },
    {
      "cell_type": "code",
      "source": [
        "liste = [10, 11, 12, 13, 14]\n",
        "bos =[]\n",
        "counter = 0\n",
        "\n",
        "while counter <= len(liste):     # burada listenin elemanlarini degil (for daki gibi ), listenin eleman sayisini kullaniyoruz.\n",
        "    bos.append(counter)\n",
        "    counter += 1                               ## counter alta yazilirsa once 0 i print eder sonra +1 ekler ve sonraki degere gecer.\n",
        "print(bos)"
      ],
      "metadata": {
        "colab": {
          "base_uri": "https://localhost:8080/"
        },
        "id": "fXcac0wlxVz0",
        "outputId": "2d506854-48bc-42e5-dbe3-c29445eb4de8"
      },
      "execution_count": 15,
      "outputs": [
        {
          "output_type": "stream",
          "name": "stdout",
          "text": [
            "[0, 1, 2, 3, 4, 5]\n"
          ]
        }
      ]
    },
    {
      "cell_type": "code",
      "source": [
        "liste = [10, 11, 12, 13, 14]\n",
        "bos =[]\n",
        "counter = 0\n",
        "\n",
        "while counter <= len(liste):   \n",
        "    counter += 1                       ## counter yukari yazilirsa once 0 a 1 ekler sonra append eder.\n",
        "    bos.append(counter)\n",
        "    \n",
        "print(bos)"
      ],
      "metadata": {
        "colab": {
          "base_uri": "https://localhost:8080/"
        },
        "id": "Mq-RQ0X_y8zj",
        "outputId": "c6e7bfd1-49c5-4907-8d91-f48ecd4020f4"
      },
      "execution_count": 17,
      "outputs": [
        {
          "output_type": "stream",
          "name": "stdout",
          "text": [
            "[1, 2, 3, 4, 5, 6]\n"
          ]
        }
      ]
    },
    {
      "cell_type": "code",
      "source": [
        "############### FOR LOOP ##############################\n"
      ],
      "metadata": {
        "id": "qlRUvs1nzHZ_"
      },
      "execution_count": null,
      "outputs": []
    },
    {
      "cell_type": "code",
      "source": [
        "# for donguleri ana yapisi \n",
        "\n",
        "for variable in iterable:\n",
        "  body\n",
        "\n",
        "\n",
        "# while yapisina benzer hususlar:\n",
        "# for satiri sonunda colon (:) kullanimi\n",
        "# body ye baslamadan once 1 tab indentation\n",
        "\n",
        "\n",
        "# while dan farkli olan hususlar:\n",
        "\n",
        "# iterable verinin elemanlari uzerinde gezinir, condition ile calismaz\n",
        "#   i  gibi bir degisken alir\n",
        "# for dongusunde list comprehension mumkun , while da yok\n",
        "\n",
        "# for dongusunde while gondusundeki gibi sonsuz dongu yoktur, belli sayida doner\n",
        "\n",
        "# dongulerde kullanilan i harfi kural gibidi.\n",
        "\n",
        "# for dongusu her iteration da i degiskenine assigning yapar.yani her iteration da i nin degerinde bir guncelleme olur\n",
        "\n"
      ],
      "metadata": {
        "id": "hpHhkLI5zf1g"
      },
      "execution_count": null,
      "outputs": []
    },
    {
      "cell_type": "code",
      "source": [
        "liste = [12, 13, 3, 4, 5]\n",
        "for i in liste:\n",
        " print(i)"
      ],
      "metadata": {
        "colab": {
          "base_uri": "https://localhost:8080/"
        },
        "id": "BGh1kk0D2YUT",
        "outputId": "70b6a91a-dab6-4e8b-9fbe-c9d1bb40ef97"
      },
      "execution_count": 20,
      "outputs": [
        {
          "output_type": "stream",
          "name": "stdout",
          "text": [
            "12\n",
            "13\n",
            "3\n",
            "4\n",
            "5\n"
          ]
        }
      ]
    },
    {
      "cell_type": "code",
      "source": [
        "liste = [12, 13, 3, 4, 5]\n",
        "\n",
        "for i in liste :             # burada listeden bahsetmiyoruz. listenin her elemani icin ella yazdiriyor.\n",
        "  print(\"ella\")"
      ],
      "metadata": {
        "colab": {
          "base_uri": "https://localhost:8080/"
        },
        "id": "JHYkedrB2Y-O",
        "outputId": "90824f85-1de0-492e-e3e0-3b00f266f8c7"
      },
      "execution_count": 21,
      "outputs": [
        {
          "output_type": "stream",
          "name": "stdout",
          "text": [
            "ella\n",
            "ella\n",
            "ella\n",
            "ella\n",
            "ella\n"
          ]
        }
      ]
    },
    {
      "cell_type": "code",
      "source": [
        ""
      ],
      "metadata": {
        "id": "AP-Z0dyL28KC"
      },
      "execution_count": null,
      "outputs": []
    }
  ]
}