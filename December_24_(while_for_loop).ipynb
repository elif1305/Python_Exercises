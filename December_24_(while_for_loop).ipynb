{
  "nbformat": 4,
  "nbformat_minor": 0,
  "metadata": {
    "colab": {
      "name": "December -24-(while-for loop)",
      "provenance": [],
      "authorship_tag": "ABX9TyMbZ1M5oputfSl3DyAtMSnq"
    },
    "kernelspec": {
      "name": "python3",
      "display_name": "Python 3"
    },
    "language_info": {
      "name": "python"
    }
  },
  "cells": [
    {
      "cell_type": "code",
      "execution_count": null,
      "metadata": {
        "id": "wzPqjGz1h_Zr"
      },
      "outputs": [],
      "source": [
        "### while and for loops"
      ]
    },
    {
      "cell_type": "code",
      "source": [
        "## tekrar ettirmek icin\n",
        "#for loop iterablelar uzerinden calisir. bir iterable verinin elemanlari sayisinca iterate eder. iterablein elemanlari bitince for dongusu calismanini durdurur\n",
        "\n",
        "# while loop ise condition lar uzerinden gider. kosul true ciktigi surece while loop calisir, false a dondugu zaman calismayi durdurur"
      ],
      "metadata": {
        "id": "ar7lZLD6lb4d"
      },
      "execution_count": null,
      "outputs": []
    },
    {
      "cell_type": "code",
      "source": [
        "## while loop temel yapisi:\n",
        "\n",
        "while condition : ( : colon onemli)\n",
        "   body   # (4 space indentation)\n",
        "   "
      ],
      "metadata": {
        "id": "YSOE-281l4lK"
      },
      "execution_count": null,
      "outputs": []
    },
    {
      "cell_type": "code",
      "source": [
        "# wile looplar condition kismina boolean degerler ya da truthy falsy degerler a;ir;ar.\n",
        "\n",
        "while 3>2 : \n",
        "\n",
        "while True :\n",
        "\n",
        "while None:\n",
        "\n",
        "while {}:\n",
        "\n",
        "while False:\n",
        "\n",
        "while bool(1) + bool('a'):\n",
        "\n",
        "while \"ahmet\":\n",
        "  print('ahmet')\n",
        "  break\n",
        "\n",
        "while 'ali' and None or 2021 :\n",
        "\n"
      ],
      "metadata": {
        "id": "Ivxe7oOnmS_Y"
      },
      "execution_count": null,
      "outputs": []
    },
    {
      "cell_type": "code",
      "source": [
        "condition = 6.5   ## !!! burada 6.5 degilde , 6.8 yazarsak surekli 0.5 azalacagindan sonuc 0 a hic dusmez ve sonsuz donguye girer\n",
        "\n",
        "while condition:\n",
        "  condition -= 0.5\n",
        "  print(condition)"
      ],
      "metadata": {
        "colab": {
          "base_uri": "https://localhost:8080/"
        },
        "id": "IzJ9UJCKniWM",
        "outputId": "1ea866ee-bc3b-474f-e86c-1b3f729d37d3"
      },
      "execution_count": 2,
      "outputs": [
        {
          "output_type": "stream",
          "name": "stdout",
          "text": [
            "6.0\n",
            "5.5\n",
            "5.0\n",
            "4.5\n",
            "4.0\n",
            "3.5\n",
            "3.0\n",
            "2.5\n",
            "2.0\n",
            "1.5\n",
            "1.0\n",
            "0.5\n",
            "0.0\n"
          ]
        }
      ]
    },
    {
      "cell_type": "code",
      "source": [
        "##### sonsuz donguye girdigi zaman RUNTIME --> INTERRUPT EXECUTION a bas"
      ],
      "metadata": {
        "id": "Im69iRsgn3lA"
      },
      "execution_count": null,
      "outputs": []
    },
    {
      "cell_type": "code",
      "source": [
        "# while dongusunde false ile karsilasilmazsa kod sonsuz donguye girer..\n",
        "\n",
        "# a += 1 ya da a -=1 gibi degiskenler kullanarak iteration da verimizi degistirebliriz.\n",
        "\n",
        "# break ile de kodu sonsuz donguden cikarabliriz."
      ],
      "metadata": {
        "id": "U3WE1Sm-oOlK"
      },
      "execution_count": null,
      "outputs": []
    },
    {
      "cell_type": "code",
      "source": [
        "condition = 5\n",
        "\n",
        "while True:\n",
        "  condition -= 1\n",
        "  print(condition)\n",
        "  if condition == 0:\n",
        "    break"
      ],
      "metadata": {
        "colab": {
          "base_uri": "https://localhost:8080/"
        },
        "id": "JSN1y6ILo5vI",
        "outputId": "09daee47-5a08-4d48-f8dd-e049189dc910"
      },
      "execution_count": 3,
      "outputs": [
        {
          "output_type": "stream",
          "name": "stdout",
          "text": [
            "4\n",
            "3\n",
            "2\n",
            "1\n",
            "0\n"
          ]
        }
      ]
    },
    {
      "cell_type": "code",
      "source": [
        "# eger ic ice yani nasted while loop lar ile calisiorsak ve en icreki loop umuza berak kullaniyorsak, en icteki looptan cikar bir ust while loop ise calismaya devam eder.\n",
        "\n",
        "condition = 20\n",
        "\n",
        "while condition > 0 :\n",
        "  print(condition)\n",
        "  condition -= 1          ## 1 kez burada calisir\n",
        "\n",
        "  while 19 >= condition >= 13 :        # 7 kez burada calisir\n",
        "    print(\"condition >= 13\")\n",
        "    condition -= 1 \n",
        "\n",
        "    while 13 > condition > 7 : # burada sayi 8den buyukk oldgu surece calisacak\n",
        "      print(\"condition >= 8\")\n",
        "      condition -= 1\n",
        "      if condition == 7:\n",
        "        break"
      ],
      "metadata": {
        "colab": {
          "base_uri": "https://localhost:8080/"
        },
        "id": "zp2C1YnHpNzL",
        "outputId": "c2dece0c-7fe8-4f3a-b61d-3d4f9383d6e4"
      },
      "execution_count": 7,
      "outputs": [
        {
          "output_type": "stream",
          "name": "stdout",
          "text": [
            "20\n",
            "condition >= 13\n",
            "condition >= 13\n",
            "condition >= 13\n",
            "condition >= 13\n",
            "condition >= 13\n",
            "condition >= 13\n",
            "condition >= 13\n",
            "condition >= 8\n",
            "condition >= 8\n",
            "condition >= 8\n",
            "condition >= 8\n",
            "condition >= 8\n",
            "7\n",
            "6\n",
            "5\n",
            "4\n",
            "3\n",
            "2\n",
            "1\n"
          ]
        }
      ]
    },
    {
      "cell_type": "code",
      "source": [
        " ## print () func 2 kez yazilirsa ne olur\n",
        "\n",
        "condition = 5\n",
        "\n",
        "while condition > 0 :\n",
        "  condition -= 1 \n",
        "  print(condition)\n",
        "  print(condition)\n",
        "  "
      ],
      "metadata": {
        "colab": {
          "base_uri": "https://localhost:8080/"
        },
        "id": "UE8BH0AJqauB",
        "outputId": "fd178952-e7d5-45e3-f655-1e2dc83aa80c"
      },
      "execution_count": 8,
      "outputs": [
        {
          "output_type": "stream",
          "name": "stdout",
          "text": [
            "4\n",
            "4\n",
            "3\n",
            "3\n",
            "2\n",
            "2\n",
            "1\n",
            "1\n",
            "0\n",
            "0\n"
          ]
        }
      ]
    },
    {
      "cell_type": "code",
      "source": [
        "## print () func while loop disinda yazilirsa\n",
        "\n",
        "condition = 5\n",
        "\n",
        "while condition > 0 :\n",
        "  condition -= 1 \n",
        "  print(condition)\n",
        "print(condition)"
      ],
      "metadata": {
        "colab": {
          "base_uri": "https://localhost:8080/"
        },
        "id": "ZAGj56aRs-p1",
        "outputId": "bc4a53ae-65af-4a39-ff86-1e43e926c4f8"
      },
      "execution_count": 11,
      "outputs": [
        {
          "output_type": "stream",
          "name": "stdout",
          "text": [
            "4\n",
            "3\n",
            "2\n",
            "1\n",
            "0\n",
            "0\n"
          ]
        }
      ]
    },
    {
      "cell_type": "code",
      "source": [
        "condition = 5\n",
        "\n",
        "while condition > 0 :\n",
        "  \n",
        "  print(condition)\n",
        "  condition -= 1 "
      ],
      "metadata": {
        "colab": {
          "base_uri": "https://localhost:8080/"
        },
        "id": "LyhEiL26spNm",
        "outputId": "f365bb6c-a560-4e4e-e731-a8b1051f0a93"
      },
      "execution_count": 10,
      "outputs": [
        {
          "output_type": "stream",
          "name": "stdout",
          "text": [
            "5\n",
            "4\n",
            "3\n",
            "2\n",
            "1\n"
          ]
        }
      ]
    },
    {
      "cell_type": "code",
      "source": [
        "## condition while icine yazilirsa :\n",
        "\n",
        "\n",
        "\n",
        "while condition > 0 :\n",
        "  condition = 5\n",
        "  print(condition)\n",
        "  condition -= 1                  ## bos doner"
      ],
      "metadata": {
        "id": "jwf96Uxps1Bn"
      },
      "execution_count": 12,
      "outputs": []
    },
    {
      "cell_type": "code",
      "source": [
        "## while loop un calisma prensibini manuel olrak yapalim\n",
        "\n",
        "x = 5\n",
        "\n",
        "while x > 0 :\n",
        "  x  -= 1\n",
        "  print(x)\n",
        "\n",
        "# x = 4\n",
        "# print(x)\n",
        "\n",
        "# x = 3\n",
        "# print(x)\n",
        "\n",
        "# x = 2\n",
        "# print(2)\n",
        "\n",
        "# x = 1\n",
        "# print(x)\n",
        "\n",
        "# x = 0\n",
        "# print(x)"
      ],
      "metadata": {
        "colab": {
          "base_uri": "https://localhost:8080/"
        },
        "id": "1Q4I182ntdt1",
        "outputId": "ebeb62a5-69ca-4a97-895f-6e9fa2c95487"
      },
      "execution_count": 14,
      "outputs": [
        {
          "output_type": "stream",
          "name": "stdout",
          "text": [
            "4\n",
            "3\n",
            "2\n",
            "1\n",
            "0\n"
          ]
        }
      ]
    },
    {
      "cell_type": "code",
      "source": [
        "## while loop calisma prensibi:\n",
        "\n",
        "while loop statement ==>> condition -->> False ise donguden cikar bir sonraki condition a gider.\n",
        "                                    -->> True ise loop u calistirir"
      ],
      "metadata": {
        "id": "jgfl9iZZv1G1"
      },
      "execution_count": null,
      "outputs": []
    },
    {
      "cell_type": "code",
      "source": [
        "number = 0\n",
        "\n",
        "while number < 6 :\n",
        "  print(number)\n",
        "  number += 1\n",
        "\n",
        "print('simdi sayi 6 ya esit veya daha buyuk')"
      ],
      "metadata": {
        "colab": {
          "base_uri": "https://localhost:8080/"
        },
        "id": "W40yrGb_wpbf",
        "outputId": "18dc939a-29c9-4d81-9213-934fcb074582"
      },
      "execution_count": 17,
      "outputs": [
        {
          "output_type": "stream",
          "name": "stdout",
          "text": [
            "0\n",
            "1\n",
            "2\n",
            "3\n",
            "4\n",
            "5\n",
            "simdi sayi 6 ya esit veya daha buyuk\n"
          ]
        }
      ]
    },
    {
      "cell_type": "code",
      "source": [
        "number = 0\n",
        "\n",
        "while number < 6 :\n",
        "  number += 1\n",
        "  print(number)\n",
        "  "
      ],
      "metadata": {
        "colab": {
          "base_uri": "https://localhost:8080/"
        },
        "id": "z44OIkyaw65c",
        "outputId": "5bf2894e-09dc-4118-b83b-83750c41071f"
      },
      "execution_count": 18,
      "outputs": [
        {
          "output_type": "stream",
          "name": "stdout",
          "text": [
            "1\n",
            "2\n",
            "3\n",
            "4\n",
            "5\n",
            "6\n"
          ]
        }
      ]
    },
    {
      "cell_type": "code",
      "source": [
        "## while dongusunu for dongusunde kullandigimiz b iterable ile de saglayabliriz\n",
        "\n",
        "liste = ['a', 'b', 'c', 'd', 'e']\n",
        "a = 0\n",
        "\n",
        "while a < len(liste):\n",
        "  a += 1\n",
        "  print(\"{}'in karesi = {}\" . format(a, a**2))"
      ],
      "metadata": {
        "colab": {
          "base_uri": "https://localhost:8080/"
        },
        "id": "GJjUqqtjyMG6",
        "outputId": "de3a4a64-8198-478e-83cb-7f8beadab91e"
      },
      "execution_count": 21,
      "outputs": [
        {
          "output_type": "stream",
          "name": "stdout",
          "text": [
            "1'in karesi = 1\n",
            "2'in karesi = 4\n",
            "3'in karesi = 9\n",
            "4'in karesi = 16\n",
            "5'in karesi = 25\n"
          ]
        }
      ]
    },
    {
      "cell_type": "code",
      "source": [
        ""
      ],
      "metadata": {
        "id": "eRG32meWy5T5"
      },
      "execution_count": null,
      "outputs": []
    }
  ]
}