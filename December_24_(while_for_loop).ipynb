{
  "nbformat": 4,
  "nbformat_minor": 0,
  "metadata": {
    "colab": {
      "name": "December -24-(while-for loop)",
      "provenance": [],
      "authorship_tag": "ABX9TyMpXvi7iPysde1VcDEtmJ0y"
    },
    "kernelspec": {
      "name": "python3",
      "display_name": "Python 3"
    },
    "language_info": {
      "name": "python"
    }
  },
  "cells": [
    {
      "cell_type": "code",
      "execution_count": null,
      "metadata": {
        "id": "wzPqjGz1h_Zr"
      },
      "outputs": [],
      "source": [
        "### while and for loops"
      ]
    },
    {
      "cell_type": "code",
      "source": [
        "## tekrar ettirmek icin\n",
        "#for loop iterablelar uzerinden calisir. bir iterable verinin elemanlari sayisinca iterate eder. iterablein elemanlari bitince for dongusu calismanini durdurur\n",
        "\n",
        "# while loop ise condition lar uzerinden gider. kosul true ciktigi surece while loop calisir, false a dondugu zaman calismayi durdurur"
      ],
      "metadata": {
        "id": "ar7lZLD6lb4d"
      },
      "execution_count": null,
      "outputs": []
    },
    {
      "cell_type": "code",
      "source": [
        "## while loop temel yapisi:\n",
        "\n",
        "while condition : ( : colon onemli)\n",
        "   body   # (4 space indentation)\n",
        "   "
      ],
      "metadata": {
        "id": "YSOE-281l4lK"
      },
      "execution_count": null,
      "outputs": []
    },
    {
      "cell_type": "code",
      "source": [
        "# wile looplar condition kismina boolean degerler ya da truthy falsy degerler a;ir;ar.\n",
        "\n",
        "while 3>2 : \n",
        "\n",
        "while True :\n",
        "\n",
        "while None:\n",
        "\n",
        "while {}:\n",
        "\n",
        "while False:\n",
        "\n",
        "while bool(1) + bool('a'):\n",
        "\n",
        "while \"ahmet\":\n",
        "  print('ahmet')\n",
        "  break\n",
        "\n",
        "while 'ali' and None or 2021 :\n",
        "\n"
      ],
      "metadata": {
        "id": "Ivxe7oOnmS_Y"
      },
      "execution_count": null,
      "outputs": []
    },
    {
      "cell_type": "code",
      "source": [
        "condition = 6.5   ## !!! burada 6.5 degilde , 6.8 yazarsak surekli 0.5 azalacagindan sonuc 0 a hic dusmez ve sonsuz donguye girer\n",
        "\n",
        "while condition:\n",
        "  condition -= 0.5\n",
        "  print(condition)"
      ],
      "metadata": {
        "colab": {
          "base_uri": "https://localhost:8080/"
        },
        "id": "IzJ9UJCKniWM",
        "outputId": "1ea866ee-bc3b-474f-e86c-1b3f729d37d3"
      },
      "execution_count": 2,
      "outputs": [
        {
          "output_type": "stream",
          "name": "stdout",
          "text": [
            "6.0\n",
            "5.5\n",
            "5.0\n",
            "4.5\n",
            "4.0\n",
            "3.5\n",
            "3.0\n",
            "2.5\n",
            "2.0\n",
            "1.5\n",
            "1.0\n",
            "0.5\n",
            "0.0\n"
          ]
        }
      ]
    },
    {
      "cell_type": "code",
      "source": [
        "##### sonsuz donguye girdigi zaman RUNTIME --> INTERRUPT EXECUTION a bas"
      ],
      "metadata": {
        "id": "Im69iRsgn3lA"
      },
      "execution_count": null,
      "outputs": []
    },
    {
      "cell_type": "code",
      "source": [
        "# while dongusunde false ile karsilasilmazsa kod sonsuz donguye girer..\n",
        "\n",
        "# a += 1 ya da a -=1 gibi degiskenler kullanarak iteration da verimizi degistirebliriz.\n",
        "\n",
        "# break ile de kodu sonsuz donguden cikarabliriz."
      ],
      "metadata": {
        "id": "U3WE1Sm-oOlK"
      },
      "execution_count": null,
      "outputs": []
    },
    {
      "cell_type": "code",
      "source": [
        "condition = 5\n",
        "\n",
        "while True:\n",
        "  condition -= 1\n",
        "  print(condition)\n",
        "  if condition == 0:\n",
        "    break"
      ],
      "metadata": {
        "colab": {
          "base_uri": "https://localhost:8080/"
        },
        "id": "JSN1y6ILo5vI",
        "outputId": "09daee47-5a08-4d48-f8dd-e049189dc910"
      },
      "execution_count": 3,
      "outputs": [
        {
          "output_type": "stream",
          "name": "stdout",
          "text": [
            "4\n",
            "3\n",
            "2\n",
            "1\n",
            "0\n"
          ]
        }
      ]
    },
    {
      "cell_type": "code",
      "source": [
        "# eger ic ice yani nasted while loop lar ile calisiorsak ve en icreki loop umuza berak kullaniyorsak, en icteki looptan cikar bir ust while loop ise calismaya devam eder.\n",
        "\n",
        "condition = 20\n",
        "\n",
        "while condition > 0 :\n",
        "  print(condition)\n",
        "  condition -= 1          ## 1 kez burada calisir\n",
        "\n",
        "  while 19 >= condition >= 13 :        # 7 kez burada calisir\n",
        "    print(\"condition >= 13\")\n",
        "    condition -= 1 \n",
        "\n",
        "    while 13 > condition > 7 : # burada sayi 8den buyukk oldgu surece calisacak\n",
        "      print(\"condition >= 8\")\n",
        "      condition -= 1\n",
        "      if condition == 7:\n",
        "        break"
      ],
      "metadata": {
        "colab": {
          "base_uri": "https://localhost:8080/"
        },
        "id": "zp2C1YnHpNzL",
        "outputId": "c2dece0c-7fe8-4f3a-b61d-3d4f9383d6e4"
      },
      "execution_count": 7,
      "outputs": [
        {
          "output_type": "stream",
          "name": "stdout",
          "text": [
            "20\n",
            "condition >= 13\n",
            "condition >= 13\n",
            "condition >= 13\n",
            "condition >= 13\n",
            "condition >= 13\n",
            "condition >= 13\n",
            "condition >= 13\n",
            "condition >= 8\n",
            "condition >= 8\n",
            "condition >= 8\n",
            "condition >= 8\n",
            "condition >= 8\n",
            "7\n",
            "6\n",
            "5\n",
            "4\n",
            "3\n",
            "2\n",
            "1\n"
          ]
        }
      ]
    },
    {
      "cell_type": "code",
      "source": [
        " ## print () func 2 kez yazilirsa ne olur\n",
        "\n",
        "condition = 5\n",
        "\n",
        "while condition > 0 :\n",
        "  condition -= 1 \n",
        "  print(condition)\n",
        "  print(condition)\n",
        "  "
      ],
      "metadata": {
        "colab": {
          "base_uri": "https://localhost:8080/"
        },
        "id": "UE8BH0AJqauB",
        "outputId": "fd178952-e7d5-45e3-f655-1e2dc83aa80c"
      },
      "execution_count": 8,
      "outputs": [
        {
          "output_type": "stream",
          "name": "stdout",
          "text": [
            "4\n",
            "4\n",
            "3\n",
            "3\n",
            "2\n",
            "2\n",
            "1\n",
            "1\n",
            "0\n",
            "0\n"
          ]
        }
      ]
    },
    {
      "cell_type": "code",
      "source": [
        "## print () func while loop disinda yazilirsa\n",
        "\n",
        "condition = 5\n",
        "\n",
        "while condition > 0 :\n",
        "  condition -= 1 \n",
        "  print(condition)\n",
        "print(condition)"
      ],
      "metadata": {
        "colab": {
          "base_uri": "https://localhost:8080/"
        },
        "id": "ZAGj56aRs-p1",
        "outputId": "bc4a53ae-65af-4a39-ff86-1e43e926c4f8"
      },
      "execution_count": 11,
      "outputs": [
        {
          "output_type": "stream",
          "name": "stdout",
          "text": [
            "4\n",
            "3\n",
            "2\n",
            "1\n",
            "0\n",
            "0\n"
          ]
        }
      ]
    },
    {
      "cell_type": "code",
      "source": [
        "condition = 5\n",
        "\n",
        "while condition > 0 :\n",
        "  \n",
        "  print(condition)\n",
        "  condition -= 1 "
      ],
      "metadata": {
        "colab": {
          "base_uri": "https://localhost:8080/"
        },
        "id": "LyhEiL26spNm",
        "outputId": "f365bb6c-a560-4e4e-e731-a8b1051f0a93"
      },
      "execution_count": 10,
      "outputs": [
        {
          "output_type": "stream",
          "name": "stdout",
          "text": [
            "5\n",
            "4\n",
            "3\n",
            "2\n",
            "1\n"
          ]
        }
      ]
    },
    {
      "cell_type": "code",
      "source": [
        "## condition while icine yazilirsa :\n",
        "\n",
        "\n",
        "\n",
        "while condition > 0 :\n",
        "  condition = 5\n",
        "  print(condition)\n",
        "  condition -= 1                  ## bos doner"
      ],
      "metadata": {
        "id": "jwf96Uxps1Bn"
      },
      "execution_count": 12,
      "outputs": []
    },
    {
      "cell_type": "code",
      "source": [
        "## while loop un calisma prensibini manuel olrak yapalim\n",
        "\n",
        "x = 5\n",
        "\n",
        "while x > 0 :\n",
        "  x  -= 1\n",
        "  print(x)\n",
        "\n",
        "# x = 4\n",
        "# print(x)\n",
        "\n",
        "# x = 3\n",
        "# print(x)\n",
        "\n",
        "# x = 2\n",
        "# print(2)\n",
        "\n",
        "# x = 1\n",
        "# print(x)\n",
        "\n",
        "# x = 0\n",
        "# print(x)"
      ],
      "metadata": {
        "colab": {
          "base_uri": "https://localhost:8080/"
        },
        "id": "1Q4I182ntdt1",
        "outputId": "ebeb62a5-69ca-4a97-895f-6e9fa2c95487"
      },
      "execution_count": 14,
      "outputs": [
        {
          "output_type": "stream",
          "name": "stdout",
          "text": [
            "4\n",
            "3\n",
            "2\n",
            "1\n",
            "0\n"
          ]
        }
      ]
    },
    {
      "cell_type": "code",
      "source": [
        "## while loop calisma prensibi:\n",
        "\n",
        "while loop statement ==>> condition -->> False ise donguden cikar bir sonraki condition a gider.\n",
        "                                    -->> True ise loop u calistirir"
      ],
      "metadata": {
        "id": "jgfl9iZZv1G1"
      },
      "execution_count": null,
      "outputs": []
    },
    {
      "cell_type": "code",
      "source": [
        "number = 0\n",
        "\n",
        "while number < 6 :\n",
        "  print(number)\n",
        "  number += 1\n",
        "\n",
        "print('simdi sayi 6 ya esit veya daha buyuk')"
      ],
      "metadata": {
        "colab": {
          "base_uri": "https://localhost:8080/"
        },
        "id": "W40yrGb_wpbf",
        "outputId": "18dc939a-29c9-4d81-9213-934fcb074582"
      },
      "execution_count": 17,
      "outputs": [
        {
          "output_type": "stream",
          "name": "stdout",
          "text": [
            "0\n",
            "1\n",
            "2\n",
            "3\n",
            "4\n",
            "5\n",
            "simdi sayi 6 ya esit veya daha buyuk\n"
          ]
        }
      ]
    },
    {
      "cell_type": "code",
      "source": [
        "number = 0\n",
        "\n",
        "while number < 6 :\n",
        "  number += 1\n",
        "  print(number)\n",
        "  "
      ],
      "metadata": {
        "colab": {
          "base_uri": "https://localhost:8080/"
        },
        "id": "z44OIkyaw65c",
        "outputId": "5bf2894e-09dc-4118-b83b-83750c41071f"
      },
      "execution_count": 18,
      "outputs": [
        {
          "output_type": "stream",
          "name": "stdout",
          "text": [
            "1\n",
            "2\n",
            "3\n",
            "4\n",
            "5\n",
            "6\n"
          ]
        }
      ]
    },
    {
      "cell_type": "code",
      "source": [
        "## while dongusunu for dongusunde kullandigimiz b iterable ile de saglayabliriz\n",
        "\n",
        "liste = ['a', 'b', 'c', 'd', 'e']\n",
        "a = 0\n",
        "\n",
        "while a < len(liste):\n",
        "  a += 1\n",
        "  print(\"{}'in karesi = {}\" . format(a, a**2))"
      ],
      "metadata": {
        "colab": {
          "base_uri": "https://localhost:8080/"
        },
        "id": "GJjUqqtjyMG6",
        "outputId": "de3a4a64-8198-478e-83cb-7f8beadab91e"
      },
      "execution_count": 21,
      "outputs": [
        {
          "output_type": "stream",
          "name": "stdout",
          "text": [
            "1'in karesi = 1\n",
            "2'in karesi = 4\n",
            "3'in karesi = 9\n",
            "4'in karesi = 16\n",
            "5'in karesi = 25\n"
          ]
        }
      ]
    },
    {
      "cell_type": "code",
      "source": [
        "yas = input(\"yasinizi giriniz:\")\n",
        "\n",
        "while not yas.isdigit() :                                             ## isdigit icine sadece integer alir. (-)veya float almaz. \n",
        "  print(\"yanlis formatta girdiniz\")\n",
        "  yas = input(\"lutfen yasinizi dogru formatta giriniz:\")\n",
        "\n",
        "print(\"tesekkur ederz . yasiniz :\", yas)"
      ],
      "metadata": {
        "colab": {
          "base_uri": "https://localhost:8080/"
        },
        "id": "eRG32meWy5T5",
        "outputId": "3629cd23-ab13-4f93-9d37-77d312c1f0e6"
      },
      "execution_count": 2,
      "outputs": [
        {
          "output_type": "stream",
          "name": "stdout",
          "text": [
            "yasinizi giriniz:gf\n",
            "yanlis formatta girdiniz\n",
            "lutfen yasinizi dogru formatta giriniz:ht\n",
            "yanlis formatta girdiniz\n",
            "lutfen yasinizi dogru formatta giriniz:5\n",
            "tesekkur ederz . yasiniz : 5\n"
          ]
        }
      ]
    },
    {
      "cell_type": "code",
      "source": [
        "## not : isdigit() zaten kendisi True ve ya False gibi boolean degerler dondurdugu icin bu nedenle tekrar bir daha == True ya da == False demeye ihtiyac duymuyoruz."
      ],
      "metadata": {
        "id": "N6MZ9TlDhQai"
      },
      "execution_count": 2,
      "outputs": []
    },
    {
      "cell_type": "code",
      "source": [
        "## kahoot sorulari"
      ],
      "metadata": {
        "id": "e_pnGhA7kSR0"
      },
      "execution_count": null,
      "outputs": []
    },
    {
      "cell_type": "code",
      "source": [
        "condition = (3>1) and (1<1)\n",
        "\n",
        "if not condition :\n",
        "  print(\"it works\")\n",
        "\n",
        "else:\n",
        "  print(\"something is wrong\")"
      ],
      "metadata": {
        "colab": {
          "base_uri": "https://localhost:8080/"
        },
        "id": "YK2HBR8RkUQd",
        "outputId": "4f97807e-91c9-4e8e-89e3-54e0b2d7d0ff"
      },
      "execution_count": 3,
      "outputs": [
        {
          "output_type": "stream",
          "name": "stdout",
          "text": [
            "it works\n"
          ]
        }
      ]
    },
    {
      "cell_type": "code",
      "source": [
        "price = \"2000\"\n",
        "\n",
        "if price <= 2200 :       # buradaki deger string olarak yazilmamis\n",
        " print(\"ucuz\")\n",
        "\n",
        "else:\n",
        "  print(\"pahali\")"
      ],
      "metadata": {
        "colab": {
          "base_uri": "https://localhost:8080/",
          "height": 245
        },
        "id": "olyP1M_Xkiya",
        "outputId": "b64c087c-1536-47fc-eb26-86de47ce8ed8"
      },
      "execution_count": 4,
      "outputs": [
        {
          "output_type": "error",
          "ename": "TypeError",
          "evalue": "ignored",
          "traceback": [
            "\u001b[0;31m---------------------------------------------------------------------------\u001b[0m",
            "\u001b[0;31mTypeError\u001b[0m                                 Traceback (most recent call last)",
            "\u001b[0;32m<ipython-input-4-5c530e518be7>\u001b[0m in \u001b[0;36m<module>\u001b[0;34m()\u001b[0m\n\u001b[1;32m      1\u001b[0m \u001b[0mprice\u001b[0m \u001b[0;34m=\u001b[0m \u001b[0;34m\"2000\"\u001b[0m\u001b[0;34m\u001b[0m\u001b[0;34m\u001b[0m\u001b[0m\n\u001b[1;32m      2\u001b[0m \u001b[0;34m\u001b[0m\u001b[0m\n\u001b[0;32m----> 3\u001b[0;31m \u001b[0;32mif\u001b[0m \u001b[0mprice\u001b[0m \u001b[0;34m<=\u001b[0m \u001b[0;36m2200\u001b[0m \u001b[0;34m:\u001b[0m\u001b[0;34m\u001b[0m\u001b[0;34m\u001b[0m\u001b[0m\n\u001b[0m\u001b[1;32m      4\u001b[0m  \u001b[0mprint\u001b[0m\u001b[0;34m(\u001b[0m\u001b[0;34m\"ucuz\"\u001b[0m\u001b[0;34m)\u001b[0m\u001b[0;34m\u001b[0m\u001b[0;34m\u001b[0m\u001b[0m\n\u001b[1;32m      5\u001b[0m \u001b[0;34m\u001b[0m\u001b[0m\n",
            "\u001b[0;31mTypeError\u001b[0m: '<=' not supported between instances of 'str' and 'int'"
          ]
        }
      ]
    },
    {
      "cell_type": "code",
      "source": [
        "price = \"2000\"\n",
        "\n",
        "if price <= '2200' :       ## stringleri < > veya <= >= ile kiyaslama yapabliyoruz.\n",
        " print(\"ucuz\")\n",
        "\n",
        "else:\n",
        "  print(\"pahali\")"
      ],
      "metadata": {
        "colab": {
          "base_uri": "https://localhost:8080/"
        },
        "id": "a6W6D7Psk2bq",
        "outputId": "e16152de-a9ee-479f-e145-fe68250e9a1a"
      },
      "execution_count": 5,
      "outputs": [
        {
          "output_type": "stream",
          "name": "stdout",
          "text": [
            "ucuz\n"
          ]
        }
      ]
    },
    {
      "cell_type": "code",
      "source": [
        "print(\"a\" < \"aa\")\n",
        "\n",
        "print(\"a\" < \"A\")\n",
        "\n",
        "print(\"a\" < \"1000\")         ## ascii koda bakiliyor. burada a yi \"1000\" in ilk elemani olan 1 ile karsilastiriyor. ilk elemanlar ayni olursa 2. elemana geciyor\n",
        "print(\"a\" < \"a1\")\n",
        "print(\"a\" < \"1a\")\n",
        "\n",
        "print(\"a\" < \"+\")\n",
        "\n",
        "print(\"a\" == \"a\")"
      ],
      "metadata": {
        "colab": {
          "base_uri": "https://localhost:8080/"
        },
        "id": "cAeSXdPXk-wC",
        "outputId": "b44a2cd9-84d6-40b7-fd99-5c7c03eeed95"
      },
      "execution_count": 7,
      "outputs": [
        {
          "output_type": "stream",
          "name": "stdout",
          "text": [
            "True\n",
            "False\n",
            "False\n",
            "True\n",
            "False\n",
            "False\n",
            "True\n"
          ]
        }
      ]
    },
    {
      "cell_type": "code",
      "source": [
        "## aklindan sayi tut oyunu: \n",
        "\n",
        "print(\"hadi sayi tut oyunu oynayalim\")\n",
        "sayi = 55\n",
        "\n",
        "while True:\n",
        "  girdi =  int(input(\"aklimdan gecen sayiyi bil bakalim:\"))\n",
        "  \n",
        "  if girdi > sayi:\n",
        "    print(\"biraz azalt:\")\n",
        "\n",
        "  elif girdi < sayi:\n",
        "    print(\"biraz artir\")\n",
        "\n",
        "  else:\n",
        "    cevap = \"tebrikler bildin\"\n",
        "    break\n",
        "\n",
        "print(cevap)"
      ],
      "metadata": {
        "colab": {
          "base_uri": "https://localhost:8080/"
        },
        "id": "TLMclcsCmEIq",
        "outputId": "4f2fd562-6e00-4c1b-8a35-57919753998e"
      },
      "execution_count": 8,
      "outputs": [
        {
          "output_type": "stream",
          "name": "stdout",
          "text": [
            "hadi sayi tut oyunu oynayalim\n",
            "aklimdan gecen sayiyi bil bakalim:89\n",
            "biraz azalt:\n",
            "aklimdan gecen sayiyi bil bakalim:45\n",
            "biraz artir\n",
            "aklimdan gecen sayiyi bil bakalim:52\n",
            "biraz artir\n",
            "aklimdan gecen sayiyi bil bakalim:55\n",
            "tebrikler bildin\n"
          ]
        }
      ]
    },
    {
      "cell_type": "code",
      "source": [
        "# farkli cozumu\n",
        "\n",
        "girdi = int(input(\"bir sayi soyle:\"))\n",
        "sayi= 55\n",
        "\n",
        "while girdi < sayi :                                     ## buralarda break kullanmadik ve buna ragmen sonsuz donguye girmedi. cunku tekrardan girdi (input) istedik\n",
        "  print(\"biraz artir\")\n",
        "  girdi = int(input(\"yeni sayi:\"))\n",
        "\n",
        "while girdi > sayi :\n",
        "  print(\"biraz azalt\")\n",
        "  girdi = int(input(\"yeni sayi:\"))\n",
        "\n",
        "while girdi == sayi :\n",
        "  print(\"tebrikler bildin\")\n",
        "  break"
      ],
      "metadata": {
        "colab": {
          "base_uri": "https://localhost:8080/"
        },
        "id": "emz7w7_7qwQI",
        "outputId": "2b8b83b0-b90a-4d85-d0a2-833a5639e9e5"
      },
      "execution_count": 11,
      "outputs": [
        {
          "output_type": "stream",
          "name": "stdout",
          "text": [
            "bir sayi soyle:44\n",
            "biraz artir\n",
            "yeni sayi:89\n",
            "biraz azalt\n",
            "yeni sayi:62\n",
            "biraz azalt\n",
            "yeni sayi:55\n",
            "tebrikler bildin\n"
          ]
        }
      ]
    },
    {
      "cell_type": "code",
      "source": [
        "## not : bu tars kodlari while ve for kullanmadan sadece if ve else ler ile yazamayiz. cunku kullanicinin kac sefer de bilecegini bilemeyiz ve sadece if ler ile bir dongu olusturamayiz."
      ],
      "metadata": {
        "id": "Wiqasne0sWqo"
      },
      "execution_count": null,
      "outputs": []
    },
    {
      "cell_type": "code",
      "source": [
        "## kullaniciininn girdigi cumlede en uzun kelimenin uzunlugunu bulma\n",
        "\n",
        "girdi = input(\"lutfen bir cumle giriniz :\")\n",
        "new = girdi.split()           ## kelimeleri tek tek ayirmak icin\n",
        "counter = 0\n",
        "longest = 0\n",
        "\n",
        "while counter < len(new):\n",
        "  a = new[counter]\n",
        "  counter += 1\n",
        "\n",
        "  if len(a) > longest:\n",
        "    longest = len(a)\n",
        "  else:\n",
        "    longest = longest\n",
        "\n",
        "print(longest)"
      ],
      "metadata": {
        "colab": {
          "base_uri": "https://localhost:8080/"
        },
        "id": "nFYj2wPXtfeR",
        "outputId": "3aa7498f-223a-4e49-edb8-23b40a88ee1f"
      },
      "execution_count": 13,
      "outputs": [
        {
          "output_type": "stream",
          "name": "stdout",
          "text": [
            "lutfen bir cumle giriniz :muratgilin damindan atlayamadim\n",
            "11\n"
          ]
        }
      ]
    },
    {
      "cell_type": "code",
      "source": [
        "liste = [10, 11, 12, 13, 14]\n",
        "bos =[]\n",
        "counter = 0\n",
        "\n",
        "while counter <= len(liste):     # burada listenin elemanlarini degil (for daki gibi ), listenin eleman sayisini kullaniyoruz.\n",
        "    bos.append(counter)\n",
        "    counter += 1                               ## counter alta yazilirsa once 0 i print eder sonra +1 ekler ve sonraki degere gecer.\n",
        "print(bos)"
      ],
      "metadata": {
        "colab": {
          "base_uri": "https://localhost:8080/"
        },
        "id": "fXcac0wlxVz0",
        "outputId": "2d506854-48bc-42e5-dbe3-c29445eb4de8"
      },
      "execution_count": 15,
      "outputs": [
        {
          "output_type": "stream",
          "name": "stdout",
          "text": [
            "[0, 1, 2, 3, 4, 5]\n"
          ]
        }
      ]
    },
    {
      "cell_type": "code",
      "source": [
        "liste = [10, 11, 12, 13, 14]\n",
        "bos =[]\n",
        "counter = 0\n",
        "\n",
        "while counter <= len(liste):   \n",
        "    counter += 1                       ## counter yukari yazilirsa once 0 a 1 ekler sonra append eder.\n",
        "    bos.append(counter)\n",
        "    \n",
        "print(bos)"
      ],
      "metadata": {
        "colab": {
          "base_uri": "https://localhost:8080/"
        },
        "id": "Mq-RQ0X_y8zj",
        "outputId": "c6e7bfd1-49c5-4907-8d91-f48ecd4020f4"
      },
      "execution_count": 17,
      "outputs": [
        {
          "output_type": "stream",
          "name": "stdout",
          "text": [
            "[1, 2, 3, 4, 5, 6]\n"
          ]
        }
      ]
    },
    {
      "cell_type": "code",
      "source": [
        "############### FOR LOOP ##############################\n"
      ],
      "metadata": {
        "id": "qlRUvs1nzHZ_"
      },
      "execution_count": null,
      "outputs": []
    },
    {
      "cell_type": "code",
      "source": [
        "# for donguleri ana yapisi \n",
        "\n",
        "for variable in iterable:\n",
        "  body\n",
        "\n",
        "\n",
        "# while yapisina benzer hususlar:\n",
        "# for satiri sonunda colon (:) kullanimi\n",
        "# body ye baslamadan once 1 tab indentation\n",
        "\n",
        "\n",
        "# while dan farkli olan hususlar:\n",
        "\n",
        "# iterable verinin elemanlari uzerinde gezinir, condition ile calismaz\n",
        "#   i  gibi bir degisken alir\n",
        "# for dongusunde list comprehension mumkun , while da yok\n",
        "\n",
        "# for dongusunde while gondusundeki gibi sonsuz dongu yoktur, belli sayida doner\n",
        "\n",
        "# dongulerde kullanilan i harfi kural gibidi.\n",
        "\n",
        "# for dongusu her iteration da i degiskenine assigning yapar.yani her iteration da i nin degerinde bir guncelleme olur\n",
        "\n"
      ],
      "metadata": {
        "id": "hpHhkLI5zf1g"
      },
      "execution_count": null,
      "outputs": []
    },
    {
      "cell_type": "code",
      "source": [
        "liste = [12, 13, 3, 4, 5]\n",
        "for i in liste:\n",
        " print(i)"
      ],
      "metadata": {
        "colab": {
          "base_uri": "https://localhost:8080/"
        },
        "id": "BGh1kk0D2YUT",
        "outputId": "70b6a91a-dab6-4e8b-9fbe-c9d1bb40ef97"
      },
      "execution_count": 20,
      "outputs": [
        {
          "output_type": "stream",
          "name": "stdout",
          "text": [
            "12\n",
            "13\n",
            "3\n",
            "4\n",
            "5\n"
          ]
        }
      ]
    },
    {
      "cell_type": "code",
      "source": [
        "liste = [12, 13, 3, 4, 5]\n",
        "\n",
        "for i in liste :             # burada listeden bahsetmiyoruz. listenin her elemani icin ella yazdiriyor.\n",
        "  print(\"ella\")"
      ],
      "metadata": {
        "colab": {
          "base_uri": "https://localhost:8080/"
        },
        "id": "JHYkedrB2Y-O",
        "outputId": "90824f85-1de0-492e-e3e0-3b00f266f8c7"
      },
      "execution_count": 21,
      "outputs": [
        {
          "output_type": "stream",
          "name": "stdout",
          "text": [
            "ella\n",
            "ella\n",
            "ella\n",
            "ella\n",
            "ella\n"
          ]
        }
      ]
    },
    {
      "cell_type": "code",
      "source": [
        "liste = [12, 13, 3, 4, 5]\n",
        "\n",
        "i = 1000                ## i ye hangi deger atanirsa atansin bir onemiyok, cunku i degerini listenin icinden aliyor.\n",
        "\n",
        "for i in liste :         \n",
        "  print(i)\n",
        "\n",
        "# print(i)       # eger burayada print yazilirsa bu sefer i aldigi son degeri bi kez daha tekrar ederek en sona bi 5 daha yazar."
      ],
      "metadata": {
        "colab": {
          "base_uri": "https://localhost:8080/"
        },
        "id": "AP-Z0dyL28KC",
        "outputId": "24c3f0b3-52c2-4f08-f729-0adcdff5d882"
      },
      "execution_count": 4,
      "outputs": [
        {
          "output_type": "stream",
          "name": "stdout",
          "text": [
            "12\n",
            "13\n",
            "3\n",
            "4\n",
            "5\n"
          ]
        }
      ]
    },
    {
      "cell_type": "code",
      "source": [
        "#####  HATIRLATMA\n",
        "\n",
        "## ketum fonkdiyonlarin ortaya cikarmanin yollari\n",
        "\n",
        "# 1 : for dongusu icinde kullanma\n",
        "# 2 : list, tuple ve set gibi func lar icerisinde kullanma\n",
        "# 3 : fonk. onune yildiz (*) koyarak kullanma"
      ],
      "metadata": {
        "id": "4sPT7f-DlQfM"
      },
      "execution_count": null,
      "outputs": []
    },
    {
      "cell_type": "code",
      "source": [
        "\n",
        "print(*range(0,10))\n",
        "\n",
        "print(list(range(0,10)))\n",
        "\n",
        "print(tuple(range(0,10)))\n",
        "\n",
        "print(set(range(10)))             # baslangic noktasi belirtilmezse default olarak 0 alir.\n",
        "\n",
        "# print(dict(range(0,10)))    # dict ile calismaz!!\n",
        "\n",
        "for i in range(0,10):\n",
        "  print(i)\n"
      ],
      "metadata": {
        "colab": {
          "base_uri": "https://localhost:8080/"
        },
        "id": "zRnqkaAKoPha",
        "outputId": "d31b47a5-2e9d-49da-ab35-c301bdbdf8a3"
      },
      "execution_count": 13,
      "outputs": [
        {
          "output_type": "stream",
          "name": "stdout",
          "text": [
            "0 1 2 3 4 5 6 7 8 9\n",
            "[0, 1, 2, 3, 4, 5, 6, 7, 8, 9]\n",
            "(0, 1, 2, 3, 4, 5, 6, 7, 8, 9)\n",
            "{0, 1, 2, 3, 4, 5, 6, 7, 8, 9}\n",
            "0\n",
            "1\n",
            "2\n",
            "3\n",
            "4\n",
            "5\n",
            "6\n",
            "7\n",
            "8\n",
            "9\n"
          ]
        }
      ]
    },
    {
      "cell_type": "code",
      "source": [
        "## tuple larda for loop calisir mi\n",
        "\n",
        "tuplem = (1, \"cilek\", 2.5, True, None, 0, 3+5j)\n",
        "\n",
        "for i in tuplem:\n",
        "  print(i)"
      ],
      "metadata": {
        "colab": {
          "base_uri": "https://localhost:8080/"
        },
        "id": "imzU7kssoSS8",
        "outputId": "c458b639-24c6-4f57-e20d-cc46292e246e"
      },
      "execution_count": 14,
      "outputs": [
        {
          "output_type": "stream",
          "name": "stdout",
          "text": [
            "1\n",
            "cilek\n",
            "2.5\n",
            "True\n",
            "None\n",
            "0\n",
            "(3+5j)\n"
          ]
        }
      ]
    },
    {
      "cell_type": "code",
      "source": [
        "## set lerda for loop calisir mi.(setler unordered)\n",
        "\n",
        "setim = {1, \"cilek\", 2.5, True, None, 0, 3+5j}\n",
        "\n",
        "for i in setim:\n",
        "  print(i)"
      ],
      "metadata": {
        "colab": {
          "base_uri": "https://localhost:8080/"
        },
        "id": "huSGKoSbqLxx",
        "outputId": "00c0d45f-0e6c-41d3-f575-70222c13cca3"
      },
      "execution_count": 18,
      "outputs": [
        {
          "output_type": "stream",
          "name": "stdout",
          "text": [
            "0\n",
            "1\n",
            "2.5\n",
            "(3+5j)\n",
            "cilek\n",
            "None\n"
          ]
        }
      ]
    },
    {
      "cell_type": "code",
      "source": [
        "## task\n",
        "\n",
        "# asagidaki listede her bir ismin onune hello ve sonrasina iyi gunler yazmak istiyoruz.\n",
        "\n",
        "liste = ['jack', 'abuzer', 'daniel', 'defne', 'salah', 'brad']\n",
        "\n",
        "for i in liste:\n",
        "  print('hello', i, 'iyi gunler') \n",
        "  print(f\"hello, {i}, iyi gunler\")"
      ],
      "metadata": {
        "colab": {
          "base_uri": "https://localhost:8080/"
        },
        "id": "s00-V6OzqVzy",
        "outputId": "ebb08361-9cbf-4edb-db7e-430961385b37"
      },
      "execution_count": 25,
      "outputs": [
        {
          "output_type": "stream",
          "name": "stdout",
          "text": [
            "hello jack iyi gunler\n",
            "hello, jack, iyi gunler\n",
            "hello abuzer iyi gunler\n",
            "hello, abuzer, iyi gunler\n",
            "hello daniel iyi gunler\n",
            "hello, daniel, iyi gunler\n",
            "hello defne iyi gunler\n",
            "hello, defne, iyi gunler\n",
            "hello salah iyi gunler\n",
            "hello, salah, iyi gunler\n",
            "hello brad iyi gunler\n",
            "hello, brad, iyi gunler\n"
          ]
        }
      ]
    },
    {
      "cell_type": "code",
      "source": [
        "## task\n",
        "\n",
        "# asagidaki listenin elemanlarini altalta deilgde yanyana yazdirmak istiyoruz.\n",
        "\n",
        "liste = {1, 'kiraz', 2.5, True, 0, 'ankara'}\n",
        "bos = []\n",
        "\n",
        "for i in liste:\n",
        "  bos.append(i)\n",
        "  print(bos)"
      ],
      "metadata": {
        "colab": {
          "base_uri": "https://localhost:8080/"
        },
        "id": "RUd1qEi1w_o3",
        "outputId": "ba288211-a54d-417b-dce6-b6732417675b"
      },
      "execution_count": 27,
      "outputs": [
        {
          "output_type": "stream",
          "name": "stdout",
          "text": [
            "[0]\n",
            "[0, 1]\n",
            "[0, 1, 2.5]\n",
            "[0, 1, 2.5, 'ankara']\n",
            "[0, 1, 2.5, 'ankara', 'kiraz']\n"
          ]
        }
      ]
    },
    {
      "cell_type": "code",
      "source": [
        "liste = {1, 'kiraz', 2.5, True, 0, 'ankara'}\n",
        "bos = []\n",
        "\n",
        "for i in liste:\n",
        "  bos.append(i)\n",
        "print(bos)"
      ],
      "metadata": {
        "colab": {
          "base_uri": "https://localhost:8080/"
        },
        "id": "bQOukH32zFJw",
        "outputId": "c5593a8e-f4b1-4a47-b72c-46967fe0d0cf"
      },
      "execution_count": 28,
      "outputs": [
        {
          "output_type": "stream",
          "name": "stdout",
          "text": [
            "[0, 1, 2.5, 'ankara', 'kiraz']\n"
          ]
        }
      ]
    },
    {
      "cell_type": "code",
      "source": [
        "## task\n",
        "\n",
        "# elimizdeki stringin her bir eleanin arasina # bu karateri koymak istiyoruz ve tek satirda cikti almak istiyoruz\n",
        "\n",
        "girdi = input('lutfen bir kelime giriniz: ')\n",
        "bos = []\n",
        "\n",
        "for i in girdi:\n",
        "  bos.append(i)\n",
        "  bos.append('#')\n",
        "\n",
        "a = ''.join(bos)          # en son cikti alirken join ile bos stringin icine yazdirdik\n",
        "\n",
        "print(a.strip(\"#\"))     # en sondaki # i silmek icin"
      ],
      "metadata": {
        "colab": {
          "base_uri": "https://localhost:8080/"
        },
        "id": "rAai6J51zJeQ",
        "outputId": "cfd14139-9cf8-43ef-dece-5347bfab95c5"
      },
      "execution_count": 29,
      "outputs": [
        {
          "output_type": "stream",
          "name": "stdout",
          "text": [
            "lutfen bir kelime giriniz: izmir\n",
            "i#z#m#i#r\n"
          ]
        }
      ]
    },
    {
      "cell_type": "code",
      "source": [
        "girdi = input('lutfen bir kelime giriniz: ')\n",
        "bos = []\n",
        "\n",
        "for i in girdi:\n",
        "  bos.append(i)\n",
        "  bos.append('#')\n",
        "print(bos)"
      ],
      "metadata": {
        "colab": {
          "base_uri": "https://localhost:8080/"
        },
        "id": "2rwZQIxr1omb",
        "outputId": "cbb455ac-e0ae-4296-b05a-36c43059793b"
      },
      "execution_count": 31,
      "outputs": [
        {
          "output_type": "stream",
          "name": "stdout",
          "text": [
            "lutfen bir kelime giriniz: izmir\n",
            "['i', '#', 'z', '#', 'm', '#', 'i', '#', 'r', '#']\n"
          ]
        }
      ]
    },
    {
      "cell_type": "code",
      "source": [
        "girdi = input('lutfen bir kelime giriniz: ')\n",
        "\n",
        "counter = 0                                          ## bu yontemde counter kullanma sebebi son karaktere # gelmemesi\n",
        "\n",
        "for i in girdi:\n",
        "  counter +=1\n",
        "  if counter < len(girdi):\n",
        "    print(i, end = \"#\")\n",
        "  else:\n",
        "    print(i)"
      ],
      "metadata": {
        "colab": {
          "base_uri": "https://localhost:8080/"
        },
        "id": "XUyYnfD23JWW",
        "outputId": "9a283eb3-f37a-4887-d0f8-005fb504c9c5"
      },
      "execution_count": 32,
      "outputs": [
        {
          "output_type": "stream",
          "name": "stdout",
          "text": [
            "lutfen bir kelime giriniz: izmir\n",
            "i#z#m#i#r\n"
          ]
        }
      ]
    },
    {
      "cell_type": "code",
      "source": [
        "## dict lerde\n",
        "\n",
        "user = {'name' : 'james', \"surname\" : \"bond\", 'age' : 35}\n",
        "\n",
        "for i in user :\n",
        "  print(i)"
      ],
      "metadata": {
        "colab": {
          "base_uri": "https://localhost:8080/"
        },
        "id": "pT95Z_LJ32F2",
        "outputId": "e223bf7b-104a-42a7-a93d-6ea299ed07e1"
      },
      "execution_count": 33,
      "outputs": [
        {
          "output_type": "stream",
          "name": "stdout",
          "text": [
            "name\n",
            "surname\n",
            "age\n"
          ]
        }
      ]
    },
    {
      "cell_type": "code",
      "source": [
        "user = {'name' : 'james', \"surname\" : \"bond\", 'age' : 35}\n",
        "\n",
        "for i in user.values() :\n",
        "  print(i)\n",
        "  print(type(i))"
      ],
      "metadata": {
        "colab": {
          "base_uri": "https://localhost:8080/"
        },
        "id": "GV_zMMS_8H5N",
        "outputId": "2babbd89-d597-40c8-aa19-da31a9e84d25"
      },
      "execution_count": 38,
      "outputs": [
        {
          "output_type": "stream",
          "name": "stdout",
          "text": [
            "james\n",
            "<class 'str'>\n",
            "bond\n",
            "<class 'str'>\n",
            "35\n",
            "<class 'int'>\n"
          ]
        }
      ]
    },
    {
      "cell_type": "code",
      "source": [
        "user = {'name' : 'james', \"surname\" : \"bond\", 'age' : 35}\n",
        "\n",
        "for i in user.items() :\n",
        "  print(i)\n",
        "  print(type(i))                          # type a dikkat"
      ],
      "metadata": {
        "colab": {
          "base_uri": "https://localhost:8080/"
        },
        "id": "KtwDmTNY8Z51",
        "outputId": "3e2d8ea7-4802-428b-8d93-419cdfc7f161"
      },
      "execution_count": 37,
      "outputs": [
        {
          "output_type": "stream",
          "name": "stdout",
          "text": [
            "('name', 'james')\n",
            "<class 'tuple'>\n",
            "('surname', 'bond')\n",
            "<class 'tuple'>\n",
            "('age', 35)\n",
            "<class 'tuple'>\n"
          ]
        }
      ]
    },
    {
      "cell_type": "code",
      "source": [
        "user = {('name',) : 'james', \"surname\" : \"bond\", 'age' : 35}\n",
        "\n",
        "for i, j in user.items() :\n",
        "  print(i)\n",
        "  print(type(i), type(j))                # type a dikkat, bu sefer string olarak cevirdi"
      ],
      "metadata": {
        "colab": {
          "base_uri": "https://localhost:8080/"
        },
        "id": "-93tla2w8ft1",
        "outputId": "3ba6d64f-7352-4638-925d-d51b9e489bd9"
      },
      "execution_count": 40,
      "outputs": [
        {
          "output_type": "stream",
          "name": "stdout",
          "text": [
            "('name',)\n",
            "<class 'tuple'> <class 'str'>\n",
            "surname\n",
            "<class 'str'> <class 'str'>\n",
            "age\n",
            "<class 'str'> <class 'int'>\n"
          ]
        }
      ]
    },
    {
      "cell_type": "code",
      "source": [
        "## task\n",
        "\n",
        "#kullanicilardan isim soyisim al, dict formatinda yazdir, sonrasinda bilgi giris tarhine gore sirala\n",
        "\n",
        "girdi = list(map(stre, input('isim ve soyisim giriniz').split()))\n",
        "\n",
        "new = []\n",
        "new2 = []\n",
        "\n",
        "counter = 0\n",
        "database = []"
      ],
      "metadata": {
        "id": "xlUcS4bQ9AAN"
      },
      "execution_count": null,
      "outputs": []
    },
    {
      "cell_type": "code",
      "source": [
        "## map fonksiyonu kullanimi, ketum fonksiyondur\n",
        "\n",
        "a = list(map(str, 'mustafa ahmet goksel'))                 ## list yerine ne istiyorsak onu yazariz, set , tuple vs\n",
        "\n",
        "print(a)                            ## split kullanmadan"
      ],
      "metadata": {
        "colab": {
          "base_uri": "https://localhost:8080/"
        },
        "id": "LWjt0idtCxsG",
        "outputId": "c7b4d631-e442-44dd-db7a-3e60425edfc9"
      },
      "execution_count": 44,
      "outputs": [
        {
          "output_type": "stream",
          "name": "stdout",
          "text": [
            "['m', 'u', 's', 't', 'a', 'f', 'a', ' ', 'a', 'h', 'm', 'e', 't', ' ', 'g', 'o', 'k', 's', 'e', 'l']\n"
          ]
        }
      ]
    },
    {
      "cell_type": "code",
      "source": [
        "a = list(map(str, 'mustafa ahmet goksel'.split()))                 ## split ile kullanimi\n",
        "\n",
        "print(a)   "
      ],
      "metadata": {
        "colab": {
          "base_uri": "https://localhost:8080/"
        },
        "id": "OD0VUoqPC31M",
        "outputId": "17f1c670-a035-4009-9c6c-b23c61e26138"
      },
      "execution_count": 45,
      "outputs": [
        {
          "output_type": "stream",
          "name": "stdout",
          "text": [
            "['mustafa', 'ahmet', 'goksel']\n"
          ]
        }
      ]
    },
    {
      "cell_type": "code",
      "source": [
        "a = list(map(str, 'mustafa ahmet goksel'.split()))              \n",
        "\n",
        "\n",
        "print(a) "
      ],
      "metadata": {
        "id": "bE2WUMpTDRON"
      },
      "execution_count": null,
      "outputs": []
    }
  ]
}