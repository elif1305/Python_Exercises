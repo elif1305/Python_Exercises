{
  "nbformat": 4,
  "nbformat_minor": 0,
  "metadata": {
    "colab": {
      "name": "Pep8_Begin_Arkadaslarla_tekrar_28.10.21.ipynb",
      "provenance": [],
      "collapsed_sections": []
    },
    "kernelspec": {
      "name": "python3",
      "display_name": "Python 3"
    },
    "language_info": {
      "name": "python"
    }
  },
  "cells": [
    {
      "cell_type": "code",
      "metadata": {
        "id": "JEcGYStOpaTu",
        "colab": {
          "base_uri": "https://localhost:8080/"
        },
        "outputId": "b8aff0ef-469b-431f-e8b5-b45c93e589ce"
      },
      "source": [
        "# birden fazla satirda 2 ve tek tirnak hata verir\n",
        "# \"\"\"\"\"\"  yada   ''' ''' kullanmaliyiz\n",
        "\n",
        "print(\"\"\" Hello \n",
        "world\n",
        "merhaba \n",
        "dünya\n",
        "\"\"\")"
      ],
      "execution_count": null,
      "outputs": [
        {
          "output_type": "stream",
          "name": "stdout",
          "text": [
            " Hello \n",
            "world\n",
            "merhaba \n",
            "dünya\n",
            "\n"
          ]
        }
      ]
    },
    {
      "cell_type": "code",
      "metadata": {
        "id": "zP_sxaiKpoVK",
        "colab": {
          "base_uri": "https://localhost:8080/",
          "height": 132
        },
        "outputId": "b26b0d01-e5e5-4757-a3ad-c1c51e59671b"
      },
      "source": [
        "print(\"\" Hello \n",
        "world\n",
        "merhaba \n",
        "dünya\n",
        "\"\")"
      ],
      "execution_count": null,
      "outputs": [
        {
          "output_type": "error",
          "ename": "SyntaxError",
          "evalue": "ignored",
          "traceback": [
            "\u001b[0;36m  File \u001b[0;32m\"<ipython-input-3-8c69a72be4b0>\"\u001b[0;36m, line \u001b[0;32m1\u001b[0m\n\u001b[0;31m    print(\"\" Hello\u001b[0m\n\u001b[0m                 ^\u001b[0m\n\u001b[0;31mSyntaxError\u001b[0m\u001b[0;31m:\u001b[0m invalid syntax\n"
          ]
        }
      ]
    },
    {
      "cell_type": "code",
      "metadata": {
        "id": "blmWG05GpoXS",
        "colab": {
          "base_uri": "https://localhost:8080/"
        },
        "outputId": "56a58bf7-65b2-473b-81c2-3f9d591b4902"
      },
      "source": [
        "# Hangi tip tirnak ile basladi isek o tip ile bitirmeliyiz\n",
        "\n",
        "# Ve string arasinda o tip tirnaktan kullanmamaliyiz\n",
        "\n",
        "# print('Ahmet'in Arabasi')\n",
        "\n",
        "print(\"Ahmet'in arabasi\")"
      ],
      "execution_count": null,
      "outputs": [
        {
          "output_type": "stream",
          "name": "stdout",
          "text": [
            "Ahmet'in arabasi\n"
          ]
        }
      ]
    },
    {
      "cell_type": "code",
      "metadata": {
        "id": "rpcbB3NbpoZS",
        "colab": {
          "base_uri": "https://localhost:8080/"
        },
        "outputId": "b390976f-a305-4918-a03f-8912c31aecf9"
      },
      "source": [
        "# bu sekilde de calisir\n",
        "\n",
        "print('Ahmet\"in arabasi')"
      ],
      "execution_count": null,
      "outputs": [
        {
          "output_type": "stream",
          "name": "stdout",
          "text": [
            "Ahmet\"in arabasi\n"
          ]
        }
      ]
    },
    {
      "cell_type": "code",
      "metadata": {
        "id": "MdU9m1O3pobb",
        "colab": {
          "base_uri": "https://localhost:8080/"
        },
        "outputId": "e2ccac12-cf9f-4740-ecc5-6a86221314de"
      },
      "source": [
        "print(\"3.14\", type(\"3.14\"))\n",
        "\n",
        "print(3.14, type(3.14))"
      ],
      "execution_count": null,
      "outputs": [
        {
          "output_type": "stream",
          "name": "stdout",
          "text": [
            "3.14 <class 'str'>\n",
            "3.14 <class 'float'>\n"
          ]
        }
      ]
    },
    {
      "cell_type": "code",
      "metadata": {
        "id": "pJsFqXjjpodA",
        "colab": {
          "base_uri": "https://localhost:8080/"
        },
        "outputId": "fd07c125-c7f5-4a81-f0d2-26936008822f"
      },
      "source": [
        "print(\"hello\")\n",
        "print()       # bos print func hata vermez bos string döndürür\n",
        "print(\"World\")"
      ],
      "execution_count": null,
      "outputs": [
        {
          "output_type": "stream",
          "name": "stdout",
          "text": [
            "hello\n",
            "\n",
            "World\n"
          ]
        }
      ]
    },
    {
      "cell_type": "code",
      "metadata": {
        "id": "_0U4NsR1pofI",
        "colab": {
          "base_uri": "https://localhost:8080/"
        },
        "outputId": "a5867f7d-93e8-4611-8aa6-cddefe3cd03c"
      },
      "source": [
        "# iki adet bos satir döndürür\n",
        "\n",
        "print()\n",
        "print(\"\")\n",
        "\n",
        "\n",
        "# basit seviyede bosluk vermek icin bunlar kullanilir.\n",
        "# normalde \"\\n\" ile bir satir alta gecilir\n",
        "\n",
        "test = 1234 \n",
        "test1 = \"abcd\"\n",
        "\n",
        "print(test, \"\\n\") # newline\n",
        "print(test1)\n"
      ],
      "execution_count": null,
      "outputs": [
        {
          "output_type": "stream",
          "name": "stdout",
          "text": [
            "\n",
            "\n",
            "1234 \n",
            "\n",
            "abcd\n"
          ]
        }
      ]
    },
    {
      "cell_type": "code",
      "metadata": {
        "colab": {
          "base_uri": "https://localhost:8080/",
          "height": 149
        },
        "id": "iNyhxdTd6SRN",
        "outputId": "0d9cf68a-b539-44a9-f18d-c5957c7a29fe"
      },
      "source": [
        "# hata verir. Eger üclü basladi isek ilk 3 tirnagi baz alir\n",
        "\n",
        "print(\"\" \"\")\n",
        "print('' '')"
      ],
      "execution_count": null,
      "outputs": [
        {
          "output_type": "error",
          "ename": "SyntaxError",
          "evalue": "ignored",
          "traceback": [
            "\u001b[0;36m  File \u001b[0;32m\"<ipython-input-30-6edce112abf4>\"\u001b[0;36m, line \u001b[0;32m4\u001b[0m\n\u001b[0;31m    print('''')\u001b[0m\n\u001b[0m               \n^\u001b[0m\n\u001b[0;31mSyntaxError\u001b[0m\u001b[0;31m:\u001b[0m EOF while scanning triple-quoted string literal\n"
          ]
        }
      ]
    },
    {
      "cell_type": "code",
      "metadata": {
        "id": "GE92z7V76SVN",
        "colab": {
          "base_uri": "https://localhost:8080/",
          "height": 132
        },
        "outputId": "4e8a9a52-567b-4681-e68e-a64b63ab7ec8"
      },
      "source": [
        "# 7 tane tirnak olursa yine hata verir\n",
        "# ilk üc tirnaktan sonraki ikinci üclü tirnagi baz alir. \n",
        "# sondaki tirnak acikta kalir\n",
        "\n",
        "print('') "
      ],
      "execution_count": null,
      "outputs": [
        {
          "output_type": "error",
          "ename": "SyntaxError",
          "evalue": "ignored",
          "traceback": [
            "\u001b[0;36m  File \u001b[0;32m\"<ipython-input-61-929a8dd853c6>\"\u001b[0;36m, line \u001b[0;32m5\u001b[0m\n\u001b[0;31m    print(''''''''')\u001b[0m\n\u001b[0m                     ^\u001b[0m\n\u001b[0;31mSyntaxError\u001b[0m\u001b[0;31m:\u001b[0m EOF while scanning triple-quoted string literal\n"
          ]
        }
      ]
    },
    {
      "cell_type": "code",
      "metadata": {
        "id": "OG5lfMkY6SY3"
      },
      "source": [
        "#python her zaman soldan saga okur"
      ],
      "execution_count": null,
      "outputs": []
    },
    {
      "cell_type": "code",
      "metadata": {
        "id": "zhz56eD3AYnt"
      },
      "source": [
        "# PEP 8\n",
        "\n",
        "# Bu kurallar yillar boyunca python community tarafindan olusturulmus yazisma kurallaridir\n",
        "\n",
        "# Bu kurallar öncelikle kendimiz kendi yazdigimiz kodu okumak daha sonra da\n",
        "# baskalarinin bizim yazdigimiz kodu okumasi amaclidir\n",
        "\n",
        "# Eger bu kurallari uygulamazsak kodumuz yine calisir.\n",
        "# Ancak .........\n",
        "\n",
        "# Önemli PEP 8 Kurallari:\n",
        "\n",
        "# Bir satirda 79 karakter(bosluklar dahil)\n"
      ],
      "execution_count": null,
      "outputs": []
    },
    {
      "cell_type": "code",
      "metadata": {
        "id": "uPhq1SrxAYp1",
        "colab": {
          "base_uri": "https://localhost:8080/"
        },
        "outputId": "d16a30a4-db28-4106-8681-5b2640ec32d0"
      },
      "source": [
        "# fazla bosluk vermekten kacinin!\n",
        "\n",
        "# print( text, text2 ) => yanlis\n",
        "\n",
        "# mylist = [1, ]  => yanlis\n",
        "\n",
        "# mytuple = 1,2,3,4,5\n",
        "\n",
        "# print(type(mytuple))"
      ],
      "execution_count": null,
      "outputs": [
        {
          "output_type": "stream",
          "name": "stdout",
          "text": [
            "<class 'tuple'>\n"
          ]
        }
      ]
    },
    {
      "cell_type": "code",
      "metadata": {
        "id": "g6l2i3uUAYr1"
      },
      "source": [
        "# x = 3\n",
        "\n",
        "# y = 4"
      ],
      "execution_count": null,
      "outputs": []
    },
    {
      "cell_type": "code",
      "metadata": {
        "id": "IhJs-cjDAYtz"
      },
      "source": [
        "# parantezden önce ve sonra bosluk olmaz"
      ],
      "execution_count": null,
      "outputs": []
    },
    {
      "cell_type": "code",
      "metadata": {
        "colab": {
          "base_uri": "https://localhost:8080/"
        },
        "id": "WvYOpdHpAYvr",
        "outputId": "91291cc9-5ea2-4674-fb07-5de1f943cce0"
      },
      "source": [
        "# virgülden, noktali virgülden önce bosluk vermiyoruz\n",
        "\n",
        "print(\"1234\", \"abcd\")\n",
        "\n",
        "#  if y == 3:  => dogru\n",
        "#  print(x, y); => dogru"
      ],
      "execution_count": null,
      "outputs": [
        {
          "output_type": "stream",
          "name": "stdout",
          "text": [
            "1234 abcd\n"
          ]
        }
      ]
    },
    {
      "cell_type": "code",
      "metadata": {
        "id": "HiIVpMFe6Sa5"
      },
      "source": [
        "# function lardan sonra bosluk olmaz\n",
        "\n",
        "# print (test)  =>  yanlis\n",
        "\n",
        "# list (\"1234\") => yanlis\n",
        "\n",
        "# tuple(\"1223\")  =>  dogru\n",
        "\n",
        "# print(test)   =   dogru\n"
      ],
      "execution_count": null,
      "outputs": []
    },
    {
      "cell_type": "code",
      "metadata": {
        "id": "pMJOpE-K6Scg"
      },
      "source": [
        "#  =  den önce ve sonra birer bosluk veriyoruz\n",
        "\n"
      ],
      "execution_count": null,
      "outputs": []
    },
    {
      "cell_type": "code",
      "metadata": {
        "id": "r-xi5_kwEbas"
      },
      "source": [
        "#  test =               4     # hizalamak yanlis\n",
        "#  mytestmytestmytest = 5  "
      ],
      "execution_count": null,
      "outputs": []
    },
    {
      "cell_type": "code",
      "metadata": {
        "id": "NR_qOhw8Ebev"
      },
      "source": [
        "# +=   -=   *=  ==  gibi ifadelerden önce ve sonra birer bosluk\n",
        "\n",
        "test = \"test\"\n",
        "\n",
        "test += \"test\"\n",
        "\n",
        "test *= \"test\"\n",
        "\n",
        "\n",
        "# if test >= 10\n"
      ],
      "execution_count": null,
      "outputs": []
    },
    {
      "cell_type": "code",
      "metadata": {
        "id": "l33Woy6LEbgw"
      },
      "source": [
        "#  in /  not in   /   is   /   and   /   or   /   not\n",
        "# bu ifadelerden önce ve sonra birer bosluk\n",
        "\n",
        "test = True or False\n",
        "\n",
        "test = True and False\n",
        "\n",
        "test = True not False\n",
        "\n",
        "# listemy = [1,2,3,4]  \n",
        "\n",
        "# liste = [1,2,3,4]\n",
        "\n",
        "# for i in liste \n"
      ],
      "execution_count": null,
      "outputs": []
    },
    {
      "cell_type": "code",
      "metadata": {
        "id": "sX-FtikBLFPO"
      },
      "source": [
        ""
      ],
      "execution_count": null,
      "outputs": []
    },
    {
      "cell_type": "code",
      "metadata": {
        "id": "Ygk1Nkd1LFUF"
      },
      "source": [
        ""
      ],
      "execution_count": null,
      "outputs": []
    },
    {
      "cell_type": "code",
      "metadata": {
        "id": "a7n0JCUrLFdZ"
      },
      "source": [
        ""
      ],
      "execution_count": null,
      "outputs": []
    },
    {
      "cell_type": "code",
      "metadata": {
        "id": "EV40FgB_LFfu"
      },
      "source": [
        "# commends :\n",
        "\n",
        "#  tutarli olmali\n",
        "\n",
        "#  yeterli olmali\n",
        "\n",
        "#  gerekli olmali (3 + 5 = 8  burada commend e gerek yok)\n",
        "\n",
        "# update edilmis olmali (veriler degistikce güncellenmeli)"
      ],
      "execution_count": null,
      "outputs": []
    },
    {
      "cell_type": "code",
      "metadata": {
        "id": "0zdZwfziEbil"
      },
      "source": [
        "#  inline commend yaparken # den önce iki bosluk sonra bir bosluk\n",
        "\n",
        "# inline commend(bir kod satirinin yanina yazilan comment)\n",
        "\n",
        "mytext = \"ben clarusway de IT egitimi aliyorum\"  # bu bir inline comment tir.\n",
        "\n",
        "print(mytext)  # bu bir inline commenddir"
      ],
      "execution_count": null,
      "outputs": []
    },
    {
      "cell_type": "code",
      "metadata": {
        "id": "4O-GjTQlF_Jm"
      },
      "source": [
        "# single line commend\n",
        "\n",
        "print(\"hello\")\n",
        "\n",
        "# bu bir single line commend dir"
      ],
      "execution_count": null,
      "outputs": []
    },
    {
      "cell_type": "code",
      "metadata": {
        "colab": {
          "base_uri": "https://localhost:8080/"
        },
        "id": "pEzAmy2QHLUh",
        "outputId": "e49e1991-51c3-416d-8d6b-6d812f32b5fe"
      },
      "source": [
        "# multi line commend\n",
        "\n",
        "print(\"hello\")\n",
        "\n",
        "# birinci satir commend      \n",
        "\n",
        "# ikinci satir commend\n",
        "\n",
        "# ücüncü satir commend"
      ],
      "execution_count": null,
      "outputs": [
        {
          "output_type": "stream",
          "name": "stdout",
          "text": [
            "hello\n"
          ]
        }
      ]
    },
    {
      "cell_type": "code",
      "metadata": {
        "id": "WvXE1o9kHLW0"
      },
      "source": [
        ""
      ],
      "execution_count": null,
      "outputs": []
    },
    {
      "cell_type": "code",
      "metadata": {
        "id": "j5-xNBoVHLbC"
      },
      "source": [
        "## Interview:\n",
        "\n",
        "#Q: What is Python?\n",
        "#A: Python is a programming language. It allows you to control the computer. \n",
        "# The benefits of Pythons are that it is simple and easy, portable, extensible.\n",
        "\n"
      ],
      "execution_count": null,
      "outputs": []
    },
    {
      "cell_type": "code",
      "metadata": {
        "id": "glPpeB4QHLmJ",
        "colab": {
          "base_uri": "https://localhost:8080/"
        },
        "outputId": "774daa37-8749-45a5-c93e-212f679e1709"
      },
      "source": [
        "# float sayilar icin aralarda , degil . kullaniyoruz\n",
        "\n",
        "pi = 3.14\n",
        "\n",
        "pi2 = 3,14\n",
        "\n",
        "print(pi, type(pi))\n",
        "\n",
        "print(pi2, type(pi2))"
      ],
      "execution_count": null,
      "outputs": [
        {
          "output_type": "stream",
          "name": "stdout",
          "text": [
            "3.14 <class 'float'>\n",
            "(3, 14) <class 'tuple'>\n"
          ]
        }
      ]
    },
    {
      "cell_type": "code",
      "metadata": {
        "id": "RuLBh0kSF_Ld",
        "colab": {
          "base_uri": "https://localhost:8080/"
        },
        "outputId": "09e3032e-1b1d-42cd-8671-7b7502a54340"
      },
      "source": [
        "print(\"\")              \n",
        "print(\"first\")\n",
        "print()\n",
        "         \n",
        "         \n",
        "         \n",
        "                       # burada birakilan bos satir output da bosluk olusturmaz\n",
        "print(\"second\")\n",
        "print()"
      ],
      "execution_count": null,
      "outputs": [
        {
          "output_type": "stream",
          "name": "stdout",
          "text": [
            "\n",
            "first\n",
            "\n",
            "second\n",
            "\n"
          ]
        }
      ]
    },
    {
      "cell_type": "code",
      "metadata": {
        "id": "SE8q9dOlF_Nt",
        "colab": {
          "base_uri": "https://localhost:8080/"
        },
        "outputId": "ec10284a-a77e-4012-c98a-c88bf9e82b51"
      },
      "source": [
        "print('''    ''''Hello World!!!''''      ''')   "
      ],
      "execution_count": null,
      "outputs": [
        {
          "output_type": "stream",
          "name": "stdout",
          "text": [
            "    Hello World!!!      \n"
          ]
        }
      ]
    },
    {
      "cell_type": "code",
      "metadata": {
        "id": "NfTH0FZbF_PX",
        "colab": {
          "base_uri": "https://localhost:8080/"
        },
        "outputId": "9c2d5def-c3db-4c0b-85a3-0745bf274c11"
      },
      "source": [
        "print(         \"hello\"  ,    'world' ,   \"\"\"dünya\"\"\"       )"
      ],
      "execution_count": null,
      "outputs": [
        {
          "output_type": "stream",
          "name": "stdout",
          "text": [
            "hello world dünya\n"
          ]
        }
      ]
    },
    {
      "cell_type": "code",
      "metadata": {
        "id": "XHnFYuUzF_RG",
        "colab": {
          "base_uri": "https://localhost:8080/",
          "height": 132
        },
        "outputId": "cacb94cc-7a7e-43f0-becc-b25f88a4b9fa"
      },
      "source": [
        "print('''')"
      ],
      "execution_count": null,
      "outputs": [
        {
          "output_type": "error",
          "ename": "SyntaxError",
          "evalue": "ignored",
          "traceback": [
            "\u001b[0;36m  File \u001b[0;32m\"<ipython-input-58-4b777b03c816>\"\u001b[0;36m, line \u001b[0;32m1\u001b[0m\n\u001b[0;31m    print('''')\u001b[0m\n\u001b[0m               ^\u001b[0m\n\u001b[0;31mSyntaxError\u001b[0m\u001b[0;31m:\u001b[0m EOF while scanning triple-quoted string literal\n"
          ]
        }
      ]
    }
  ]
}